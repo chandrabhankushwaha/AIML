{
 "cells": [
  {
   "cell_type": "markdown",
   "id": "001ff44b",
   "metadata": {},
   "source": [
    "**Build a classification model which will recognise the activities through the mobile sensor like walking, walking_upstairs  ,walking_downstairs ,sitting  ,standing,lying.The topic Human Activity recognition is in research and has its own advantages like anomaly detection, for healthy diet maintenance fitness bands are used , measuring stress level ,for monitoring employees ,for heartbeat pulse rate etc. In this project we are going to focus on  the dataset which was carried out through experiments with a group of 30 volunteers wearing a smartphone.The experiments have been video-recorded to label the data manually.The  main motto is to use the dataset and work with the libraries like scikit learn and machine learning related libraries and algorithms while training.**"
   ]
  },
  {
   "cell_type": "markdown",
   "id": "eb5058d1",
   "metadata": {},
   "source": [
    "## Import Libraries\n",
    "**Import pandas,seaborn, and the usual libraries.**"
   ]
  },
  {
   "cell_type": "code",
   "execution_count": 1,
   "id": "e5622c24",
   "metadata": {},
   "outputs": [],
   "source": [
    "import math\n",
    "import numpy as np\n",
    "import pandas as pd\n",
    "import matplotlib.pyplot as plt\n",
    "import seaborn as sns\n",
    "from sklearn.model_selection import StratifiedShuffleSplit\n",
    "from sklearn.linear_model import LogisticRegression, LogisticRegressionCV\n",
    "from sklearn.preprocessing import LabelEncoder\n",
    "from sklearn.model_selection import train_test_split\n",
    "from sklearn.metrics import precision_recall_fscore_support as error_metric\n",
    "from sklearn.metrics import confusion_matrix, accuracy_score\n",
    "from sklearn.feature_selection import VarianceThreshold\n",
    "from sklearn.model_selection import train_test_split\n",
    "from sklearn.metrics import precision_recall_fscore_support as error_metric\n",
    "from sklearn.metrics import confusion_matrix, accuracy_score\n",
    "from sklearn.feature_selection import VarianceThreshold\n",
    "from sklearn.linear_model import LogisticRegression, LogisticRegressionCV\n",
    "from sklearn.ensemble import RandomForestClassifier\n",
    "from sklearn.naive_bayes import GaussianNB\n",
    "import warnings\n",
    "warnings.filterwarnings('ignore')\n",
    "import pandas as pd\n",
    "import numpy as np\n",
    "from sklearn.model_selection import train_test_split\n",
    "from sklearn.linear_model import LogisticRegression\n",
    "from sklearn import metrics\n",
    "import matplotlib.pyplot as plt"
   ]
  },
  {
   "cell_type": "code",
   "execution_count": 2,
   "id": "3c3d1f39",
   "metadata": {},
   "outputs": [
    {
     "data": {
      "text/plain": [
       "Index(['tBodyAcc-mean()-X', 'tBodyAcc-mean()-Y', 'tBodyAcc-mean()-Z',\n",
       "       'tBodyAcc-std()-X', 'tBodyAcc-std()-Y', 'tBodyAcc-std()-Z',\n",
       "       'tBodyAcc-mad()-X', 'tBodyAcc-mad()-Y', 'tBodyAcc-mad()-Z',\n",
       "       'tBodyAcc-max()-X',\n",
       "       ...\n",
       "       'fBodyBodyGyroJerkMag-kurtosis()', 'angle(tBodyAccMean,gravity)',\n",
       "       'angle(tBodyAccJerkMean),gravityMean)',\n",
       "       'angle(tBodyGyroMean,gravityMean)',\n",
       "       'angle(tBodyGyroJerkMean,gravityMean)', 'angle(X,gravityMean)',\n",
       "       'angle(Y,gravityMean)', 'angle(Z,gravityMean)', 'subject', 'Activity'],\n",
       "      dtype='object', length=563)"
      ]
     },
     "execution_count": 2,
     "metadata": {},
     "output_type": "execute_result"
    }
   ],
   "source": [
    "df = pd.read_csv(\"human_activity.csv\")\n",
    "df.columns\n",
    "\n"
   ]
  },
  {
   "cell_type": "markdown",
   "id": "831cfdbc",
   "metadata": {},
   "source": [
    "# EDA and Basic Data Preprocessing and Preparation [Marks:2]"
   ]
  },
  {
   "cell_type": "code",
   "execution_count": 3,
   "id": "6253ea51",
   "metadata": {},
   "outputs": [
    {
     "data": {
      "text/html": [
       "<div>\n",
       "<style scoped>\n",
       "    .dataframe tbody tr th:only-of-type {\n",
       "        vertical-align: middle;\n",
       "    }\n",
       "\n",
       "    .dataframe tbody tr th {\n",
       "        vertical-align: top;\n",
       "    }\n",
       "\n",
       "    .dataframe thead th {\n",
       "        text-align: right;\n",
       "    }\n",
       "</style>\n",
       "<table border=\"1\" class=\"dataframe\">\n",
       "  <thead>\n",
       "    <tr style=\"text-align: right;\">\n",
       "      <th></th>\n",
       "      <th>tBodyAcc-mean()-X</th>\n",
       "      <th>tBodyAcc-mean()-Y</th>\n",
       "      <th>tBodyAcc-mean()-Z</th>\n",
       "      <th>tBodyAcc-std()-X</th>\n",
       "      <th>tBodyAcc-std()-Y</th>\n",
       "      <th>tBodyAcc-std()-Z</th>\n",
       "      <th>tBodyAcc-mad()-X</th>\n",
       "      <th>tBodyAcc-mad()-Y</th>\n",
       "      <th>tBodyAcc-mad()-Z</th>\n",
       "      <th>tBodyAcc-max()-X</th>\n",
       "      <th>...</th>\n",
       "      <th>fBodyBodyGyroJerkMag-kurtosis()</th>\n",
       "      <th>angle(tBodyAccMean,gravity)</th>\n",
       "      <th>angle(tBodyAccJerkMean),gravityMean)</th>\n",
       "      <th>angle(tBodyGyroMean,gravityMean)</th>\n",
       "      <th>angle(tBodyGyroJerkMean,gravityMean)</th>\n",
       "      <th>angle(X,gravityMean)</th>\n",
       "      <th>angle(Y,gravityMean)</th>\n",
       "      <th>angle(Z,gravityMean)</th>\n",
       "      <th>subject</th>\n",
       "      <th>Activity</th>\n",
       "    </tr>\n",
       "  </thead>\n",
       "  <tbody>\n",
       "    <tr>\n",
       "      <th>0</th>\n",
       "      <td>0.288585</td>\n",
       "      <td>-0.020294</td>\n",
       "      <td>-0.132905</td>\n",
       "      <td>-0.995279</td>\n",
       "      <td>-0.983111</td>\n",
       "      <td>-0.913526</td>\n",
       "      <td>-0.995112</td>\n",
       "      <td>-0.983185</td>\n",
       "      <td>-0.923527</td>\n",
       "      <td>-0.934724</td>\n",
       "      <td>...</td>\n",
       "      <td>-0.710304</td>\n",
       "      <td>-0.112754</td>\n",
       "      <td>0.030400</td>\n",
       "      <td>-0.464761</td>\n",
       "      <td>-0.018446</td>\n",
       "      <td>-0.841247</td>\n",
       "      <td>0.179941</td>\n",
       "      <td>-0.058627</td>\n",
       "      <td>1</td>\n",
       "      <td>STANDING</td>\n",
       "    </tr>\n",
       "    <tr>\n",
       "      <th>1</th>\n",
       "      <td>0.278419</td>\n",
       "      <td>-0.016411</td>\n",
       "      <td>-0.123520</td>\n",
       "      <td>-0.998245</td>\n",
       "      <td>-0.975300</td>\n",
       "      <td>-0.960322</td>\n",
       "      <td>-0.998807</td>\n",
       "      <td>-0.974914</td>\n",
       "      <td>-0.957686</td>\n",
       "      <td>-0.943068</td>\n",
       "      <td>...</td>\n",
       "      <td>-0.861499</td>\n",
       "      <td>0.053477</td>\n",
       "      <td>-0.007435</td>\n",
       "      <td>-0.732626</td>\n",
       "      <td>0.703511</td>\n",
       "      <td>-0.844788</td>\n",
       "      <td>0.180289</td>\n",
       "      <td>-0.054317</td>\n",
       "      <td>1</td>\n",
       "      <td>STANDING</td>\n",
       "    </tr>\n",
       "    <tr>\n",
       "      <th>2</th>\n",
       "      <td>0.279653</td>\n",
       "      <td>-0.019467</td>\n",
       "      <td>-0.113462</td>\n",
       "      <td>-0.995380</td>\n",
       "      <td>-0.967187</td>\n",
       "      <td>-0.978944</td>\n",
       "      <td>-0.996520</td>\n",
       "      <td>-0.963668</td>\n",
       "      <td>-0.977469</td>\n",
       "      <td>-0.938692</td>\n",
       "      <td>...</td>\n",
       "      <td>-0.760104</td>\n",
       "      <td>-0.118559</td>\n",
       "      <td>0.177899</td>\n",
       "      <td>0.100699</td>\n",
       "      <td>0.808529</td>\n",
       "      <td>-0.848933</td>\n",
       "      <td>0.180637</td>\n",
       "      <td>-0.049118</td>\n",
       "      <td>1</td>\n",
       "      <td>STANDING</td>\n",
       "    </tr>\n",
       "    <tr>\n",
       "      <th>3</th>\n",
       "      <td>0.279174</td>\n",
       "      <td>-0.026201</td>\n",
       "      <td>-0.123283</td>\n",
       "      <td>-0.996091</td>\n",
       "      <td>-0.983403</td>\n",
       "      <td>-0.990675</td>\n",
       "      <td>-0.997099</td>\n",
       "      <td>-0.982750</td>\n",
       "      <td>-0.989302</td>\n",
       "      <td>-0.938692</td>\n",
       "      <td>...</td>\n",
       "      <td>-0.482845</td>\n",
       "      <td>-0.036788</td>\n",
       "      <td>-0.012892</td>\n",
       "      <td>0.640011</td>\n",
       "      <td>-0.485366</td>\n",
       "      <td>-0.848649</td>\n",
       "      <td>0.181935</td>\n",
       "      <td>-0.047663</td>\n",
       "      <td>1</td>\n",
       "      <td>STANDING</td>\n",
       "    </tr>\n",
       "    <tr>\n",
       "      <th>4</th>\n",
       "      <td>0.276629</td>\n",
       "      <td>-0.016570</td>\n",
       "      <td>-0.115362</td>\n",
       "      <td>-0.998139</td>\n",
       "      <td>-0.980817</td>\n",
       "      <td>-0.990482</td>\n",
       "      <td>-0.998321</td>\n",
       "      <td>-0.979672</td>\n",
       "      <td>-0.990441</td>\n",
       "      <td>-0.942469</td>\n",
       "      <td>...</td>\n",
       "      <td>-0.699205</td>\n",
       "      <td>0.123320</td>\n",
       "      <td>0.122542</td>\n",
       "      <td>0.693578</td>\n",
       "      <td>-0.615971</td>\n",
       "      <td>-0.847865</td>\n",
       "      <td>0.185151</td>\n",
       "      <td>-0.043892</td>\n",
       "      <td>1</td>\n",
       "      <td>STANDING</td>\n",
       "    </tr>\n",
       "  </tbody>\n",
       "</table>\n",
       "<p>5 rows × 563 columns</p>\n",
       "</div>"
      ],
      "text/plain": [
       "   tBodyAcc-mean()-X  tBodyAcc-mean()-Y  tBodyAcc-mean()-Z  tBodyAcc-std()-X  \\\n",
       "0           0.288585          -0.020294          -0.132905         -0.995279   \n",
       "1           0.278419          -0.016411          -0.123520         -0.998245   \n",
       "2           0.279653          -0.019467          -0.113462         -0.995380   \n",
       "3           0.279174          -0.026201          -0.123283         -0.996091   \n",
       "4           0.276629          -0.016570          -0.115362         -0.998139   \n",
       "\n",
       "   tBodyAcc-std()-Y  tBodyAcc-std()-Z  tBodyAcc-mad()-X  tBodyAcc-mad()-Y  \\\n",
       "0         -0.983111         -0.913526         -0.995112         -0.983185   \n",
       "1         -0.975300         -0.960322         -0.998807         -0.974914   \n",
       "2         -0.967187         -0.978944         -0.996520         -0.963668   \n",
       "3         -0.983403         -0.990675         -0.997099         -0.982750   \n",
       "4         -0.980817         -0.990482         -0.998321         -0.979672   \n",
       "\n",
       "   tBodyAcc-mad()-Z  tBodyAcc-max()-X  ...  fBodyBodyGyroJerkMag-kurtosis()  \\\n",
       "0         -0.923527         -0.934724  ...                        -0.710304   \n",
       "1         -0.957686         -0.943068  ...                        -0.861499   \n",
       "2         -0.977469         -0.938692  ...                        -0.760104   \n",
       "3         -0.989302         -0.938692  ...                        -0.482845   \n",
       "4         -0.990441         -0.942469  ...                        -0.699205   \n",
       "\n",
       "   angle(tBodyAccMean,gravity)  angle(tBodyAccJerkMean),gravityMean)  \\\n",
       "0                    -0.112754                              0.030400   \n",
       "1                     0.053477                             -0.007435   \n",
       "2                    -0.118559                              0.177899   \n",
       "3                    -0.036788                             -0.012892   \n",
       "4                     0.123320                              0.122542   \n",
       "\n",
       "   angle(tBodyGyroMean,gravityMean)  angle(tBodyGyroJerkMean,gravityMean)  \\\n",
       "0                         -0.464761                             -0.018446   \n",
       "1                         -0.732626                              0.703511   \n",
       "2                          0.100699                              0.808529   \n",
       "3                          0.640011                             -0.485366   \n",
       "4                          0.693578                             -0.615971   \n",
       "\n",
       "   angle(X,gravityMean)  angle(Y,gravityMean)  angle(Z,gravityMean)  subject  \\\n",
       "0             -0.841247              0.179941             -0.058627        1   \n",
       "1             -0.844788              0.180289             -0.054317        1   \n",
       "2             -0.848933              0.180637             -0.049118        1   \n",
       "3             -0.848649              0.181935             -0.047663        1   \n",
       "4             -0.847865              0.185151             -0.043892        1   \n",
       "\n",
       "   Activity  \n",
       "0  STANDING  \n",
       "1  STANDING  \n",
       "2  STANDING  \n",
       "3  STANDING  \n",
       "4  STANDING  \n",
       "\n",
       "[5 rows x 563 columns]"
      ]
     },
     "execution_count": 3,
     "metadata": {},
     "output_type": "execute_result"
    }
   ],
   "source": [
    "#Check top 5 records\n",
    "df.head(5)"
   ]
  },
  {
   "cell_type": "markdown",
   "id": "6288b355",
   "metadata": {},
   "source": [
    "# We can see we have 563 columns .The subject column is not going to be useful, so i will drop it from data "
   ]
  },
  {
   "cell_type": "code",
   "execution_count": 4,
   "id": "9ea37517",
   "metadata": {},
   "outputs": [],
   "source": [
    "df.drop('subject', axis =1, inplace=True)"
   ]
  },
  {
   "cell_type": "code",
   "execution_count": 5,
   "id": "d34bf543",
   "metadata": {},
   "outputs": [
    {
     "data": {
      "text/plain": [
       "(7352, 562)"
      ]
     },
     "execution_count": 5,
     "metadata": {},
     "output_type": "execute_result"
    }
   ],
   "source": [
    "df.shape"
   ]
  },
  {
   "cell_type": "markdown",
   "id": "fb8f65b0",
   "metadata": {},
   "source": [
    "# After Droping the Subject Columns, we have 562 features now."
   ]
  },
  {
   "cell_type": "code",
   "execution_count": 6,
   "id": "960dcf44",
   "metadata": {},
   "outputs": [
    {
     "data": {
      "text/plain": [
       "float64    561\n",
       "object       1\n",
       "dtype: int64"
      ]
     },
     "execution_count": 6,
     "metadata": {},
     "output_type": "execute_result"
    }
   ],
   "source": [
    "df.dtypes.value_counts()"
   ]
  },
  {
   "cell_type": "markdown",
   "id": "950083ea",
   "metadata": {},
   "source": [
    "# from data type we can see 561 features have fload value and 1 feature is object"
   ]
  },
  {
   "cell_type": "code",
   "execution_count": 7,
   "id": "a4f7bd60",
   "metadata": {
    "scrolled": true
   },
   "outputs": [
    {
     "data": {
      "text/html": [
       "<div>\n",
       "<style scoped>\n",
       "    .dataframe tbody tr th:only-of-type {\n",
       "        vertical-align: middle;\n",
       "    }\n",
       "\n",
       "    .dataframe tbody tr th {\n",
       "        vertical-align: top;\n",
       "    }\n",
       "\n",
       "    .dataframe thead th {\n",
       "        text-align: right;\n",
       "    }\n",
       "</style>\n",
       "<table border=\"1\" class=\"dataframe\">\n",
       "  <thead>\n",
       "    <tr style=\"text-align: right;\">\n",
       "      <th></th>\n",
       "      <th>tBodyAcc-mean()-X</th>\n",
       "      <th>tBodyAcc-mean()-Y</th>\n",
       "      <th>tBodyAcc-mean()-Z</th>\n",
       "      <th>tBodyAcc-std()-X</th>\n",
       "      <th>tBodyAcc-std()-Y</th>\n",
       "      <th>tBodyAcc-std()-Z</th>\n",
       "      <th>tBodyAcc-mad()-X</th>\n",
       "      <th>tBodyAcc-mad()-Y</th>\n",
       "      <th>tBodyAcc-mad()-Z</th>\n",
       "      <th>tBodyAcc-max()-X</th>\n",
       "      <th>...</th>\n",
       "      <th>fBodyBodyGyroJerkMag-meanFreq()</th>\n",
       "      <th>fBodyBodyGyroJerkMag-skewness()</th>\n",
       "      <th>fBodyBodyGyroJerkMag-kurtosis()</th>\n",
       "      <th>angle(tBodyAccMean,gravity)</th>\n",
       "      <th>angle(tBodyAccJerkMean),gravityMean)</th>\n",
       "      <th>angle(tBodyGyroMean,gravityMean)</th>\n",
       "      <th>angle(tBodyGyroJerkMean,gravityMean)</th>\n",
       "      <th>angle(X,gravityMean)</th>\n",
       "      <th>angle(Y,gravityMean)</th>\n",
       "      <th>angle(Z,gravityMean)</th>\n",
       "    </tr>\n",
       "  </thead>\n",
       "  <tbody>\n",
       "    <tr>\n",
       "      <th>count</th>\n",
       "      <td>7352.000000</td>\n",
       "      <td>7352.000000</td>\n",
       "      <td>7352.000000</td>\n",
       "      <td>7352.000000</td>\n",
       "      <td>7352.000000</td>\n",
       "      <td>7352.000000</td>\n",
       "      <td>7352.000000</td>\n",
       "      <td>7352.000000</td>\n",
       "      <td>7352.000000</td>\n",
       "      <td>7352.000000</td>\n",
       "      <td>...</td>\n",
       "      <td>7352.000000</td>\n",
       "      <td>7352.000000</td>\n",
       "      <td>7352.000000</td>\n",
       "      <td>7352.000000</td>\n",
       "      <td>7352.000000</td>\n",
       "      <td>7352.000000</td>\n",
       "      <td>7352.000000</td>\n",
       "      <td>7352.000000</td>\n",
       "      <td>7352.000000</td>\n",
       "      <td>7352.000000</td>\n",
       "    </tr>\n",
       "    <tr>\n",
       "      <th>mean</th>\n",
       "      <td>0.274488</td>\n",
       "      <td>-0.017695</td>\n",
       "      <td>-0.109141</td>\n",
       "      <td>-0.605438</td>\n",
       "      <td>-0.510938</td>\n",
       "      <td>-0.604754</td>\n",
       "      <td>-0.630512</td>\n",
       "      <td>-0.526907</td>\n",
       "      <td>-0.606150</td>\n",
       "      <td>-0.468604</td>\n",
       "      <td>...</td>\n",
       "      <td>0.125293</td>\n",
       "      <td>-0.307009</td>\n",
       "      <td>-0.625294</td>\n",
       "      <td>0.008684</td>\n",
       "      <td>0.002186</td>\n",
       "      <td>0.008726</td>\n",
       "      <td>-0.005981</td>\n",
       "      <td>-0.489547</td>\n",
       "      <td>0.058593</td>\n",
       "      <td>-0.056515</td>\n",
       "    </tr>\n",
       "    <tr>\n",
       "      <th>std</th>\n",
       "      <td>0.070261</td>\n",
       "      <td>0.040811</td>\n",
       "      <td>0.056635</td>\n",
       "      <td>0.448734</td>\n",
       "      <td>0.502645</td>\n",
       "      <td>0.418687</td>\n",
       "      <td>0.424073</td>\n",
       "      <td>0.485942</td>\n",
       "      <td>0.414122</td>\n",
       "      <td>0.544547</td>\n",
       "      <td>...</td>\n",
       "      <td>0.250994</td>\n",
       "      <td>0.321011</td>\n",
       "      <td>0.307584</td>\n",
       "      <td>0.336787</td>\n",
       "      <td>0.448306</td>\n",
       "      <td>0.608303</td>\n",
       "      <td>0.477975</td>\n",
       "      <td>0.511807</td>\n",
       "      <td>0.297480</td>\n",
       "      <td>0.279122</td>\n",
       "    </tr>\n",
       "    <tr>\n",
       "      <th>min</th>\n",
       "      <td>-1.000000</td>\n",
       "      <td>-1.000000</td>\n",
       "      <td>-1.000000</td>\n",
       "      <td>-1.000000</td>\n",
       "      <td>-0.999873</td>\n",
       "      <td>-1.000000</td>\n",
       "      <td>-1.000000</td>\n",
       "      <td>-1.000000</td>\n",
       "      <td>-1.000000</td>\n",
       "      <td>-1.000000</td>\n",
       "      <td>...</td>\n",
       "      <td>-1.000000</td>\n",
       "      <td>-0.995357</td>\n",
       "      <td>-0.999765</td>\n",
       "      <td>-0.976580</td>\n",
       "      <td>-1.000000</td>\n",
       "      <td>-1.000000</td>\n",
       "      <td>-1.000000</td>\n",
       "      <td>-1.000000</td>\n",
       "      <td>-1.000000</td>\n",
       "      <td>-1.000000</td>\n",
       "    </tr>\n",
       "    <tr>\n",
       "      <th>25%</th>\n",
       "      <td>0.262975</td>\n",
       "      <td>-0.024863</td>\n",
       "      <td>-0.120993</td>\n",
       "      <td>-0.992754</td>\n",
       "      <td>-0.978129</td>\n",
       "      <td>-0.980233</td>\n",
       "      <td>-0.993591</td>\n",
       "      <td>-0.978162</td>\n",
       "      <td>-0.980251</td>\n",
       "      <td>-0.936219</td>\n",
       "      <td>...</td>\n",
       "      <td>-0.023692</td>\n",
       "      <td>-0.542602</td>\n",
       "      <td>-0.845573</td>\n",
       "      <td>-0.121527</td>\n",
       "      <td>-0.289549</td>\n",
       "      <td>-0.482273</td>\n",
       "      <td>-0.376341</td>\n",
       "      <td>-0.812065</td>\n",
       "      <td>-0.017885</td>\n",
       "      <td>-0.143414</td>\n",
       "    </tr>\n",
       "    <tr>\n",
       "      <th>50%</th>\n",
       "      <td>0.277193</td>\n",
       "      <td>-0.017219</td>\n",
       "      <td>-0.108676</td>\n",
       "      <td>-0.946196</td>\n",
       "      <td>-0.851897</td>\n",
       "      <td>-0.859365</td>\n",
       "      <td>-0.950709</td>\n",
       "      <td>-0.857328</td>\n",
       "      <td>-0.857143</td>\n",
       "      <td>-0.881637</td>\n",
       "      <td>...</td>\n",
       "      <td>0.134000</td>\n",
       "      <td>-0.343685</td>\n",
       "      <td>-0.711692</td>\n",
       "      <td>0.009509</td>\n",
       "      <td>0.008943</td>\n",
       "      <td>0.008735</td>\n",
       "      <td>-0.000368</td>\n",
       "      <td>-0.709417</td>\n",
       "      <td>0.182071</td>\n",
       "      <td>0.003181</td>\n",
       "    </tr>\n",
       "    <tr>\n",
       "      <th>75%</th>\n",
       "      <td>0.288461</td>\n",
       "      <td>-0.010783</td>\n",
       "      <td>-0.097794</td>\n",
       "      <td>-0.242813</td>\n",
       "      <td>-0.034231</td>\n",
       "      <td>-0.262415</td>\n",
       "      <td>-0.292680</td>\n",
       "      <td>-0.066701</td>\n",
       "      <td>-0.265671</td>\n",
       "      <td>-0.017129</td>\n",
       "      <td>...</td>\n",
       "      <td>0.289096</td>\n",
       "      <td>-0.126979</td>\n",
       "      <td>-0.503878</td>\n",
       "      <td>0.150865</td>\n",
       "      <td>0.292861</td>\n",
       "      <td>0.506187</td>\n",
       "      <td>0.359368</td>\n",
       "      <td>-0.509079</td>\n",
       "      <td>0.248353</td>\n",
       "      <td>0.107659</td>\n",
       "    </tr>\n",
       "    <tr>\n",
       "      <th>max</th>\n",
       "      <td>1.000000</td>\n",
       "      <td>1.000000</td>\n",
       "      <td>1.000000</td>\n",
       "      <td>1.000000</td>\n",
       "      <td>0.916238</td>\n",
       "      <td>1.000000</td>\n",
       "      <td>1.000000</td>\n",
       "      <td>0.967664</td>\n",
       "      <td>1.000000</td>\n",
       "      <td>1.000000</td>\n",
       "      <td>...</td>\n",
       "      <td>0.946700</td>\n",
       "      <td>0.989538</td>\n",
       "      <td>0.956845</td>\n",
       "      <td>1.000000</td>\n",
       "      <td>1.000000</td>\n",
       "      <td>0.998702</td>\n",
       "      <td>0.996078</td>\n",
       "      <td>1.000000</td>\n",
       "      <td>0.478157</td>\n",
       "      <td>1.000000</td>\n",
       "    </tr>\n",
       "  </tbody>\n",
       "</table>\n",
       "<p>8 rows × 561 columns</p>\n",
       "</div>"
      ],
      "text/plain": [
       "       tBodyAcc-mean()-X  tBodyAcc-mean()-Y  tBodyAcc-mean()-Z  \\\n",
       "count        7352.000000        7352.000000        7352.000000   \n",
       "mean            0.274488          -0.017695          -0.109141   \n",
       "std             0.070261           0.040811           0.056635   \n",
       "min            -1.000000          -1.000000          -1.000000   \n",
       "25%             0.262975          -0.024863          -0.120993   \n",
       "50%             0.277193          -0.017219          -0.108676   \n",
       "75%             0.288461          -0.010783          -0.097794   \n",
       "max             1.000000           1.000000           1.000000   \n",
       "\n",
       "       tBodyAcc-std()-X  tBodyAcc-std()-Y  tBodyAcc-std()-Z  tBodyAcc-mad()-X  \\\n",
       "count       7352.000000       7352.000000       7352.000000       7352.000000   \n",
       "mean          -0.605438         -0.510938         -0.604754         -0.630512   \n",
       "std            0.448734          0.502645          0.418687          0.424073   \n",
       "min           -1.000000         -0.999873         -1.000000         -1.000000   \n",
       "25%           -0.992754         -0.978129         -0.980233         -0.993591   \n",
       "50%           -0.946196         -0.851897         -0.859365         -0.950709   \n",
       "75%           -0.242813         -0.034231         -0.262415         -0.292680   \n",
       "max            1.000000          0.916238          1.000000          1.000000   \n",
       "\n",
       "       tBodyAcc-mad()-Y  tBodyAcc-mad()-Z  tBodyAcc-max()-X  ...  \\\n",
       "count       7352.000000       7352.000000       7352.000000  ...   \n",
       "mean          -0.526907         -0.606150         -0.468604  ...   \n",
       "std            0.485942          0.414122          0.544547  ...   \n",
       "min           -1.000000         -1.000000         -1.000000  ...   \n",
       "25%           -0.978162         -0.980251         -0.936219  ...   \n",
       "50%           -0.857328         -0.857143         -0.881637  ...   \n",
       "75%           -0.066701         -0.265671         -0.017129  ...   \n",
       "max            0.967664          1.000000          1.000000  ...   \n",
       "\n",
       "       fBodyBodyGyroJerkMag-meanFreq()  fBodyBodyGyroJerkMag-skewness()  \\\n",
       "count                      7352.000000                      7352.000000   \n",
       "mean                          0.125293                        -0.307009   \n",
       "std                           0.250994                         0.321011   \n",
       "min                          -1.000000                        -0.995357   \n",
       "25%                          -0.023692                        -0.542602   \n",
       "50%                           0.134000                        -0.343685   \n",
       "75%                           0.289096                        -0.126979   \n",
       "max                           0.946700                         0.989538   \n",
       "\n",
       "       fBodyBodyGyroJerkMag-kurtosis()  angle(tBodyAccMean,gravity)  \\\n",
       "count                      7352.000000                  7352.000000   \n",
       "mean                         -0.625294                     0.008684   \n",
       "std                           0.307584                     0.336787   \n",
       "min                          -0.999765                    -0.976580   \n",
       "25%                          -0.845573                    -0.121527   \n",
       "50%                          -0.711692                     0.009509   \n",
       "75%                          -0.503878                     0.150865   \n",
       "max                           0.956845                     1.000000   \n",
       "\n",
       "       angle(tBodyAccJerkMean),gravityMean)  angle(tBodyGyroMean,gravityMean)  \\\n",
       "count                           7352.000000                       7352.000000   \n",
       "mean                               0.002186                          0.008726   \n",
       "std                                0.448306                          0.608303   \n",
       "min                               -1.000000                         -1.000000   \n",
       "25%                               -0.289549                         -0.482273   \n",
       "50%                                0.008943                          0.008735   \n",
       "75%                                0.292861                          0.506187   \n",
       "max                                1.000000                          0.998702   \n",
       "\n",
       "       angle(tBodyGyroJerkMean,gravityMean)  angle(X,gravityMean)  \\\n",
       "count                           7352.000000           7352.000000   \n",
       "mean                              -0.005981             -0.489547   \n",
       "std                                0.477975              0.511807   \n",
       "min                               -1.000000             -1.000000   \n",
       "25%                               -0.376341             -0.812065   \n",
       "50%                               -0.000368             -0.709417   \n",
       "75%                                0.359368             -0.509079   \n",
       "max                                0.996078              1.000000   \n",
       "\n",
       "       angle(Y,gravityMean)  angle(Z,gravityMean)  \n",
       "count           7352.000000           7352.000000  \n",
       "mean               0.058593             -0.056515  \n",
       "std                0.297480              0.279122  \n",
       "min               -1.000000             -1.000000  \n",
       "25%               -0.017885             -0.143414  \n",
       "50%                0.182071              0.003181  \n",
       "75%                0.248353              0.107659  \n",
       "max                0.478157              1.000000  \n",
       "\n",
       "[8 rows x 561 columns]"
      ]
     },
     "execution_count": 7,
     "metadata": {},
     "output_type": "execute_result"
    }
   ],
   "source": [
    "df.describe()"
   ]
  },
  {
   "cell_type": "markdown",
   "id": "6afd4f1e",
   "metadata": {},
   "source": [
    "# we see that the min = -1 and the max = +1. so no need for scaling"
   ]
  },
  {
   "cell_type": "code",
   "execution_count": 8,
   "id": "8da1e510",
   "metadata": {},
   "outputs": [
    {
     "data": {
      "text/plain": [
       "angle(tBodyGyroJerkMean,gravityMean)    float64\n",
       "angle(X,gravityMean)                    float64\n",
       "angle(Y,gravityMean)                    float64\n",
       "angle(Z,gravityMean)                    float64\n",
       "Activity                                 object\n",
       "dtype: object"
      ]
     },
     "execution_count": 8,
     "metadata": {},
     "output_type": "execute_result"
    }
   ],
   "source": [
    "df.dtypes.tail()"
   ]
  },
  {
   "cell_type": "markdown",
   "id": "a12e0076",
   "metadata": {},
   "source": [
    "They have the same data types. That is, mostly floats and one object feature. Lets see what the object feature is from the rest"
   ]
  },
  {
   "cell_type": "code",
   "execution_count": 9,
   "id": "9f012c69",
   "metadata": {},
   "outputs": [
    {
     "data": {
      "text/plain": [
       "Index(['Activity'], dtype='object')"
      ]
     },
     "execution_count": 9,
     "metadata": {},
     "output_type": "execute_result"
    }
   ],
   "source": [
    "object_feature = df.dtypes == np.object\n",
    "object_feature = df.columns[object_feature]\n",
    "object_feature"
   ]
  },
  {
   "cell_type": "markdown",
   "id": "6b336507",
   "metadata": {},
   "source": [
    "As we can see, the only object data type in the dataset is the Activity feature. Lets take a closer look at it..."
   ]
  },
  {
   "cell_type": "code",
   "execution_count": 10,
   "id": "d7c28f21",
   "metadata": {},
   "outputs": [
    {
     "data": {
      "text/plain": [
       "LAYING                1407\n",
       "STANDING              1374\n",
       "SITTING               1286\n",
       "WALKING               1226\n",
       "WALKING_UPSTAIRS      1073\n",
       "WALKING_DOWNSTAIRS     986\n",
       "Name: Activity, dtype: int64"
      ]
     },
     "execution_count": 10,
     "metadata": {},
     "output_type": "execute_result"
    }
   ],
   "source": [
    "df['Activity'].value_counts()"
   ]
  },
  {
   "cell_type": "code",
   "execution_count": 11,
   "id": "ecc80f3e",
   "metadata": {},
   "outputs": [],
   "source": [
    "# From Above we can see we have different kind of Activity like laying, standing, sitting, walking, walking upstairs, walking downstairs"
   ]
  },
  {
   "cell_type": "code",
   "execution_count": 12,
   "id": "35e086f5",
   "metadata": {
    "scrolled": true
   },
   "outputs": [
    {
     "data": {
      "image/png": "[encoded data removed]",
      "text/plain": [
       "<Figure size 432x288 with 1 Axes>"
      ]
     },
     "metadata": {
      "needs_background": "light"
     },
     "output_type": "display_data"
    }
   ],
   "source": [
    "temp=df['Activity'].value_counts()\n",
    "\n",
    "dta = pd.DataFrame({'Type': temp.index,\n",
    "                   'Occurrence': temp.values\n",
    "                  })\n",
    "\n",
    "plt.bar(dta['Type'],dta['Occurrence'])\n",
    "plt.xticks(rotation=75)\n",
    "plt.xlabel('Type Of Activity')\n",
    "plt.ylabel('No of Occurrence')\n",
    "plt.show()"
   ]
  },
  {
   "cell_type": "markdown",
   "id": "a83265ee",
   "metadata": {},
   "source": [
    "# From above we can see number of occurence for each Activity, It seems people prefer to laying most of the time"
   ]
  },
  {
   "cell_type": "markdown",
   "id": "672cc575",
   "metadata": {},
   "source": [
    "# Lets see Activity in percentage"
   ]
  },
  {
   "cell_type": "code",
   "execution_count": 13,
   "id": "06a43aa7",
   "metadata": {},
   "outputs": [
    {
     "data": {
      "image/png": "[encoded data removed]",
      "text/plain": [
       "<Figure size 432x288 with 1 Axes>"
      ]
     },
     "metadata": {},
     "output_type": "display_data"
    }
   ],
   "source": [
    "activity = df['Activity'].groupby(df['Activity']).count().index\n",
    "activity_data = df['Activity'].groupby(df['Activity']).count().values\n",
    "colors = [\"#1f77b4\", \"#ff7f0e\", \"#2ca02c\", \"#d62728\", \"#8c564b\",\"#a4d321\"]\n",
    "plt.pie(activity_data, labels=activity,  colors=colors , autopct='%1.1f%%', shadow=True, startangle=140)\n",
    "plt.title(\"% of Different categories\")\n",
    "plt.show()"
   ]
  },
  {
   "cell_type": "markdown",
   "id": "c6f8d2d5",
   "metadata": {},
   "source": [
    "# We need to encode the Activity column because sklearn won't accept sparse matrix as prediction columns . We will use LabelEncoder to encode the Activities"
   ]
  },
  {
   "cell_type": "code",
   "execution_count": 14,
   "id": "0dd57f22",
   "metadata": {},
   "outputs": [],
   "source": [
    "le = LabelEncoder()\n",
    "for x in [df]:\n",
    "    x['Activity'] = le.fit_transform(x.Activity)"
   ]
  },
  {
   "cell_type": "code",
   "execution_count": 15,
   "id": "aea6a202",
   "metadata": {},
   "outputs": [
    {
     "data": {
      "text/plain": [
       "4798    3\n",
       "6542    0\n",
       "5973    0\n",
       "6028    5\n",
       "5334    1\n",
       "Name: Activity, dtype: int32"
      ]
     },
     "execution_count": 15,
     "metadata": {},
     "output_type": "execute_result"
    }
   ],
   "source": [
    "df.Activity.sample(5)"
   ]
  },
  {
   "cell_type": "code",
   "execution_count": 16,
   "id": "e1d011d5",
   "metadata": {},
   "outputs": [],
   "source": [
    "# Now All activity is encoded from 0 to 5"
   ]
  },
  {
   "cell_type": "markdown",
   "id": "75757968",
   "metadata": {},
   "source": [
    "## Null/Outlier Treatment"
   ]
  },
  {
   "cell_type": "code",
   "execution_count": 17,
   "id": "f89ac791",
   "metadata": {},
   "outputs": [
    {
     "data": {
      "text/plain": [
       "False"
      ]
     },
     "execution_count": 17,
     "metadata": {},
     "output_type": "execute_result"
    }
   ],
   "source": [
    "# checking column wise null values\n",
    "df.isnull().values.any()"
   ]
  },
  {
   "cell_type": "markdown",
   "id": "6b98931a",
   "metadata": {},
   "source": [
    "# There are no null values in datasets"
   ]
  },
  {
   "cell_type": "markdown",
   "id": "0eda7bf4",
   "metadata": {},
   "source": [
    "# Outlairs"
   ]
  },
  {
   "cell_type": "code",
   "execution_count": 18,
   "id": "659ab964",
   "metadata": {},
   "outputs": [],
   "source": [
    "def out_iqr(df , column):\n",
    "    global lower,upper\n",
    "    q25, q75 = np.quantile(df[column], 0.25), np.quantile(df[column], 0.75)\n",
    "    # calculate the IQR\n",
    "    iqr = q75 - q25\n",
    "    # calculate the outlier cutoff\n",
    "    cut_off = iqr * 1.5\n",
    "    # calculate the lower and upper bound value\n",
    "    lower, upper = q25 - cut_off, q75 + cut_off\n",
    "    print('The IQR is',iqr)\n",
    "    print('The lower bound value is', lower)\n",
    "    print('The upper bound value is', upper)\n",
    "    # Calculate the number of records below and above lower and above bound value respectively\n",
    "    df1 = df[df[column] > upper]\n",
    "    df2 = df[df[column] < lower]\n",
    "    print('Total Number of ouliers is',df1.shape[0]+df2.shape[0])\n",
    "    \n",
    "    #out_iqr(df_new,'tBodyAcc-min()-X')\n",
    "    "
   ]
  },
  {
   "cell_type": "code",
   "execution_count": 19,
   "id": "8cb83533",
   "metadata": {},
   "outputs": [
    {
     "name": "stdout",
     "output_type": "stream",
     "text": [
      "The IQR is 0.8831297\n",
      "The lower bound value is -2.313187115\n",
      "The upper bound value is 1.219331685\n",
      "Total Number of ouliers is 14704\n"
     ]
    }
   ],
   "source": [
    "out_iqr(df,df.columns)"
   ]
  },
  {
   "cell_type": "markdown",
   "id": "c27aecf0",
   "metadata": {},
   "source": [
    "# Remove the outliers"
   ]
  },
  {
   "cell_type": "markdown",
   "id": "63123b82",
   "metadata": {},
   "source": [
    "# Number of oultlier is very high, it seems this is not outliers, I am not removing any outliers now ,first I will see model with outlier and if we dont get good model then we will remove the oulairs and create modle again."
   ]
  },
  {
   "cell_type": "markdown",
   "id": "b8ebf6bf",
   "metadata": {},
   "source": [
    "# Check for Duplicates "
   ]
  },
  {
   "cell_type": "code",
   "execution_count": 20,
   "id": "fe4b5ed5",
   "metadata": {},
   "outputs": [
    {
     "name": "stdout",
     "output_type": "stream",
     "text": [
      "Number of duplicates :  0\n"
     ]
    }
   ],
   "source": [
    "print('Number of duplicates : ',sum(df.duplicated()))"
   ]
  },
  {
   "cell_type": "markdown",
   "id": "633c1dee",
   "metadata": {},
   "source": [
    "# From above it seems there is no duplicates"
   ]
  },
  {
   "cell_type": "markdown",
   "id": "5273072c",
   "metadata": {},
   "source": [
    "# Remove non-Important Features"
   ]
  },
  {
   "cell_type": "markdown",
   "id": "42834058",
   "metadata": {},
   "source": [
    "## Lets use variance threshold from sklearn\n",
    "Variance threshold from sklearn is a simple baseline approach to feature selection. It removes all features which variance doesn’t meet some threshold. By default, it removes all zero-variance features, i.e., features that have the same value in all samples"
   ]
  },
  {
   "cell_type": "code",
   "execution_count": 21,
   "id": "53b062a9",
   "metadata": {},
   "outputs": [
    {
     "data": {
      "text/plain": [
       "562"
      ]
     },
     "execution_count": 21,
     "metadata": {},
     "output_type": "execute_result"
    }
   ],
   "source": [
    "from sklearn.feature_selection import VarianceThreshold\n",
    "sel = VarianceThreshold(threshold=0)\n",
    "sel.fit(df) \n",
    "sum(sel.get_support())"
   ]
  },
  {
   "cell_type": "code",
   "execution_count": 22,
   "id": "d124838d",
   "metadata": {},
   "outputs": [
    {
     "name": "stdout",
     "output_type": "stream",
     "text": [
      "0\n"
     ]
    },
    {
     "data": {
      "text/plain": [
       "[]"
      ]
     },
     "execution_count": 22,
     "metadata": {},
     "output_type": "execute_result"
    }
   ],
   "source": [
    "# print the constant features\n",
    "print(\n",
    "    len([\n",
    "        x for x in df.columns\n",
    "        if x not in df.columns[sel.get_support()]\n",
    "    ]))\n",
    "\n",
    "[x for x in df.columns if x not in df.columns[sel.get_support()]]"
   ]
  },
  {
   "cell_type": "markdown",
   "id": "e6aad9b7",
   "metadata": {},
   "source": [
    "# We can see that all features meeting the variance threshold. So no need to remove any feature now.  We will try to build a base model to see how the current dataset performs with different classification algorithms. If the accuracy score is low, we will remove un-important features by using feature selection techniques to improve the model"
   ]
  },
  {
   "cell_type": "markdown",
   "id": "1ed11761",
   "metadata": {},
   "source": [
    "## Split Predictor and Target Varaibles"
   ]
  },
  {
   "cell_type": "code",
   "execution_count": 23,
   "id": "51916a1a",
   "metadata": {},
   "outputs": [],
   "source": [
    "X=pd.DataFrame(df.drop(['Activity'],axis=1))\n",
    "y=df['Activity']"
   ]
  },
  {
   "cell_type": "markdown",
   "id": "00a362d4",
   "metadata": {},
   "source": [
    "## Split Training and Testing Data Set"
   ]
  },
  {
   "cell_type": "code",
   "execution_count": 24,
   "id": "388b2cea",
   "metadata": {},
   "outputs": [
    {
     "data": {
      "text/plain": [
       "((5881, 561), (1471, 561), (5881,), (1471,))"
      ]
     },
     "execution_count": 24,
     "metadata": {},
     "output_type": "execute_result"
    }
   ],
   "source": [
    "from sklearn.model_selection import train_test_split\n",
    "X_train,X_test,y_train,y_test=train_test_split(X,y,test_size=0.20,random_state=100)\n",
    "X_train.shape, X_test.shape, y_train.shape, y_test.shape"
   ]
  },
  {
   "cell_type": "markdown",
   "id": "e9218d65",
   "metadata": {},
   "source": [
    "## Standardize the Variables"
   ]
  },
  {
   "cell_type": "code",
   "execution_count": 25,
   "id": "da0736ab",
   "metadata": {},
   "outputs": [],
   "source": [
    "from sklearn.preprocessing import StandardScaler\n",
    "sc=StandardScaler()\n",
    "X_train=sc.fit_transform(X_train)\n",
    "X_test=sc.transform(X_test)\n"
   ]
  },
  {
   "cell_type": "markdown",
   "id": "868960a8",
   "metadata": {},
   "source": [
    "#Same ratio of classes in both the train and validation data "
   ]
  },
  {
   "cell_type": "markdown",
   "id": "914f1d2c",
   "metadata": {},
   "source": [
    "# Train Model using different variations of NB and Logistic Regression , We will use Logistic Regressoin then various Naive Bayes Algo,  First i am just creating Modle, then get the Time , accuracy of modle, accuracy of training and test data set together"
   ]
  },
  {
   "cell_type": "markdown",
   "id": "540de0ab",
   "metadata": {},
   "source": [
    "# Choosing a model -Logistic Regression"
   ]
  },
  {
   "cell_type": "code",
   "execution_count": 26,
   "id": "604b37d8",
   "metadata": {},
   "outputs": [],
   "source": [
    "from datetime import datetime\n",
    "train_start_time = datetime.now()\n",
    "lr = LogisticRegression()"
   ]
  },
  {
   "cell_type": "markdown",
   "id": "f90fbd35",
   "metadata": {},
   "source": [
    "# Training the Logistic Regression Modle"
   ]
  },
  {
   "cell_type": "code",
   "execution_count": 27,
   "id": "3b8b8f6d",
   "metadata": {},
   "outputs": [],
   "source": [
    "lr = lr.fit(X_train, y_train)\n",
    "train_end_time = datetime.now()"
   ]
  },
  {
   "cell_type": "markdown",
   "id": "9484a09b",
   "metadata": {},
   "source": [
    "# In above 2 cells I have used datetime.now() function to get the execution time of the model"
   ]
  },
  {
   "cell_type": "markdown",
   "id": "9198858f",
   "metadata": {},
   "source": [
    "# Evaluating the model"
   ]
  },
  {
   "cell_type": "code",
   "execution_count": 28,
   "id": "52179c00",
   "metadata": {},
   "outputs": [],
   "source": [
    "y_pred_lr = lr.predict(X_test)"
   ]
  },
  {
   "cell_type": "markdown",
   "id": "165c11bd",
   "metadata": {},
   "source": [
    "# Naive Base - GaussianNB"
   ]
  },
  {
   "cell_type": "code",
   "execution_count": 29,
   "id": "3bff887a",
   "metadata": {},
   "outputs": [
    {
     "data": {
      "text/plain": [
       "((5881, 561), (1471, 561), (5881,), (1471,))"
      ]
     },
     "execution_count": 29,
     "metadata": {},
     "output_type": "execute_result"
    }
   ],
   "source": [
    "from sklearn.model_selection import train_test_split\n",
    "X_train_naive,X_test_naive,y_train_naive,y_test_naive=train_test_split(X,y,test_size=0.20,random_state=100)\n",
    "X_train_naive.shape, X_test_naive.shape, y_train_naive.shape, y_test_naive.shape"
   ]
  },
  {
   "cell_type": "code",
   "execution_count": 30,
   "id": "d80ff483",
   "metadata": {},
   "outputs": [],
   "source": [
    "train_start_time_naive = datetime.now()\n",
    "#Create a Gaussian Classifier\n",
    "naive_gaussian = GaussianNB()\n",
    "\n",
    "# Train the model using the training sets \n",
    "naive_gaussian.fit(X_train_naive, y_train_naive)\n",
    "y_pred_naive_gaussian = naive_gaussian.predict(X_test_naive)\n",
    "train_end_time_naive = datetime.now()"
   ]
  },
  {
   "cell_type": "markdown",
   "id": "4db3569d",
   "metadata": {},
   "source": [
    "# Multinomial Naive Bayes"
   ]
  },
  {
   "cell_type": "code",
   "execution_count": 31,
   "id": "47b61eaf",
   "metadata": {},
   "outputs": [],
   "source": [
    "#MultiNomial Doest not works on negataive number so, we need to normalize it beofre using it\n",
    "def NormalizeData(df):\n",
    "    return (df - np.min(df)) / (np.max(df) - np.min(df))\n",
    "scaled_x = NormalizeData(df)"
   ]
  },
  {
   "cell_type": "code",
   "execution_count": 32,
   "id": "b8cc3c01",
   "metadata": {},
   "outputs": [],
   "source": [
    "X=pd.DataFrame(scaled_x.drop(['Activity'],axis=1))\n",
    "y=df['Activity']"
   ]
  },
  {
   "cell_type": "code",
   "execution_count": 33,
   "id": "aaa35661",
   "metadata": {},
   "outputs": [
    {
     "data": {
      "text/plain": [
       "((5881, 561), (1471, 561), (5881,), (1471,))"
      ]
     },
     "execution_count": 33,
     "metadata": {},
     "output_type": "execute_result"
    }
   ],
   "source": [
    "from sklearn.model_selection import train_test_split\n",
    "X_train_naive_mb,X_test_naive_mb,y_train_naive_mb,y_test_naive_mb=train_test_split(X,y,test_size=0.20,random_state=100)\n",
    "X_train_naive_mb.shape, X_test_naive_mb.shape, y_train_naive_mb.shape, y_test_naive_mb.shape"
   ]
  },
  {
   "cell_type": "code",
   "execution_count": 34,
   "id": "27bd3eec",
   "metadata": {},
   "outputs": [],
   "source": [
    "train_start_time_naive_mb = datetime.now()\n",
    "#Create a Gaussian Classifier\n",
    "from sklearn.naive_bayes import MultinomialNB\n",
    "naive_mb = MultinomialNB()\n",
    "\n",
    "# Train the model using the training sets \n",
    "naive_mb.fit(X_train_naive_mb, y_train_naive_mb)\n",
    "y_pred_naive_mb = naive_mb.predict(X_test_naive_mb)\n",
    "train_end_time_naive_mb = datetime.now()"
   ]
  },
  {
   "cell_type": "markdown",
   "id": "cf08969d",
   "metadata": {},
   "source": [
    "# Bernouli Naive Bayes"
   ]
  },
  {
   "cell_type": "code",
   "execution_count": 35,
   "id": "8a05e4b0",
   "metadata": {},
   "outputs": [
    {
     "data": {
      "text/plain": [
       "((5881, 561), (1471, 561), (5881,), (1471,))"
      ]
     },
     "execution_count": 35,
     "metadata": {},
     "output_type": "execute_result"
    }
   ],
   "source": [
    "from sklearn.model_selection import train_test_split\n",
    "X_train_naive_bernouli,X_test_naive_bernouli,y_train_naive_bernouli,y_test_naive_bernouli=train_test_split(X,y,test_size=0.20,random_state=100)\n",
    "X_train_naive_bernouli.shape, X_test_naive_bernouli.shape, y_train_naive_bernouli.shape, y_test_naive_bernouli.shape"
   ]
  },
  {
   "cell_type": "code",
   "execution_count": 36,
   "id": "bdf0bc53",
   "metadata": {},
   "outputs": [],
   "source": [
    "train_start_time_naive_bernouli = datetime.now()\n",
    "#Create a Gaussian Classifier\n",
    "from sklearn.naive_bayes import BernoulliNB\n",
    "naive_bernouli = BernoulliNB()\n",
    "\n",
    "# Train the model using the training sets \n",
    "naive_bernouli.fit(X_train_naive_bernouli, y_train_naive_bernouli)\n",
    "y_pred_naive_bernouli = naive_bernouli.predict(X_test_naive_bernouli)\n",
    "train_end_time_naive_bernouli = datetime.now()"
   ]
  },
  {
   "cell_type": "markdown",
   "id": "ff9177db",
   "metadata": {},
   "source": [
    "# ComplementNB Naive Bayes"
   ]
  },
  {
   "cell_type": "code",
   "execution_count": 37,
   "id": "4aec0422",
   "metadata": {},
   "outputs": [
    {
     "data": {
      "text/plain": [
       "((5881, 561), (1471, 561), (5881,), (1471,))"
      ]
     },
     "execution_count": 37,
     "metadata": {},
     "output_type": "execute_result"
    }
   ],
   "source": [
    "from sklearn.model_selection import train_test_split\n",
    "X_train_naive_complementnb,X_test_naive_complementnb,y_train_naive_complementnb,y_test_naive_complementnb=train_test_split(X,y,test_size=0.20,random_state=100)\n",
    "X_train_naive_complementnb.shape, X_test_naive_complementnb.shape, y_train_naive_complementnb.shape, y_test_naive_complementnb.shape"
   ]
  },
  {
   "cell_type": "code",
   "execution_count": 38,
   "id": "eda5be75",
   "metadata": {},
   "outputs": [],
   "source": [
    "train_start_time_naive_complementnb = datetime.now()\n",
    "#Create a Gaussian Classifier\n",
    "from sklearn.naive_bayes import ComplementNB\n",
    "naive_complementnb = ComplementNB()\n",
    "\n",
    "# Train the model using the training sets \n",
    "naive_complementnb.fit(X_train_naive_complementnb, y_train_naive_complementnb)\n",
    "y_pred_naive_complementnb = naive_complementnb.predict(X_test_naive_complementnb)\n",
    "train_end_time_naive_complementnb = datetime.now()"
   ]
  },
  {
   "cell_type": "markdown",
   "id": "72bf0653",
   "metadata": {},
   "source": [
    "# Compare time and accuracy of different algos used above without removing any feature"
   ]
  },
  {
   "cell_type": "code",
   "execution_count": 39,
   "id": "40030293",
   "metadata": {},
   "outputs": [
    {
     "name": "stdout",
     "output_type": "stream",
     "text": [
      "training_time_logistic_regression(HH:MM:SS.ms) - 0:00:01.994294\n",
      "\n",
      "\n",
      "training_time_naive_gaussian(HH:MM:SS.ms) - 0:00:00.171768\n",
      "\n",
      "\n",
      "training_time_naive_multinomial(HH:MM:SS.ms) - 0:00:00.018627\n",
      "\n",
      "\n",
      "training_time_naive_BernoulliNB(HH:MM:SS.ms) - 0:00:00.072715\n",
      "\n",
      "\n",
      "training_time_naive_complementnb(HH:MM:SS.ms) - 0:00:00.027009\n",
      "\n",
      "\n",
      "######################Accuracy of Logistic Regression###########################################\n",
      "Model accuracy score Logistic Regression: 0.9844\n",
      "Training set score of Logistic Regression: 0.9966\n",
      "Test set score of Logistic Regression: 0.9844\n",
      "######################Accuracy of Naive Bayes GaussianNB#########################################\n",
      "Model accuracy score Naive Bayes GaussianNB: 0.6288\n",
      "Training set score of Naive Bayes Guasian: 0.6417\n",
      "Test set score of Naive Bayes Guasia: 0.6288\n",
      "######################Accuracy of Naive Bayes MultiNomial#########################################\n",
      "Model accuracy score Naive Bayes MultinomialNB: 0.8443\n",
      "Training set score of Naive Bayes MultinomialNBasian: 0.8439\n",
      "Test set score of Naive Bayes MultinomialNB: 0.8443\n",
      "######################Accuracy of Naive Bayes BernoulliNB#########################################\n",
      "Model accuracy score Naive Bayes BernoulliNB: 0.6227\n",
      "Training set score of Naive Bayes BernoulliNB: 0.6348\n",
      "Test set score of Naive Bayes BernoulliNB: 0.6227\n",
      "######################Accuracy of Naive Bayes complementnb#########################################\n",
      "Model accuracy score Naive Bayes complementnb: 0.6064\n",
      "Training set score of Naive Bayes complementnb: 0.5851\n",
      "Test set score of Naive Bayes complementnb: 0.6064\n"
     ]
    }
   ],
   "source": [
    "results = dict()\n",
    "results['training_time_logistic'] =  train_end_time - train_start_time\n",
    "print('training_time_logistic_regression(HH:MM:SS.ms) - {}\\n\\n'.format(results['training_time_logistic']))\n",
    "\n",
    "results['training_time_naive_gaussian'] =  train_end_time_naive - train_start_time_naive\n",
    "print('training_time_naive_gaussian(HH:MM:SS.ms) - {}\\n\\n'.format(results['training_time_naive_gaussian']))\n",
    "results = dict()\n",
    "\n",
    "results['training_time_naive_MultinomialNB'] =  train_end_time_naive_mb - train_start_time_naive_mb\n",
    "print('training_time_naive_multinomial(HH:MM:SS.ms) - {}\\n\\n'.format(results['training_time_naive_MultinomialNB']))\n",
    "results = dict()\n",
    "\n",
    "results['training_time_naive_BernoulliNB'] =  train_end_time_naive_bernouli - train_start_time_naive_bernouli\n",
    "print('training_time_naive_BernoulliNB(HH:MM:SS.ms) - {}\\n\\n'.format(results['training_time_naive_BernoulliNB']))\n",
    "results = dict()\n",
    "\n",
    "\n",
    "results['training_time_naive_complementnb'] =  train_end_time_naive_complementnb - train_start_time_naive_complementnb\n",
    "print('training_time_naive_complementnb(HH:MM:SS.ms) - {}\\n\\n'.format(results['training_time_naive_complementnb']))\n",
    "results = dict()\n",
    "\n",
    "\n",
    "\n",
    "from sklearn.metrics import accuracy_score\n",
    "\n",
    "print('######################Accuracy of Logistic Regression###########################################')\n",
    "print('Model accuracy score Logistic Regression: {0:0.4f}'. format(accuracy_score(y_test, y_pred_lr)))\n",
    "print('Training set score of Logistic Regression: {:.4f}'.format(lr.score(X_train, y_train)))\n",
    "print('Test set score of Logistic Regression: {:.4f}'.format(lr.score(X_test, y_test)))\n",
    "\n",
    "print('######################Accuracy of Naive Bayes GaussianNB#########################################')\n",
    "\n",
    "print('Model accuracy score Naive Bayes GaussianNB: {0:0.4f}'. format(accuracy_score(y_test_naive, y_pred_naive_gaussian)))\n",
    "print('Training set score of Naive Bayes Guasian: {:.4f}'.format(naive_gaussian.score(X_train_naive, y_train_naive)))\n",
    "print('Test set score of Naive Bayes Guasia: {:.4f}'.format(naive_gaussian.score(X_test_naive, y_test_naive)))\n",
    "\n",
    "print('######################Accuracy of Naive Bayes MultiNomial#########################################')\n",
    "\n",
    "#Accuracy of MultiNomial\n",
    "\n",
    "print('Model accuracy score Naive Bayes MultinomialNB: {0:0.4f}'. format(accuracy_score(y_test_naive_mb, y_pred_naive_mb)))\n",
    "print('Training set score of Naive Bayes MultinomialNBasian: {:.4f}'.format(naive_mb.score(X_train_naive_mb, y_train_naive_mb)))\n",
    "print('Test set score of Naive Bayes MultinomialNB: {:.4f}'.format(naive_mb.score(X_test_naive_mb, y_test_naive_mb)))\n",
    "\n",
    "print('######################Accuracy of Naive Bayes BernoulliNB#########################################')\n",
    "\n",
    "print('Model accuracy score Naive Bayes BernoulliNB: {0:0.4f}'. format(accuracy_score(y_test_naive_bernouli, y_pred_naive_bernouli)))\n",
    "print('Training set score of Naive Bayes BernoulliNB: {:.4f}'.format(naive_bernouli.score(X_train_naive_bernouli, y_train_naive_bernouli)))\n",
    "print('Test set score of Naive Bayes BernoulliNB: {:.4f}'.format(naive_bernouli.score(X_test_naive_bernouli, y_test_naive_bernouli)))\n",
    "\n",
    "\n",
    "print('######################Accuracy of Naive Bayes complementnb#########################################')\n",
    "\n",
    "print('Model accuracy score Naive Bayes complementnb: {0:0.4f}'. format(accuracy_score(y_test_naive_complementnb, y_pred_naive_complementnb)))\n",
    "print('Training set score of Naive Bayes complementnb: {:.4f}'.format(naive_complementnb.score(X_train_naive_complementnb, y_train_naive_complementnb)))\n",
    "print('Test set score of Naive Bayes complementnb: {:.4f}'.format(naive_complementnb.score(X_test_naive_complementnb, y_test_naive_complementnb)))\n"
   ]
  },
  {
   "cell_type": "markdown",
   "id": "888a84da",
   "metadata": {},
   "source": [
    "# From Above We can conclude, Logistic Regression is better  and Naive Bayes gaussian is faster Algorithm as compare to other."
   ]
  },
  {
   "cell_type": "markdown",
   "id": "6806a758",
   "metadata": {},
   "source": [
    "# Try some feature selection and reduction technique [Marks:2]\n",
    "**Retrain and Compare time and accuracy of different algos**"
   ]
  },
  {
   "cell_type": "markdown",
   "id": "21132a69",
   "metadata": {},
   "source": [
    "#  Lets Apply some feature selection and reduction technique and create the modle again and check the model performance and accuracies. I will try Fisher score and PCA aand create model and analyse the performance and accuracy"
   ]
  },
  {
   "cell_type": "markdown",
   "id": "ffcb6027",
   "metadata": {},
   "source": [
    "# Fisher Score (chi-square implementation)\n",
    "**We will try for best 50 feature**\n"
   ]
  },
  {
   "cell_type": "code",
   "execution_count": 40,
   "id": "41823b65",
   "metadata": {},
   "outputs": [],
   "source": [
    "\n",
    "from sklearn.feature_selection import SelectKBest, chi2"
   ]
  },
  {
   "cell_type": "code",
   "execution_count": 41,
   "id": "eb7d3f02",
   "metadata": {},
   "outputs": [
    {
     "data": {
      "text/plain": [
       "array([[2.36070000e-03, 8.74808978e-03, 2.44396000e-03, ...,\n",
       "        0.00000000e+00, 6.43471000e-02, 7.93766200e-02],\n",
       "       [8.77360000e-04, 1.28242579e-02, 5.96405000e-04, ...,\n",
       "        0.00000000e+00, 0.00000000e+00, 7.76062000e-02],\n",
       "       [2.31022000e-03, 1.70584648e-02, 1.74003000e-03, ...,\n",
       "        0.00000000e+00, 0.00000000e+00, 7.55332650e-02],\n",
       "       ...,\n",
       "       [3.90890910e-01, 4.67640443e-01, 3.47742425e-01, ...,\n",
       "        5.94951340e-01, 5.79467915e-01, 1.10433695e-01],\n",
       "       [3.90430280e-01, 4.63679445e-01, 3.44756255e-01, ...,\n",
       "        6.20321925e-01, 6.05034865e-01, 1.07409290e-01],\n",
       "       [3.65364780e-01, 4.76309272e-01, 3.11297975e-01, ...,\n",
       "        6.49346785e-01, 6.01012900e-01, 1.08366535e-01]])"
      ]
     },
     "execution_count": 41,
     "metadata": {},
     "output_type": "execute_result"
    }
   ],
   "source": [
    "# Compare Chi-Squared Statistics\n",
    "# select two features with highest chi-squared statistics\n",
    "chi2_selector = SelectKBest(chi2, k=50)\n",
    "X_kbest = chi2_selector.fit_transform(X, y)\n",
    "X_kbest"
   ]
  },
  {
   "cell_type": "code",
   "execution_count": 42,
   "id": "7a6205b9",
   "metadata": {},
   "outputs": [
    {
     "name": "stdout",
     "output_type": "stream",
     "text": [
      "Original number of features: 561\n",
      "Reduced number of features: 50\n"
     ]
    }
   ],
   "source": [
    "# View results\n",
    "print('Original number of features:', X.shape[1])\n",
    "print('Reduced number of features:', X_kbest.shape[1])"
   ]
  },
  {
   "cell_type": "markdown",
   "id": "9fc6175f",
   "metadata": {},
   "source": [
    "# Using Fisher Score Number of feature is reduces from 562 to 50, As we tried to get 50 best fit features."
   ]
  },
  {
   "cell_type": "markdown",
   "id": "7a94ba55",
   "metadata": {},
   "source": [
    "# Lets try Logistic Regression after applying fisher score."
   ]
  },
  {
   "cell_type": "code",
   "execution_count": 43,
   "id": "78bd9865",
   "metadata": {},
   "outputs": [
    {
     "data": {
      "text/plain": [
       "((5881, 50), (1471, 50), (5881,), (1471,))"
      ]
     },
     "execution_count": 43,
     "metadata": {},
     "output_type": "execute_result"
    }
   ],
   "source": [
    "from sklearn.model_selection import train_test_split\n",
    "X_train,X_test,y_train,y_test=train_test_split(X_kbest,y,test_size=0.20,random_state=100)\n",
    "X_train.shape, X_test.shape, y_train.shape, y_test.shape"
   ]
  },
  {
   "cell_type": "code",
   "execution_count": 44,
   "id": "29b0d53b",
   "metadata": {},
   "outputs": [],
   "source": [
    "train_start_time = datetime.now()\n",
    "lr = LogisticRegression()\n",
    "lr = lr.fit(X_train, y_train)\n",
    "y_pred_lr = lr.predict(X_test)\n",
    "train_end_time = datetime.now()"
   ]
  },
  {
   "cell_type": "code",
   "execution_count": 45,
   "id": "fa11edfc",
   "metadata": {},
   "outputs": [
    {
     "name": "stdout",
     "output_type": "stream",
     "text": [
      "training_time(HH:MM:SS.ms) - 0:00:00.373090\n",
      "\n",
      "\n",
      "######################Accuracy of Logistic Regression###########################################\n",
      "Model accuracy score Logistic Regression: 0.8491\n",
      "Training set score of Logistic Regression: 0.8618\n",
      "Test set score of Logistic Regression: 0.8491\n"
     ]
    }
   ],
   "source": [
    "results = dict()\n",
    "results['training_time'] =  train_end_time - train_start_time\n",
    "print('training_time(HH:MM:SS.ms) - {}\\n\\n'.format(results['training_time']))\n",
    "print('######################Accuracy of Logistic Regression###########################################')\n",
    "print('Model accuracy score Logistic Regression: {0:0.4f}'. format(accuracy_score(y_test, y_pred_lr)))\n",
    "print('Training set score of Logistic Regression: {:.4f}'.format(lr.score(X_train, y_train)))\n",
    "print('Test set score of Logistic Regression: {:.4f}'.format(lr.score(X_test, y_test)))"
   ]
  },
  {
   "cell_type": "markdown",
   "id": "74ed9e04",
   "metadata": {},
   "source": [
    "# We can see Accuracy of Logistic Regression Decrease After Using best 50 Feature Using  Fisher Score (chi-square implementation) so we will check Other Naive Base Algo and See the Modle Accuracy. But this is faster than previous Logistic Regression without feature selection"
   ]
  },
  {
   "cell_type": "markdown",
   "id": "e14af6c2",
   "metadata": {},
   "source": [
    "# Naive Bayes Guassian - After fisher score."
   ]
  },
  {
   "cell_type": "code",
   "execution_count": 46,
   "id": "ad7e05d5",
   "metadata": {},
   "outputs": [
    {
     "data": {
      "text/plain": [
       "((5881, 50), (1471, 50), (5881,), (1471,))"
      ]
     },
     "execution_count": 46,
     "metadata": {},
     "output_type": "execute_result"
    }
   ],
   "source": [
    "from sklearn.model_selection import train_test_split\n",
    "X_train_naive,X_test_naive,y_train_naive,y_test_naive=train_test_split(X_kbest,y,test_size=0.20,random_state=100)\n",
    "X_train_naive.shape, X_test_naive.shape, y_train_naive.shape, y_test_naive.shape"
   ]
  },
  {
   "cell_type": "code",
   "execution_count": 47,
   "id": "b6764d2f",
   "metadata": {},
   "outputs": [
    {
     "name": "stdout",
     "output_type": "stream",
     "text": [
      "training_time_naive(HH:MM:SS.ms) - 0:00:00.011038\n",
      "\n",
      "\n",
      "Model accuracy score Naive Bayes GaussianNB: 0.7655\n",
      "Training set score of Naive Bayes Guasian: 0.7528\n",
      "Test set score of Naive Bayes Guasia: 0.7655\n"
     ]
    }
   ],
   "source": [
    "train_start_time_naive = datetime.now()\n",
    "#Create a Gaussian Classifier\n",
    "naive_gaussian = GaussianNB()\n",
    "\n",
    "# Train the model using the training sets \n",
    "naive_gaussian.fit(X_train_naive, y_train_naive)\n",
    "y_pred_naive_gaussian = naive_gaussian.predict(X_test_naive)\n",
    "train_end_time_naive = datetime.now()\n",
    "\n",
    "results = dict()\n",
    "results['training_time_naive_gaussian'] =  train_end_time_naive - train_start_time_naive\n",
    "print('training_time_naive(HH:MM:SS.ms) - {}\\n\\n'.format(results['training_time_naive_gaussian']))\n",
    "\n",
    "print('Model accuracy score Naive Bayes GaussianNB: {0:0.4f}'. format(accuracy_score(y_test_naive, y_pred_naive_gaussian)))\n",
    "print('Training set score of Naive Bayes Guasian: {:.4f}'.format(naive_gaussian.score(X_train_naive, y_train_naive)))\n",
    "print('Test set score of Naive Bayes Guasia: {:.4f}'.format(naive_gaussian.score(X_test_naive, y_test_naive)))\n"
   ]
  },
  {
   "cell_type": "markdown",
   "id": "14836a5a",
   "metadata": {},
   "source": [
    "# Naive Bayes GaussianNB Accuracy Has Increased. Lets try  MultinomialNB"
   ]
  },
  {
   "cell_type": "markdown",
   "id": "b31e297b",
   "metadata": {},
   "source": [
    "# Naive Bayes MultinomialNB"
   ]
  },
  {
   "cell_type": "code",
   "execution_count": 48,
   "id": "cba4a451",
   "metadata": {},
   "outputs": [
    {
     "data": {
      "text/plain": [
       "((5881, 50), (1471, 50), (5881,), (1471,))"
      ]
     },
     "execution_count": 48,
     "metadata": {},
     "output_type": "execute_result"
    }
   ],
   "source": [
    "from sklearn.model_selection import train_test_split\n",
    "X_train_naive_mb,X_test_naive_mb,y_train_naive_mb,y_test_naive_mb=train_test_split(X_kbest,y,test_size=0.20,random_state=100)\n",
    "X_train_naive_mb.shape, X_test_naive_mb.shape, y_train_naive_mb.shape, y_test_naive_mb.shape"
   ]
  },
  {
   "cell_type": "code",
   "execution_count": 67,
   "id": "7b7543dd",
   "metadata": {},
   "outputs": [
    {
     "name": "stdout",
     "output_type": "stream",
     "text": [
      "training_time_naive_mb(HH:MM:SS.ms) - 0:00:00.007004\n",
      "\n",
      "\n",
      "Model accuracy score Naive Bayes MultinomialNB: 0.6988\n",
      "Training set score of Naive Bayes MultinomialNBasian: 0.6956\n",
      "Test set score of Naive Bayes MultinomialNB: 0.6988\n"
     ]
    }
   ],
   "source": [
    "\n",
    "#Create a Gaussian Classifier\n",
    "from sklearn.naive_bayes import MultinomialNB\n",
    "train_start_time_naive_mb = datetime.now()\n",
    "naive_mb = MultinomialNB()\n",
    "\n",
    "# Train the model using the training sets \n",
    "naive_mb.fit(X_train_naive_mb, y_train_naive_mb)\n",
    "y_pred_naive_mb = naive_mb.predict(X_test_naive_mb)\n",
    "train_end_time_naive_mb = datetime.now()\n",
    "results = dict()\n",
    "results['training_time_naive_MultinomialNB'] =  train_end_time_naive_mb - train_start_time_naive_mb\n",
    "print('training_time_naive_mb(HH:MM:SS.ms) - {}\\n\\n'.format(results['training_time_naive_MultinomialNB']))\n",
    "\n",
    "\n",
    "print('Model accuracy score Naive Bayes MultinomialNB: {0:0.4f}'. format(accuracy_score(y_test_naive_mb, y_pred_naive_mb)))\n",
    "print('Training set score of Naive Bayes MultinomialNBasian: {:.4f}'.format(naive_mb.score(X_train_naive_mb, y_train_naive_mb)))\n",
    "print('Test set score of Naive Bayes MultinomialNB: {:.4f}'.format(naive_mb.score(X_test_naive_mb, y_test_naive_mb)))\n"
   ]
  },
  {
   "cell_type": "markdown",
   "id": "a9ad1c7a",
   "metadata": {},
   "source": [
    "# Naive Bayes MultinomialNB Accuracy Has Decreased, after feature selection-Fisher Score"
   ]
  },
  {
   "cell_type": "markdown",
   "id": "bd12dbbb",
   "metadata": {},
   "source": [
    "# Naive Bayes BernoulliNB"
   ]
  },
  {
   "cell_type": "code",
   "execution_count": 50,
   "id": "97183313",
   "metadata": {},
   "outputs": [
    {
     "name": "stdout",
     "output_type": "stream",
     "text": [
      "training_time_naive_BernoulliNB(HH:MM:SS.ms) - 0:00:00.015576\n",
      "\n",
      "\n",
      "Model accuracy score Naive Bayes BernoulliNB: 0.3841\n",
      "Training set score of Naive Bayes BernoulliNB: 0.3982\n",
      "Test set score of Naive Bayes BernoulliNB: 0.3841\n"
     ]
    }
   ],
   "source": [
    "\n",
    "from sklearn.model_selection import train_test_split\n",
    "X_train_naive_bernouli,X_test_naive_bernouli,y_train_naive_bernouli,y_test_naive_bernouli=train_test_split(X_kbest,y,test_size=0.20,random_state=100)\n",
    "X_train_naive_bernouli.shape, X_test_naive_bernouli.shape, y_train_naive_bernouli.shape, y_test_naive_bernouli.shape\n",
    "\n",
    "\n",
    "#Create a Gaussian Classifier\n",
    "from sklearn.naive_bayes import BernoulliNB\n",
    "train_start_time_naive_bernouli = datetime.now()\n",
    "naive_bernouli = BernoulliNB()\n",
    "\n",
    "# Train the model using the training sets \n",
    "naive_bernouli.fit(X_train_naive_bernouli, y_train_naive_bernouli)\n",
    "y_pred_naive_bernouli = naive_bernouli.predict(X_test_naive_bernouli)\n",
    "train_end_time_naive_bernouli = datetime.now()\n",
    "\n",
    "\n",
    "results = dict()\n",
    "results['training_time_naive_BernoulliNB'] =  train_end_time_naive_bernouli - train_start_time_naive_bernouli\n",
    "print('training_time_naive_BernoulliNB(HH:MM:SS.ms) - {}\\n\\n'.format(results['training_time_naive_BernoulliNB']))\n",
    "\n",
    "\n",
    "print('Model accuracy score Naive Bayes BernoulliNB: {0:0.4f}'. format(accuracy_score(y_test_naive_bernouli, y_pred_naive_bernouli)))\n",
    "print('Training set score of Naive Bayes BernoulliNB: {:.4f}'.format(naive_bernouli.score(X_train_naive_bernouli, y_train_naive_bernouli)))\n",
    "print('Test set score of Naive Bayes BernoulliNB: {:.4f}'.format(naive_bernouli.score(X_test_naive_bernouli, y_test_naive_bernouli)))\n"
   ]
  },
  {
   "cell_type": "markdown",
   "id": "7d9d33c9",
   "metadata": {},
   "source": [
    "# Naive Bayes BernoulliNB  Accuracy Has Decreased, after feature selection-Fisher Score"
   ]
  },
  {
   "cell_type": "markdown",
   "id": "e93c65c1",
   "metadata": {},
   "source": [
    "# Lets try Naive Bayes complementnb"
   ]
  },
  {
   "cell_type": "code",
   "execution_count": 51,
   "id": "f655582d",
   "metadata": {},
   "outputs": [
    {
     "data": {
      "text/plain": [
       "((5881, 50), (1471, 50), (5881,), (1471,))"
      ]
     },
     "execution_count": 51,
     "metadata": {},
     "output_type": "execute_result"
    }
   ],
   "source": [
    "\n",
    "from sklearn.model_selection import train_test_split\n",
    "X_train_naive_complementnb,X_test_naive_complementnb,y_train_naive_complementnb,y_test_naive_complementnb=train_test_split(X_kbest,y,test_size=0.20,random_state=100)\n",
    "X_train_naive_complementnb.shape, X_test_naive_complementnb.shape, y_train_naive_complementnb.shape, y_test_naive_complementnb.shape"
   ]
  },
  {
   "cell_type": "code",
   "execution_count": 66,
   "id": "64fc3296",
   "metadata": {},
   "outputs": [
    {
     "name": "stdout",
     "output_type": "stream",
     "text": [
      "training_time_naive_complementnb(HH:MM:SS.ms) - 0:00:00.005000\n",
      "\n",
      "\n",
      "######################Accuracy of Naive Bayes complementnb#########################################\n",
      "Model accuracy score Naive Bayes complementnb: 0.4922\n",
      "Training set score of Naive Bayes complementnb: 0.4810\n",
      "Test set score of Naive Bayes complementnb: 0.4922\n"
     ]
    }
   ],
   "source": [
    "\n",
    "#Create a Gaussian Classifier\n",
    "from sklearn.naive_bayes import ComplementNB\n",
    "train_start_time_naive_complementnb = datetime.now()\n",
    "naive_complementnb = ComplementNB()\n",
    "\n",
    "# Train the model using the training sets \n",
    "naive_complementnb.fit(X_train_naive_complementnb, y_train_naive_complementnb)\n",
    "train_end_time_naive_complementnb = datetime.now()\n",
    "\n",
    "y_pred_naive_complementnb = naive_complementnb.predict(X_test_naive_complementnb)\n",
    "\n",
    "\n",
    "results = dict()\n",
    "results['training_time_naive_complementnb'] =  train_end_time_naive_complementnb - train_start_time_naive_complementnb\n",
    "print('training_time_naive_complementnb(HH:MM:SS.ms) - {}\\n\\n'.format(results['training_time_naive_complementnb']))\n",
    "\n",
    "\n",
    "\n",
    "print('######################Accuracy of Naive Bayes complementnb#########################################')\n",
    "\n",
    "print('Model accuracy score Naive Bayes complementnb: {0:0.4f}'. format(accuracy_score(y_test_naive_complementnb, y_pred_naive_complementnb)))\n",
    "print('Training set score of Naive Bayes complementnb: {:.4f}'.format(naive_complementnb.score(X_train_naive_complementnb, y_train_naive_complementnb)))\n",
    "print('Test set score of Naive Bayes complementnb: {:.4f}'.format(naive_complementnb.score(X_test_naive_complementnb, y_test_naive_complementnb)))"
   ]
  },
  {
   "cell_type": "markdown",
   "id": "8926e2d8",
   "metadata": {},
   "source": [
    "# Naive Bayes complementnb  Accuracy Has also Decreased, after feature selection-Fisher Score with best 50 features"
   ]
  },
  {
   "cell_type": "markdown",
   "id": "24d683da",
   "metadata": {},
   "source": [
    "# We will try one more feature selection and reduction technique then take final call on Modle"
   ]
  },
  {
   "cell_type": "markdown",
   "id": "71308f9e",
   "metadata": {},
   "source": [
    "# We will try PCA as feature selection and reduction technique"
   ]
  },
  {
   "cell_type": "markdown",
   "id": "e2f76f39",
   "metadata": {},
   "source": [
    "# Principal Component Analysis by restoring 90 percent of Variance"
   ]
  },
  {
   "cell_type": "code",
   "execution_count": 53,
   "id": "47637963",
   "metadata": {},
   "outputs": [
    {
     "name": "stdout",
     "output_type": "stream",
     "text": [
      "(7352, 33)\n"
     ]
    }
   ],
   "source": [
    "from sklearn.decomposition import PCA\n",
    "# pca - keep 90% of variance\n",
    "pca = PCA(0.90)\n",
    "principal_components = pca.fit_transform(df)\n",
    "principal_df = pd.DataFrame(data = principal_components)\n",
    "print(principal_df.shape)\n"
   ]
  },
  {
   "cell_type": "code",
   "execution_count": 54,
   "id": "fa140fb5",
   "metadata": {},
   "outputs": [],
   "source": [
    "#Creating new Data Frame with 33 Feature after PCA \n",
    "X=pd.DataFrame(principal_df)\n",
    "y=df['Activity']"
   ]
  },
  {
   "cell_type": "markdown",
   "id": "4ec81431",
   "metadata": {},
   "source": [
    "# Logistic Regression After PCA"
   ]
  },
  {
   "cell_type": "code",
   "execution_count": 55,
   "id": "0e8fb683",
   "metadata": {},
   "outputs": [
    {
     "data": {
      "text/plain": [
       "((5881, 33), (1471, 33), (5881,), (1471,))"
      ]
     },
     "execution_count": 55,
     "metadata": {},
     "output_type": "execute_result"
    }
   ],
   "source": [
    "from sklearn.model_selection import train_test_split\n",
    "X_train,X_test,y_train,y_test=train_test_split(X,y,test_size=0.20,random_state=100)\n",
    "X_train.shape, X_test.shape, y_train.shape, y_test.shape"
   ]
  },
  {
   "cell_type": "code",
   "execution_count": 56,
   "id": "0a20265b",
   "metadata": {},
   "outputs": [
    {
     "name": "stdout",
     "output_type": "stream",
     "text": [
      "training_time(HH:MM:SS.ms) - 0:00:00.414133\n",
      "\n",
      "\n",
      "######################Accuracy of Logistic Regression###########################################\n",
      "Model accuracy score Logistic Regression: 0.9980\n",
      "Training set score of Logistic Regression: 0.9998\n",
      "Test set score of Logistic Regression: 0.9980\n"
     ]
    }
   ],
   "source": [
    "train_start_time = datetime.now()\n",
    "lr = LogisticRegression()\n",
    "lr = lr.fit(X_train, y_train)\n",
    "y_pred_lr = lr.predict(X_test)\n",
    "train_end_time = datetime.now()\n",
    "\n",
    "results = dict()\n",
    "results['training_time'] =  train_end_time - train_start_time\n",
    "print('training_time(HH:MM:SS.ms) - {}\\n\\n'.format(results['training_time']))\n",
    "print('######################Accuracy of Logistic Regression###########################################')\n",
    "print('Model accuracy score Logistic Regression: {0:0.4f}'. format(accuracy_score(y_test, y_pred_lr)))\n",
    "print('Training set score of Logistic Regression: {:.4f}'.format(lr.score(X_train, y_train)))\n",
    "print('Test set score of Logistic Regression: {:.4f}'.format(lr.score(X_test, y_test)))"
   ]
  },
  {
   "cell_type": "markdown",
   "id": "3d4e409c",
   "metadata": {},
   "source": [
    "# Accuracy is increase after using PCA and building the model"
   ]
  },
  {
   "cell_type": "markdown",
   "id": "dadc048d",
   "metadata": {},
   "source": [
    "# Naive Bayes Guassian After PCA"
   ]
  },
  {
   "cell_type": "code",
   "execution_count": 57,
   "id": "1aa9ab53",
   "metadata": {},
   "outputs": [
    {
     "data": {
      "text/plain": [
       "((5881, 33), (1471, 33), (5881,), (1471,))"
      ]
     },
     "execution_count": 57,
     "metadata": {},
     "output_type": "execute_result"
    }
   ],
   "source": [
    "from sklearn.model_selection import train_test_split\n",
    "X_train_naive,X_test_naive,y_train_naive,y_test_naive=train_test_split(X,y,test_size=0.20,random_state=100)\n",
    "X_train_naive.shape, X_test_naive.shape, y_train_naive.shape, y_test_naive.shape"
   ]
  },
  {
   "cell_type": "code",
   "execution_count": 58,
   "id": "dc50e493",
   "metadata": {},
   "outputs": [
    {
     "name": "stdout",
     "output_type": "stream",
     "text": [
      "training_time_naive(HH:MM:SS.ms) - 0:00:00.015626\n",
      "\n",
      "\n",
      "Model accuracy score Naive Bayes GaussianNB: 0.9130\n",
      "Training set score of Naive Bayes Guasian: 0.9265\n",
      "Test set score of Naive Bayes Guasia: 0.9130\n"
     ]
    }
   ],
   "source": [
    "train_start_time_naive = datetime.now()\n",
    "#Create a Gaussian Classifier\n",
    "naive_gaussian = GaussianNB()\n",
    "\n",
    "# Train the model using the training sets \n",
    "naive_gaussian.fit(X_train_naive, y_train_naive)\n",
    "y_pred_naive_gaussian = naive_gaussian.predict(X_test_naive)\n",
    "train_end_time_naive = datetime.now()\n",
    "\n",
    "results['training_time_naive_gaussian'] =  train_end_time_naive - train_start_time_naive\n",
    "print('training_time_naive(HH:MM:SS.ms) - {}\\n\\n'.format(results['training_time_naive_gaussian']))\n",
    "results = dict()\n",
    "\n",
    "\n",
    "print('Model accuracy score Naive Bayes GaussianNB: {0:0.4f}'. format(accuracy_score(y_test_naive, y_pred_naive_gaussian)))\n",
    "print('Training set score of Naive Bayes Guasian: {:.4f}'.format(naive_gaussian.score(X_train_naive, y_train_naive)))\n",
    "print('Test set score of Naive Bayes Guasia: {:.4f}'.format(naive_gaussian.score(X_test_naive, y_test_naive)))\n"
   ]
  },
  {
   "cell_type": "markdown",
   "id": "6cdac6b3",
   "metadata": {},
   "source": [
    "# Naive Bayes MultinomialNB After PCA"
   ]
  },
  {
   "cell_type": "code",
   "execution_count": 59,
   "id": "e834ba07",
   "metadata": {},
   "outputs": [
    {
     "name": "stdout",
     "output_type": "stream",
     "text": [
      "training_time_naive_mb(HH:MM:SS.ms) - 0:00:00.008030\n",
      "\n",
      "\n",
      "Model accuracy score Naive Bayes MultinomialNB: 0.6988\n",
      "Training set score of Naive Bayes MultinomialNBasian: 0.6956\n",
      "Test set score of Naive Bayes MultinomialNB: 0.6988\n"
     ]
    }
   ],
   "source": [
    "\n",
    "from sklearn.model_selection import train_test_split\n",
    "X_train_naive_mb,X_test_naive_mb,y_train_naive_mb,y_test_naive_mb=train_test_split(X_kbest,y,test_size=0.20,random_state=100)\n",
    "X_train_naive_mb.shape, X_test_naive_mb.shape, y_train_naive_mb.shape, y_test_naive_mb.shape\n",
    "\n",
    "\n",
    "#Create a Gaussian Classifier\n",
    "from sklearn.naive_bayes import MultinomialNB\n",
    "\n",
    "train_start_time_naive_mb = datetime.now()\n",
    "naive_mb = MultinomialNB()\n",
    "\n",
    "# Train the model using the training sets \n",
    "naive_mb.fit(X_train_naive_mb, y_train_naive_mb)\n",
    "y_pred_naive_mb = naive_mb.predict(X_test_naive_mb)\n",
    "train_end_time_naive_mb = datetime.now()\n",
    "\n",
    "results = dict()\n",
    "results['training_time_naive_MultinomialNB'] =  train_end_time_naive_mb - train_start_time_naive_mb\n",
    "print('training_time_naive_mb(HH:MM:SS.ms) - {}\\n\\n'.format(results['training_time_naive_MultinomialNB']))\n",
    "\n",
    "\n",
    "print('Model accuracy score Naive Bayes MultinomialNB: {0:0.4f}'. format(accuracy_score(y_test_naive_mb, y_pred_naive_mb)))\n",
    "print('Training set score of Naive Bayes MultinomialNBasian: {:.4f}'.format(naive_mb.score(X_train_naive_mb, y_train_naive_mb)))\n",
    "print('Test set score of Naive Bayes MultinomialNB: {:.4f}'.format(naive_mb.score(X_test_naive_mb, y_test_naive_mb)))"
   ]
  },
  {
   "cell_type": "markdown",
   "id": "3d008367",
   "metadata": {},
   "source": [
    "# Naive Bayes BernoulliNB After PCA"
   ]
  },
  {
   "cell_type": "code",
   "execution_count": 65,
   "id": "6b09b3e0",
   "metadata": {},
   "outputs": [
    {
     "name": "stdout",
     "output_type": "stream",
     "text": [
      "training_time_naive_BernoulliNB(HH:MM:SS.ms) - 0:00:00.009000\n",
      "\n",
      "\n",
      "Model accuracy score Naive Bayes BernoulliNB: 0.3841\n",
      "Training set score of Naive Bayes BernoulliNB: 0.3982\n",
      "Test set score of Naive Bayes BernoulliNB: 0.3841\n"
     ]
    }
   ],
   "source": [
    "\n",
    "from sklearn.model_selection import train_test_split\n",
    "X_train_naive_bernouli,X_test_naive_bernouli,y_train_naive_bernouli,y_test_naive_bernouli=train_test_split(X_kbest,y,test_size=0.20,random_state=100)\n",
    "X_train_naive_bernouli.shape, X_test_naive_bernouli.shape, y_train_naive_bernouli.shape, y_test_naive_bernouli.shape\n",
    "\n",
    "\n",
    "#Create a Gaussian Classifier\n",
    "from sklearn.naive_bayes import BernoulliNB\n",
    "train_start_time_naive_bernouli = datetime.now()\n",
    "naive_bernouli = BernoulliNB()\n",
    "\n",
    "# Train the model using the training sets \n",
    "naive_bernouli.fit(X_train_naive_bernouli, y_train_naive_bernouli)\n",
    "y_pred_naive_bernouli = naive_bernouli.predict(X_test_naive_bernouli)\n",
    "train_end_time_naive_bernouli = datetime.now()\n",
    "\n",
    "\n",
    "results = dict()\n",
    "results['training_time_naive_BernoulliNB'] =  train_end_time_naive_bernouli - train_start_time_naive_bernouli\n",
    "print('training_time_naive_BernoulliNB(HH:MM:SS.ms) - {}\\n\\n'.format(results['training_time_naive_BernoulliNB']))\n",
    "\n",
    "\n",
    "print('Model accuracy score Naive Bayes BernoulliNB: {0:0.4f}'. format(accuracy_score(y_test_naive_bernouli, y_pred_naive_bernouli)))\n",
    "print('Training set score of Naive Bayes BernoulliNB: {:.4f}'.format(naive_bernouli.score(X_train_naive_bernouli, y_train_naive_bernouli)))\n",
    "print('Test set score of Naive Bayes BernoulliNB: {:.4f}'.format(naive_bernouli.score(X_test_naive_bernouli, y_test_naive_bernouli)))\n"
   ]
  },
  {
   "cell_type": "markdown",
   "id": "be2d849a",
   "metadata": {},
   "source": [
    "# From above we can see Logistic Regression Giving Better Accuracy of 99.80 Percent for Principal component Analysis, which is better than LR with Fisher score feature selection technique and LR without Feature Selection. Hence we will consider Logistic Regression as our final Model and plot confusion matrix and ROC curve"
   ]
  },
  {
   "cell_type": "markdown",
   "id": "9bc88ecb",
   "metadata": {},
   "source": [
    "# Plot confusion Matrix for the final model [Marks:1]"
   ]
  },
  {
   "cell_type": "code",
   "execution_count": 61,
   "id": "aa4164c9",
   "metadata": {},
   "outputs": [
    {
     "name": "stdout",
     "output_type": "stream",
     "text": [
      "[[291   0   0   0   0   0]\n",
      " [  2 243   0   1   0   0]\n",
      " [  0   0 281   0   0   0]\n",
      " [  0   0   0 243   0   0]\n",
      " [  0   0   0   0 207   0]\n",
      " [  0   0   0   0   0 203]]\n",
      "              precision    recall  f1-score   support\n",
      "\n",
      "           0       0.99      1.00      1.00       291\n",
      "           1       1.00      0.99      0.99       246\n",
      "           2       1.00      1.00      1.00       281\n",
      "           3       1.00      1.00      1.00       243\n",
      "           4       1.00      1.00      1.00       207\n",
      "           5       1.00      1.00      1.00       203\n",
      "\n",
      "    accuracy                           1.00      1471\n",
      "   macro avg       1.00      1.00      1.00      1471\n",
      "weighted avg       1.00      1.00      1.00      1471\n",
      "\n"
     ]
    }
   ],
   "source": [
    "from sklearn.metrics import classification_report\n",
    "from sklearn.metrics import confusion_matrix\n",
    "print(confusion_matrix(y_test, y_pred_lr))\n",
    "print(classification_report(y_test, y_pred_lr))"
   ]
  },
  {
   "cell_type": "code",
   "execution_count": 62,
   "id": "fe5d8481",
   "metadata": {},
   "outputs": [],
   "source": [
    "# function to plot confusion matrix\n",
    "def plot_confusion_matrix(cm,lables):\n",
    "    fig, ax = plt.subplots(figsize=(12,8)) # for plotting confusion matrix as image\n",
    "    im = ax.imshow(cm, interpolation='nearest', cmap=plt.cm.Blues)\n",
    "    ax.figure.colorbar(im, ax=ax)\n",
    "    ax.set(xticks=np.arange(cm.shape[1]),\n",
    "    yticks=np.arange(cm.shape[0]),\n",
    "    xticklabels=lables, yticklabels=lables,\n",
    "    ylabel='True label',\n",
    "    xlabel='Predicted label')\n",
    "    plt.xticks(rotation = 90)\n",
    "    thresh = cm.max() / 2.\n",
    "    for i in range(cm.shape[0]):\n",
    "        for j in range(cm.shape[1]):\n",
    "            ax.text(j, i, int(cm[i, j]),ha=\"center\", va=\"center\",color=\"white\" if cm[i, j] > thresh else \"black\")\n",
    "    fig.tight_layout()"
   ]
  },
  {
   "cell_type": "code",
   "execution_count": 63,
   "id": "5f0d162d",
   "metadata": {},
   "outputs": [
    {
     "data": {
      "image/png": "[encoded data removed]",
      "text/plain": [
       "<Figure size 864x576 with 2 Axes>"
      ]
     },
     "metadata": {
      "needs_background": "light"
     },
     "output_type": "display_data"
    }
   ],
   "source": [
    "labels=['LAYING', 'SITTING','STANDING','WALKING','WALKING_DOWNSTAIRS','WALKING_UPSTAIRS']\n",
    "cm = confusion_matrix(y_test.values,y_pred_lr)\n",
    "plot_confusion_matrix(cm, labels)  # plotting confusion matrix"
   ]
  },
  {
   "cell_type": "markdown",
   "id": "26454413",
   "metadata": {},
   "source": [
    "# From above plot  we can see for 3 record prediction is not correct. 2 False Negative and 1 False Positive is predicted, We have accuracy of 99.80 percent which is very good."
   ]
  },
  {
   "cell_type": "markdown",
   "id": "37ef3725",
   "metadata": {},
   "source": [
    "# Plot ROC Curve for the final model [Marks:1]"
   ]
  },
  {
   "cell_type": "code",
   "execution_count": 64,
   "id": "4ae4cef9",
   "metadata": {},
   "outputs": [
    {
     "data": {
      "image/png": "[encoded data removed]",
      "text/plain": [
       "<Figure size 432x288 with 1 Axes>"
      ]
     },
     "metadata": {
      "needs_background": "light"
     },
     "output_type": "display_data"
    }
   ],
   "source": [
    "from sklearn.metrics import roc_curve\n",
    "fpr, tpr, thresholds = roc_curve(y_test, y_pred_lr,pos_label=4)\n",
    "#create ROC curve\n",
    "plt.plot([0, 1], [0, 1], 'k--')\n",
    "plt.plot(fpr,tpr, linestyle='--',color='orange', label=\"\")\n",
    "plt.xlim([0.0,1.0])\n",
    "plt.xlim([0.0,1.0])\n",
    "plt.title('Roc Curve for Human Activity Classifier')\n",
    "plt.ylabel('True Positive Rate')\n",
    "plt.xlabel('False Positive Rate')\n",
    "plt.savefig('ROC',dpi=300)\n",
    "plt.grid(True)\n",
    "plt.show()\n"
   ]
  },
  {
   "cell_type": "markdown",
   "id": "01f9bf56",
   "metadata": {},
   "source": [
    "# Conclusion"
   ]
  },
  {
   "cell_type": "raw",
   "id": "7a109210",
   "metadata": {},
   "source": [
    "- Logistic Regression gives the highest accuracy before and after feature selection.\n",
    "- Model could be evaluated and tested with more data set to decrease the error margin.\n",
    "- In real world scenario, Business analyst/Domain expert will decide on error margin.\n",
    "- After feature selection, Naive Bayes variants performed better and accuracy score increased."
   ]
  }
 ],
 "metadata": {
  "kernelspec": {
   "display_name": "Python 3 (ipykernel)",
   "language": "python",
   "name": "python3"
  },
  "language_info": {
   "codemirror_mode": {
    "name": "ipython",
    "version": 3
   },
   "file_extension": ".py",
   "mimetype": "text/x-python",
   "name": "python",
   "nbconvert_exporter": "python",
   "pygments_lexer": "ipython3",
   "version": "3.11.5"
  }
 },
 "nbformat": 4,
 "nbformat_minor": 5
}
