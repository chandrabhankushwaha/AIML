{
 "cells": [
  {
   "cell_type": "code",
   "execution_count": 11,
   "id": "d5445a80",
   "metadata": {},
   "outputs": [],
   "source": [
    "import pandas as pd\n",
    "import numpy as np\n",
    "import matplotlib.pyplot as pt\n",
    "from sklearn.linear_model import SGDRegressor\n",
    "from sklearn.metrics import mean_squared_error\n",
    "import seaborn as sns\n",
    "import math"
   ]
  },
  {
   "cell_type": "code",
   "execution_count": 12,
   "id": "6c578555",
   "metadata": {},
   "outputs": [],
   "source": [
    "dataset=pd.read_csv('C:/Users/Poornima92/Desktop/BITS/BITS-March22-Aug-22/PG-AIML/Lab/DataSets/cancer_reg.csv')"
   ]
  },
  {
   "cell_type": "code",
   "execution_count": 13,
   "id": "27f1a8cb",
   "metadata": {},
   "outputs": [],
   "source": [
    "x=dataset['BirthRate']\n",
    "#x/=10000\n",
    "x=x.values.reshape(-1,1)\n",
    "y=dataset['TARGET_deathRate'].values.reshape(-1,1)"
   ]
  },
  {
   "cell_type": "code",
   "execution_count": 14,
   "id": "a3117b37",
   "metadata": {},
   "outputs": [
    {
     "data": {
      "text/plain": [
       "SGDRegressor(tol=0.0001)"
      ]
     },
     "execution_count": 14,
     "metadata": {},
     "output_type": "execute_result"
    }
   ],
   "source": [
    "reg=SGDRegressor(max_iter=1000, tol=0.0001, eta0=1e-2)\n",
    "#reg.fit(x,y)\n",
    "reg.fit(x,np.ravel(y,order=\"c\"))"
   ]
  },
  {
   "cell_type": "code",
   "execution_count": 15,
   "id": "82a41ab9",
   "metadata": {},
   "outputs": [
    {
     "name": "stdout",
     "output_type": "stream",
     "text": [
      "Coefficient obtained [-1.08721997]\n",
      "Intercept obtained [185.11888247]\n"
     ]
    }
   ],
   "source": [
    "print('Coefficient obtained',reg.coef_)\n",
    "print('Intercept obtained', reg.intercept_)"
   ]
  },
  {
   "cell_type": "code",
   "execution_count": 16,
   "id": "13613d18",
   "metadata": {},
   "outputs": [
    {
     "name": "stdout",
     "output_type": "stream",
     "text": [
      "RMSE 27.64392855093737\n",
      "RSE 27.65300552657222\n",
      "R^2 0.00741250340383337\n"
     ]
    }
   ],
   "source": [
    "num_data=x.shape[0]\n",
    "y_pred=reg.predict(x)\n",
    "mse=mean_squared_error(y,y_pred)\n",
    "rmse=math.sqrt(mse)\n",
    "rse=mse*num_data\n",
    "rse/=num_data-2\n",
    "rse=math.sqrt(rse)\n",
    "r2_score=reg.score(x,y)\n",
    "\n",
    "print('RMSE', rmse)\n",
    "print('RSE', rse)\n",
    "print('R^2',r2_score)"
   ]
  },
  {
   "cell_type": "code",
   "execution_count": 17,
   "id": "031ffbda",
   "metadata": {},
   "outputs": [],
   "source": [
    "from sklearn import metrics"
   ]
  },
  {
   "cell_type": "code",
   "execution_count": 18,
   "id": "86496d76",
   "metadata": {},
   "outputs": [
    {
     "name": "stdout",
     "output_type": "stream",
     "text": [
      "MAE: 21.28413373092143\n",
      "MSE: 764.1867857293303\n",
      "RMSE: 27.64392855093737\n",
      "r2: 0.00741250340383337\n"
     ]
    }
   ],
   "source": [
    "print('MAE:', metrics.mean_absolute_error(y, y_pred))\n",
    "print('MSE:', metrics.mean_squared_error(y, y_pred))\n",
    "print('RMSE:', np.sqrt(metrics.mean_squared_error(y, y_pred)))\n",
    "print('r2:', metrics.r2_score(y, y_pred))"
   ]
  },
  {
   "cell_type": "code",
   "execution_count": 19,
   "id": "5ff33ee8",
   "metadata": {},
   "outputs": [
    {
     "name": "stderr",
     "output_type": "stream",
     "text": [
      "C:\\Users\\Poornima92\\anaconda3\\lib\\site-packages\\seaborn\\distributions.py:2557: FutureWarning: `distplot` is a deprecated function and will be removed in a future version. Please adapt your code to use either `displot` (a figure-level function with similar flexibility) or `histplot` (an axes-level function for histograms).\n",
      "  warnings.warn(msg, FutureWarning)\n"
     ]
    },
    {
     "data": {
      "image/png": "[encoded data removed]",
      "text/plain": [
       "<Figure size 432x288 with 1 Axes>"
      ]
     },
     "metadata": {
      "needs_background": "light"
     },
     "output_type": "display_data"
    }
   ],
   "source": [
    "sns.distplot((y_pred),bins=50);"
   ]
  },
  {
   "cell_type": "code",
   "execution_count": null,
   "id": "cd84efe5",
   "metadata": {},
   "outputs": [],
   "source": []
  }
 ],
 "metadata": {
  "kernelspec": {
   "display_name": "Python 3",
   "language": "python",
   "name": "python3"
  },
  "language_info": {
   "codemirror_mode": {
    "name": "ipython",
    "version": 3
   },
   "file_extension": ".py",
   "mimetype": "text/x-python",
   "name": "python",
   "nbconvert_exporter": "python",
   "pygments_lexer": "ipython3",
   "version": "3.8.8"
  }
 },
 "nbformat": 4,
 "nbformat_minor": 5
}
