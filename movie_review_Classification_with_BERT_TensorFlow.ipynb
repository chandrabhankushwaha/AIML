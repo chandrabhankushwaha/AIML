{
 "cells": [
  {
   "cell_type": "markdown",
   "metadata": {
    "id": "zGCJYkQj_Uu2"
   },
   "source": [
    "<h2 align=center>Movie Review Classification with BERT & TensorFlow</h2>"
   ]
  },
  {
   "cell_type": "markdown",
   "metadata": {
    "id": "eYYYWqWr_WCC"
   },
   "source": [
    "In this [project](https://udemy.com/), you will learn how to fine-tune a BERT model for fake news classification using TensorFlow and TF-Hub."
   ]
  },
  {
   "cell_type": "markdown",
   "metadata": {
    "id": "IaArqXjRAcBa"
   },
   "source": [
    "## Task 1: Setup your TensorFlow and Colab Runtime."
   ]
  },
  {
   "cell_type": "markdown",
   "metadata": {
    "id": "mpe6GhLuBJWB"
   },
   "source": [
    "### Check GPU Availability\n",
    "\n",
    "Check if your Colab notebook is configured to use Graphical Processing Units (GPUs). If zero GPUs are available, check if the Colab notebook is configured to use GPUs (Menu > Runtime > Change Runtime Type).\n",
    "\n"
   ]
  },
  {
   "cell_type": "code",
   "execution_count": 22,
   "metadata": {
    "colab": {
     "base_uri": "https://localhost:8080/"
    },
    "id": "8V9c8vzSL3aj",
    "outputId": "87cf75ba-bf76-48ba-b6a6-1539c386aaae"
   },
   "outputs": [
    {
     "name": "stderr",
     "output_type": "stream",
     "text": [
      "'nvidia-smi' is not recognized as an internal or external command,\n",
      "operable program or batch file.\n"
     ]
    }
   ],
   "source": [
    "!nvidia-smi"
   ]
  },
  {
   "cell_type": "markdown",
   "metadata": {
    "id": "Obch3rAuBVf0"
   },
   "source": [
    "### Install TensorFlow and TensorFlow Model Garden"
   ]
  },
  {
   "cell_type": "code",
   "execution_count": 24,
   "metadata": {
    "colab": {
     "base_uri": "https://localhost:8080/"
    },
    "id": "bUQEY3dFB0jX",
    "outputId": "12b8b3da-f982-49b6-d9d4-ade7b5f6c6e9"
   },
   "outputs": [
    {
     "name": "stdout",
     "output_type": "stream",
     "text": [
      "Defaulting to user installation because normal site-packages is not writeable\n",
      "Requirement already satisfied: tensorflow in c:\\users\\shilpi\\appdata\\roaming\\python\\python311\\site-packages (2.13.0)\n",
      "Requirement already satisfied: tensorflow-intel==2.13.0 in c:\\users\\shilpi\\appdata\\roaming\\python\\python311\\site-packages (from tensorflow) (2.13.0)\n",
      "Requirement already satisfied: absl-py>=1.0.0 in c:\\users\\shilpi\\appdata\\roaming\\python\\python311\\site-packages (from tensorflow-intel==2.13.0->tensorflow) (1.4.0)\n",
      "Requirement already satisfied: astunparse>=1.6.0 in c:\\users\\shilpi\\appdata\\roaming\\python\\python311\\site-packages (from tensorflow-intel==2.13.0->tensorflow) (1.6.3)\n",
      "Requirement already satisfied: flatbuffers>=23.1.21 in c:\\users\\shilpi\\appdata\\roaming\\python\\python311\\site-packages (from tensorflow-intel==2.13.0->tensorflow) (23.5.26)\n",
      "Requirement already satisfied: gast<=0.4.0,>=0.2.1 in c:\\users\\shilpi\\appdata\\roaming\\python\\python311\\site-packages (from tensorflow-intel==2.13.0->tensorflow) (0.4.0)\n",
      "Requirement already satisfied: google-pasta>=0.1.1 in c:\\users\\shilpi\\appdata\\roaming\\python\\python311\\site-packages (from tensorflow-intel==2.13.0->tensorflow) (0.2.0)\n",
      "Requirement already satisfied: h5py>=2.9.0 in c:\\programdata\\anaconda3\\lib\\site-packages (from tensorflow-intel==2.13.0->tensorflow) (3.7.0)\n",
      "Requirement already satisfied: libclang>=13.0.0 in c:\\users\\shilpi\\appdata\\roaming\\python\\python311\\site-packages (from tensorflow-intel==2.13.0->tensorflow) (16.0.6)\n",
      "Requirement already satisfied: numpy<=1.24.3,>=1.22 in c:\\users\\shilpi\\appdata\\roaming\\python\\python311\\site-packages (from tensorflow-intel==2.13.0->tensorflow) (1.24.3)\n",
      "Requirement already satisfied: opt-einsum>=2.3.2 in c:\\users\\shilpi\\appdata\\roaming\\python\\python311\\site-packages (from tensorflow-intel==2.13.0->tensorflow) (3.3.0)\n",
      "Requirement already satisfied: packaging in c:\\programdata\\anaconda3\\lib\\site-packages (from tensorflow-intel==2.13.0->tensorflow) (23.0)\n",
      "Requirement already satisfied: protobuf!=4.21.0,!=4.21.1,!=4.21.2,!=4.21.3,!=4.21.4,!=4.21.5,<5.0.0dev,>=3.20.3 in c:\\users\\shilpi\\appdata\\roaming\\python\\python311\\site-packages (from tensorflow-intel==2.13.0->tensorflow) (4.24.3)\n",
      "Requirement already satisfied: setuptools in c:\\programdata\\anaconda3\\lib\\site-packages (from tensorflow-intel==2.13.0->tensorflow) (68.0.0)\n",
      "Requirement already satisfied: six>=1.12.0 in c:\\programdata\\anaconda3\\lib\\site-packages (from tensorflow-intel==2.13.0->tensorflow) (1.16.0)\n",
      "Requirement already satisfied: termcolor>=1.1.0 in c:\\users\\shilpi\\appdata\\roaming\\python\\python311\\site-packages (from tensorflow-intel==2.13.0->tensorflow) (2.3.0)\n",
      "Requirement already satisfied: typing-extensions<4.6.0,>=3.6.6 in c:\\users\\shilpi\\appdata\\roaming\\python\\python311\\site-packages (from tensorflow-intel==2.13.0->tensorflow) (4.5.0)\n",
      "Requirement already satisfied: wrapt>=1.11.0 in c:\\programdata\\anaconda3\\lib\\site-packages (from tensorflow-intel==2.13.0->tensorflow) (1.14.1)\n",
      "Requirement already satisfied: grpcio<2.0,>=1.24.3 in c:\\users\\shilpi\\appdata\\roaming\\python\\python311\\site-packages (from tensorflow-intel==2.13.0->tensorflow) (1.58.0)\n",
      "Requirement already satisfied: tensorboard<2.14,>=2.13 in c:\\users\\shilpi\\appdata\\roaming\\python\\python311\\site-packages (from tensorflow-intel==2.13.0->tensorflow) (2.13.0)\n",
      "Requirement already satisfied: tensorflow-estimator<2.14,>=2.13.0 in c:\\users\\shilpi\\appdata\\roaming\\python\\python311\\site-packages (from tensorflow-intel==2.13.0->tensorflow) (2.13.0)\n",
      "Requirement already satisfied: keras<2.14,>=2.13.1 in c:\\users\\shilpi\\appdata\\roaming\\python\\python311\\site-packages (from tensorflow-intel==2.13.0->tensorflow) (2.13.1)\n",
      "Requirement already satisfied: tensorflow-io-gcs-filesystem>=0.23.1 in c:\\users\\shilpi\\appdata\\roaming\\python\\python311\\site-packages (from tensorflow-intel==2.13.0->tensorflow) (0.31.0)\n",
      "Requirement already satisfied: wheel<1.0,>=0.23.0 in c:\\programdata\\anaconda3\\lib\\site-packages (from astunparse>=1.6.0->tensorflow-intel==2.13.0->tensorflow) (0.38.4)\n",
      "Requirement already satisfied: google-auth<3,>=1.6.3 in c:\\users\\shilpi\\appdata\\roaming\\python\\python311\\site-packages (from tensorboard<2.14,>=2.13->tensorflow-intel==2.13.0->tensorflow) (2.23.0)\n",
      "Requirement already satisfied: google-auth-oauthlib<1.1,>=0.5 in c:\\users\\shilpi\\appdata\\roaming\\python\\python311\\site-packages (from tensorboard<2.14,>=2.13->tensorflow-intel==2.13.0->tensorflow) (1.0.0)\n",
      "Requirement already satisfied: markdown>=2.6.8 in c:\\programdata\\anaconda3\\lib\\site-packages (from tensorboard<2.14,>=2.13->tensorflow-intel==2.13.0->tensorflow) (3.4.1)\n",
      "Requirement already satisfied: requests<3,>=2.21.0 in c:\\programdata\\anaconda3\\lib\\site-packages (from tensorboard<2.14,>=2.13->tensorflow-intel==2.13.0->tensorflow) (2.31.0)\n",
      "Requirement already satisfied: tensorboard-data-server<0.8.0,>=0.7.0 in c:\\users\\shilpi\\appdata\\roaming\\python\\python311\\site-packages (from tensorboard<2.14,>=2.13->tensorflow-intel==2.13.0->tensorflow) (0.7.1)\n",
      "Requirement already satisfied: werkzeug>=1.0.1 in c:\\programdata\\anaconda3\\lib\\site-packages (from tensorboard<2.14,>=2.13->tensorflow-intel==2.13.0->tensorflow) (2.2.3)\n",
      "Requirement already satisfied: cachetools<6.0,>=2.0.0 in c:\\users\\shilpi\\appdata\\roaming\\python\\python311\\site-packages (from google-auth<3,>=1.6.3->tensorboard<2.14,>=2.13->tensorflow-intel==2.13.0->tensorflow) (5.3.1)\n",
      "Requirement already satisfied: pyasn1-modules>=0.2.1 in c:\\programdata\\anaconda3\\lib\\site-packages (from google-auth<3,>=1.6.3->tensorboard<2.14,>=2.13->tensorflow-intel==2.13.0->tensorflow) (0.2.8)\n",
      "Requirement already satisfied: rsa<5,>=3.1.4 in c:\\users\\shilpi\\appdata\\roaming\\python\\python311\\site-packages (from google-auth<3,>=1.6.3->tensorboard<2.14,>=2.13->tensorflow-intel==2.13.0->tensorflow) (4.9)\n",
      "Requirement already satisfied: urllib3<2.0 in c:\\programdata\\anaconda3\\lib\\site-packages (from google-auth<3,>=1.6.3->tensorboard<2.14,>=2.13->tensorflow-intel==2.13.0->tensorflow) (1.26.16)\n",
      "Requirement already satisfied: requests-oauthlib>=0.7.0 in c:\\users\\shilpi\\appdata\\roaming\\python\\python311\\site-packages (from google-auth-oauthlib<1.1,>=0.5->tensorboard<2.14,>=2.13->tensorflow-intel==2.13.0->tensorflow) (1.3.1)\n",
      "Requirement already satisfied: charset-normalizer<4,>=2 in c:\\programdata\\anaconda3\\lib\\site-packages (from requests<3,>=2.21.0->tensorboard<2.14,>=2.13->tensorflow-intel==2.13.0->tensorflow) (2.0.4)\n",
      "Requirement already satisfied: idna<4,>=2.5 in c:\\programdata\\anaconda3\\lib\\site-packages (from requests<3,>=2.21.0->tensorboard<2.14,>=2.13->tensorflow-intel==2.13.0->tensorflow) (3.4)\n",
      "Requirement already satisfied: certifi>=2017.4.17 in c:\\programdata\\anaconda3\\lib\\site-packages (from requests<3,>=2.21.0->tensorboard<2.14,>=2.13->tensorflow-intel==2.13.0->tensorflow) (2023.7.22)\n",
      "Requirement already satisfied: MarkupSafe>=2.1.1 in c:\\programdata\\anaconda3\\lib\\site-packages (from werkzeug>=1.0.1->tensorboard<2.14,>=2.13->tensorflow-intel==2.13.0->tensorflow) (2.1.1)\n",
      "Requirement already satisfied: pyasn1<0.5.0,>=0.4.6 in c:\\programdata\\anaconda3\\lib\\site-packages (from pyasn1-modules>=0.2.1->google-auth<3,>=1.6.3->tensorboard<2.14,>=2.13->tensorflow-intel==2.13.0->tensorflow) (0.4.8)\n",
      "Requirement already satisfied: oauthlib>=3.0.0 in c:\\users\\shilpi\\appdata\\roaming\\python\\python311\\site-packages (from requests-oauthlib>=0.7.0->google-auth-oauthlib<1.1,>=0.5->tensorboard<2.14,>=2.13->tensorflow-intel==2.13.0->tensorflow) (3.2.2)\n"
     ]
    },
    {
     "ename": "ModuleNotFoundError",
     "evalue": "No module named 'tensorflow'",
     "output_type": "error",
     "traceback": [
      "\u001b[1;31m---------------------------------------------------------------------------\u001b[0m",
      "\u001b[1;31mModuleNotFoundError\u001b[0m                       Traceback (most recent call last)",
      "Cell \u001b[1;32mIn[24], line 2\u001b[0m\n\u001b[0;32m      1\u001b[0m get_ipython()\u001b[38;5;241m.\u001b[39msystem(\u001b[38;5;124m'\u001b[39m\u001b[38;5;124mpip3 install tensorflow\u001b[39m\u001b[38;5;124m'\u001b[39m)\n\u001b[1;32m----> 2\u001b[0m \u001b[38;5;28;01mimport\u001b[39;00m \u001b[38;5;21;01mtensorflow\u001b[39;00m \u001b[38;5;28;01mas\u001b[39;00m \u001b[38;5;21;01mtf\u001b[39;00m\n\u001b[0;32m      3\u001b[0m \u001b[38;5;28mprint\u001b[39m(tf\u001b[38;5;241m.\u001b[39mversion\u001b[38;5;241m.\u001b[39mVERSION)\n",
      "\u001b[1;31mModuleNotFoundError\u001b[0m: No module named 'tensorflow'"
     ]
    }
   ],
   "source": [
    "!pip3 install tensorflow\n",
    "import tensorflow as tf\n",
    "print(tf.version.VERSION)"
   ]
  },
  {
   "cell_type": "code",
   "execution_count": null,
   "metadata": {
    "id": "aU3YLZ1TYKUt"
   },
   "outputs": [],
   "source": [
    "!pip install -q tensorflow==2.4.0"
   ]
  },
  {
   "cell_type": "code",
   "execution_count": null,
   "metadata": {
    "colab": {
     "base_uri": "https://localhost:8080/"
    },
    "id": "AFRTC-zwUy6D",
    "outputId": "a5284606-58cd-4926-fe49-a2cb4d4b9e4a"
   },
   "outputs": [],
   "source": [
    "!git clone --depth 1 -b v2.3.0 https://github.com/tensorflow/models.git"
   ]
  },
  {
   "cell_type": "code",
   "execution_count": null,
   "metadata": {
    "colab": {
     "base_uri": "https://localhost:8080/"
    },
    "id": "3H2G0571zLLs",
    "outputId": "5f01c997-6e9e-4c43-a877-51dcffd601cf"
   },
   "outputs": [],
   "source": [
    "# install requirements to use tensorflow/models repository\n",
    "!pip install -Uqr models/official/requirements.txt\n",
    "# you may have to restart the runtime afterwards"
   ]
  },
  {
   "cell_type": "markdown",
   "metadata": {
    "id": "GVjksk4yCXur"
   },
   "source": [
    "## Restart the Runtime\n",
    "\n",
    "**Note** \n",
    "After installing the required Python packages, you'll need to restart the Colab Runtime Engine (Menu > Runtime > Restart runtime...)\n",
    "\n"
   ]
  },
  {
   "cell_type": "markdown",
   "metadata": {
    "id": "IMsEoT3Fg4Wg"
   },
   "source": [
    "## Task 2: Download and Import the Quora Questions Dataset"
   ]
  },
  {
   "cell_type": "code",
   "execution_count": null,
   "metadata": {
    "id": "GmqEylyFYTdP"
   },
   "outputs": [],
   "source": [
    "!pip install tensorflow\n",
    "import numpy as np\n",
    "import tensorflow as tf\n",
    "import tensorflow_hub as hub\n",
    "import sys\n",
    "sys.path.append('models')\n",
    "from official.nlp.data import classifier_data_lib\n",
    "from official.nlp.bert import tokenization\n",
    "from official.nlp import optimization"
   ]
  },
  {
   "cell_type": "code",
   "execution_count": null,
   "metadata": {
    "colab": {
     "base_uri": "https://localhost:8080/"
    },
    "id": "ZuX1lB8pPJ-W",
    "outputId": "a49b0e35-6274-4f36-c283-5de2b71507d4"
   },
   "outputs": [],
   "source": [
    "print(\"TF Version: \", tf.__version__)\n",
    "print(\"Eager mode: \", tf.executing_eagerly())\n",
    "print(\"Hub version: \", hub.__version__)\n",
    "print(\"GPU is\", \"available\" if tf.config.experimental.list_physical_devices(\"GPU\") else \"NOT AVAILABLE\")"
   ]
  },
  {
   "cell_type": "markdown",
   "metadata": {
    "id": "7_lI759DbzA-"
   },
   "source": [
    "## Task 3: **Download** Fake news Dataset"
   ]
  },
  {
   "cell_type": "code",
   "execution_count": null,
   "metadata": {
    "colab": {
     "base_uri": "https://localhost:8080/"
    },
    "id": "hb1dfyn8bFnB",
    "outputId": "7d5907ca-e80f-4dd2-f6f7-cf3cbd18e082"
   },
   "outputs": [],
   "source": [
    "from google.colab import drive\n",
    "drive.mount('/content/gdrive')\n",
    "\n",
    "!cp '/content/gdrive/My Drive/data/moviereviews/IMDB Dataset.csv' './moviereviews.csv'\n"
   ]
  },
  {
   "cell_type": "markdown",
   "metadata": {
    "id": "QtbwpWgyEZg7"
   },
   "source": [
    "A downloadable copy of the [Quora Insincere Questions Classification data](https://www.kaggle.com/c/quora-insincere-questions-classification/data) can be found [https://archive.org/download/fine-tune-bert-tensorflow-train.csv/train.csv.zip](https://archive.org/download/fine-tune-bert-tensorflow-train.csv/train.csv.zip). Decompress and read the data into a pandas DataFrame."
   ]
  },
  {
   "cell_type": "code",
   "execution_count": 7,
   "metadata": {
    "colab": {
     "base_uri": "https://localhost:8080/",
     "height": 669
    },
    "id": "0nI-9itVwCCQ",
    "outputId": "b6c0454f-d49b-4e58-dc82-e3b14a113465"
   },
   "outputs": [
    {
     "data": {
      "text/html": [
       "<div>\n",
       "<style scoped>\n",
       "    .dataframe tbody tr th:only-of-type {\n",
       "        vertical-align: middle;\n",
       "    }\n",
       "\n",
       "    .dataframe tbody tr th {\n",
       "        vertical-align: top;\n",
       "    }\n",
       "\n",
       "    .dataframe thead th {\n",
       "        text-align: right;\n",
       "    }\n",
       "</style>\n",
       "<table border=\"1\" class=\"dataframe\">\n",
       "  <thead>\n",
       "    <tr style=\"text-align: right;\">\n",
       "      <th></th>\n",
       "      <th>qid</th>\n",
       "      <th>question_text</th>\n",
       "      <th>target</th>\n",
       "    </tr>\n",
       "  </thead>\n",
       "  <tbody>\n",
       "    <tr>\n",
       "      <th>1048555</th>\n",
       "      <td>cd753e03d4c6b1bb4588</td>\n",
       "      <td>Have you ever been in the middle of saying or ...</td>\n",
       "      <td>0</td>\n",
       "    </tr>\n",
       "    <tr>\n",
       "      <th>1048556</th>\n",
       "      <td>cd755074155b3dad1cca</td>\n",
       "      <td>Is it normal for ENFJs to push people away?</td>\n",
       "      <td>0</td>\n",
       "    </tr>\n",
       "    <tr>\n",
       "      <th>1048557</th>\n",
       "      <td>cd7551546427c94bee93</td>\n",
       "      <td>Why do Indian right wingers detest when Indian...</td>\n",
       "      <td>1</td>\n",
       "    </tr>\n",
       "    <tr>\n",
       "      <th>1048558</th>\n",
       "      <td>cd7563214f48efc94940</td>\n",
       "      <td>Do Germans living in border areas speak Dutch,...</td>\n",
       "      <td>0</td>\n",
       "    </tr>\n",
       "    <tr>\n",
       "      <th>1048559</th>\n",
       "      <td>cd757b2a523db16fde56</td>\n",
       "      <td>How can I overcome a really bad fear?</td>\n",
       "      <td>0</td>\n",
       "    </tr>\n",
       "    <tr>\n",
       "      <th>1048560</th>\n",
       "      <td>cd757ed4c44d7d37f247</td>\n",
       "      <td>Has anyone bought a Chevrolet car after Chevro...</td>\n",
       "      <td>0</td>\n",
       "    </tr>\n",
       "    <tr>\n",
       "      <th>1048561</th>\n",
       "      <td>cd75804e6f7edab8d73f</td>\n",
       "      <td>What will happen to my phone if I use it only ...</td>\n",
       "      <td>0</td>\n",
       "    </tr>\n",
       "    <tr>\n",
       "      <th>1048562</th>\n",
       "      <td>cd75853e0694f6f5028e</td>\n",
       "      <td>What do you like best about the series The Goo...</td>\n",
       "      <td>0</td>\n",
       "    </tr>\n",
       "    <tr>\n",
       "      <th>1048563</th>\n",
       "      <td>cd75a04abbe775d06b47</td>\n",
       "      <td>If you had to name your lifestyle, what would ...</td>\n",
       "      <td>0</td>\n",
       "    </tr>\n",
       "    <tr>\n",
       "      <th>1048564</th>\n",
       "      <td>cd75a9ce0e1990e3502f</td>\n",
       "      <td>Why are some countries in two continents at once?</td>\n",
       "      <td>0</td>\n",
       "    </tr>\n",
       "    <tr>\n",
       "      <th>1048565</th>\n",
       "      <td>cd75c45b052a74379b5f</td>\n",
       "      <td>How much statistics is used in operations rese...</td>\n",
       "      <td>0</td>\n",
       "    </tr>\n",
       "    <tr>\n",
       "      <th>1048566</th>\n",
       "      <td>cd75d6f0331c72af7302</td>\n",
       "      <td>Will exhaust leaks at manifold gaskets cause t...</td>\n",
       "      <td>0</td>\n",
       "    </tr>\n",
       "    <tr>\n",
       "      <th>1048567</th>\n",
       "      <td>cd75e8a7c8d6dc748dd8</td>\n",
       "      <td>What are the opportunities available for manag...</td>\n",
       "      <td>0</td>\n",
       "    </tr>\n",
       "    <tr>\n",
       "      <th>1048568</th>\n",
       "      <td>cd7602b6dbddc15c3812</td>\n",
       "      <td>Why aren't any women among the best 100 chess ...</td>\n",
       "      <td>0</td>\n",
       "    </tr>\n",
       "    <tr>\n",
       "      <th>1048569</th>\n",
       "      <td>cd76072ef30d9cafa8b7</td>\n",
       "      <td>What was like to find out you had to settle fo...</td>\n",
       "      <td>0</td>\n",
       "    </tr>\n",
       "    <tr>\n",
       "      <th>1048570</th>\n",
       "      <td>cd76189d120969381147</td>\n",
       "      <td>What info does a Facebook page receive when yo...</td>\n",
       "      <td>0</td>\n",
       "    </tr>\n",
       "    <tr>\n",
       "      <th>1048571</th>\n",
       "      <td>cd762e8941f1ab6ae0bf</td>\n",
       "      <td>If no can know God, why believe in something y...</td>\n",
       "      <td>0</td>\n",
       "    </tr>\n",
       "    <tr>\n",
       "      <th>1048572</th>\n",
       "      <td>cd76362e61ce44bcff74</td>\n",
       "      <td>Is it true that the lunar cycle affects women'...</td>\n",
       "      <td>0</td>\n",
       "    </tr>\n",
       "    <tr>\n",
       "      <th>1048573</th>\n",
       "      <td>cd763d37d3d7cfcd42ce</td>\n",
       "      <td>What is the difference between the old currenc...</td>\n",
       "      <td>0</td>\n",
       "    </tr>\n",
       "    <tr>\n",
       "      <th>1048574</th>\n",
       "      <td>cd7642554d107f946d8a</td>\n",
       "      <td>What is the full form of DML?</td>\n",
       "      <td>0</td>\n",
       "    </tr>\n",
       "  </tbody>\n",
       "</table>\n",
       "</div>"
      ],
      "text/plain": [
       "                          qid  \\\n",
       "1048555  cd753e03d4c6b1bb4588   \n",
       "1048556  cd755074155b3dad1cca   \n",
       "1048557  cd7551546427c94bee93   \n",
       "1048558  cd7563214f48efc94940   \n",
       "1048559  cd757b2a523db16fde56   \n",
       "1048560  cd757ed4c44d7d37f247   \n",
       "1048561  cd75804e6f7edab8d73f   \n",
       "1048562  cd75853e0694f6f5028e   \n",
       "1048563  cd75a04abbe775d06b47   \n",
       "1048564  cd75a9ce0e1990e3502f   \n",
       "1048565  cd75c45b052a74379b5f   \n",
       "1048566  cd75d6f0331c72af7302   \n",
       "1048567  cd75e8a7c8d6dc748dd8   \n",
       "1048568  cd7602b6dbddc15c3812   \n",
       "1048569  cd76072ef30d9cafa8b7   \n",
       "1048570  cd76189d120969381147   \n",
       "1048571  cd762e8941f1ab6ae0bf   \n",
       "1048572  cd76362e61ce44bcff74   \n",
       "1048573  cd763d37d3d7cfcd42ce   \n",
       "1048574  cd7642554d107f946d8a   \n",
       "\n",
       "                                             question_text  target  \n",
       "1048555  Have you ever been in the middle of saying or ...       0  \n",
       "1048556        Is it normal for ENFJs to push people away?       0  \n",
       "1048557  Why do Indian right wingers detest when Indian...       1  \n",
       "1048558  Do Germans living in border areas speak Dutch,...       0  \n",
       "1048559              How can I overcome a really bad fear?       0  \n",
       "1048560  Has anyone bought a Chevrolet car after Chevro...       0  \n",
       "1048561  What will happen to my phone if I use it only ...       0  \n",
       "1048562  What do you like best about the series The Goo...       0  \n",
       "1048563  If you had to name your lifestyle, what would ...       0  \n",
       "1048564  Why are some countries in two continents at once?       0  \n",
       "1048565  How much statistics is used in operations rese...       0  \n",
       "1048566  Will exhaust leaks at manifold gaskets cause t...       0  \n",
       "1048567  What are the opportunities available for manag...       0  \n",
       "1048568  Why aren't any women among the best 100 chess ...       0  \n",
       "1048569  What was like to find out you had to settle fo...       0  \n",
       "1048570  What info does a Facebook page receive when yo...       0  \n",
       "1048571  If no can know God, why believe in something y...       0  \n",
       "1048572  Is it true that the lunar cycle affects women'...       0  \n",
       "1048573  What is the difference between the old currenc...       0  \n",
       "1048574                      What is the full form of DML?       0  "
      ]
     },
     "execution_count": 7,
     "metadata": {},
     "output_type": "execute_result"
    }
   ],
   "source": [
    "import numpy as np\n",
    "import pandas as pd\n",
    "from sklearn.model_selection import train_test_split\n",
    "\n",
    "df = pd.read_csv('review.csv',low_memory=False)\n",
    "df.shape\n",
    "df.tail(20)\n"
   ]
  },
  {
   "cell_type": "code",
   "execution_count": 10,
   "metadata": {
    "id": "yeHE98KiMvDd"
   },
   "outputs": [],
   "source": [
    "#check few rows in true news Dataset\n",
    "df.tail(20)\n",
    "df['text'] = df['question_text']\n",
    "df['target'] = np.where(df['target']=='positive', 1, 0)"
   ]
  },
  {
   "cell_type": "code",
   "execution_count": 9,
   "metadata": {
    "colab": {
     "base_uri": "https://localhost:8080/",
     "height": 669
    },
    "id": "0idhhAKFGZJw",
    "outputId": "a15a1f1d-c036-44eb-e71c-f8e750098bbc"
   },
   "outputs": [
    {
     "data": {
      "text/html": [
       "<div>\n",
       "<style scoped>\n",
       "    .dataframe tbody tr th:only-of-type {\n",
       "        vertical-align: middle;\n",
       "    }\n",
       "\n",
       "    .dataframe tbody tr th {\n",
       "        vertical-align: top;\n",
       "    }\n",
       "\n",
       "    .dataframe thead th {\n",
       "        text-align: right;\n",
       "    }\n",
       "</style>\n",
       "<table border=\"1\" class=\"dataframe\">\n",
       "  <thead>\n",
       "    <tr style=\"text-align: right;\">\n",
       "      <th></th>\n",
       "      <th>qid</th>\n",
       "      <th>question_text</th>\n",
       "      <th>target</th>\n",
       "      <th>text</th>\n",
       "    </tr>\n",
       "  </thead>\n",
       "  <tbody>\n",
       "    <tr>\n",
       "      <th>1048555</th>\n",
       "      <td>cd753e03d4c6b1bb4588</td>\n",
       "      <td>Have you ever been in the middle of saying or ...</td>\n",
       "      <td>0</td>\n",
       "      <td>Have you ever been in the middle of saying or ...</td>\n",
       "    </tr>\n",
       "    <tr>\n",
       "      <th>1048556</th>\n",
       "      <td>cd755074155b3dad1cca</td>\n",
       "      <td>Is it normal for ENFJs to push people away?</td>\n",
       "      <td>0</td>\n",
       "      <td>Is it normal for ENFJs to push people away?</td>\n",
       "    </tr>\n",
       "    <tr>\n",
       "      <th>1048557</th>\n",
       "      <td>cd7551546427c94bee93</td>\n",
       "      <td>Why do Indian right wingers detest when Indian...</td>\n",
       "      <td>0</td>\n",
       "      <td>Why do Indian right wingers detest when Indian...</td>\n",
       "    </tr>\n",
       "    <tr>\n",
       "      <th>1048558</th>\n",
       "      <td>cd7563214f48efc94940</td>\n",
       "      <td>Do Germans living in border areas speak Dutch,...</td>\n",
       "      <td>0</td>\n",
       "      <td>Do Germans living in border areas speak Dutch,...</td>\n",
       "    </tr>\n",
       "    <tr>\n",
       "      <th>1048559</th>\n",
       "      <td>cd757b2a523db16fde56</td>\n",
       "      <td>How can I overcome a really bad fear?</td>\n",
       "      <td>0</td>\n",
       "      <td>How can I overcome a really bad fear?</td>\n",
       "    </tr>\n",
       "    <tr>\n",
       "      <th>1048560</th>\n",
       "      <td>cd757ed4c44d7d37f247</td>\n",
       "      <td>Has anyone bought a Chevrolet car after Chevro...</td>\n",
       "      <td>0</td>\n",
       "      <td>Has anyone bought a Chevrolet car after Chevro...</td>\n",
       "    </tr>\n",
       "    <tr>\n",
       "      <th>1048561</th>\n",
       "      <td>cd75804e6f7edab8d73f</td>\n",
       "      <td>What will happen to my phone if I use it only ...</td>\n",
       "      <td>0</td>\n",
       "      <td>What will happen to my phone if I use it only ...</td>\n",
       "    </tr>\n",
       "    <tr>\n",
       "      <th>1048562</th>\n",
       "      <td>cd75853e0694f6f5028e</td>\n",
       "      <td>What do you like best about the series The Goo...</td>\n",
       "      <td>0</td>\n",
       "      <td>What do you like best about the series The Goo...</td>\n",
       "    </tr>\n",
       "    <tr>\n",
       "      <th>1048563</th>\n",
       "      <td>cd75a04abbe775d06b47</td>\n",
       "      <td>If you had to name your lifestyle, what would ...</td>\n",
       "      <td>0</td>\n",
       "      <td>If you had to name your lifestyle, what would ...</td>\n",
       "    </tr>\n",
       "    <tr>\n",
       "      <th>1048564</th>\n",
       "      <td>cd75a9ce0e1990e3502f</td>\n",
       "      <td>Why are some countries in two continents at once?</td>\n",
       "      <td>0</td>\n",
       "      <td>Why are some countries in two continents at once?</td>\n",
       "    </tr>\n",
       "    <tr>\n",
       "      <th>1048565</th>\n",
       "      <td>cd75c45b052a74379b5f</td>\n",
       "      <td>How much statistics is used in operations rese...</td>\n",
       "      <td>0</td>\n",
       "      <td>How much statistics is used in operations rese...</td>\n",
       "    </tr>\n",
       "    <tr>\n",
       "      <th>1048566</th>\n",
       "      <td>cd75d6f0331c72af7302</td>\n",
       "      <td>Will exhaust leaks at manifold gaskets cause t...</td>\n",
       "      <td>0</td>\n",
       "      <td>Will exhaust leaks at manifold gaskets cause t...</td>\n",
       "    </tr>\n",
       "    <tr>\n",
       "      <th>1048567</th>\n",
       "      <td>cd75e8a7c8d6dc748dd8</td>\n",
       "      <td>What are the opportunities available for manag...</td>\n",
       "      <td>0</td>\n",
       "      <td>What are the opportunities available for manag...</td>\n",
       "    </tr>\n",
       "    <tr>\n",
       "      <th>1048568</th>\n",
       "      <td>cd7602b6dbddc15c3812</td>\n",
       "      <td>Why aren't any women among the best 100 chess ...</td>\n",
       "      <td>0</td>\n",
       "      <td>Why aren't any women among the best 100 chess ...</td>\n",
       "    </tr>\n",
       "    <tr>\n",
       "      <th>1048569</th>\n",
       "      <td>cd76072ef30d9cafa8b7</td>\n",
       "      <td>What was like to find out you had to settle fo...</td>\n",
       "      <td>0</td>\n",
       "      <td>What was like to find out you had to settle fo...</td>\n",
       "    </tr>\n",
       "    <tr>\n",
       "      <th>1048570</th>\n",
       "      <td>cd76189d120969381147</td>\n",
       "      <td>What info does a Facebook page receive when yo...</td>\n",
       "      <td>0</td>\n",
       "      <td>What info does a Facebook page receive when yo...</td>\n",
       "    </tr>\n",
       "    <tr>\n",
       "      <th>1048571</th>\n",
       "      <td>cd762e8941f1ab6ae0bf</td>\n",
       "      <td>If no can know God, why believe in something y...</td>\n",
       "      <td>0</td>\n",
       "      <td>If no can know God, why believe in something y...</td>\n",
       "    </tr>\n",
       "    <tr>\n",
       "      <th>1048572</th>\n",
       "      <td>cd76362e61ce44bcff74</td>\n",
       "      <td>Is it true that the lunar cycle affects women'...</td>\n",
       "      <td>0</td>\n",
       "      <td>Is it true that the lunar cycle affects women'...</td>\n",
       "    </tr>\n",
       "    <tr>\n",
       "      <th>1048573</th>\n",
       "      <td>cd763d37d3d7cfcd42ce</td>\n",
       "      <td>What is the difference between the old currenc...</td>\n",
       "      <td>0</td>\n",
       "      <td>What is the difference between the old currenc...</td>\n",
       "    </tr>\n",
       "    <tr>\n",
       "      <th>1048574</th>\n",
       "      <td>cd7642554d107f946d8a</td>\n",
       "      <td>What is the full form of DML?</td>\n",
       "      <td>0</td>\n",
       "      <td>What is the full form of DML?</td>\n",
       "    </tr>\n",
       "  </tbody>\n",
       "</table>\n",
       "</div>"
      ],
      "text/plain": [
       "                          qid  \\\n",
       "1048555  cd753e03d4c6b1bb4588   \n",
       "1048556  cd755074155b3dad1cca   \n",
       "1048557  cd7551546427c94bee93   \n",
       "1048558  cd7563214f48efc94940   \n",
       "1048559  cd757b2a523db16fde56   \n",
       "1048560  cd757ed4c44d7d37f247   \n",
       "1048561  cd75804e6f7edab8d73f   \n",
       "1048562  cd75853e0694f6f5028e   \n",
       "1048563  cd75a04abbe775d06b47   \n",
       "1048564  cd75a9ce0e1990e3502f   \n",
       "1048565  cd75c45b052a74379b5f   \n",
       "1048566  cd75d6f0331c72af7302   \n",
       "1048567  cd75e8a7c8d6dc748dd8   \n",
       "1048568  cd7602b6dbddc15c3812   \n",
       "1048569  cd76072ef30d9cafa8b7   \n",
       "1048570  cd76189d120969381147   \n",
       "1048571  cd762e8941f1ab6ae0bf   \n",
       "1048572  cd76362e61ce44bcff74   \n",
       "1048573  cd763d37d3d7cfcd42ce   \n",
       "1048574  cd7642554d107f946d8a   \n",
       "\n",
       "                                             question_text  target  \\\n",
       "1048555  Have you ever been in the middle of saying or ...       0   \n",
       "1048556        Is it normal for ENFJs to push people away?       0   \n",
       "1048557  Why do Indian right wingers detest when Indian...       0   \n",
       "1048558  Do Germans living in border areas speak Dutch,...       0   \n",
       "1048559              How can I overcome a really bad fear?       0   \n",
       "1048560  Has anyone bought a Chevrolet car after Chevro...       0   \n",
       "1048561  What will happen to my phone if I use it only ...       0   \n",
       "1048562  What do you like best about the series The Goo...       0   \n",
       "1048563  If you had to name your lifestyle, what would ...       0   \n",
       "1048564  Why are some countries in two continents at once?       0   \n",
       "1048565  How much statistics is used in operations rese...       0   \n",
       "1048566  Will exhaust leaks at manifold gaskets cause t...       0   \n",
       "1048567  What are the opportunities available for manag...       0   \n",
       "1048568  Why aren't any women among the best 100 chess ...       0   \n",
       "1048569  What was like to find out you had to settle fo...       0   \n",
       "1048570  What info does a Facebook page receive when yo...       0   \n",
       "1048571  If no can know God, why believe in something y...       0   \n",
       "1048572  Is it true that the lunar cycle affects women'...       0   \n",
       "1048573  What is the difference between the old currenc...       0   \n",
       "1048574                      What is the full form of DML?       0   \n",
       "\n",
       "                                                      text  \n",
       "1048555  Have you ever been in the middle of saying or ...  \n",
       "1048556        Is it normal for ENFJs to push people away?  \n",
       "1048557  Why do Indian right wingers detest when Indian...  \n",
       "1048558  Do Germans living in border areas speak Dutch,...  \n",
       "1048559              How can I overcome a really bad fear?  \n",
       "1048560  Has anyone bought a Chevrolet car after Chevro...  \n",
       "1048561  What will happen to my phone if I use it only ...  \n",
       "1048562  What do you like best about the series The Goo...  \n",
       "1048563  If you had to name your lifestyle, what would ...  \n",
       "1048564  Why are some countries in two continents at once?  \n",
       "1048565  How much statistics is used in operations rese...  \n",
       "1048566  Will exhaust leaks at manifold gaskets cause t...  \n",
       "1048567  What are the opportunities available for manag...  \n",
       "1048568  Why aren't any women among the best 100 chess ...  \n",
       "1048569  What was like to find out you had to settle fo...  \n",
       "1048570  What info does a Facebook page receive when yo...  \n",
       "1048571  If no can know God, why believe in something y...  \n",
       "1048572  Is it true that the lunar cycle affects women'...  \n",
       "1048573  What is the difference between the old currenc...  \n",
       "1048574                      What is the full form of DML?  "
      ]
     },
     "execution_count": 9,
     "metadata": {},
     "output_type": "execute_result"
    }
   ],
   "source": [
    "#check few rows in fake news Dataset\n",
    "df.tail(20)"
   ]
  },
  {
   "cell_type": "code",
   "execution_count": 11,
   "metadata": {
    "colab": {
     "base_uri": "https://localhost:8080/",
     "height": 298
    },
    "id": "FJhUvn0tHKhO",
    "outputId": "96f3ed78-d3d5-46bf-b233-71ae5cfb53c3"
   },
   "outputs": [
    {
     "data": {
      "text/plain": [
       "(1048575, 4)"
      ]
     },
     "execution_count": 11,
     "metadata": {},
     "output_type": "execute_result"
    },
    {
     "data": {
      "image/png": "[encoded data removed]",
      "text/plain": [
       "<Figure size 640x480 with 1 Axes>"
      ]
     },
     "metadata": {},
     "output_type": "display_data"
    }
   ],
   "source": [
    "df.target.plot(kind='hist', title='target distribution')\n",
    "df.shape"
   ]
  },
  {
   "cell_type": "markdown",
   "metadata": {
    "id": "ELjswHcFHfp3"
   },
   "source": [
    "## Task 3: Create tf.data.Datasets for Training and Evaluation"
   ]
  },
  {
   "cell_type": "code",
   "execution_count": 12,
   "metadata": {
    "colab": {
     "base_uri": "https://localhost:8080/"
    },
    "id": "fScULIGPwuWk",
    "outputId": "ef7fa738-d080-4c8b-d398-1f2340d26c34"
   },
   "outputs": [
    {
     "data": {
      "text/plain": [
       "((943717, 4), (52429, 4), (47186, 4))"
      ]
     },
     "execution_count": 12,
     "metadata": {},
     "output_type": "execute_result"
    }
   ],
   "source": [
    "train_df, remaining = train_test_split(df, random_state=42, train_size=0.9, stratify=df.target.values)\n",
    "valid_df, remaining2 = train_test_split(remaining, random_state=42, train_size=0.5, stratify=remaining.target.values)\n",
    "test_df, _  = train_test_split(remaining2, random_state=42, train_size=0.9, stratify=remaining2.target.values)\n",
    "\n",
    "\n",
    "train_df.shape, valid_df.shape, test_df.shape"
   ]
  },
  {
   "cell_type": "code",
   "execution_count": null,
   "metadata": {
    "id": "uHgiI7iuvZKT"
   },
   "outputs": [],
   "source": []
  },
  {
   "cell_type": "code",
   "execution_count": 13,
   "metadata": {
    "colab": {
     "base_uri": "https://localhost:8080/"
    },
    "id": "qQYMGT5_qLPX",
    "outputId": "bcaf41e9-f7fc-4a24-cc35-69a11b0bdf2a"
   },
   "outputs": [
    {
     "name": "stdout",
     "output_type": "stream",
     "text": [
      "Requirement already satisfied: pip in c:\\programdata\\anaconda3\\lib\\site-packages (23.2.1)\n",
      "tf.Tensor(b'How do I calculate the concentration of each ion present in a solution formed by mixing 42.0mL of 0.170M NaOH and 37.6mL of 0.400M NaOH?', shape=(), dtype=string)\n",
      "tf.Tensor(0, shape=(), dtype=int32)\n",
      "tf.Tensor(b'Is ejaculate safe to drink?', shape=(), dtype=string)\n",
      "tf.Tensor(0, shape=(), dtype=int32)\n",
      "tf.Tensor(b'Why should I Join CETPA for Industrial Training in Noida?', shape=(), dtype=string)\n",
      "tf.Tensor(0, shape=(), dtype=int32)\n",
      "tf.Tensor(b'What is your opinion on the LODM Blog?', shape=(), dtype=string)\n",
      "tf.Tensor(0, shape=(), dtype=int32)\n",
      "tf.Tensor(b'What steps should I Take to heal after I quit smoking?', shape=(), dtype=string)\n",
      "tf.Tensor(0, shape=(), dtype=int32)\n"
     ]
    }
   ],
   "source": [
    "#with tf.device('/cpu:0'):\n",
    "#!pip3 install tensorflow\n",
    "!python -m pip install --user --upgrade pip\n",
    "import tensorflow as tf\n",
    "import tensorflow_hub as hub\n",
    "train_data = tf.data.Dataset.from_tensor_slices((train_df['text'].values, train_df['target'].values))\n",
    "valid_data = tf.data.Dataset.from_tensor_slices((valid_df['text'].values, valid_df['target'].values))\n",
    "test_data =  tf.data.Dataset.from_tensor_slices((test_df['text'].values, test_df['target'].values)) \n",
    "for text, label in test_data.take(5):\n",
    " print(text)\n",
    " print(label)  "
   ]
  },
  {
   "cell_type": "markdown",
   "metadata": {
    "id": "e2-ReN88Hvy_"
   },
   "source": [
    "## Task 4: Download a Pre-trained BERT Model from TensorFlow Hub"
   ]
  },
  {
   "cell_type": "code",
   "execution_count": 26,
   "metadata": {
    "id": "EMb5M86b4-BU"
   },
   "outputs": [
    {
     "name": "stdout",
     "output_type": "stream",
     "text": [
      "Defaulting to user installation because normal site-packages is not writeable\n",
      "Requirement already satisfied: transformers in c:\\users\\shilpi\\appdata\\roaming\\python\\python311\\site-packages (4.33.2)\n",
      "Requirement already satisfied: filelock in c:\\programdata\\anaconda3\\lib\\site-packages (from transformers) (3.9.0)\n",
      "Requirement already satisfied: huggingface-hub<1.0,>=0.15.1 in c:\\users\\shilpi\\appdata\\roaming\\python\\python311\\site-packages (from transformers) (0.17.2)\n",
      "Requirement already satisfied: numpy>=1.17 in c:\\users\\shilpi\\appdata\\roaming\\python\\python311\\site-packages (from transformers) (1.24.3)\n",
      "Requirement already satisfied: packaging>=20.0 in c:\\users\\shilpi\\appdata\\roaming\\python\\python311\\site-packages (from transformers) (23.1)\n",
      "Requirement already satisfied: pyyaml>=5.1 in c:\\users\\shilpi\\appdata\\roaming\\python\\python311\\site-packages (from transformers) (6.0.1)\n",
      "Requirement already satisfied: regex!=2019.12.17 in c:\\programdata\\anaconda3\\lib\\site-packages (from transformers) (2022.7.9)\n",
      "Requirement already satisfied: requests in c:\\users\\shilpi\\appdata\\roaming\\python\\python311\\site-packages (from transformers) (2.31.0)\n",
      "Requirement already satisfied: tokenizers!=0.11.3,<0.14,>=0.11.1 in c:\\users\\shilpi\\appdata\\roaming\\python\\python311\\site-packages (from transformers) (0.13.3)\n",
      "Requirement already satisfied: safetensors>=0.3.1 in c:\\users\\shilpi\\appdata\\roaming\\python\\python311\\site-packages (from transformers) (0.3.3)\n",
      "Requirement already satisfied: tqdm>=4.27 in c:\\programdata\\anaconda3\\lib\\site-packages (from transformers) (4.65.0)\n",
      "Requirement already satisfied: fsspec in c:\\programdata\\anaconda3\\lib\\site-packages (from huggingface-hub<1.0,>=0.15.1->transformers) (2023.3.0)\n",
      "Requirement already satisfied: typing-extensions>=3.7.4.3 in c:\\users\\shilpi\\appdata\\roaming\\python\\python311\\site-packages (from huggingface-hub<1.0,>=0.15.1->transformers) (4.5.0)\n",
      "Requirement already satisfied: colorama in c:\\programdata\\anaconda3\\lib\\site-packages (from tqdm>=4.27->transformers) (0.4.6)\n",
      "Requirement already satisfied: charset-normalizer<4,>=2 in c:\\users\\shilpi\\appdata\\roaming\\python\\python311\\site-packages (from requests->transformers) (3.2.0)\n",
      "Requirement already satisfied: idna<4,>=2.5 in c:\\users\\shilpi\\appdata\\roaming\\python\\python311\\site-packages (from requests->transformers) (3.4)\n",
      "Requirement already satisfied: urllib3<3,>=1.21.1 in c:\\users\\shilpi\\appdata\\roaming\\python\\python311\\site-packages (from requests->transformers) (1.26.16)\n",
      "Requirement already satisfied: certifi>=2017.4.17 in c:\\users\\shilpi\\appdata\\roaming\\python\\python311\\site-packages (from requests->transformers) (2023.7.22)\n",
      "Defaulting to user installation because normal site-packages is not writeable\n",
      "Requirement already satisfied: torchvision in c:\\users\\shilpi\\appdata\\roaming\\python\\python311\\site-packages (0.15.2)\n",
      "Requirement already satisfied: numpy in c:\\users\\shilpi\\appdata\\roaming\\python\\python311\\site-packages (from torchvision) (1.24.3)\n",
      "Requirement already satisfied: requests in c:\\users\\shilpi\\appdata\\roaming\\python\\python311\\site-packages (from torchvision) (2.31.0)\n",
      "Requirement already satisfied: torch==2.0.1 in c:\\users\\shilpi\\appdata\\roaming\\python\\python311\\site-packages (from torchvision) (2.0.1)\n",
      "Requirement already satisfied: pillow!=8.3.*,>=5.3.0 in c:\\users\\shilpi\\appdata\\roaming\\python\\python311\\site-packages (from torchvision) (10.0.1)\n",
      "Requirement already satisfied: filelock in c:\\programdata\\anaconda3\\lib\\site-packages (from torch==2.0.1->torchvision) (3.9.0)\n",
      "Requirement already satisfied: typing-extensions in c:\\users\\shilpi\\appdata\\roaming\\python\\python311\\site-packages (from torch==2.0.1->torchvision) (4.5.0)\n",
      "Requirement already satisfied: sympy in c:\\programdata\\anaconda3\\lib\\site-packages (from torch==2.0.1->torchvision) (1.11.1)\n",
      "Requirement already satisfied: networkx in c:\\programdata\\anaconda3\\lib\\site-packages (from torch==2.0.1->torchvision) (3.1)\n",
      "Requirement already satisfied: jinja2 in c:\\programdata\\anaconda3\\lib\\site-packages (from torch==2.0.1->torchvision) (3.1.2)\n",
      "Requirement already satisfied: charset-normalizer<4,>=2 in c:\\users\\shilpi\\appdata\\roaming\\python\\python311\\site-packages (from requests->torchvision) (3.2.0)\n",
      "Requirement already satisfied: idna<4,>=2.5 in c:\\users\\shilpi\\appdata\\roaming\\python\\python311\\site-packages (from requests->torchvision) (3.4)\n",
      "Requirement already satisfied: urllib3<3,>=1.21.1 in c:\\users\\shilpi\\appdata\\roaming\\python\\python311\\site-packages (from requests->torchvision) (1.26.16)\n",
      "Requirement already satisfied: certifi>=2017.4.17 in c:\\users\\shilpi\\appdata\\roaming\\python\\python311\\site-packages (from requests->torchvision) (2023.7.22)\n",
      "Requirement already satisfied: MarkupSafe>=2.0 in c:\\users\\shilpi\\appdata\\roaming\\python\\python311\\site-packages (from jinja2->torch==2.0.1->torchvision) (2.1.3)\n",
      "Requirement already satisfied: mpmath>=0.19 in c:\\programdata\\anaconda3\\lib\\site-packages (from sympy->torch==2.0.1->torchvision) (1.3.0)\n"
     ]
    },
    {
     "ename": "OSError",
     "evalue": "Model name 'bert_en_uncased_L-12_H-768_A-12_4' was not found in tokenizers model name list (bert-base-uncased, bert-large-uncased, bert-base-cased, bert-large-cased, bert-base-multilingual-uncased, bert-base-multilingual-cased, bert-base-chinese, bert-base-german-cased, bert-large-uncased-whole-word-masking, bert-large-cased-whole-word-masking, bert-large-uncased-whole-word-masking-finetuned-squad, bert-large-cased-whole-word-masking-finetuned-squad, bert-base-cased-finetuned-mrpc, bert-base-german-dbmdz-cased, bert-base-german-dbmdz-uncased). We assumed 'bert_en_uncased_L-12_H-768_A-12_4' was a path or url to a directory containing vocabulary files named ['vocab.txt'] but couldn't find such vocabulary files at this path or url.",
     "output_type": "error",
     "traceback": [
      "\u001b[1;31m---------------------------------------------------------------------------\u001b[0m",
      "\u001b[1;31mOSError\u001b[0m                                   Traceback (most recent call last)",
      "Cell \u001b[1;32mIn[26], line 21\u001b[0m\n\u001b[0;32m     18\u001b[0m max_seq_length \u001b[38;5;241m=\u001b[39m \u001b[38;5;241m128\u001b[39m\n\u001b[0;32m     19\u001b[0m train_batch_size \u001b[38;5;241m=\u001b[39m \u001b[38;5;241m32\u001b[39m\n\u001b[1;32m---> 21\u001b[0m tokenizer\u001b[38;5;241m=\u001b[39mBertTokenizer\u001b[38;5;241m.\u001b[39mfrom_pretrained(\u001b[38;5;124m\"\u001b[39m\u001b[38;5;124mbert_en_uncased_L-12_H-768_A-12_4\u001b[39m\u001b[38;5;124m\"\u001b[39m)\n",
      "File \u001b[1;32mC:\\ProgramData\\anaconda3\\Lib\\site-packages\\transformers\\tokenization_utils.py:282\u001b[0m, in \u001b[0;36mPreTrainedTokenizer.from_pretrained\u001b[1;34m(cls, *inputs, **kwargs)\u001b[0m\n\u001b[0;32m    236\u001b[0m \u001b[38;5;129m@classmethod\u001b[39m\n\u001b[0;32m    237\u001b[0m \u001b[38;5;28;01mdef\u001b[39;00m \u001b[38;5;21mfrom_pretrained\u001b[39m(\u001b[38;5;28mcls\u001b[39m, \u001b[38;5;241m*\u001b[39minputs, \u001b[38;5;241m*\u001b[39m\u001b[38;5;241m*\u001b[39mkwargs):\n\u001b[0;32m    238\u001b[0m \u001b[38;5;250m    \u001b[39m\u001b[38;5;124mr\u001b[39m\u001b[38;5;124;03m\"\"\"\u001b[39;00m\n\u001b[0;32m    239\u001b[0m \u001b[38;5;124;03m    Instantiate a :class:`~transformers.PreTrainedTokenizer` (or a derived class) from a predefined tokenizer.\u001b[39;00m\n\u001b[0;32m    240\u001b[0m \n\u001b[1;32m   (...)\u001b[0m\n\u001b[0;32m    280\u001b[0m \n\u001b[0;32m    281\u001b[0m \u001b[38;5;124;03m    \"\"\"\u001b[39;00m\n\u001b[1;32m--> 282\u001b[0m     \u001b[38;5;28;01mreturn\u001b[39;00m \u001b[38;5;28mcls\u001b[39m\u001b[38;5;241m.\u001b[39m_from_pretrained(\u001b[38;5;241m*\u001b[39minputs, \u001b[38;5;241m*\u001b[39m\u001b[38;5;241m*\u001b[39mkwargs)\n",
      "File \u001b[1;32mC:\\ProgramData\\anaconda3\\Lib\\site-packages\\transformers\\tokenization_utils.py:340\u001b[0m, in \u001b[0;36mPreTrainedTokenizer._from_pretrained\u001b[1;34m(cls, pretrained_model_name_or_path, *init_inputs, **kwargs)\u001b[0m\n\u001b[0;32m    337\u001b[0m         vocab_files[file_id] \u001b[38;5;241m=\u001b[39m full_file_name\n\u001b[0;32m    339\u001b[0m     \u001b[38;5;28;01mif\u001b[39;00m \u001b[38;5;28mall\u001b[39m(full_file_name \u001b[38;5;129;01mis\u001b[39;00m \u001b[38;5;28;01mNone\u001b[39;00m \u001b[38;5;28;01mfor\u001b[39;00m full_file_name \u001b[38;5;129;01min\u001b[39;00m vocab_files\u001b[38;5;241m.\u001b[39mvalues()):\n\u001b[1;32m--> 340\u001b[0m         \u001b[38;5;28;01mraise\u001b[39;00m \u001b[38;5;167;01mEnvironmentError\u001b[39;00m(\n\u001b[0;32m    341\u001b[0m             \u001b[38;5;124m\"\u001b[39m\u001b[38;5;124mModel name \u001b[39m\u001b[38;5;124m'\u001b[39m\u001b[38;5;132;01m{}\u001b[39;00m\u001b[38;5;124m'\u001b[39m\u001b[38;5;124m was not found in tokenizers model name list (\u001b[39m\u001b[38;5;132;01m{}\u001b[39;00m\u001b[38;5;124m). \u001b[39m\u001b[38;5;124m\"\u001b[39m\n\u001b[0;32m    342\u001b[0m             \u001b[38;5;124m\"\u001b[39m\u001b[38;5;124mWe assumed \u001b[39m\u001b[38;5;124m'\u001b[39m\u001b[38;5;132;01m{}\u001b[39;00m\u001b[38;5;124m'\u001b[39m\u001b[38;5;124m was a path or url to a directory containing vocabulary files \u001b[39m\u001b[38;5;124m\"\u001b[39m\n\u001b[0;32m    343\u001b[0m             \u001b[38;5;124m\"\u001b[39m\u001b[38;5;124mnamed \u001b[39m\u001b[38;5;132;01m{}\u001b[39;00m\u001b[38;5;124m but couldn\u001b[39m\u001b[38;5;124m'\u001b[39m\u001b[38;5;124mt find such vocabulary files at this path or url.\u001b[39m\u001b[38;5;124m\"\u001b[39m\u001b[38;5;241m.\u001b[39mformat(\n\u001b[0;32m    344\u001b[0m                 pretrained_model_name_or_path, \u001b[38;5;124m'\u001b[39m\u001b[38;5;124m, \u001b[39m\u001b[38;5;124m'\u001b[39m\u001b[38;5;241m.\u001b[39mjoin(s3_models),\n\u001b[0;32m    345\u001b[0m                 pretrained_model_name_or_path, \n\u001b[0;32m    346\u001b[0m                 \u001b[38;5;28mlist\u001b[39m(\u001b[38;5;28mcls\u001b[39m\u001b[38;5;241m.\u001b[39mvocab_files_names\u001b[38;5;241m.\u001b[39mvalues())))\n\u001b[0;32m    348\u001b[0m \u001b[38;5;66;03m# Get files from url, cache, or disk depending on the case\u001b[39;00m\n\u001b[0;32m    349\u001b[0m \u001b[38;5;28;01mtry\u001b[39;00m:\n",
      "\u001b[1;31mOSError\u001b[0m: Model name 'bert_en_uncased_L-12_H-768_A-12_4' was not found in tokenizers model name list (bert-base-uncased, bert-large-uncased, bert-base-cased, bert-large-cased, bert-base-multilingual-uncased, bert-base-multilingual-cased, bert-base-chinese, bert-base-german-cased, bert-large-uncased-whole-word-masking, bert-large-cased-whole-word-masking, bert-large-uncased-whole-word-masking-finetuned-squad, bert-large-cased-whole-word-masking-finetuned-squad, bert-base-cased-finetuned-mrpc, bert-base-german-dbmdz-cased, bert-base-german-dbmdz-uncased). We assumed 'bert_en_uncased_L-12_H-768_A-12_4' was a path or url to a directory containing vocabulary files named ['vocab.txt'] but couldn't find such vocabulary files at this path or url."
     ]
    }
   ],
   "source": [
    "\"\"\"\n",
    "Each line of the dataset is composed of the review text and its label\n",
    "- Data preprocessing consists of transforming text to BERT input features:\n",
    "input_word_ids, input_mask, segment_ids\n",
    "- In the process, tokenizing the text is done with the provided BERT model tokenizer\n",
    "\"\"\"\n",
    "!pip3 install --upgrade transformers\n",
    "!pip3 install torchvision\n",
    "#from transformers import BertTokenizer, BertModel\n",
    "from transformers.modeling_bert import BertModel, BertForMaskedLM\n",
    " # Label categories\n",
    " # 1 - Insincere Question\n",
    " # 0 - Sincere Question\n",
    "label_list = [0,1]\n",
    "\n",
    "\n",
    " # maximum length of (token) input sequences\n",
    "max_seq_length = 128\n",
    "train_batch_size = 32\n",
    "\n",
    "tokenizer=BertTokenizer.from_pretrained(\"bert_en_uncased_L-12_H-768_A-12_4\")\n",
    "\n",
    "# Get BERT layer and tokenizer:\n",
    "# More details here: https://tfhub.dev/tensorflow/bert_en_uncased_L-12_H-768_A-12/2\n",
    "#bert_layer = hub.KerasLayer('https://tfhub.dev/tensorflow/bert_en_uncased_L-12_H-768_A-12/2', trainable=True)\n",
    "#vocab_file = bert_layer.resolved_object.vocab_file.asset_path.numpy()\n",
    "#do_lower_case = bert_layer.resolved_object.do_lower_case.numpy()\n",
    "#tokenizer = tokenization.FullTokenizer(vocab_file, do_lower_case)\n",
    "\n",
    "\n",
    "\n"
   ]
  },
  {
   "cell_type": "code",
   "execution_count": null,
   "metadata": {
    "colab": {
     "base_uri": "https://localhost:8080/"
    },
    "id": "wEUezMK-zkkI",
    "outputId": "76fe1dad-0e94-421e-c0fd-4dc1517b3cce"
   },
   "outputs": [],
   "source": [
    "tokenizer.wordpiece_tokenizer.tokenize('hi, how are you doing?')"
   ]
  },
  {
   "cell_type": "code",
   "execution_count": null,
   "metadata": {
    "colab": {
     "base_uri": "https://localhost:8080/"
    },
    "id": "5AFsmTO5JSmc",
    "outputId": "603622fb-dd6c-46b6-e5f0-a8ade02da27e"
   },
   "outputs": [],
   "source": [
    " tokenizer.convert_tokens_to_ids(tokenizer.wordpiece_tokenizer.tokenize('hi, how are you doing?'))"
   ]
  },
  {
   "cell_type": "markdown",
   "metadata": {
    "id": "9QinzNq6OsP1"
   },
   "source": [
    "## Task 6: Tokenize and Preprocess Text for BERT"
   ]
  },
  {
   "cell_type": "markdown",
   "metadata": {
    "id": "3FTqJ698zZ1e"
   },
   "source": [
    "<div align=\"center\">\n",
    "    <img width=\"512px\" src='https://drive.google.com/uc?id=1-SpKFELnEvBMBqO7h3iypo8q9uUUo96P' />\n",
    "    <p style=\"text-align: center;color:gray\">Figure 2: BERT Tokenizer</p>\n",
    "</div>"
   ]
  },
  {
   "cell_type": "markdown",
   "metadata": {
    "id": "cWYkggYe6HZc"
   },
   "source": [
    "We'll need to transform our data into a format BERT understands. This involves two steps. First, we create InputExamples using `classifier_data_lib`'s constructor `InputExample` provided in the BERT library."
   ]
  },
  {
   "cell_type": "code",
   "execution_count": null,
   "metadata": {
    "id": "m-21A5aNJM0W"
   },
   "outputs": [],
   "source": [
    "# This provides a function to convert row to input features and label\n",
    "\n",
    "def to_feature(text, label, label_list=label_list, max_seq_length=max_seq_length, tokenizer=tokenizer):\n",
    "  example = classifier_data_lib.InputExample(guid=None,\n",
    "                                             text_a = text.numpy(),\n",
    "                                             text_b = None,\n",
    "                                             label = label.numpy())\n",
    "  feature = classifier_data_lib.convert_single_example(0, example, label_list, max_seq_length, tokenizer)\n",
    "  return (feature.input_ids, feature.input_mask, feature.segment_ids, feature.label_id)\n",
    "\n",
    "  \n",
    "  "
   ]
  },
  {
   "cell_type": "markdown",
   "metadata": {
    "id": "A_HQSsHwWCsK"
   },
   "source": [
    "You want to use [`Dataset.map`](https://www.tensorflow.org/api_docs/python/tf/data/Dataset#map) to apply this function to each element of the dataset. [`Dataset.map`](https://www.tensorflow.org/api_docs/python/tf/data/Dataset#map) runs in graph mode.\n",
    "\n",
    "- Graph tensors do not have a value.\n",
    "- In graph mode you can only use TensorFlow Ops and functions.\n",
    "\n",
    "So you can't `.map` this function directly: You need to wrap it in a [`tf.py_function`](https://www.tensorflow.org/api_docs/python/tf/py_function). The [`tf.py_function`](https://www.tensorflow.org/api_docs/python/tf/py_function) will pass regular tensors (with a value and a `.numpy()` method to access it), to the wrapped python function."
   ]
  },
  {
   "cell_type": "markdown",
   "metadata": {
    "id": "zaNlkKVfWX0Q"
   },
   "source": [
    "## Task 7: Wrap a Python Function into a TensorFlow op for Eager Execution"
   ]
  },
  {
   "cell_type": "code",
   "execution_count": null,
   "metadata": {
    "id": "AGACBcfCWC2O"
   },
   "outputs": [],
   "source": [
    "def to_feature_map(text, label):\n",
    "  input_ids, input_mask, segment_ids, label_id = tf.py_function(to_feature, inp=[text,label], Tout=[tf.int32, tf.int32, tf.int32, tf.int32])\n",
    "  input_ids.set_shape([max_seq_length])\n",
    "  input_mask.set_shape([max_seq_length])\n",
    "  segment_ids.set_shape([max_seq_length])\n",
    "  label_id.set_shape([])\n",
    "  x = {'input_words_ids' : input_ids,\n",
    "       'input_mask': input_mask,\n",
    "       'input_type_id': segment_ids\n",
    "       }  \n",
    "  return (x, label_id)\n",
    "  "
   ]
  },
  {
   "cell_type": "markdown",
   "metadata": {
    "id": "dhdO6MjTbtn1"
   },
   "source": [
    "## Task 8: Create a TensorFlow Input Pipeline with `tf.data`"
   ]
  },
  {
   "cell_type": "code",
   "execution_count": null,
   "metadata": {
    "id": "LHRdiO3dnPNr"
   },
   "outputs": [],
   "source": [
    "with tf.device('/cpu:0'):\n",
    "  # train\n",
    "  train_data = (train_data.map(to_feature_map,\n",
    "                               num_parallel_calls=tf.data.experimental.AUTOTUNE)\n",
    "  .shuffle(1000)\n",
    "  .batch(32, drop_remainder=True)        \n",
    "  .prefetch(tf.data.experimental.AUTOTUNE))\n",
    "\n",
    "  # valid\n",
    "  valid_data = (valid_data.map(to_feature_map,\n",
    "                               num_parallel_calls=tf.data.experimental.AUTOTUNE)\n",
    "  .batch(32, drop_remainder=True)        \n",
    "  .prefetch(tf.data.experimental.AUTOTUNE))\n",
    "\n",
    "  \n",
    "  "
   ]
  },
  {
   "cell_type": "markdown",
   "metadata": {
    "id": "KLUWnfx-YDi2"
   },
   "source": [
    "The resulting `tf.data.Datasets` return `(features, labels)` pairs, as expected by [`keras.Model.fit`](https://www.tensorflow.org/api_docs/python/tf/keras/Model#fit):"
   ]
  },
  {
   "cell_type": "code",
   "execution_count": null,
   "metadata": {
    "colab": {
     "base_uri": "https://localhost:8080/"
    },
    "id": "B0Z2cy9GHQ8x",
    "outputId": "bd2b0f4c-1425-4ec5-b6d8-efcec89578ae"
   },
   "outputs": [],
   "source": [
    "# train data spec\n",
    "train_data.element_spec"
   ]
  },
  {
   "cell_type": "code",
   "execution_count": null,
   "metadata": {
    "colab": {
     "base_uri": "https://localhost:8080/"
    },
    "id": "DGAH-ycYOmao",
    "outputId": "cc91b5de-d4ab-4c18-d768-65a3a62b277a"
   },
   "outputs": [],
   "source": [
    "# valid data spec\n",
    "valid_data.element_spec"
   ]
  },
  {
   "cell_type": "markdown",
   "metadata": {
    "id": "GZxe-7yhPyQe"
   },
   "source": [
    "## Task 9: Add a Classification Head to the BERT Layer"
   ]
  },
  {
   "cell_type": "markdown",
   "metadata": {
    "id": "9THH5V0Dw2HO"
   },
   "source": [
    "<div align=\"center\">\n",
    "    <img width=\"512px\" src='https://drive.google.com/uc?id=1fnJTeJs5HUpz7nix-F9E6EZdgUflqyEu' />\n",
    "    <p style=\"text-align: center;color:gray\">Figure 3: BERT Layer</p>\n",
    "</div>"
   ]
  },
  {
   "cell_type": "code",
   "execution_count": null,
   "metadata": {
    "id": "G9il4gtlADcp"
   },
   "outputs": [],
   "source": [
    "# Building the model\n",
    "def create_model():\n",
    "  input_words_ids = tf.keras.layers.Input(shape=(max_seq_length,), dtype=tf.int32, name=\"input_words_ids\")\n",
    "  input_mask = tf.keras.layers.Input(shape=(max_seq_length,), dtype=tf.int32, name=\"input_mask\")\n",
    "  input_type_id = tf.keras.layers.Input(shape=(max_seq_length,), dtype=tf.int32, name=\"input_type_id\")\n",
    "  pooled_output, sequence_output = bert_layer([input_words_ids, input_mask, input_type_id])\n",
    "  drop = tf.keras.layers.Dropout(0.4)(pooled_output)\n",
    "  output = tf.keras.layers.Dense(1, activation='sigmoid', name='output')(drop)\n",
    "  model = tf.keras.Model(\n",
    "           inputs = {\n",
    "               'input_words_ids': input_words_ids,\n",
    "               'input_mask': input_mask,\n",
    "               'input_type_id': input_type_id          \n",
    "           },\n",
    "           outputs = output )\n",
    "  return model"
   ]
  },
  {
   "cell_type": "markdown",
   "metadata": {
    "id": "S6maM-vr7YaJ"
   },
   "source": [
    "## Task 10: Fine-Tune BERT for Text Classification"
   ]
  },
  {
   "cell_type": "code",
   "execution_count": null,
   "metadata": {
    "colab": {
     "base_uri": "https://localhost:8080/"
    },
    "id": "ptCtiiONsBgo",
    "outputId": "e33a2c09-d62d-4da9-8839-c8f6dbced2ef"
   },
   "outputs": [],
   "source": [
    "model = create_model()\n",
    "model.compile(optimizer=tf.keras.optimizers.Adam(learning_rate=2e-5),\n",
    "              loss=tf.keras.losses.BinaryCrossentropy(),\n",
    "              metrics=[tf.keras.metrics.BinaryAccuracy()])\n",
    "model.summary()"
   ]
  },
  {
   "cell_type": "code",
   "execution_count": null,
   "metadata": {
    "colab": {
     "base_uri": "https://localhost:8080/",
     "height": 338
    },
    "id": "6GJaFnkbMtPL",
    "outputId": "327574c7-09ba-4f8f-e21a-9c1f0d7966f4"
   },
   "outputs": [],
   "source": [
    "tf.keras.utils.plot_model(model=model, show_shapes=True, dpi=76)"
   ]
  },
  {
   "cell_type": "code",
   "execution_count": null,
   "metadata": {
    "colab": {
     "base_uri": "https://localhost:8080/"
    },
    "id": "OcREcgPUHr9O",
    "outputId": "632b689e-abf5-4a8f-a04c-83af39602b8b"
   },
   "outputs": [],
   "source": [
    "# Train model\n",
    "epochs = 4\n",
    "history = model.fit(train_data,\n",
    "                    validation_data=valid_data,\n",
    "                    epochs=epochs,\n",
    "                    verbose=1)"
   ]
  },
  {
   "cell_type": "markdown",
   "metadata": {
    "id": "kNZl1lx_cA5Y"
   },
   "source": [
    "## Task 11: Evaluate the BERT Text Classification Model"
   ]
  },
  {
   "cell_type": "code",
   "execution_count": null,
   "metadata": {
    "id": "dCjgrUYH_IsE"
   },
   "outputs": [],
   "source": [
    "import matplotlib.pyplot as plt\n",
    "\n",
    "def plot_graphs(history, metric):\n",
    "  plt.plot(history.history[metric])\n",
    "  plt.plot(history.history['val_'+metric], '')\n",
    "  plt.xlabel(\"Epochs\")\n",
    "  plt.ylabel(metric)\n",
    "  plt.legend([metric, 'val_'+metric])\n",
    "  plt.show()"
   ]
  },
  {
   "cell_type": "code",
   "execution_count": null,
   "metadata": {
    "colab": {
     "base_uri": "https://localhost:8080/",
     "height": 283
    },
    "id": "v6lrFRra_KmA",
    "outputId": "9b2a0db8-3f35-4a93-9862-1b15a788858d"
   },
   "outputs": [],
   "source": [
    "plot_graphs(history, 'loss')"
   ]
  },
  {
   "cell_type": "code",
   "execution_count": null,
   "metadata": {
    "colab": {
     "base_uri": "https://localhost:8080/",
     "height": 279
    },
    "id": "opu9neBA_98R",
    "outputId": "b33e79a4-7f2b-49df-eadd-8c0a4867429c"
   },
   "outputs": [],
   "source": [
    "plot_graphs(history, 'binary_accuracy')"
   ]
  },
  {
   "cell_type": "code",
   "execution_count": null,
   "metadata": {
    "colab": {
     "base_uri": "https://localhost:8080/"
    },
    "id": "hkhtCCgnUbY6",
    "outputId": "984e8b21-83bb-4851-f0bd-348040ccdc9a"
   },
   "outputs": [],
   "source": [
    "sample_example = [\"Every once in a while a movie comes, that truly makes an impact. Joaquins performance and scenography in all its brilliance. Grotesque, haunting and cringy. Hard to watch at times,... but so mesmerizing, you wont blink an eye watching it. Tragic, but with seriously funny moments. Emotional rollercoaster - sometimes, with multiple emotions popping-up at the same time.\", \n",
    "                  \"This is a very poor remake of Dirty Rotten Scoundrels and unlike that movie this one lacks in humor and talent, Rebel Wilson is woeful yet again, do not waste your money, go and rewatch the original\",\n",
    "                  \"I went into this film expecting an all-time classic based on the reviews I had read & what I ended up watching was just a decent film overall. Phoenix is outstanding...so he definitely did his part\",\n",
    "                  'Apart from Eddie, the film is full of brilliant performances, in particularly by Wesley Snipes who matches and sometimes steals the show from Eddie',\n",
    "                  'Do yourself a favor, watch the original and save your money. I am so tired of remaking the old movies and catering to women, and yes, I am a women']\n",
    "test_data = tf.data.Dataset.from_tensor_slices((sample_example, [1]*len(sample_example)))\n",
    "test_data = test_data.map(to_feature_map).batch(1)\n",
    "preds = model.predict(test_data)\n",
    "threshold = 0.5\n",
    "['positive' if pred >= threshold else 'negative' for pred in preds]\n",
    "\n"
   ]
  },
  {
   "cell_type": "code",
   "execution_count": null,
   "metadata": {
    "id": "K4B8NQBLd9rN"
   },
   "outputs": [],
   "source": []
  },
  {
   "cell_type": "code",
   "execution_count": null,
   "metadata": {
    "id": "FeVNOGfFJT9O"
   },
   "outputs": [],
   "source": []
  },
  {
   "cell_type": "code",
   "execution_count": null,
   "metadata": {
    "id": "I_YWudFRJT__"
   },
   "outputs": [],
   "source": []
  },
  {
   "cell_type": "code",
   "execution_count": null,
   "metadata": {
    "id": "hENB__IlJUCk"
   },
   "outputs": [],
   "source": []
  },
  {
   "cell_type": "code",
   "execution_count": null,
   "metadata": {
    "id": "wkYpiGrhJUFK"
   },
   "outputs": [],
   "source": []
  },
  {
   "cell_type": "code",
   "execution_count": null,
   "metadata": {
    "id": "iYqbQZJnJUHw"
   },
   "outputs": [],
   "source": []
  },
  {
   "cell_type": "code",
   "execution_count": null,
   "metadata": {
    "id": "aiKuBGgfJUKv"
   },
   "outputs": [],
   "source": []
  }
 ],
 "metadata": {
  "accelerator": "GPU",
  "colab": {
   "collapsed_sections": [],
   "machine_shape": "hm",
   "name": "movie_review_Classification_with_BERT_TensorFlow.ipynb",
   "provenance": []
  },
  "kernelspec": {
   "display_name": "Python 3 (ipykernel)",
   "language": "python",
   "name": "python3"
  },
  "language_info": {
   "codemirror_mode": {
    "name": "ipython",
    "version": 3
   },
   "file_extension": ".py",
   "mimetype": "text/x-python",
   "name": "python",
   "nbconvert_exporter": "python",
   "pygments_lexer": "ipython3",
   "version": "3.11.4"
  }
 },
 "nbformat": 4,
 "nbformat_minor": 1
}
