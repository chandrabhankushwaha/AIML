{
 "cells": [
  {
   "cell_type": "code",
   "execution_count": 6,
   "id": "ff7d4fcc",
   "metadata": {},
   "outputs": [],
   "source": [
    "import pandas as pd\n",
    "import numpy as np\n",
    "import matplotlib.pyplot as pt\n",
    "from sklearn.linear_model import SGDRegressor\n",
    "from sklearn.metrics import mean_squared_error\n",
    "import math"
   ]
  },
  {
   "cell_type": "code",
   "execution_count": 7,
   "id": "50517194",
   "metadata": {},
   "outputs": [],
   "source": [
    "dataset=pd.read_csv('C:/Users/Poornima92/Desktop/BITS/BITS-March22-Aug-22/PG-AIML/Lab/DataSets/GDP_vs_Satisfaction.csv')"
   ]
  },
  {
   "cell_type": "code",
   "execution_count": 8,
   "id": "46944a4e",
   "metadata": {},
   "outputs": [],
   "source": [
    "x=dataset['GDP']\n",
    "x/=100000\n",
    "x=x.values.reshape(-1,1)\n",
    "y=dataset['Satisfaction'].values.reshape(-1,1)"
   ]
  },
  {
   "cell_type": "code",
   "execution_count": 9,
   "id": "a61d3fac",
   "metadata": {},
   "outputs": [
    {
     "data": {
      "text/plain": [
       "SGDRegressor(tol=0.0001)"
      ]
     },
     "execution_count": 9,
     "metadata": {},
     "output_type": "execute_result"
    }
   ],
   "source": [
    "reg=SGDRegressor(max_iter=1000, tol=0.0001, eta0=1e-2)\n",
    "#reg.fit(x,y)\n",
    "reg.fit(x,np.ravel(y,order=\"c\"))"
   ]
  },
  {
   "cell_type": "code",
   "execution_count": 10,
   "id": "b55ab12c",
   "metadata": {},
   "outputs": [
    {
     "name": "stdout",
     "output_type": "stream",
     "text": [
      "Coefficient obtained [2.21211043]\n",
      "Intercept obtained [5.76082931]\n"
     ]
    }
   ],
   "source": [
    "print('Coefficient obtained',reg.coef_)\n",
    "print('Intercept obtained', reg.intercept_)"
   ]
  },
  {
   "cell_type": "code",
   "execution_count": 11,
   "id": "fad9cdc1",
   "metadata": {},
   "outputs": [
    {
     "name": "stdout",
     "output_type": "stream",
     "text": [
      "RMSE 0.535802370609116\n",
      "RSE 0.551799983312525\n",
      "R^2 0.4680087723819669\n"
     ]
    }
   ],
   "source": [
    "num_data=x.shape[0]\n",
    "y_pred=reg.predict(x)\n",
    "mse=mean_squared_error(y,y_pred)\n",
    "rmse=math.sqrt(mse)\n",
    "rse=mse*num_data\n",
    "rse/=num_data-2\n",
    "rse=math.sqrt(rse)\n",
    "r2_score=reg.score(x,y)\n",
    "\n",
    "print('RMSE', rmse)\n",
    "print('RSE', rse)\n",
    "print('R^2',r2_score)"
   ]
  },
  {
   "cell_type": "code",
   "execution_count": null,
   "id": "0e23a6fa",
   "metadata": {},
   "outputs": [],
   "source": []
  }
 ],
 "metadata": {
  "kernelspec": {
   "display_name": "Python 3",
   "language": "python",
   "name": "python3"
  },
  "language_info": {
   "codemirror_mode": {
    "name": "ipython",
    "version": 3
   },
   "file_extension": ".py",
   "mimetype": "text/x-python",
   "name": "python",
   "nbconvert_exporter": "python",
   "pygments_lexer": "ipython3",
   "version": "3.8.8"
  }
 },
 "nbformat": 4,
 "nbformat_minor": 5
}
