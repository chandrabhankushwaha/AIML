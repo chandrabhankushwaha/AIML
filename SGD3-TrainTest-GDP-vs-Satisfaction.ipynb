{
 "cells": [
  {
   "cell_type": "code",
   "execution_count": 15,
   "id": "ff7d4fcc",
   "metadata": {},
   "outputs": [],
   "source": [
    "import pandas as pd\n",
    "import numpy as np\n",
    "import matplotlib.pyplot as pt\n",
    "from sklearn.linear_model import SGDRegressor\n",
    "from sklearn.metrics import mean_squared_error\n",
    "import matplotlib.pyplot as plt\n",
    "import math"
   ]
  },
  {
   "cell_type": "code",
   "execution_count": 16,
   "id": "50517194",
   "metadata": {},
   "outputs": [],
   "source": [
    "dataset=pd.read_csv('C:/Users/Poornima92/Desktop/BITS/BITS-March22-Aug-22/PG-AIML/Lab/DataSets/GDP_vs_Satisfaction.csv')"
   ]
  },
  {
   "cell_type": "code",
   "execution_count": 17,
   "id": "3f314094",
   "metadata": {},
   "outputs": [],
   "source": [
    "x=dataset['GDP']\n",
    "x/=100000\n",
    "x=x.values.reshape(-1,1)\n",
    "y=dataset['Satisfaction'].values.reshape(-1,1)"
   ]
  },
  {
   "cell_type": "markdown",
   "id": "7565cd02",
   "metadata": {},
   "source": [
    "# Train Test Split"
   ]
  },
  {
   "cell_type": "code",
   "execution_count": 18,
   "id": "1704a00b",
   "metadata": {},
   "outputs": [],
   "source": [
    "from sklearn.model_selection import train_test_split"
   ]
  },
  {
   "cell_type": "code",
   "execution_count": 19,
   "id": "89a3b0da",
   "metadata": {},
   "outputs": [],
   "source": [
    "X_train, X_test, y_train, y_test = train_test_split(x, y, test_size=0.3, random_state=101)"
   ]
  },
  {
   "cell_type": "code",
   "execution_count": 20,
   "id": "a2753f43",
   "metadata": {},
   "outputs": [
    {
     "data": {
      "text/plain": [
       "array([[0.13619],\n",
       "       [0.29867],\n",
       "       [0.40997],\n",
       "       [0.43332],\n",
       "       [0.43724],\n",
       "       [0.43603],\n",
       "       [0.1224 ],\n",
       "       [0.17257],\n",
       "       [0.51351],\n",
       "       [0.50962],\n",
       "       [0.09009],\n",
       "       [0.74822],\n",
       "       [0.13341],\n",
       "       [0.41974],\n",
       "       [0.50855],\n",
       "       [0.37675],\n",
       "       [0.35343],\n",
       "       [0.43771],\n",
       "       [0.25865],\n",
       "       [0.37045],\n",
       "       [0.52114],\n",
       "       [0.32486],\n",
       "       [0.18064],\n",
       "       [0.80675]])"
      ]
     },
     "execution_count": 20,
     "metadata": {},
     "output_type": "execute_result"
    }
   ],
   "source": [
    "X_train = X_train.reshape(-1,1)\n",
    "X_test=X_test.reshape(-1,1)\n",
    "X_train"
   ]
  },
  {
   "cell_type": "markdown",
   "id": "f2ec6a52",
   "metadata": {},
   "source": [
    "# Training the Model\n",
    "Now its time to train our model on our training data!\n",
    "\n",
    "** Import LinearRegression from sklearn.linear_model **"
   ]
  },
  {
   "cell_type": "code",
   "execution_count": 21,
   "id": "4dff8177",
   "metadata": {},
   "outputs": [],
   "source": [
    "from sklearn.linear_model import SGDRegressor"
   ]
  },
  {
   "cell_type": "code",
   "execution_count": 22,
   "id": "c865f933",
   "metadata": {},
   "outputs": [],
   "source": [
    "clf_ = SGDRegressor()"
   ]
  },
  {
   "cell_type": "code",
   "execution_count": 23,
   "id": "30b383c6",
   "metadata": {},
   "outputs": [
    {
     "data": {
      "text/plain": [
       "SGDRegressor()"
      ]
     },
     "execution_count": 23,
     "metadata": {},
     "output_type": "execute_result"
    }
   ],
   "source": [
    "#clf_.fit(X_train, y_train)\n",
    "clf_.fit(X_train, y_train.ravel())"
   ]
  },
  {
   "cell_type": "code",
   "execution_count": 24,
   "id": "fb90153f",
   "metadata": {},
   "outputs": [
    {
     "name": "stdout",
     "output_type": "stream",
     "text": [
      "[5.80279787]\n"
     ]
    }
   ],
   "source": [
    "print(clf_.intercept_)"
   ]
  },
  {
   "cell_type": "code",
   "execution_count": 25,
   "id": "e83c9e8b",
   "metadata": {},
   "outputs": [
    {
     "name": "stdout",
     "output_type": "stream",
     "text": [
      "[2.28663083]\n"
     ]
    }
   ],
   "source": [
    "print(clf_.coef_)"
   ]
  },
  {
   "cell_type": "code",
   "execution_count": 26,
   "id": "04329377",
   "metadata": {},
   "outputs": [],
   "source": [
    "predictions_sgd=clf_.predict(X_test)"
   ]
  },
  {
   "cell_type": "code",
   "execution_count": 27,
   "id": "58bd43af",
   "metadata": {},
   "outputs": [
    {
     "data": {
      "text/plain": [
       "<matplotlib.collections.PathCollection at 0x12c4ccc2730>"
      ]
     },
     "execution_count": 27,
     "metadata": {},
     "output_type": "execute_result"
    },
    {
     "data": {
      "image/png": "[encoded data removed]",
      "text/plain": [
       "<Figure size 432x288 with 1 Axes>"
      ]
     },
     "metadata": {
      "needs_background": "light"
     },
     "output_type": "display_data"
    }
   ],
   "source": [
    "plt.scatter(y_test,predictions_sgd)"
   ]
  },
  {
   "cell_type": "code",
   "execution_count": 28,
   "id": "bd73bc60",
   "metadata": {},
   "outputs": [],
   "source": [
    "from sklearn import metrics"
   ]
  },
  {
   "cell_type": "code",
   "execution_count": 29,
   "id": "098bfb29",
   "metadata": {},
   "outputs": [
    {
     "name": "stdout",
     "output_type": "stream",
     "text": [
      "MAE: 0.47874300448649887\n",
      "MSE: 0.3582424419848409\n",
      "RMSE: 0.5985335763220313\n",
      "r2: 0.18397335315953067\n"
     ]
    }
   ],
   "source": [
    "print('MAE:', metrics.mean_absolute_error(y_test, predictions_sgd))\n",
    "print('MSE:', metrics.mean_squared_error(y_test, predictions_sgd))\n",
    "print('RMSE:', np.sqrt(metrics.mean_squared_error(y_test, predictions_sgd)))\n",
    "print('r2:', metrics.r2_score(y_test, predictions_sgd))"
   ]
  },
  {
   "cell_type": "code",
   "execution_count": null,
   "id": "bc262f0c",
   "metadata": {},
   "outputs": [],
   "source": []
  }
 ],
 "metadata": {
  "kernelspec": {
   "display_name": "Python 3",
   "language": "python",
   "name": "python3"
  },
  "language_info": {
   "codemirror_mode": {
    "name": "ipython",
    "version": 3
   },
   "file_extension": ".py",
   "mimetype": "text/x-python",
   "name": "python",
   "nbconvert_exporter": "python",
   "pygments_lexer": "ipython3",
   "version": "3.8.8"
  }
 },
 "nbformat": 4,
 "nbformat_minor": 5
}
