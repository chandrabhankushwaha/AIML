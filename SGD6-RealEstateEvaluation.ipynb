{
 "cells": [
  {
   "cell_type": "code",
   "execution_count": 38,
   "id": "0088b490",
   "metadata": {},
   "outputs": [],
   "source": [
    "import pandas as pd\n",
    "import numpy as np\n",
    "import matplotlib.pyplot as pt\n",
    "from sklearn.linear_model import SGDRegressor\n",
    "from sklearn.metrics import mean_squared_error\n",
    "import math"
   ]
  },
  {
   "cell_type": "code",
   "execution_count": 39,
   "id": "2b1ca38e",
   "metadata": {},
   "outputs": [],
   "source": [
    "dataset=pd.read_csv('C:/Users/Poornima92/Desktop/BITS/BITS-March22-Aug-22/PG-AIML/Lab/DataSets/Realestatevaluationdataset.csv')"
   ]
  },
  {
   "cell_type": "code",
   "execution_count": 40,
   "id": "2d227464",
   "metadata": {},
   "outputs": [],
   "source": [
    "#x=dataset['X4 number of convenience stores']\n",
    "x=dataset['X3 distance to the nearest MRT station']\n",
    "x/=1000\n",
    "x=x.values.reshape(-1,1)\n",
    "y=dataset['Y house price of unit area'].values.reshape(-1,1)"
   ]
  },
  {
   "cell_type": "code",
   "execution_count": 41,
   "id": "d0ee1bd2",
   "metadata": {},
   "outputs": [
    {
     "data": {
      "text/plain": [
       "SGDRegressor(eta0=0.001, tol=0.0001)"
      ]
     },
     "execution_count": 41,
     "metadata": {},
     "output_type": "execute_result"
    }
   ],
   "source": [
    "reg=SGDRegressor(max_iter=1000, tol=0.0001, eta0=1e-3)\n",
    "#reg.fit(x,y)\n",
    "reg.fit(x,np.ravel(y,order=\"c\"))"
   ]
  },
  {
   "cell_type": "code",
   "execution_count": 42,
   "id": "92241c39",
   "metadata": {},
   "outputs": [
    {
     "name": "stdout",
     "output_type": "stream",
     "text": [
      "Coefficient obtained [-7.20462685]\n",
      "Intercept obtained [45.73531488]\n"
     ]
    }
   ],
   "source": [
    "print('Coefficient obtained',reg.coef_)\n",
    "print('Intercept obtained', reg.intercept_)"
   ]
  },
  {
   "cell_type": "code",
   "execution_count": 43,
   "id": "190ab59d",
   "metadata": {},
   "outputs": [
    {
     "name": "stdout",
     "output_type": "stream",
     "text": [
      "RMSE 10.04459515062766\n",
      "RSE 10.06894572005967\n",
      "R^2 0.45371019330404627\n"
     ]
    }
   ],
   "source": [
    "num_data=x.shape[0]\n",
    "y_pred=reg.predict(x)\n",
    "mse=mean_squared_error(y,y_pred)\n",
    "rmse=math.sqrt(mse)\n",
    "rse=mse*num_data\n",
    "rse/=num_data-2\n",
    "rse=math.sqrt(rse)\n",
    "r2_score=reg.score(x,y)\n",
    "\n",
    "print('RMSE', rmse)\n",
    "print('RSE', rse)\n",
    "print('R^2',r2_score)"
   ]
  },
  {
   "cell_type": "code",
   "execution_count": null,
   "id": "11fa0b64",
   "metadata": {},
   "outputs": [],
   "source": []
  }
 ],
 "metadata": {
  "kernelspec": {
   "display_name": "Python 3",
   "language": "python",
   "name": "python3"
  },
  "language_info": {
   "codemirror_mode": {
    "name": "ipython",
    "version": 3
   },
   "file_extension": ".py",
   "mimetype": "text/x-python",
   "name": "python",
   "nbconvert_exporter": "python",
   "pygments_lexer": "ipython3",
   "version": "3.8.8"
  }
 },
 "nbformat": 4,
 "nbformat_minor": 5
}
