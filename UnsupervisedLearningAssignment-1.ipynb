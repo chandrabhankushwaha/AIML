{
 "cells": [
  {
   "cell_type": "code",
   "execution_count": 1,
   "id": "718c9c6b",
   "metadata": {},
   "outputs": [],
   "source": [
    "#conda install -c conda-forge kneed"
   ]
  },
  {
   "cell_type": "code",
   "execution_count": 2,
   "id": "9e4421fe",
   "metadata": {},
   "outputs": [],
   "source": [
    "import matplotlib.pyplot as plt\n",
    "from kneed import KneeLocator\n",
    "from pandas import DataFrame\n",
    "from sklearn.datasets import make_moons\n",
    "from sklearn.cluster import KMeans\n",
    "from sklearn.metrics import silhouette_score\n",
    "from sklearn.preprocessing import StandardScaler\n",
    "import numpy as np\n",
    "from sklearn.metrics import average_precision_score\n",
    "from sklearn.metrics import accuracy_score\n",
    "import pandas as pd\n",
    "import numpy as np\n",
    "import matplotlib.pyplot as plt\n",
    "import seaborn as sns\n",
    "import pandas as pd\n",
    "import numpy as np\n",
    "import matplotlib.pyplot as plt\n",
    "from IPython.display import Image\n",
    "from sklearn.cluster import KMeans\n",
    "from sklearn.preprocessing import StandardScaler\n",
    "from sklearn.pipeline import make_pipeline\n",
    "import plotly.express as px\n",
    "\n",
    "%matplotlib inline"
   ]
  },
  {
   "cell_type": "markdown",
   "id": "f4f6b06d",
   "metadata": {},
   "source": [
    "Lets Load the data to see what we have"
   ]
  },
  {
   "cell_type": "code",
   "execution_count": 3,
   "id": "b5d08513",
   "metadata": {},
   "outputs": [],
   "source": [
    "data = pd.read_csv(\"./cricketers.csv\", sep='\\t', engine='python')"
   ]
  },
  {
   "cell_type": "markdown",
   "id": "71042f10",
   "metadata": {},
   "source": [
    "Lets Print top 5 data. As this is unsupervised learning so Label (Output Column) will be unknown"
   ]
  },
  {
   "cell_type": "code",
   "execution_count": 4,
   "id": "d09f3ded",
   "metadata": {},
   "outputs": [
    {
     "data": {
      "text/html": [
       "<div>\n",
       "<style scoped>\n",
       "    .dataframe tbody tr th:only-of-type {\n",
       "        vertical-align: middle;\n",
       "    }\n",
       "\n",
       "    .dataframe tbody tr th {\n",
       "        vertical-align: top;\n",
       "    }\n",
       "\n",
       "    .dataframe thead th {\n",
       "        text-align: right;\n",
       "    }\n",
       "</style>\n",
       "<table border=\"1\" class=\"dataframe\">\n",
       "  <thead>\n",
       "    <tr style=\"text-align: right;\">\n",
       "      <th></th>\n",
       "      <th>PLAYER</th>\n",
       "      <th>matches_played</th>\n",
       "      <th>innings_batted</th>\n",
       "      <th>runs_scored</th>\n",
       "      <th>highest_runs</th>\n",
       "      <th>balls_faced</th>\n",
       "      <th>average_runs</th>\n",
       "      <th>strike_rate</th>\n",
       "      <th>innings_bowled</th>\n",
       "      <th>overs</th>\n",
       "      <th>runs_given</th>\n",
       "      <th>wickets_obtained</th>\n",
       "      <th>average_runs_per_wicket</th>\n",
       "      <th>bowling_economy</th>\n",
       "    </tr>\n",
       "  </thead>\n",
       "  <tbody>\n",
       "    <tr>\n",
       "      <th>0</th>\n",
       "      <td>Aaron Finch</td>\n",
       "      <td>10</td>\n",
       "      <td>9</td>\n",
       "      <td>134</td>\n",
       "      <td>46</td>\n",
       "      <td>100</td>\n",
       "      <td>16.75</td>\n",
       "      <td>144.00</td>\n",
       "      <td>0</td>\n",
       "      <td>0.0</td>\n",
       "      <td>0</td>\n",
       "      <td>0</td>\n",
       "      <td>0.0</td>\n",
       "      <td>0.0</td>\n",
       "    </tr>\n",
       "    <tr>\n",
       "      <th>1</th>\n",
       "      <td>AB de Villiers</td>\n",
       "      <td>12</td>\n",
       "      <td>11</td>\n",
       "      <td>480</td>\n",
       "      <td>90</td>\n",
       "      <td>275</td>\n",
       "      <td>53.33</td>\n",
       "      <td>174.54</td>\n",
       "      <td>0</td>\n",
       "      <td>0.0</td>\n",
       "      <td>0</td>\n",
       "      <td>0</td>\n",
       "      <td>0.0</td>\n",
       "      <td>0.0</td>\n",
       "    </tr>\n",
       "    <tr>\n",
       "      <th>2</th>\n",
       "      <td>Abhishek Sharma</td>\n",
       "      <td>3</td>\n",
       "      <td>3</td>\n",
       "      <td>63</td>\n",
       "      <td>46</td>\n",
       "      <td>33</td>\n",
       "      <td>63.00</td>\n",
       "      <td>190.90</td>\n",
       "      <td>0</td>\n",
       "      <td>0.0</td>\n",
       "      <td>0</td>\n",
       "      <td>0</td>\n",
       "      <td>0.0</td>\n",
       "      <td>0.0</td>\n",
       "    </tr>\n",
       "    <tr>\n",
       "      <th>3</th>\n",
       "      <td>Ajinkya Rahane</td>\n",
       "      <td>15</td>\n",
       "      <td>14</td>\n",
       "      <td>370</td>\n",
       "      <td>65</td>\n",
       "      <td>313</td>\n",
       "      <td>28.46</td>\n",
       "      <td>118.21</td>\n",
       "      <td>0</td>\n",
       "      <td>0.0</td>\n",
       "      <td>0</td>\n",
       "      <td>0</td>\n",
       "      <td>0.0</td>\n",
       "      <td>0.0</td>\n",
       "    </tr>\n",
       "    <tr>\n",
       "      <th>4</th>\n",
       "      <td>Alex Hales</td>\n",
       "      <td>6</td>\n",
       "      <td>6</td>\n",
       "      <td>148</td>\n",
       "      <td>45</td>\n",
       "      <td>118</td>\n",
       "      <td>24.66</td>\n",
       "      <td>125.42</td>\n",
       "      <td>0</td>\n",
       "      <td>0.0</td>\n",
       "      <td>0</td>\n",
       "      <td>0</td>\n",
       "      <td>0.0</td>\n",
       "      <td>0.0</td>\n",
       "    </tr>\n",
       "  </tbody>\n",
       "</table>\n",
       "</div>"
      ],
      "text/plain": [
       "            PLAYER  matches_played  innings_batted  runs_scored  highest_runs  \\\n",
       "0      Aaron Finch              10               9          134            46   \n",
       "1   AB de Villiers              12              11          480            90   \n",
       "2  Abhishek Sharma               3               3           63            46   \n",
       "3   Ajinkya Rahane              15              14          370            65   \n",
       "4       Alex Hales               6               6          148            45   \n",
       "\n",
       "   balls_faced  average_runs  strike_rate  innings_bowled  overs  runs_given  \\\n",
       "0          100         16.75       144.00               0    0.0           0   \n",
       "1          275         53.33       174.54               0    0.0           0   \n",
       "2           33         63.00       190.90               0    0.0           0   \n",
       "3          313         28.46       118.21               0    0.0           0   \n",
       "4          118         24.66       125.42               0    0.0           0   \n",
       "\n",
       "   wickets_obtained  average_runs_per_wicket   bowling_economy   \n",
       "0                 0                       0.0               0.0  \n",
       "1                 0                       0.0               0.0  \n",
       "2                 0                       0.0               0.0  \n",
       "3                 0                       0.0               0.0  \n",
       "4                 0                       0.0               0.0  "
      ]
     },
     "execution_count": 4,
     "metadata": {},
     "output_type": "execute_result"
    }
   ],
   "source": [
    "data.head()"
   ]
  },
  {
   "cell_type": "markdown",
   "id": "a147e979",
   "metadata": {},
   "source": [
    "# Lets see the shape of data"
   ]
  },
  {
   "cell_type": "code",
   "execution_count": 5,
   "id": "993548fe",
   "metadata": {},
   "outputs": [
    {
     "data": {
      "text/plain": [
       "(109, 14)"
      ]
     },
     "execution_count": 5,
     "metadata": {},
     "output_type": "execute_result"
    }
   ],
   "source": [
    "data.shape\n"
   ]
  },
  {
   "cell_type": "markdown",
   "id": "e3975d37",
   "metadata": {},
   "source": [
    "we have 109 rows and 14 colums"
   ]
  },
  {
   "cell_type": "markdown",
   "id": "6b83cdd1",
   "metadata": {},
   "source": [
    "# Let see the data info"
   ]
  },
  {
   "cell_type": "code",
   "execution_count": 6,
   "id": "91534820",
   "metadata": {},
   "outputs": [
    {
     "name": "stdout",
     "output_type": "stream",
     "text": [
      "<class 'pandas.core.frame.DataFrame'>\n",
      "RangeIndex: 109 entries, 0 to 108\n",
      "Data columns (total 14 columns):\n",
      " #   Column                    Non-Null Count  Dtype  \n",
      "---  ------                    --------------  -----  \n",
      " 0   PLAYER                    109 non-null    object \n",
      " 1   matches_played            109 non-null    int64  \n",
      " 2   innings_batted            109 non-null    int64  \n",
      " 3   runs_scored               109 non-null    int64  \n",
      " 4   highest_runs              109 non-null    int64  \n",
      " 5   balls_faced               109 non-null    int64  \n",
      " 6   average_runs              109 non-null    float64\n",
      " 7   strike_rate               109 non-null    float64\n",
      " 8   innings_bowled            109 non-null    int64  \n",
      " 9   overs                     109 non-null    float64\n",
      " 10  runs_given                109 non-null    int64  \n",
      " 11  wickets_obtained          109 non-null    int64  \n",
      " 12  average_runs_per_wicket   109 non-null    float64\n",
      " 13  bowling_economy           109 non-null    float64\n",
      "dtypes: float64(5), int64(8), object(1)\n",
      "memory usage: 12.0+ KB\n"
     ]
    }
   ],
   "source": [
    "data.info()"
   ]
  },
  {
   "cell_type": "markdown",
   "id": "0c8a3caa",
   "metadata": {},
   "source": [
    " there are no missing values as all the columns has 109 entries properly"
   ]
  },
  {
   "cell_type": "code",
   "execution_count": 7,
   "id": "944a5e9b",
   "metadata": {},
   "outputs": [
    {
     "data": {
      "text/html": [
       "<div>\n",
       "<style scoped>\n",
       "    .dataframe tbody tr th:only-of-type {\n",
       "        vertical-align: middle;\n",
       "    }\n",
       "\n",
       "    .dataframe tbody tr th {\n",
       "        vertical-align: top;\n",
       "    }\n",
       "\n",
       "    .dataframe thead th {\n",
       "        text-align: right;\n",
       "    }\n",
       "</style>\n",
       "<table border=\"1\" class=\"dataframe\">\n",
       "  <thead>\n",
       "    <tr style=\"text-align: right;\">\n",
       "      <th></th>\n",
       "      <th>matches_played</th>\n",
       "      <th>innings_batted</th>\n",
       "      <th>runs_scored</th>\n",
       "      <th>highest_runs</th>\n",
       "      <th>balls_faced</th>\n",
       "      <th>average_runs</th>\n",
       "      <th>strike_rate</th>\n",
       "      <th>innings_bowled</th>\n",
       "      <th>overs</th>\n",
       "      <th>runs_given</th>\n",
       "      <th>wickets_obtained</th>\n",
       "      <th>average_runs_per_wicket</th>\n",
       "      <th>bowling_economy</th>\n",
       "    </tr>\n",
       "  </thead>\n",
       "  <tbody>\n",
       "    <tr>\n",
       "      <th>count</th>\n",
       "      <td>109.000000</td>\n",
       "      <td>109.000000</td>\n",
       "      <td>109.000000</td>\n",
       "      <td>109.000000</td>\n",
       "      <td>109.000000</td>\n",
       "      <td>109.000000</td>\n",
       "      <td>109.000000</td>\n",
       "      <td>109.000000</td>\n",
       "      <td>109.000000</td>\n",
       "      <td>109.00000</td>\n",
       "      <td>109.000000</td>\n",
       "      <td>109.000000</td>\n",
       "      <td>109.000000</td>\n",
       "    </tr>\n",
       "    <tr>\n",
       "      <th>mean</th>\n",
       "      <td>9.559633</td>\n",
       "      <td>7.889908</td>\n",
       "      <td>173.633028</td>\n",
       "      <td>43.495413</td>\n",
       "      <td>124.669725</td>\n",
       "      <td>22.360092</td>\n",
       "      <td>122.258716</td>\n",
       "      <td>4.513761</td>\n",
       "      <td>13.894495</td>\n",
       "      <td>119.93578</td>\n",
       "      <td>3.926606</td>\n",
       "      <td>17.334862</td>\n",
       "      <td>5.149817</td>\n",
       "    </tr>\n",
       "    <tr>\n",
       "      <th>std</th>\n",
       "      <td>5.161164</td>\n",
       "      <td>4.982078</td>\n",
       "      <td>182.356522</td>\n",
       "      <td>29.830268</td>\n",
       "      <td>123.670265</td>\n",
       "      <td>16.093453</td>\n",
       "      <td>48.576709</td>\n",
       "      <td>5.449456</td>\n",
       "      <td>18.395495</td>\n",
       "      <td>152.80763</td>\n",
       "      <td>5.602094</td>\n",
       "      <td>21.910816</td>\n",
       "      <td>4.773435</td>\n",
       "    </tr>\n",
       "    <tr>\n",
       "      <th>min</th>\n",
       "      <td>0.000000</td>\n",
       "      <td>0.000000</td>\n",
       "      <td>0.000000</td>\n",
       "      <td>0.000000</td>\n",
       "      <td>0.000000</td>\n",
       "      <td>0.000000</td>\n",
       "      <td>0.000000</td>\n",
       "      <td>0.000000</td>\n",
       "      <td>0.000000</td>\n",
       "      <td>0.00000</td>\n",
       "      <td>0.000000</td>\n",
       "      <td>-0.000000</td>\n",
       "      <td>0.000000</td>\n",
       "    </tr>\n",
       "    <tr>\n",
       "      <th>25%</th>\n",
       "      <td>5.000000</td>\n",
       "      <td>4.000000</td>\n",
       "      <td>36.000000</td>\n",
       "      <td>20.000000</td>\n",
       "      <td>33.000000</td>\n",
       "      <td>11.800000</td>\n",
       "      <td>109.090000</td>\n",
       "      <td>0.000000</td>\n",
       "      <td>0.000000</td>\n",
       "      <td>0.00000</td>\n",
       "      <td>0.000000</td>\n",
       "      <td>0.000000</td>\n",
       "      <td>0.000000</td>\n",
       "    </tr>\n",
       "    <tr>\n",
       "      <th>50%</th>\n",
       "      <td>10.000000</td>\n",
       "      <td>7.000000</td>\n",
       "      <td>99.000000</td>\n",
       "      <td>40.000000</td>\n",
       "      <td>76.000000</td>\n",
       "      <td>21.160000</td>\n",
       "      <td>130.260000</td>\n",
       "      <td>2.000000</td>\n",
       "      <td>3.000000</td>\n",
       "      <td>27.00000</td>\n",
       "      <td>0.000000</td>\n",
       "      <td>0.000000</td>\n",
       "      <td>7.280000</td>\n",
       "    </tr>\n",
       "    <tr>\n",
       "      <th>75%</th>\n",
       "      <td>14.000000</td>\n",
       "      <td>13.000000</td>\n",
       "      <td>260.000000</td>\n",
       "      <td>62.000000</td>\n",
       "      <td>188.000000</td>\n",
       "      <td>30.000000</td>\n",
       "      <td>146.040000</td>\n",
       "      <td>8.000000</td>\n",
       "      <td>26.000000</td>\n",
       "      <td>223.00000</td>\n",
       "      <td>6.000000</td>\n",
       "      <td>28.360000</td>\n",
       "      <td>9.230000</td>\n",
       "    </tr>\n",
       "    <tr>\n",
       "      <th>max</th>\n",
       "      <td>17.000000</td>\n",
       "      <td>17.000000</td>\n",
       "      <td>735.000000</td>\n",
       "      <td>128.000000</td>\n",
       "      <td>516.000000</td>\n",
       "      <td>75.830000</td>\n",
       "      <td>300.000000</td>\n",
       "      <td>17.000000</td>\n",
       "      <td>68.000000</td>\n",
       "      <td>533.00000</td>\n",
       "      <td>24.000000</td>\n",
       "      <td>108.000000</td>\n",
       "      <td>16.500000</td>\n",
       "    </tr>\n",
       "  </tbody>\n",
       "</table>\n",
       "</div>"
      ],
      "text/plain": [
       "       matches_played  innings_batted  runs_scored  highest_runs  balls_faced  \\\n",
       "count      109.000000      109.000000   109.000000    109.000000   109.000000   \n",
       "mean         9.559633        7.889908   173.633028     43.495413   124.669725   \n",
       "std          5.161164        4.982078   182.356522     29.830268   123.670265   \n",
       "min          0.000000        0.000000     0.000000      0.000000     0.000000   \n",
       "25%          5.000000        4.000000    36.000000     20.000000    33.000000   \n",
       "50%         10.000000        7.000000    99.000000     40.000000    76.000000   \n",
       "75%         14.000000       13.000000   260.000000     62.000000   188.000000   \n",
       "max         17.000000       17.000000   735.000000    128.000000   516.000000   \n",
       "\n",
       "       average_runs  strike_rate  innings_bowled       overs  runs_given  \\\n",
       "count    109.000000   109.000000      109.000000  109.000000   109.00000   \n",
       "mean      22.360092   122.258716        4.513761   13.894495   119.93578   \n",
       "std       16.093453    48.576709        5.449456   18.395495   152.80763   \n",
       "min        0.000000     0.000000        0.000000    0.000000     0.00000   \n",
       "25%       11.800000   109.090000        0.000000    0.000000     0.00000   \n",
       "50%       21.160000   130.260000        2.000000    3.000000    27.00000   \n",
       "75%       30.000000   146.040000        8.000000   26.000000   223.00000   \n",
       "max       75.830000   300.000000       17.000000   68.000000   533.00000   \n",
       "\n",
       "       wickets_obtained  average_runs_per_wicket   bowling_economy   \n",
       "count        109.000000                109.000000        109.000000  \n",
       "mean           3.926606                 17.334862          5.149817  \n",
       "std            5.602094                 21.910816          4.773435  \n",
       "min            0.000000                 -0.000000          0.000000  \n",
       "25%            0.000000                  0.000000          0.000000  \n",
       "50%            0.000000                  0.000000          7.280000  \n",
       "75%            6.000000                 28.360000          9.230000  \n",
       "max           24.000000                108.000000         16.500000  "
      ]
     },
     "execution_count": 7,
     "metadata": {},
     "output_type": "execute_result"
    }
   ],
   "source": [
    "data.describe()"
   ]
  },
  {
   "cell_type": "markdown",
   "id": "399734f3",
   "metadata": {},
   "source": [
    "# Feature slection for the model\n",
    "#Considering only 2 features (average_runs and bowling_economy) and no Label available\n"
   ]
  },
  {
   "cell_type": "code",
   "execution_count": 8,
   "id": "13aea8d9",
   "metadata": {},
   "outputs": [],
   "source": [
    "X=data.iloc[:, [6,13]].values"
   ]
  },
  {
   "cell_type": "markdown",
   "id": "23764573",
   "metadata": {},
   "source": [
    "# Normalize the data attributes so that attributes are on the same scale"
   ]
  },
  {
   "cell_type": "code",
   "execution_count": 9,
   "id": "45bce708",
   "metadata": {},
   "outputs": [],
   "source": [
    "scaler = StandardScaler()\n",
    "scaled_features = scaler.fit_transform(X)"
   ]
  },
  {
   "cell_type": "markdown",
   "id": "a2ef9001",
   "metadata": {},
   "source": [
    "# Lets find the cluster with k=2 and plot . It will help in finding the pattern in data"
   ]
  },
  {
   "cell_type": "code",
   "execution_count": 10,
   "id": "941e46a9",
   "metadata": {},
   "outputs": [],
   "source": [
    "kmeans = KMeans(\n",
    "    init=\"k-means++\",\n",
    "    n_clusters=2,\n",
    "    n_init=10,\n",
    "    max_iter=300,\n",
    "    random_state=42 )"
   ]
  },
  {
   "cell_type": "markdown",
   "id": "67c20397",
   "metadata": {},
   "source": [
    "## kmeans.fit(scaled_features)"
   ]
  },
  {
   "cell_type": "code",
   "execution_count": 11,
   "id": "14fb2a1f",
   "metadata": {},
   "outputs": [
    {
     "data": {
      "text/plain": [
       "array([1, 1, 1, 1, 1, 1, 0, 0, 0, 0, 0, 0, 1, 0, 1, 1, 0, 0, 0, 1, 0, 0,\n",
       "       0, 1, 0, 0, 1, 0, 1, 1, 1, 0, 0, 0, 1, 1, 1, 1, 0, 0, 1, 0, 1, 1,\n",
       "       1, 1, 0, 0, 1, 0, 1, 1, 1, 0, 0, 1, 0, 0, 0, 0, 0, 1, 0, 1, 0, 1,\n",
       "       1, 0, 1, 0, 0, 0, 1, 1, 1, 1, 1, 1, 1, 0, 0, 0, 1, 0, 1, 0, 1, 1,\n",
       "       0, 0, 1, 1, 0, 0, 0, 1, 0, 1, 0, 0, 0, 0, 0, 0, 0, 0, 0, 0, 0])"
      ]
     },
     "execution_count": 11,
     "metadata": {},
     "output_type": "execute_result"
    }
   ],
   "source": [
    "label = kmeans.fit_predict(scaled_features)\n",
    "label"
   ]
  },
  {
   "cell_type": "markdown",
   "id": "243329f6",
   "metadata": {},
   "source": [
    "# Ploting clusters on a scatter plot with X and Y being the two attributes namely average_runs and bowling_economy, respectively."
   ]
  },
  {
   "cell_type": "code",
   "execution_count": 12,
   "id": "9336d88b",
   "metadata": {},
   "outputs": [
    {
     "data": {
      "text/plain": [
       "Text(0.5, 1.0, 'average_runs and bowling_economy cluster')"
      ]
     },
     "execution_count": 12,
     "metadata": {},
     "output_type": "execute_result"
    },
    {
     "data": {
      "image/png": "[encoded data removed]",
      "text/plain": [
       "<Figure size 432x288 with 1 Axes>"
      ]
     },
     "metadata": {
      "needs_background": "light"
     },
     "output_type": "display_data"
    }
   ],
   "source": [
    "centers = np.array(kmeans.cluster_centers_)\n",
    "LABEL_COLOR_MAP = {0:'r', 1:'b'}\n",
    "\n",
    "label_color = [LABEL_COLOR_MAP[l] for l in label]\n",
    "plt.scatter(scaled_features[:,0], scaled_features[:,1], c=label_color)\n",
    "\n",
    "\n",
    "plt.scatter(centers[:,0], centers[:,1], marker=\"o\", color='k', s=200)\n",
    "plt.title('average_runs and bowling_economy cluster')"
   ]
  },
  {
   "cell_type": "code",
   "execution_count": 13,
   "id": "7b232259",
   "metadata": {},
   "outputs": [
    {
     "data": {
      "text/plain": [
       "array([[-0.44736787,  0.8516665 ],\n",
       "       [ 0.5477974 , -1.04285693]])"
      ]
     },
     "execution_count": 13,
     "metadata": {},
     "output_type": "execute_result"
    }
   ],
   "source": [
    "# to locate the centroids of the clusters\n",
    "kmeans.cluster_centers_"
   ]
  },
  {
   "cell_type": "code",
   "execution_count": 14,
   "id": "e83a0e93",
   "metadata": {},
   "outputs": [
    {
     "data": {
      "text/plain": [
       "94.47757393181925"
      ]
     },
     "execution_count": 14,
     "metadata": {},
     "output_type": "execute_result"
    }
   ],
   "source": [
    "#the lowest SSE values\n",
    "kmeans.inertia_"
   ]
  },
  {
   "cell_type": "code",
   "execution_count": 15,
   "id": "f8e0e0cd",
   "metadata": {},
   "outputs": [
    {
     "data": {
      "text/plain": [
       "4"
      ]
     },
     "execution_count": 15,
     "metadata": {},
     "output_type": "execute_result"
    }
   ],
   "source": [
    "# Number of iterations required to converge\n",
    "kmeans.n_iter_"
   ]
  },
  {
   "cell_type": "code",
   "execution_count": 16,
   "id": "1479939c",
   "metadata": {},
   "outputs": [
    {
     "data": {
      "text/plain": [
       "array([1, 1, 1, 1, 1, 1, 0, 0, 0, 0, 0, 0, 1, 0, 1, 1, 0, 0, 0, 1])"
      ]
     },
     "execution_count": 16,
     "metadata": {},
     "output_type": "execute_result"
    }
   ],
   "source": [
    "kmeans.labels_[:20]"
   ]
  },
  {
   "cell_type": "markdown",
   "id": "a73c9b28",
   "metadata": {},
   "source": [
    "# Interpretion of the output"
   ]
  },
  {
   "cell_type": "markdown",
   "id": "4075aa10",
   "metadata": {},
   "source": [
    "From above scattered plot its seems , its not properly clustered, hence we need to increste the No of cluster. inertia looks higher on side, it seems its not converged yet. Blue cluster is more dense.\n",
    "\n",
    "Since lower the economy rate is, the better the bowler is performing.Hence Bowler in blue cluster had performed well than the red cluster "
   ]
  },
  {
   "cell_type": "markdown",
   "id": "bafdf6d8",
   "metadata": {},
   "source": [
    "# Lets find the cluster with K=3"
   ]
  },
  {
   "cell_type": "code",
   "execution_count": 17,
   "id": "b9aec035",
   "metadata": {},
   "outputs": [],
   "source": [
    "kmeans = KMeans(\n",
    "    init=\"k-means++\",\n",
    "    n_clusters=3,\n",
    "    n_init=10,\n",
    "    max_iter=300,\n",
    "    random_state=42 )"
   ]
  },
  {
   "cell_type": "code",
   "execution_count": 18,
   "id": "e9b02a13",
   "metadata": {},
   "outputs": [
    {
     "data": {
      "text/plain": [
       "array([0, 2, 2, 0, 0, 2, 1, 1, 1, 1, 1, 1, 0, 1, 2, 0, 2, 1, 1, 0, 1, 1,\n",
       "       1, 0, 1, 1, 2, 1, 0, 0, 0, 1, 1, 1, 2, 0, 0, 0, 1, 1, 2, 1, 2, 0,\n",
       "       0, 0, 1, 1, 2, 1, 0, 0, 0, 1, 1, 0, 1, 1, 1, 1, 1, 2, 1, 0, 1, 0,\n",
       "       0, 1, 0, 1, 1, 1, 0, 2, 0, 0, 0, 0, 0, 1, 2, 1, 0, 1, 0, 1, 0, 0,\n",
       "       1, 1, 0, 0, 1, 1, 2, 2, 1, 0, 1, 1, 1, 1, 1, 1, 1, 1, 1, 1, 1])"
      ]
     },
     "execution_count": 18,
     "metadata": {},
     "output_type": "execute_result"
    }
   ],
   "source": [
    "label = kmeans.fit_predict(scaled_features)\n",
    "label"
   ]
  },
  {
   "cell_type": "code",
   "execution_count": 19,
   "id": "5d1b10f9",
   "metadata": {},
   "outputs": [
    {
     "data": {
      "text/plain": [
       "array([[ 0.08347382, -1.08383228],\n",
       "       [-0.54928285,  0.83992318],\n",
       "       [ 1.88137272, -0.51825512]])"
      ]
     },
     "execution_count": 19,
     "metadata": {},
     "output_type": "execute_result"
    }
   ],
   "source": [
    "# to locate the centroids of the clusters\n",
    "kmeans.cluster_centers_\n",
    "\n"
   ]
  },
  {
   "cell_type": "code",
   "execution_count": 20,
   "id": "04181a05",
   "metadata": {},
   "outputs": [
    {
     "data": {
      "text/plain": [
       "59.746886707243625"
      ]
     },
     "execution_count": 20,
     "metadata": {},
     "output_type": "execute_result"
    }
   ],
   "source": [
    "#the lowest SSE values\n",
    "kmeans.inertia_"
   ]
  },
  {
   "cell_type": "code",
   "execution_count": 21,
   "id": "f7d93006",
   "metadata": {},
   "outputs": [
    {
     "data": {
      "text/plain": [
       "3"
      ]
     },
     "execution_count": 21,
     "metadata": {},
     "output_type": "execute_result"
    }
   ],
   "source": [
    "\n",
    "# Number of iterations required to converge\n",
    "kmeans.n_iter_"
   ]
  },
  {
   "cell_type": "code",
   "execution_count": 22,
   "id": "14f651e6",
   "metadata": {},
   "outputs": [
    {
     "data": {
      "text/plain": [
       "array([0, 2, 2, 0, 0, 2, 1, 1, 1, 1, 1, 1, 0, 1, 2, 0, 2, 1, 1, 0])"
      ]
     },
     "execution_count": 22,
     "metadata": {},
     "output_type": "execute_result"
    }
   ],
   "source": [
    "kmeans.labels_[:20]"
   ]
  },
  {
   "cell_type": "markdown",
   "id": "b174296a",
   "metadata": {},
   "source": [
    "# Visualize the cluster for K=3"
   ]
  },
  {
   "cell_type": "code",
   "execution_count": 23,
   "id": "4536820b",
   "metadata": {},
   "outputs": [
    {
     "data": {
      "text/plain": [
       "Text(0.5, 1.0, 'average_runs(red) and bowling_economy(blue)')"
      ]
     },
     "execution_count": 23,
     "metadata": {},
     "output_type": "execute_result"
    },
    {
     "data": {
      "image/png": "[encoded data removed]",
      "text/plain": [
       "<Figure size 432x288 with 1 Axes>"
      ]
     },
     "metadata": {
      "needs_background": "light"
     },
     "output_type": "display_data"
    }
   ],
   "source": [
    "\n",
    "\n",
    "centers = np.array(kmeans.cluster_centers_)\n",
    "LABEL_COLOR_MAP = {0:'r', 1:'b', 2:'g'}\n",
    "\n",
    "label_color = [LABEL_COLOR_MAP[l] for l in label]\n",
    "plt.scatter(scaled_features[:,0], scaled_features[:,1], c=label_color)\n",
    "\n",
    "\n",
    "plt.scatter(centers[:,0], centers[:,1], marker=\"o\", color='k', s=200)\n",
    "plt.title('average_runs(red) and bowling_economy(blue)')\n"
   ]
  },
  {
   "cell_type": "markdown",
   "id": "e4e386d0",
   "metadata": {},
   "source": [
    "Interpretation\n",
    "Since lower the economy rate is, the better the bowler is performing hence we can say\n",
    "Bowler in red cluster has performed very well\n",
    "Bowler in green cluster has performed ok\n",
    "Bowler in Blue color need to improve on bowling\n"
   ]
  },
  {
   "cell_type": "markdown",
   "id": "94823f61",
   "metadata": {},
   "source": [
    "# Lets find the cluster for K=4"
   ]
  },
  {
   "cell_type": "code",
   "execution_count": 24,
   "id": "ad3f8eff",
   "metadata": {},
   "outputs": [],
   "source": [
    "kmeans = KMeans(\n",
    "    init=\"k-means++\",\n",
    "    n_clusters=4,\n",
    "    n_init=10,\n",
    "    max_iter=300,\n",
    "    random_state=42 )"
   ]
  },
  {
   "cell_type": "code",
   "execution_count": 25,
   "id": "93bed3ae",
   "metadata": {},
   "outputs": [
    {
     "data": {
      "text/plain": [
       "array([2, 0, 0, 2, 2, 0, 3, 1, 1, 3, 3, 1, 2, 3, 0, 2, 3, 1, 3, 2, 1, 3,\n",
       "       1, 0, 3, 3, 0, 3, 2, 2, 2, 1, 1, 3, 0, 2, 2, 2, 1, 1, 0, 3, 0, 2,\n",
       "       2, 2, 1, 3, 0, 3, 2, 2, 2, 1, 3, 2, 1, 1, 3, 1, 1, 0, 3, 2, 1, 2,\n",
       "       2, 3, 2, 1, 1, 3, 2, 0, 2, 2, 2, 2, 2, 3, 3, 1, 0, 1, 2, 3, 0, 2,\n",
       "       1, 3, 0, 0, 3, 1, 3, 0, 3, 2, 3, 1, 1, 1, 1, 1, 1, 1, 1, 1, 1])"
      ]
     },
     "execution_count": 25,
     "metadata": {},
     "output_type": "execute_result"
    }
   ],
   "source": [
    "label = kmeans.fit_predict(scaled_features)\n",
    "label"
   ]
  },
  {
   "cell_type": "code",
   "execution_count": 26,
   "id": "feb7900d",
   "metadata": {},
   "outputs": [
    {
     "data": {
      "text/plain": [
       "array([[ 1.67060945, -0.96572687],\n",
       "       [-0.98742221,  0.94219953],\n",
       "       [-0.04869651, -1.08383228],\n",
       "       [ 0.21269854,  0.74101501]])"
      ]
     },
     "execution_count": 26,
     "metadata": {},
     "output_type": "execute_result"
    }
   ],
   "source": [
    "# to locate the centroids of the clusters\n",
    "kmeans.cluster_centers_\n"
   ]
  },
  {
   "cell_type": "code",
   "execution_count": 27,
   "id": "515622a9",
   "metadata": {},
   "outputs": [
    {
     "data": {
      "text/plain": [
       "39.51557548442673"
      ]
     },
     "execution_count": 27,
     "metadata": {},
     "output_type": "execute_result"
    }
   ],
   "source": [
    "#the lowest SSE values\n",
    "kmeans.inertia_"
   ]
  },
  {
   "cell_type": "code",
   "execution_count": 28,
   "id": "ac775319",
   "metadata": {},
   "outputs": [
    {
     "data": {
      "text/plain": [
       "6"
      ]
     },
     "execution_count": 28,
     "metadata": {},
     "output_type": "execute_result"
    }
   ],
   "source": [
    "# Number of iterations required to converge\n",
    "kmeans.n_iter_"
   ]
  },
  {
   "cell_type": "code",
   "execution_count": 29,
   "id": "cf4c8c64",
   "metadata": {},
   "outputs": [
    {
     "data": {
      "text/plain": [
       "array([2, 0, 0, 2, 2, 0, 3, 1, 1, 3, 3, 1, 2, 3, 0, 2, 3, 1, 3, 2])"
      ]
     },
     "execution_count": 29,
     "metadata": {},
     "output_type": "execute_result"
    }
   ],
   "source": [
    "kmeans.labels_[:20]"
   ]
  },
  {
   "cell_type": "markdown",
   "id": "5863eb6a",
   "metadata": {},
   "source": [
    "# Visualize the cluster for K=4"
   ]
  },
  {
   "cell_type": "code",
   "execution_count": 30,
   "id": "14d9c628",
   "metadata": {},
   "outputs": [
    {
     "data": {
      "text/plain": [
       "Text(0.5, 1.0, 'average_runs and bowling_economy')"
      ]
     },
     "execution_count": 30,
     "metadata": {},
     "output_type": "execute_result"
    },
    {
     "data": {
      "image/png": "[encoded data removed]",
      "text/plain": [
       "<Figure size 432x288 with 1 Axes>"
      ]
     },
     "metadata": {
      "needs_background": "light"
     },
     "output_type": "display_data"
    }
   ],
   "source": [
    "\n",
    "centers = np.array(kmeans.cluster_centers_)\n",
    "LABEL_COLOR_MAP = {0:'r', 1:'b', 2:'g',3:'y'}\n",
    "\n",
    "label_color = [LABEL_COLOR_MAP[l] for l in label]\n",
    "plt.scatter(scaled_features[:,0], scaled_features[:,1], c=label_color)\n",
    "\n",
    "\n",
    "plt.scatter(centers[:,0], centers[:,1], marker=\"o\", color='k', s=200)\n",
    "plt.title('average_runs and bowling_economy')\n"
   ]
  },
  {
   "cell_type": "markdown",
   "id": "689ac4f3",
   "metadata": {},
   "source": [
    "Interpretation\n",
    "Blue cluster has good bowling economy\n",
    "Cricketers in yellow looks more better with averaage runs and bowling economy\n",
    "Cricketers in Green and Red cluster need improvement for bowling economy as avarerage run is more "
   ]
  },
  {
   "cell_type": "markdown",
   "id": "78cc622d",
   "metadata": {},
   "source": [
    "#  Lets find the cluster for K=5"
   ]
  },
  {
   "cell_type": "code",
   "execution_count": 31,
   "id": "c3754eb4",
   "metadata": {},
   "outputs": [],
   "source": [
    "kmeans = KMeans(\n",
    "    init=\"k-means++\",\n",
    "    n_clusters=5,\n",
    "    n_init=10,\n",
    "    max_iter=300,\n",
    "    random_state=42 )"
   ]
  },
  {
   "cell_type": "code",
   "execution_count": 32,
   "id": "78577c03",
   "metadata": {},
   "outputs": [
    {
     "data": {
      "text/plain": [
       "array([2, 3, 3, 2, 2, 3, 1, 4, 1, 1, 1, 4, 2, 1, 3, 2, 0, 4, 1, 2, 4, 1,\n",
       "       1, 3, 1, 1, 3, 0, 2, 2, 2, 1, 4, 1, 0, 2, 2, 2, 4, 4, 3, 0, 3, 2,\n",
       "       2, 2, 1, 1, 3, 1, 2, 2, 2, 1, 1, 2, 4, 4, 1, 4, 1, 3, 1, 2, 4, 2,\n",
       "       2, 1, 2, 1, 1, 1, 2, 3, 2, 2, 2, 2, 2, 1, 0, 4, 3, 4, 2, 1, 3, 2,\n",
       "       4, 1, 3, 3, 1, 4, 0, 3, 1, 2, 1, 4, 4, 4, 4, 4, 4, 4, 4, 4, 4])"
      ]
     },
     "execution_count": 32,
     "metadata": {},
     "output_type": "execute_result"
    }
   ],
   "source": [
    "label = kmeans.fit_predict(scaled_features)\n",
    "label"
   ]
  },
  {
   "cell_type": "code",
   "execution_count": 33,
   "id": "b7ffbc00",
   "metadata": {},
   "outputs": [
    {
     "data": {
      "text/plain": [
       "array([[ 1.41213093,  1.10039557],\n",
       "       [-0.16199621,  0.65674512],\n",
       "       [-0.04869651, -1.08383228],\n",
       "       [ 1.62817026, -1.08383228],\n",
       "       [-1.12421341,  1.02876889]])"
      ]
     },
     "execution_count": 33,
     "metadata": {},
     "output_type": "execute_result"
    }
   ],
   "source": [
    "# to locate the centroids of the clusters\n",
    "kmeans.cluster_centers_\n"
   ]
  },
  {
   "cell_type": "code",
   "execution_count": 34,
   "id": "dfcd3e72",
   "metadata": {},
   "outputs": [
    {
     "data": {
      "text/plain": [
       "28.111723071065978"
      ]
     },
     "execution_count": 34,
     "metadata": {},
     "output_type": "execute_result"
    }
   ],
   "source": [
    "#the lowest SSE values\n",
    "kmeans.inertia_"
   ]
  },
  {
   "cell_type": "code",
   "execution_count": 35,
   "id": "94317c9f",
   "metadata": {},
   "outputs": [
    {
     "data": {
      "text/plain": [
       "4"
      ]
     },
     "execution_count": 35,
     "metadata": {},
     "output_type": "execute_result"
    }
   ],
   "source": [
    "# Number of iterations required to converge\n",
    "kmeans.n_iter_"
   ]
  },
  {
   "cell_type": "code",
   "execution_count": 36,
   "id": "7bc5aafe",
   "metadata": {},
   "outputs": [
    {
     "data": {
      "text/plain": [
       "array([2, 3, 3, 2, 2, 3, 1, 4, 1, 1, 1, 4, 2, 1, 3, 2, 0, 4, 1, 2])"
      ]
     },
     "execution_count": 36,
     "metadata": {},
     "output_type": "execute_result"
    }
   ],
   "source": [
    "kmeans.labels_[:20]"
   ]
  },
  {
   "cell_type": "markdown",
   "id": "17f8b0b3",
   "metadata": {},
   "source": [
    "# Visualize the cluster for K=5"
   ]
  },
  {
   "cell_type": "code",
   "execution_count": 37,
   "id": "801b1282",
   "metadata": {},
   "outputs": [
    {
     "data": {
      "text/plain": [
       "Text(0.5, 1.0, 'average_runs and bowling_economy')"
      ]
     },
     "execution_count": 37,
     "metadata": {},
     "output_type": "execute_result"
    },
    {
     "data": {
      "image/png": "[encoded data removed]",
      "text/plain": [
       "<Figure size 432x288 with 1 Axes>"
      ]
     },
     "metadata": {
      "needs_background": "light"
     },
     "output_type": "display_data"
    }
   ],
   "source": [
    "\n",
    "centers = np.array(kmeans.cluster_centers_)\n",
    "LABEL_COLOR_MAP = {0:'r', 1:'b', 2:'g',3:'y', 4:'c'}\n",
    "\n",
    "label_color = [LABEL_COLOR_MAP[l] for l in label]\n",
    "plt.scatter(scaled_features[:,0], scaled_features[:,1], c=label_color)\n",
    "\n",
    "\n",
    "plt.scatter(centers[:,0], centers[:,1], marker=\"o\", color='k', s=200)\n",
    "plt.title('average_runs and bowling_economy')\n"
   ]
  },
  {
   "cell_type": "markdown",
   "id": "400924b9",
   "metadata": {},
   "source": [
    "Interpretation\n",
    "Players in cyan had good average bowling economy and given less run. other players can learn from them\n",
    "Players in green and yellow has good bowling economy and given more runs\n",
    "Plaayers in blue are also average \n",
    "Players in red  color need to improve\n"
   ]
  },
  {
   "cell_type": "markdown",
   "id": "01b3c23c",
   "metadata": {},
   "source": [
    "# #Visualizing the ELBOW method to get the optimal value of K "
   ]
  },
  {
   "cell_type": "code",
   "execution_count": 38,
   "id": "c5755c55",
   "metadata": {},
   "outputs": [
    {
     "name": "stderr",
     "output_type": "stream",
     "text": [
      "C:\\Users\\Shilpi\\anaconda3\\lib\\site-packages\\sklearn\\cluster\\_kmeans.py:1036: UserWarning: KMeans is known to have a memory leak on Windows with MKL, when there are less chunks than available threads. You can avoid it by setting the environment variable OMP_NUM_THREADS=1.\n",
      "  warnings.warn(\n"
     ]
    }
   ],
   "source": [
    "from sklearn.cluster import KMeans\n",
    "inertias=[]\n",
    "for i in range(1,11):\n",
    "    kmeans = KMeans(n_clusters= i, init='k-means++', random_state=0)\n",
    "    kmeans.fit(scaled_features)\n",
    "    inertias.append(kmeans.inertia_)"
   ]
  },
  {
   "cell_type": "code",
   "execution_count": 39,
   "id": "ff2f5283",
   "metadata": {},
   "outputs": [
    {
     "data": {
      "image/png": "[encoded data removed]",
      "text/plain": [
       "<Figure size 432x288 with 1 Axes>"
      ]
     },
     "metadata": {
      "needs_background": "light"
     },
     "output_type": "display_data"
    }
   ],
   "source": [
    "#Visualizing the ELBOW method to get the optimal value of K \n",
    "plt.plot(range(1,11), inertias, marker='o')\n",
    "plt.title('The Elbow Method')\n",
    "plt.xlabel('no of clusters')\n",
    "plt.ylabel('inertias')\n",
    "plt.show()"
   ]
  },
  {
   "cell_type": "code",
   "execution_count": 40,
   "id": "e86b2b54",
   "metadata": {},
   "outputs": [],
   "source": [
    "#From above curve we can see that k=5 looks more optimal\n",
    "#no matter what range we select ex- (1,21) also i will see the same behaviour\n",
    "#but if we chose higher range it is little difficult to visualize the ELBOW\n",
    "#that is why we usually prefer range (1,11)\n",
    "##Finally we got that k=4"
   ]
  },
  {
   "cell_type": "markdown",
   "id": "f65c32a7",
   "metadata": {},
   "source": [
    "# Lets build model with optimal value of K"
   ]
  },
  {
   "cell_type": "code",
   "execution_count": 41,
   "id": "1dae8b49",
   "metadata": {},
   "outputs": [],
   "source": [
    "\n",
    "kmeansmodel = KMeans(n_clusters= 5, init='k-means++', random_state=0)\n",
    "y_kmeans= kmeansmodel.fit_predict(scaled_features)\n"
   ]
  },
  {
   "cell_type": "code",
   "execution_count": 42,
   "id": "f84796b1",
   "metadata": {},
   "outputs": [
    {
     "data": {
      "image/png": "[encoded data removed]",
      "text/plain": [
       "<Figure size 432x288 with 1 Axes>"
      ]
     },
     "metadata": {
      "needs_background": "light"
     },
     "output_type": "display_data"
    }
   ],
   "source": [
    "#Visualizing all the clusters \n",
    "\n",
    "plt.scatter(scaled_features[y_kmeans == 0, 0], scaled_features[y_kmeans == 0, 1], s = 100, c = 'red', label = 'Cluster 1')\n",
    "plt.scatter(scaled_features[y_kmeans == 1, 0], scaled_features[y_kmeans == 1, 1], s = 100, c = 'blue', label = 'Cluster 2')\n",
    "plt.scatter(scaled_features[y_kmeans == 2, 0], scaled_features[y_kmeans == 2, 1], s = 100, c = 'green', label = 'Cluster 3')\n",
    "plt.scatter(scaled_features[y_kmeans == 3, 0], scaled_features[y_kmeans == 3, 1], s = 100, c = 'cyan', label = 'Cluster 4')\n",
    "plt.scatter(scaled_features[y_kmeans == 4, 0], scaled_features[y_kmeans == 4, 1], s = 100, c = 'magenta', label = 'Cluster 5')\n",
    "\n",
    "plt.scatter(kmeansmodel.cluster_centers_[:, 0], kmeansmodel.cluster_centers_[:, 1], s = 300, c = 'yellow', label = 'Centroids')\n",
    "plt.title('Clusters of cricker')\n",
    "plt.xlabel('average_runs')\n",
    "plt.ylabel('bowling_economy')\n",
    "plt.legend()\n",
    "\n",
    "plt.show()"
   ]
  },
  {
   "cell_type": "markdown",
   "id": "94da0757",
   "metadata": {},
   "source": [
    "# Conclusions"
   ]
  },
  {
   "cell_type": "markdown",
   "id": "7ec6aaa7",
   "metadata": {},
   "source": [
    "Bowler in cluster 1 are best with good bowling and given less avarage runs\n"
   ]
  },
  {
   "cell_type": "markdown",
   "id": "e3825671",
   "metadata": {},
   "source": [
    "# Lets find the cluster for some other columns apart from mentioned in assignment i will consider  matches_played and run_scored"
   ]
  },
  {
   "cell_type": "code",
   "execution_count": 43,
   "id": "38ea1671",
   "metadata": {},
   "outputs": [],
   "source": [
    "df=data.iloc[:, [1,3]].values"
   ]
  },
  {
   "cell_type": "code",
   "execution_count": 44,
   "id": "8cb75006",
   "metadata": {},
   "outputs": [],
   "source": [
    "scaler2 = StandardScaler()\n",
    "scaled_features2 = scaler.fit_transform(df)"
   ]
  },
  {
   "cell_type": "code",
   "execution_count": 45,
   "id": "7d365dd5",
   "metadata": {},
   "outputs": [],
   "source": [
    "kmeansmodel = KMeans(n_clusters= 6, init='k-means++', random_state=0)\n",
    "y_kmeans= kmeansmodel.fit_predict(scaled_features2)\n"
   ]
  },
  {
   "cell_type": "code",
   "execution_count": 46,
   "id": "3dac87cc",
   "metadata": {},
   "outputs": [
    {
     "data": {
      "image/png": "[encoded data removed]",
      "text/plain": [
       "<Figure size 432x288 with 1 Axes>"
      ]
     },
     "metadata": {
      "needs_background": "light"
     },
     "output_type": "display_data"
    }
   ],
   "source": [
    "#Visualizing all the clusters \n",
    "\n",
    "plt.scatter(scaled_features2[y_kmeans == 0, 0], scaled_features2[y_kmeans == 0, 1], s = 100, c = 'red', label = 'Cluster 1')\n",
    "plt.scatter(scaled_features2[y_kmeans == 1, 0], scaled_features2[y_kmeans == 1, 1], s = 100, c = 'blue', label = 'Cluster 2')\n",
    "plt.scatter(scaled_features2[y_kmeans == 2, 0], scaled_features2[y_kmeans == 2, 1], s = 100, c = 'green', label = 'Cluster 3')\n",
    "plt.scatter(scaled_features2[y_kmeans == 3, 0], scaled_features2[y_kmeans == 3, 1], s = 100, c = 'cyan', label = 'Cluster 4')\n",
    "plt.scatter(scaled_features2[y_kmeans == 4, 0], scaled_features2[y_kmeans == 4, 1], s = 100, c = 'magenta', label = 'Cluster 5')\n",
    "plt.scatter(scaled_features2[y_kmeans == 5, 0], scaled_features2[y_kmeans == 5, 1], s = 100, c = 'black', label = 'Cluster 5')\n",
    "plt.scatter(kmeansmodel.cluster_centers_[:, 0], kmeansmodel.cluster_centers_[:, 1], s = 300, c = 'yellow', label = 'Centroids')\n",
    "\n",
    "plt.title('Clusters of cricker')\n",
    "plt.xlabel('matches_played')\n",
    "plt.ylabel('run_scored')\n",
    "plt.legend()\n",
    "plt.show()"
   ]
  },
  {
   "cell_type": "markdown",
   "id": "cd27f3e6",
   "metadata": {},
   "source": [
    "# Interpretation:-"
   ]
  },
  {
   "cell_type": "markdown",
   "id": "b86e8455",
   "metadata": {},
   "source": [
    "Cricketers in cluster 3 are best as they have scored more runs\n",
    " cricketers in cluster 1  need to improve their batting skills, they have played more match but performed relatively low the player in cluster 3.\n",
    " Cricketers in cluster 1 has played less match, they should be given more channce to play\n",
    " Cricketers in cluster 4 are also doing well with more runs."
   ]
  }
 ],
 "metadata": {
  "kernelspec": {
   "display_name": "Python 3 (ipykernel)",
   "language": "python",
   "name": "python3"
  },
  "language_info": {
   "codemirror_mode": {
    "name": "ipython",
    "version": 3
   },
   "file_extension": ".py",
   "mimetype": "text/x-python",
   "name": "python",
   "nbconvert_exporter": "python",
   "pygments_lexer": "ipython3",
   "version": "3.9.12"
  }
 },
 "nbformat": 4,
 "nbformat_minor": 5
}
