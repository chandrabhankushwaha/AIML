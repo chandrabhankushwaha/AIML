{
 "cells": [
  {
   "cell_type": "markdown",
   "id": "b50e5d32",
   "metadata": {},
   "source": [
    "# Unsupervised Learning Assignment-2"
   ]
  },
  {
   "cell_type": "markdown",
   "id": "a00ef1aa",
   "metadata": {},
   "source": [
    "Your task in this assignment is to:\n",
    "\n",
    "1. Understand the two datasets provided and combine them in a meaningful way to make one dataset with useful features [1 mark]\n",
    "\n",
    "2. Do appropriate EDA and preprocessing on the dataset you formed in part 1 [2 mark]\n",
    "\n",
    "3. Cluster the data using Agglomerative clustering and find the appropriate number of clusters for the data using dendrogram [2 marks]\n",
    "\n",
    "3. After finding the best clustering obtained for your data, try to interpret some/all of the clusters and derive some domain-specific insights out of the results [1 mark]"
   ]
  },
  {
   "cell_type": "markdown",
   "id": "86bc46f2",
   "metadata": {},
   "source": [
    "## Import Libraries\n",
    "**Import pandas,seaborn, and the required libraries to work on this project.**"
   ]
  },
  {
   "cell_type": "code",
   "execution_count": 1,
   "id": "b661397a",
   "metadata": {},
   "outputs": [],
   "source": [
    "import numpy as np \n",
    "import pandas as pd \n",
    "from sklearn.preprocessing import StandardScaler,MinMaxScaler\n",
    "import matplotlib.pyplot as plt\n",
    "import seaborn as sns\n",
    "import numpy as np\n",
    "import matplotlib.pyplot as plt\n",
    "from scipy.cluster.hierarchy import dendrogram, linkage\n",
    "from sklearn.cluster import AgglomerativeClustering\n",
    "import warnings\n",
    "warnings.filterwarnings(\"ignore\")"
   ]
  },
  {
   "cell_type": "markdown",
   "id": "6e3e78c4",
   "metadata": {},
   "source": [
    "# Lets read the first file and check top 5 data"
   ]
  },
  {
   "cell_type": "code",
   "execution_count": 2,
   "id": "d6265eb6",
   "metadata": {},
   "outputs": [
    {
     "data": {
      "text/html": [
       "<div>\n",
       "<style scoped>\n",
       "    .dataframe tbody tr th:only-of-type {\n",
       "        vertical-align: middle;\n",
       "    }\n",
       "\n",
       "    .dataframe tbody tr th {\n",
       "        vertical-align: top;\n",
       "    }\n",
       "\n",
       "    .dataframe thead th {\n",
       "        text-align: right;\n",
       "    }\n",
       "</style>\n",
       "<table border=\"1\" class=\"dataframe\">\n",
       "  <thead>\n",
       "    <tr style=\"text-align: right;\">\n",
       "      <th></th>\n",
       "      <th>status_id</th>\n",
       "      <th>status_type</th>\n",
       "      <th>status_published</th>\n",
       "      <th>num_reactions</th>\n",
       "      <th>num_comments</th>\n",
       "      <th>num_shares</th>\n",
       "    </tr>\n",
       "  </thead>\n",
       "  <tbody>\n",
       "    <tr>\n",
       "      <th>0</th>\n",
       "      <td>246675545449582_1649696485147474</td>\n",
       "      <td>video</td>\n",
       "      <td>4/22/2018 6:00</td>\n",
       "      <td>529</td>\n",
       "      <td>512</td>\n",
       "      <td>262</td>\n",
       "    </tr>\n",
       "    <tr>\n",
       "      <th>1</th>\n",
       "      <td>246675545449582_1649426988507757</td>\n",
       "      <td>photo</td>\n",
       "      <td>4/21/2018 22:45</td>\n",
       "      <td>150</td>\n",
       "      <td>0</td>\n",
       "      <td>0</td>\n",
       "    </tr>\n",
       "    <tr>\n",
       "      <th>2</th>\n",
       "      <td>246675545449582_1648730588577397</td>\n",
       "      <td>video</td>\n",
       "      <td>4/21/2018 6:17</td>\n",
       "      <td>227</td>\n",
       "      <td>236</td>\n",
       "      <td>57</td>\n",
       "    </tr>\n",
       "    <tr>\n",
       "      <th>3</th>\n",
       "      <td>246675545449582_1648576705259452</td>\n",
       "      <td>photo</td>\n",
       "      <td>4/21/2018 2:29</td>\n",
       "      <td>111</td>\n",
       "      <td>0</td>\n",
       "      <td>0</td>\n",
       "    </tr>\n",
       "    <tr>\n",
       "      <th>4</th>\n",
       "      <td>246675545449582_1645700502213739</td>\n",
       "      <td>photo</td>\n",
       "      <td>4/18/2018 3:22</td>\n",
       "      <td>213</td>\n",
       "      <td>0</td>\n",
       "      <td>0</td>\n",
       "    </tr>\n",
       "  </tbody>\n",
       "</table>\n",
       "</div>"
      ],
      "text/plain": [
       "                          status_id status_type status_published  \\\n",
       "0  246675545449582_1649696485147474       video   4/22/2018 6:00   \n",
       "1  246675545449582_1649426988507757       photo  4/21/2018 22:45   \n",
       "2  246675545449582_1648730588577397       video   4/21/2018 6:17   \n",
       "3  246675545449582_1648576705259452       photo   4/21/2018 2:29   \n",
       "4  246675545449582_1645700502213739       photo   4/18/2018 3:22   \n",
       "\n",
       "   num_reactions  num_comments  num_shares  \n",
       "0            529           512         262  \n",
       "1            150             0           0  \n",
       "2            227           236          57  \n",
       "3            111             0           0  \n",
       "4            213             0           0  "
      ]
     },
     "execution_count": 2,
     "metadata": {},
     "output_type": "execute_result"
    }
   ],
   "source": [
    "# Read input file\n",
    "df = pd.read_csv(\"post_details.csv\")\n",
    "df.head(5)"
   ]
  },
  {
   "cell_type": "markdown",
   "id": "2817e230",
   "metadata": {},
   "source": [
    "# Lets read the second file and check top 5 data"
   ]
  },
  {
   "cell_type": "code",
   "execution_count": 3,
   "id": "1d0e7c99",
   "metadata": {},
   "outputs": [
    {
     "data": {
      "text/html": [
       "<div>\n",
       "<style scoped>\n",
       "    .dataframe tbody tr th:only-of-type {\n",
       "        vertical-align: middle;\n",
       "    }\n",
       "\n",
       "    .dataframe tbody tr th {\n",
       "        vertical-align: top;\n",
       "    }\n",
       "\n",
       "    .dataframe thead th {\n",
       "        text-align: right;\n",
       "    }\n",
       "</style>\n",
       "<table border=\"1\" class=\"dataframe\">\n",
       "  <thead>\n",
       "    <tr style=\"text-align: right;\">\n",
       "      <th></th>\n",
       "      <th>status_id</th>\n",
       "      <th>num_likes</th>\n",
       "      <th>num_loves</th>\n",
       "      <th>num_wows</th>\n",
       "      <th>num_hahas</th>\n",
       "      <th>num_sads</th>\n",
       "      <th>num_angrys</th>\n",
       "    </tr>\n",
       "  </thead>\n",
       "  <tbody>\n",
       "    <tr>\n",
       "      <th>0</th>\n",
       "      <td>246675545449582_1649696485147474</td>\n",
       "      <td>432</td>\n",
       "      <td>92</td>\n",
       "      <td>3</td>\n",
       "      <td>1</td>\n",
       "      <td>1</td>\n",
       "      <td>0</td>\n",
       "    </tr>\n",
       "    <tr>\n",
       "      <th>1</th>\n",
       "      <td>246675545449582_1649426988507757</td>\n",
       "      <td>150</td>\n",
       "      <td>0</td>\n",
       "      <td>0</td>\n",
       "      <td>0</td>\n",
       "      <td>0</td>\n",
       "      <td>0</td>\n",
       "    </tr>\n",
       "    <tr>\n",
       "      <th>2</th>\n",
       "      <td>246675545449582_1648730588577397</td>\n",
       "      <td>204</td>\n",
       "      <td>21</td>\n",
       "      <td>1</td>\n",
       "      <td>1</td>\n",
       "      <td>0</td>\n",
       "      <td>0</td>\n",
       "    </tr>\n",
       "    <tr>\n",
       "      <th>3</th>\n",
       "      <td>246675545449582_1648576705259452</td>\n",
       "      <td>111</td>\n",
       "      <td>0</td>\n",
       "      <td>0</td>\n",
       "      <td>0</td>\n",
       "      <td>0</td>\n",
       "      <td>0</td>\n",
       "    </tr>\n",
       "    <tr>\n",
       "      <th>4</th>\n",
       "      <td>246675545449582_1645700502213739</td>\n",
       "      <td>204</td>\n",
       "      <td>9</td>\n",
       "      <td>0</td>\n",
       "      <td>0</td>\n",
       "      <td>0</td>\n",
       "      <td>0</td>\n",
       "    </tr>\n",
       "  </tbody>\n",
       "</table>\n",
       "</div>"
      ],
      "text/plain": [
       "                          status_id  num_likes  num_loves  num_wows  \\\n",
       "0  246675545449582_1649696485147474        432         92         3   \n",
       "1  246675545449582_1649426988507757        150          0         0   \n",
       "2  246675545449582_1648730588577397        204         21         1   \n",
       "3  246675545449582_1648576705259452        111          0         0   \n",
       "4  246675545449582_1645700502213739        204          9         0   \n",
       "\n",
       "   num_hahas  num_sads  num_angrys  \n",
       "0          1         1           0  \n",
       "1          0         0           0  \n",
       "2          1         0           0  \n",
       "3          0         0           0  \n",
       "4          0         0           0  "
      ]
     },
     "execution_count": 3,
     "metadata": {},
     "output_type": "execute_result"
    }
   ],
   "source": [
    "# Read input file\n",
    "df = pd.read_csv(\"post_reaction_details.csv\")\n",
    "df.head(5)"
   ]
  },
  {
   "cell_type": "markdown",
   "id": "cfdb7cc2",
   "metadata": {},
   "source": [
    "# Lets merge the file"
   ]
  },
  {
   "cell_type": "code",
   "execution_count": 4,
   "id": "ac22f1a9",
   "metadata": {},
   "outputs": [
    {
     "data": {
      "text/html": [
       "<div>\n",
       "<style scoped>\n",
       "    .dataframe tbody tr th:only-of-type {\n",
       "        vertical-align: middle;\n",
       "    }\n",
       "\n",
       "    .dataframe tbody tr th {\n",
       "        vertical-align: top;\n",
       "    }\n",
       "\n",
       "    .dataframe thead th {\n",
       "        text-align: right;\n",
       "    }\n",
       "</style>\n",
       "<table border=\"1\" class=\"dataframe\">\n",
       "  <thead>\n",
       "    <tr style=\"text-align: right;\">\n",
       "      <th></th>\n",
       "      <th>status_id</th>\n",
       "      <th>status_type</th>\n",
       "      <th>status_published</th>\n",
       "      <th>num_reactions</th>\n",
       "      <th>num_comments</th>\n",
       "      <th>num_shares</th>\n",
       "      <th>num_likes</th>\n",
       "      <th>num_loves</th>\n",
       "      <th>num_wows</th>\n",
       "      <th>num_hahas</th>\n",
       "      <th>num_sads</th>\n",
       "      <th>num_angrys</th>\n",
       "    </tr>\n",
       "  </thead>\n",
       "  <tbody>\n",
       "    <tr>\n",
       "      <th>0</th>\n",
       "      <td>246675545449582_1649696485147474</td>\n",
       "      <td>video</td>\n",
       "      <td>4/22/2018 6:00</td>\n",
       "      <td>529.0</td>\n",
       "      <td>512.0</td>\n",
       "      <td>262.0</td>\n",
       "      <td>NaN</td>\n",
       "      <td>NaN</td>\n",
       "      <td>NaN</td>\n",
       "      <td>NaN</td>\n",
       "      <td>NaN</td>\n",
       "      <td>NaN</td>\n",
       "    </tr>\n",
       "    <tr>\n",
       "      <th>1</th>\n",
       "      <td>246675545449582_1649426988507757</td>\n",
       "      <td>photo</td>\n",
       "      <td>4/21/2018 22:45</td>\n",
       "      <td>150.0</td>\n",
       "      <td>0.0</td>\n",
       "      <td>0.0</td>\n",
       "      <td>NaN</td>\n",
       "      <td>NaN</td>\n",
       "      <td>NaN</td>\n",
       "      <td>NaN</td>\n",
       "      <td>NaN</td>\n",
       "      <td>NaN</td>\n",
       "    </tr>\n",
       "    <tr>\n",
       "      <th>2</th>\n",
       "      <td>246675545449582_1648730588577397</td>\n",
       "      <td>video</td>\n",
       "      <td>4/21/2018 6:17</td>\n",
       "      <td>227.0</td>\n",
       "      <td>236.0</td>\n",
       "      <td>57.0</td>\n",
       "      <td>NaN</td>\n",
       "      <td>NaN</td>\n",
       "      <td>NaN</td>\n",
       "      <td>NaN</td>\n",
       "      <td>NaN</td>\n",
       "      <td>NaN</td>\n",
       "    </tr>\n",
       "    <tr>\n",
       "      <th>3</th>\n",
       "      <td>246675545449582_1648576705259452</td>\n",
       "      <td>photo</td>\n",
       "      <td>4/21/2018 2:29</td>\n",
       "      <td>111.0</td>\n",
       "      <td>0.0</td>\n",
       "      <td>0.0</td>\n",
       "      <td>NaN</td>\n",
       "      <td>NaN</td>\n",
       "      <td>NaN</td>\n",
       "      <td>NaN</td>\n",
       "      <td>NaN</td>\n",
       "      <td>NaN</td>\n",
       "    </tr>\n",
       "    <tr>\n",
       "      <th>4</th>\n",
       "      <td>246675545449582_1645700502213739</td>\n",
       "      <td>photo</td>\n",
       "      <td>4/18/2018 3:22</td>\n",
       "      <td>213.0</td>\n",
       "      <td>0.0</td>\n",
       "      <td>0.0</td>\n",
       "      <td>NaN</td>\n",
       "      <td>NaN</td>\n",
       "      <td>NaN</td>\n",
       "      <td>NaN</td>\n",
       "      <td>NaN</td>\n",
       "      <td>NaN</td>\n",
       "    </tr>\n",
       "  </tbody>\n",
       "</table>\n",
       "</div>"
      ],
      "text/plain": [
       "                          status_id status_type status_published  \\\n",
       "0  246675545449582_1649696485147474       video   4/22/2018 6:00   \n",
       "1  246675545449582_1649426988507757       photo  4/21/2018 22:45   \n",
       "2  246675545449582_1648730588577397       video   4/21/2018 6:17   \n",
       "3  246675545449582_1648576705259452       photo   4/21/2018 2:29   \n",
       "4  246675545449582_1645700502213739       photo   4/18/2018 3:22   \n",
       "\n",
       "   num_reactions  num_comments  num_shares  num_likes  num_loves  num_wows  \\\n",
       "0          529.0         512.0       262.0        NaN        NaN       NaN   \n",
       "1          150.0           0.0         0.0        NaN        NaN       NaN   \n",
       "2          227.0         236.0        57.0        NaN        NaN       NaN   \n",
       "3          111.0           0.0         0.0        NaN        NaN       NaN   \n",
       "4          213.0           0.0         0.0        NaN        NaN       NaN   \n",
       "\n",
       "   num_hahas  num_sads  num_angrys  \n",
       "0        NaN       NaN         NaN  \n",
       "1        NaN       NaN         NaN  \n",
       "2        NaN       NaN         NaN  \n",
       "3        NaN       NaN         NaN  \n",
       "4        NaN       NaN         NaN  "
      ]
     },
     "execution_count": 4,
     "metadata": {},
     "output_type": "execute_result"
    }
   ],
   "source": [
    "df = pd.concat(map(pd.read_csv, ['post_details.csv', 'post_reaction_details.csv']), ignore_index=True)\n",
    "df.head(5)"
   ]
  },
  {
   "cell_type": "markdown",
   "id": "f29870d2",
   "metadata": {},
   "source": [
    "# EDA and Basic Data Preprocessing and Preparation [Marks:2]"
   ]
  },
  {
   "cell_type": "markdown",
   "id": "8067988a",
   "metadata": {},
   "source": [
    "# Lets get the data information"
   ]
  },
  {
   "cell_type": "code",
   "execution_count": 5,
   "id": "de35d47d",
   "metadata": {},
   "outputs": [
    {
     "name": "stdout",
     "output_type": "stream",
     "text": [
      "==================================================\n",
      "\n",
      "Data Information\n",
      "\n",
      "==================================================\n",
      "<class 'pandas.core.frame.DataFrame'>\n",
      "RangeIndex: 13994 entries, 0 to 13993\n",
      "Data columns (total 12 columns):\n",
      " #   Column            Non-Null Count  Dtype  \n",
      "---  ------            --------------  -----  \n",
      " 0   status_id         13994 non-null  object \n",
      " 1   status_type       6997 non-null   object \n",
      " 2   status_published  6997 non-null   object \n",
      " 3   num_reactions     6997 non-null   float64\n",
      " 4   num_comments      6997 non-null   float64\n",
      " 5   num_shares        6997 non-null   float64\n",
      " 6   num_likes         6997 non-null   float64\n",
      " 7   num_loves         6997 non-null   float64\n",
      " 8   num_wows          6997 non-null   float64\n",
      " 9   num_hahas         6997 non-null   float64\n",
      " 10  num_sads          6997 non-null   float64\n",
      " 11  num_angrys        6997 non-null   float64\n",
      "dtypes: float64(9), object(3)\n",
      "memory usage: 1.3+ MB\n"
     ]
    }
   ],
   "source": [
    "print('='*50)\n",
    "print(\"\\nData Information\\n\")\n",
    "print('='*50)\n",
    "df.info()"
   ]
  },
  {
   "cell_type": "code",
   "execution_count": 6,
   "id": "34599de4",
   "metadata": {},
   "outputs": [],
   "source": [
    "# From above we can see , we have 12 coloums, float and object data type, we need to handle this before feeding data in algo"
   ]
  },
  {
   "cell_type": "markdown",
   "id": "31a97b49",
   "metadata": {},
   "source": [
    "# Lets get the data shape by using shape method"
   ]
  },
  {
   "cell_type": "code",
   "execution_count": 7,
   "id": "1dd33d64",
   "metadata": {},
   "outputs": [
    {
     "name": "stdout",
     "output_type": "stream",
     "text": [
      "====================\n",
      "Data shape\n",
      "====================\n",
      "(13994, 12)\n"
     ]
    }
   ],
   "source": [
    "print('='*20)\n",
    "print(\"Data shape\")\n",
    "print('='*20)\n",
    "print(df.shape)"
   ]
  },
  {
   "cell_type": "markdown",
   "id": "cda59434",
   "metadata": {},
   "source": [
    "# Lets describe the data"
   ]
  },
  {
   "cell_type": "code",
   "execution_count": 8,
   "id": "0a59c253",
   "metadata": {},
   "outputs": [
    {
     "data": {
      "text/html": [
       "<div>\n",
       "<style scoped>\n",
       "    .dataframe tbody tr th:only-of-type {\n",
       "        vertical-align: middle;\n",
       "    }\n",
       "\n",
       "    .dataframe tbody tr th {\n",
       "        vertical-align: top;\n",
       "    }\n",
       "\n",
       "    .dataframe thead th {\n",
       "        text-align: right;\n",
       "    }\n",
       "</style>\n",
       "<table border=\"1\" class=\"dataframe\">\n",
       "  <thead>\n",
       "    <tr style=\"text-align: right;\">\n",
       "      <th></th>\n",
       "      <th>status_id</th>\n",
       "      <th>status_type</th>\n",
       "      <th>status_published</th>\n",
       "      <th>num_reactions</th>\n",
       "      <th>num_comments</th>\n",
       "      <th>num_shares</th>\n",
       "      <th>num_likes</th>\n",
       "      <th>num_loves</th>\n",
       "      <th>num_wows</th>\n",
       "      <th>num_hahas</th>\n",
       "      <th>num_sads</th>\n",
       "      <th>num_angrys</th>\n",
       "    </tr>\n",
       "  </thead>\n",
       "  <tbody>\n",
       "    <tr>\n",
       "      <th>count</th>\n",
       "      <td>13994</td>\n",
       "      <td>6997</td>\n",
       "      <td>6997</td>\n",
       "      <td>6997.000000</td>\n",
       "      <td>6997.000000</td>\n",
       "      <td>6997.000000</td>\n",
       "      <td>6997.000000</td>\n",
       "      <td>6997.000000</td>\n",
       "      <td>6997.000000</td>\n",
       "      <td>6997.000000</td>\n",
       "      <td>6997.000000</td>\n",
       "      <td>6997.000000</td>\n",
       "    </tr>\n",
       "    <tr>\n",
       "      <th>unique</th>\n",
       "      <td>6997</td>\n",
       "      <td>4</td>\n",
       "      <td>6911</td>\n",
       "      <td>NaN</td>\n",
       "      <td>NaN</td>\n",
       "      <td>NaN</td>\n",
       "      <td>NaN</td>\n",
       "      <td>NaN</td>\n",
       "      <td>NaN</td>\n",
       "      <td>NaN</td>\n",
       "      <td>NaN</td>\n",
       "      <td>NaN</td>\n",
       "    </tr>\n",
       "    <tr>\n",
       "      <th>top</th>\n",
       "      <td>246675545449582_1649696485147474</td>\n",
       "      <td>photo</td>\n",
       "      <td>11/19/2017 1:51</td>\n",
       "      <td>NaN</td>\n",
       "      <td>NaN</td>\n",
       "      <td>NaN</td>\n",
       "      <td>NaN</td>\n",
       "      <td>NaN</td>\n",
       "      <td>NaN</td>\n",
       "      <td>NaN</td>\n",
       "      <td>NaN</td>\n",
       "      <td>NaN</td>\n",
       "    </tr>\n",
       "    <tr>\n",
       "      <th>freq</th>\n",
       "      <td>2</td>\n",
       "      <td>4242</td>\n",
       "      <td>2</td>\n",
       "      <td>NaN</td>\n",
       "      <td>NaN</td>\n",
       "      <td>NaN</td>\n",
       "      <td>NaN</td>\n",
       "      <td>NaN</td>\n",
       "      <td>NaN</td>\n",
       "      <td>NaN</td>\n",
       "      <td>NaN</td>\n",
       "      <td>NaN</td>\n",
       "    </tr>\n",
       "    <tr>\n",
       "      <th>mean</th>\n",
       "      <td>NaN</td>\n",
       "      <td>NaN</td>\n",
       "      <td>NaN</td>\n",
       "      <td>224.951979</td>\n",
       "      <td>225.613977</td>\n",
       "      <td>40.269973</td>\n",
       "      <td>209.899814</td>\n",
       "      <td>12.755181</td>\n",
       "      <td>1.253251</td>\n",
       "      <td>0.698156</td>\n",
       "      <td>0.232671</td>\n",
       "      <td>0.110190</td>\n",
       "    </tr>\n",
       "    <tr>\n",
       "      <th>std</th>\n",
       "      <td>NaN</td>\n",
       "      <td>NaN</td>\n",
       "      <td>NaN</td>\n",
       "      <td>452.930082</td>\n",
       "      <td>892.863091</td>\n",
       "      <td>132.064065</td>\n",
       "      <td>439.595761</td>\n",
       "      <td>40.112024</td>\n",
       "      <td>8.726772</td>\n",
       "      <td>3.971462</td>\n",
       "      <td>1.481312</td>\n",
       "      <td>0.688678</td>\n",
       "    </tr>\n",
       "    <tr>\n",
       "      <th>min</th>\n",
       "      <td>NaN</td>\n",
       "      <td>NaN</td>\n",
       "      <td>NaN</td>\n",
       "      <td>0.000000</td>\n",
       "      <td>0.000000</td>\n",
       "      <td>0.000000</td>\n",
       "      <td>0.000000</td>\n",
       "      <td>0.000000</td>\n",
       "      <td>0.000000</td>\n",
       "      <td>0.000000</td>\n",
       "      <td>0.000000</td>\n",
       "      <td>0.000000</td>\n",
       "    </tr>\n",
       "    <tr>\n",
       "      <th>25%</th>\n",
       "      <td>NaN</td>\n",
       "      <td>NaN</td>\n",
       "      <td>NaN</td>\n",
       "      <td>17.000000</td>\n",
       "      <td>0.000000</td>\n",
       "      <td>0.000000</td>\n",
       "      <td>17.000000</td>\n",
       "      <td>0.000000</td>\n",
       "      <td>0.000000</td>\n",
       "      <td>0.000000</td>\n",
       "      <td>0.000000</td>\n",
       "      <td>0.000000</td>\n",
       "    </tr>\n",
       "    <tr>\n",
       "      <th>50%</th>\n",
       "      <td>NaN</td>\n",
       "      <td>NaN</td>\n",
       "      <td>NaN</td>\n",
       "      <td>58.000000</td>\n",
       "      <td>4.000000</td>\n",
       "      <td>0.000000</td>\n",
       "      <td>57.000000</td>\n",
       "      <td>0.000000</td>\n",
       "      <td>0.000000</td>\n",
       "      <td>0.000000</td>\n",
       "      <td>0.000000</td>\n",
       "      <td>0.000000</td>\n",
       "    </tr>\n",
       "    <tr>\n",
       "      <th>75%</th>\n",
       "      <td>NaN</td>\n",
       "      <td>NaN</td>\n",
       "      <td>NaN</td>\n",
       "      <td>216.000000</td>\n",
       "      <td>22.000000</td>\n",
       "      <td>4.000000</td>\n",
       "      <td>182.000000</td>\n",
       "      <td>3.000000</td>\n",
       "      <td>0.000000</td>\n",
       "      <td>0.000000</td>\n",
       "      <td>0.000000</td>\n",
       "      <td>0.000000</td>\n",
       "    </tr>\n",
       "    <tr>\n",
       "      <th>max</th>\n",
       "      <td>NaN</td>\n",
       "      <td>NaN</td>\n",
       "      <td>NaN</td>\n",
       "      <td>4710.000000</td>\n",
       "      <td>20990.000000</td>\n",
       "      <td>3424.000000</td>\n",
       "      <td>4710.000000</td>\n",
       "      <td>657.000000</td>\n",
       "      <td>278.000000</td>\n",
       "      <td>157.000000</td>\n",
       "      <td>51.000000</td>\n",
       "      <td>31.000000</td>\n",
       "    </tr>\n",
       "  </tbody>\n",
       "</table>\n",
       "</div>"
      ],
      "text/plain": [
       "                               status_id status_type status_published  \\\n",
       "count                              13994        6997             6997   \n",
       "unique                              6997           4             6911   \n",
       "top     246675545449582_1649696485147474       photo  11/19/2017 1:51   \n",
       "freq                                   2        4242                2   \n",
       "mean                                 NaN         NaN              NaN   \n",
       "std                                  NaN         NaN              NaN   \n",
       "min                                  NaN         NaN              NaN   \n",
       "25%                                  NaN         NaN              NaN   \n",
       "50%                                  NaN         NaN              NaN   \n",
       "75%                                  NaN         NaN              NaN   \n",
       "max                                  NaN         NaN              NaN   \n",
       "\n",
       "        num_reactions  num_comments   num_shares    num_likes    num_loves  \\\n",
       "count     6997.000000   6997.000000  6997.000000  6997.000000  6997.000000   \n",
       "unique            NaN           NaN          NaN          NaN          NaN   \n",
       "top               NaN           NaN          NaN          NaN          NaN   \n",
       "freq              NaN           NaN          NaN          NaN          NaN   \n",
       "mean       224.951979    225.613977    40.269973   209.899814    12.755181   \n",
       "std        452.930082    892.863091   132.064065   439.595761    40.112024   \n",
       "min          0.000000      0.000000     0.000000     0.000000     0.000000   \n",
       "25%         17.000000      0.000000     0.000000    17.000000     0.000000   \n",
       "50%         58.000000      4.000000     0.000000    57.000000     0.000000   \n",
       "75%        216.000000     22.000000     4.000000   182.000000     3.000000   \n",
       "max       4710.000000  20990.000000  3424.000000  4710.000000   657.000000   \n",
       "\n",
       "           num_wows    num_hahas     num_sads   num_angrys  \n",
       "count   6997.000000  6997.000000  6997.000000  6997.000000  \n",
       "unique          NaN          NaN          NaN          NaN  \n",
       "top             NaN          NaN          NaN          NaN  \n",
       "freq            NaN          NaN          NaN          NaN  \n",
       "mean       1.253251     0.698156     0.232671     0.110190  \n",
       "std        8.726772     3.971462     1.481312     0.688678  \n",
       "min        0.000000     0.000000     0.000000     0.000000  \n",
       "25%        0.000000     0.000000     0.000000     0.000000  \n",
       "50%        0.000000     0.000000     0.000000     0.000000  \n",
       "75%        0.000000     0.000000     0.000000     0.000000  \n",
       "max      278.000000   157.000000    51.000000    31.000000  "
      ]
     },
     "execution_count": 8,
     "metadata": {},
     "output_type": "execute_result"
    }
   ],
   "source": [
    "df.describe(include='all')"
   ]
  },
  {
   "cell_type": "code",
   "execution_count": 9,
   "id": "33088b73",
   "metadata": {},
   "outputs": [],
   "source": [
    "# From above we can see we have 13994 rows and 12 features in pur data set"
   ]
  },
  {
   "cell_type": "code",
   "execution_count": 10,
   "id": "d8701418",
   "metadata": {},
   "outputs": [
    {
     "data": {
      "text/html": [
       "<div>\n",
       "<style scoped>\n",
       "    .dataframe tbody tr th:only-of-type {\n",
       "        vertical-align: middle;\n",
       "    }\n",
       "\n",
       "    .dataframe tbody tr th {\n",
       "        vertical-align: top;\n",
       "    }\n",
       "\n",
       "    .dataframe thead th {\n",
       "        text-align: right;\n",
       "    }\n",
       "</style>\n",
       "<table border=\"1\" class=\"dataframe\">\n",
       "  <thead>\n",
       "    <tr style=\"text-align: right;\">\n",
       "      <th></th>\n",
       "      <th>num_reactions</th>\n",
       "      <th>num_comments</th>\n",
       "      <th>num_shares</th>\n",
       "      <th>num_likes</th>\n",
       "      <th>num_loves</th>\n",
       "      <th>num_wows</th>\n",
       "      <th>num_hahas</th>\n",
       "      <th>num_sads</th>\n",
       "      <th>num_angrys</th>\n",
       "    </tr>\n",
       "  </thead>\n",
       "  <tbody>\n",
       "    <tr>\n",
       "      <th>count</th>\n",
       "      <td>6997.000000</td>\n",
       "      <td>6997.000000</td>\n",
       "      <td>6997.000000</td>\n",
       "      <td>6997.000000</td>\n",
       "      <td>6997.000000</td>\n",
       "      <td>6997.000000</td>\n",
       "      <td>6997.000000</td>\n",
       "      <td>6997.000000</td>\n",
       "      <td>6997.000000</td>\n",
       "    </tr>\n",
       "    <tr>\n",
       "      <th>mean</th>\n",
       "      <td>224.951979</td>\n",
       "      <td>225.613977</td>\n",
       "      <td>40.269973</td>\n",
       "      <td>209.899814</td>\n",
       "      <td>12.755181</td>\n",
       "      <td>1.253251</td>\n",
       "      <td>0.698156</td>\n",
       "      <td>0.232671</td>\n",
       "      <td>0.110190</td>\n",
       "    </tr>\n",
       "    <tr>\n",
       "      <th>std</th>\n",
       "      <td>452.930082</td>\n",
       "      <td>892.863091</td>\n",
       "      <td>132.064065</td>\n",
       "      <td>439.595761</td>\n",
       "      <td>40.112024</td>\n",
       "      <td>8.726772</td>\n",
       "      <td>3.971462</td>\n",
       "      <td>1.481312</td>\n",
       "      <td>0.688678</td>\n",
       "    </tr>\n",
       "    <tr>\n",
       "      <th>min</th>\n",
       "      <td>0.000000</td>\n",
       "      <td>0.000000</td>\n",
       "      <td>0.000000</td>\n",
       "      <td>0.000000</td>\n",
       "      <td>0.000000</td>\n",
       "      <td>0.000000</td>\n",
       "      <td>0.000000</td>\n",
       "      <td>0.000000</td>\n",
       "      <td>0.000000</td>\n",
       "    </tr>\n",
       "    <tr>\n",
       "      <th>10%</th>\n",
       "      <td>6.000000</td>\n",
       "      <td>0.000000</td>\n",
       "      <td>0.000000</td>\n",
       "      <td>6.000000</td>\n",
       "      <td>0.000000</td>\n",
       "      <td>0.000000</td>\n",
       "      <td>0.000000</td>\n",
       "      <td>0.000000</td>\n",
       "      <td>0.000000</td>\n",
       "    </tr>\n",
       "    <tr>\n",
       "      <th>25%</th>\n",
       "      <td>17.000000</td>\n",
       "      <td>0.000000</td>\n",
       "      <td>0.000000</td>\n",
       "      <td>17.000000</td>\n",
       "      <td>0.000000</td>\n",
       "      <td>0.000000</td>\n",
       "      <td>0.000000</td>\n",
       "      <td>0.000000</td>\n",
       "      <td>0.000000</td>\n",
       "    </tr>\n",
       "    <tr>\n",
       "      <th>50%</th>\n",
       "      <td>58.000000</td>\n",
       "      <td>4.000000</td>\n",
       "      <td>0.000000</td>\n",
       "      <td>57.000000</td>\n",
       "      <td>0.000000</td>\n",
       "      <td>0.000000</td>\n",
       "      <td>0.000000</td>\n",
       "      <td>0.000000</td>\n",
       "      <td>0.000000</td>\n",
       "    </tr>\n",
       "    <tr>\n",
       "      <th>75%</th>\n",
       "      <td>216.000000</td>\n",
       "      <td>22.000000</td>\n",
       "      <td>4.000000</td>\n",
       "      <td>182.000000</td>\n",
       "      <td>3.000000</td>\n",
       "      <td>0.000000</td>\n",
       "      <td>0.000000</td>\n",
       "      <td>0.000000</td>\n",
       "      <td>0.000000</td>\n",
       "    </tr>\n",
       "    <tr>\n",
       "      <th>max</th>\n",
       "      <td>4710.000000</td>\n",
       "      <td>20990.000000</td>\n",
       "      <td>3424.000000</td>\n",
       "      <td>4710.000000</td>\n",
       "      <td>657.000000</td>\n",
       "      <td>278.000000</td>\n",
       "      <td>157.000000</td>\n",
       "      <td>51.000000</td>\n",
       "      <td>31.000000</td>\n",
       "    </tr>\n",
       "  </tbody>\n",
       "</table>\n",
       "</div>"
      ],
      "text/plain": [
       "       num_reactions  num_comments   num_shares    num_likes    num_loves  \\\n",
       "count    6997.000000   6997.000000  6997.000000  6997.000000  6997.000000   \n",
       "mean      224.951979    225.613977    40.269973   209.899814    12.755181   \n",
       "std       452.930082    892.863091   132.064065   439.595761    40.112024   \n",
       "min         0.000000      0.000000     0.000000     0.000000     0.000000   \n",
       "10%         6.000000      0.000000     0.000000     6.000000     0.000000   \n",
       "25%        17.000000      0.000000     0.000000    17.000000     0.000000   \n",
       "50%        58.000000      4.000000     0.000000    57.000000     0.000000   \n",
       "75%       216.000000     22.000000     4.000000   182.000000     3.000000   \n",
       "max      4710.000000  20990.000000  3424.000000  4710.000000   657.000000   \n",
       "\n",
       "          num_wows    num_hahas     num_sads   num_angrys  \n",
       "count  6997.000000  6997.000000  6997.000000  6997.000000  \n",
       "mean      1.253251     0.698156     0.232671     0.110190  \n",
       "std       8.726772     3.971462     1.481312     0.688678  \n",
       "min       0.000000     0.000000     0.000000     0.000000  \n",
       "10%       0.000000     0.000000     0.000000     0.000000  \n",
       "25%       0.000000     0.000000     0.000000     0.000000  \n",
       "50%       0.000000     0.000000     0.000000     0.000000  \n",
       "75%       0.000000     0.000000     0.000000     0.000000  \n",
       "max     278.000000   157.000000    51.000000    31.000000  "
      ]
     },
     "execution_count": 10,
     "metadata": {},
     "output_type": "execute_result"
    }
   ],
   "source": [
    "# Generate descriptive statistics.\n",
    "# Checking Min, Max, Mean, Std for all the columns\n",
    "df.describe(percentiles=[.10, .25, .5, .75])"
   ]
  },
  {
   "cell_type": "markdown",
   "id": "63f1c3b9",
   "metadata": {},
   "source": [
    "# Getting the all columns"
   ]
  },
  {
   "cell_type": "code",
   "execution_count": 11,
   "id": "ad41b001",
   "metadata": {},
   "outputs": [
    {
     "data": {
      "text/plain": [
       "246675545449582_1649696485147474     2\n",
       "725980084255106_831056807080766      2\n",
       "725980084255106_821310368055410      2\n",
       "725980084255106_821715704681543      2\n",
       "725980084255106_822109934642120      2\n",
       "                                    ..\n",
       "246675545449582_264081010375702      2\n",
       "246675545449582_264089710374832      2\n",
       "246675545449582_264092513707885      2\n",
       "246675545449582_264166627033807      2\n",
       "1050855161656896_1050858841656528    2\n",
       "Name: status_id, Length: 6997, dtype: int64"
      ]
     },
     "metadata": {},
     "output_type": "display_data"
    },
    {
     "data": {
      "text/plain": [
       "photo     4242\n",
       "video     2333\n",
       "status     359\n",
       "link        63\n",
       "Name: status_type, dtype: int64"
      ]
     },
     "metadata": {},
     "output_type": "display_data"
    },
    {
     "data": {
      "text/plain": [
       "11/19/2017 1:51    2\n",
       "3/25/2018 2:34     2\n",
       "12/18/2017 4:30    2\n",
       "9/16/2017 7:55     2\n",
       "8/3/2017 9:22      2\n",
       "                  ..\n",
       "9/6/2012 8:43      1\n",
       "9/6/2012 9:01      1\n",
       "9/6/2012 9:16      1\n",
       "9/6/2012 23:17     1\n",
       "9/10/2016 10:30    1\n",
       "Name: status_published, Length: 6911, dtype: int64"
      ]
     },
     "metadata": {},
     "output_type": "display_data"
    },
    {
     "data": {
      "text/plain": [
       "1.0       131\n",
       "2.0       124\n",
       "14.0      121\n",
       "0.0       121\n",
       "3.0       116\n",
       "         ... \n",
       "2826.0      1\n",
       "2032.0      1\n",
       "2154.0      1\n",
       "1997.0      1\n",
       "415.0       1\n",
       "Name: num_reactions, Length: 1067, dtype: int64"
      ]
     },
     "metadata": {},
     "output_type": "display_data"
    },
    {
     "data": {
      "text/plain": [
       "0.0       2119\n",
       "1.0        564\n",
       "2.0        361\n",
       "3.0        308\n",
       "4.0        249\n",
       "          ... \n",
       "1727.0       1\n",
       "1794.0       1\n",
       "2257.0       1\n",
       "1671.0       1\n",
       "4472.0       1\n",
       "Name: num_comments, Length: 993, dtype: int64"
      ]
     },
     "metadata": {},
     "output_type": "display_data"
    },
    {
     "data": {
      "text/plain": [
       "0.0      3907\n",
       "1.0       813\n",
       "2.0       314\n",
       "3.0       162\n",
       "4.0       108\n",
       "         ... \n",
       "454.0       1\n",
       "508.0       1\n",
       "510.0       1\n",
       "549.0       1\n",
       "219.0       1\n",
       "Name: num_shares, Length: 501, dtype: int64"
      ]
     },
     "metadata": {},
     "output_type": "display_data"
    },
    {
     "data": {
      "text/plain": [
       "1.0       128\n",
       "2.0       127\n",
       "0.0       126\n",
       "14.0      124\n",
       "12.0      120\n",
       "         ... \n",
       "2072.0      1\n",
       "2826.0      1\n",
       "2032.0      1\n",
       "2154.0      1\n",
       "953.0       1\n",
       "Name: num_likes, Length: 1044, dtype: int64"
      ]
     },
     "metadata": {},
     "output_type": "display_data"
    },
    {
     "data": {
      "text/plain": [
       "0.0      4226\n",
       "1.0       607\n",
       "2.0       279\n",
       "3.0       205\n",
       "4.0       127\n",
       "         ... \n",
       "326.0       1\n",
       "385.0       1\n",
       "329.0       1\n",
       "188.0       1\n",
       "157.0       1\n",
       "Name: num_loves, Length: 229, dtype: int64"
      ]
     },
     "metadata": {},
     "output_type": "display_data"
    },
    {
     "data": {
      "text/plain": [
       "0.0      5295\n",
       "1.0       701\n",
       "2.0       344\n",
       "3.0       211\n",
       "4.0       134\n",
       "         ... \n",
       "25.0        1\n",
       "104.0       1\n",
       "138.0       1\n",
       "32.0        1\n",
       "23.0        1\n",
       "Name: num_wows, Length: 65, dtype: int64"
      ]
     },
     "metadata": {},
     "output_type": "display_data"
    },
    {
     "data": {
      "text/plain": [
       "0.0      5880\n",
       "1.0       388\n",
       "2.0       223\n",
       "3.0       149\n",
       "4.0        99\n",
       "5.0        64\n",
       "6.0        34\n",
       "8.0        24\n",
       "7.0        20\n",
       "9.0        17\n",
       "10.0       14\n",
       "13.0       13\n",
       "11.0       10\n",
       "12.0        9\n",
       "14.0        7\n",
       "22.0        5\n",
       "15.0        5\n",
       "17.0        5\n",
       "18.0        4\n",
       "16.0        3\n",
       "24.0        2\n",
       "19.0        2\n",
       "26.0        1\n",
       "28.0        1\n",
       "25.0        1\n",
       "33.0        1\n",
       "43.0        1\n",
       "32.0        1\n",
       "157.0       1\n",
       "29.0        1\n",
       "20.0        1\n",
       "97.0        1\n",
       "91.0        1\n",
       "76.0        1\n",
       "50.0        1\n",
       "100.0       1\n",
       "48.0        1\n",
       "57.0        1\n",
       "102.0       1\n",
       "23.0        1\n",
       "40.0        1\n",
       "21.0        1\n",
       "Name: num_hahas, dtype: int64"
      ]
     },
     "metadata": {},
     "output_type": "display_data"
    },
    {
     "data": {
      "text/plain": [
       "0.0     6399\n",
       "1.0      317\n",
       "2.0      113\n",
       "3.0       63\n",
       "4.0       37\n",
       "5.0       14\n",
       "8.0       12\n",
       "6.0       11\n",
       "10.0       6\n",
       "7.0        6\n",
       "19.0       3\n",
       "17.0       2\n",
       "13.0       2\n",
       "23.0       2\n",
       "28.0       1\n",
       "22.0       1\n",
       "51.0       1\n",
       "21.0       1\n",
       "37.0       1\n",
       "11.0       1\n",
       "46.0       1\n",
       "12.0       1\n",
       "14.0       1\n",
       "9.0        1\n",
       "Name: num_sads, dtype: int64"
      ]
     },
     "metadata": {},
     "output_type": "display_data"
    },
    {
     "data": {
      "text/plain": [
       "0.0     6577\n",
       "1.0      275\n",
       "2.0       71\n",
       "3.0       35\n",
       "4.0       17\n",
       "5.0        9\n",
       "6.0        4\n",
       "8.0        3\n",
       "31.0       1\n",
       "12.0       1\n",
       "7.0        1\n",
       "19.0       1\n",
       "10.0       1\n",
       "9.0        1\n",
       "Name: num_angrys, dtype: int64"
      ]
     },
     "metadata": {},
     "output_type": "display_data"
    }
   ],
   "source": [
    "column=df.select_dtypes(include=['object','float64'])\n",
    "for col in column:\n",
    "    display(df[col].value_counts())"
   ]
  },
  {
   "cell_type": "code",
   "execution_count": null,
   "id": "7fdf308c",
   "metadata": {},
   "outputs": [],
   "source": []
  },
  {
   "cell_type": "code",
   "execution_count": 12,
   "id": "76259fc6",
   "metadata": {},
   "outputs": [],
   "source": [
    "\n",
    "#ProfileReport(df)"
   ]
  },
  {
   "cell_type": "markdown",
   "id": "0c1e19f1",
   "metadata": {},
   "source": [
    "# Data Cleaning"
   ]
  },
  {
   "cell_type": "code",
   "execution_count": 13,
   "id": "13f438ee",
   "metadata": {},
   "outputs": [],
   "source": [
    "#Checking for null Values"
   ]
  },
  {
   "cell_type": "code",
   "execution_count": 14,
   "id": "21b4afa2",
   "metadata": {},
   "outputs": [
    {
     "data": {
      "text/plain": [
       "status_id              0\n",
       "status_type         6997\n",
       "status_published    6997\n",
       "num_reactions       6997\n",
       "num_comments        6997\n",
       "num_shares          6997\n",
       "num_likes           6997\n",
       "num_loves           6997\n",
       "num_wows            6997\n",
       "num_hahas           6997\n",
       "num_sads            6997\n",
       "num_angrys          6997\n",
       "dtype: int64"
      ]
     },
     "execution_count": 14,
     "metadata": {},
     "output_type": "execute_result"
    }
   ],
   "source": [
    "#Check the null values\n",
    "df.isnull().sum()"
   ]
  },
  {
   "cell_type": "markdown",
   "id": "284b385d",
   "metadata": {},
   "source": [
    "# It is clear that there is no null values"
   ]
  },
  {
   "cell_type": "markdown",
   "id": "7cfae152",
   "metadata": {},
   "source": [
    "# In order to calculate distances for hierarchical cluestering, all features must be in numeric format.\n",
    "# Since some of the data is in string format, we need to convert it into numeric, lets do that now, I will be converting status_type and status_published as numeirc"
   ]
  },
  {
   "cell_type": "code",
   "execution_count": 15,
   "id": "25e2f99c",
   "metadata": {},
   "outputs": [],
   "source": [
    "df['status_type'] = pd.to_numeric(df['status_type'],errors='coerce')\n",
    "df['status_published'] = pd.to_numeric(df['status_published'],errors='coerce')"
   ]
  },
  {
   "cell_type": "code",
   "execution_count": 16,
   "id": "ae51eba4",
   "metadata": {},
   "outputs": [
    {
     "name": "stdout",
     "output_type": "stream",
     "text": [
      "Number of duplicate values in the dataset is :  0\n"
     ]
    }
   ],
   "source": [
    "# Checking for Duplicates\n",
    "print(\"Number of duplicate values in the dataset is : \", df.duplicated().sum())"
   ]
  },
  {
   "cell_type": "code",
   "execution_count": 17,
   "id": "f9b32763",
   "metadata": {},
   "outputs": [
    {
     "data": {
      "text/plain": [
       "status_id               0\n",
       "status_type         13994\n",
       "status_published    13994\n",
       "num_reactions        6997\n",
       "num_comments         6997\n",
       "num_shares           6997\n",
       "num_likes            6997\n",
       "num_loves            6997\n",
       "num_wows             6997\n",
       "num_hahas            6997\n",
       "num_sads             6997\n",
       "num_angrys           6997\n",
       "dtype: int64"
      ]
     },
     "execution_count": 17,
     "metadata": {},
     "output_type": "execute_result"
    }
   ],
   "source": [
    "# now again lets checking column wise null values\n",
    "df.isnull().any()\n",
    "df.isnull().sum()"
   ]
  },
  {
   "cell_type": "code",
   "execution_count": 18,
   "id": "726b1b4d",
   "metadata": {},
   "outputs": [
    {
     "data": {
      "text/plain": [
       "90961"
      ]
     },
     "execution_count": 18,
     "metadata": {},
     "output_type": "execute_result"
    }
   ],
   "source": [
    "# checking overall null value count\n",
    "df.isnull().sum().sum()"
   ]
  },
  {
   "cell_type": "markdown",
   "id": "f5d77180",
   "metadata": {},
   "source": [
    "# We can see we have huge null vaalues after converting data into numeric. we will handle iy by filling it with zero"
   ]
  },
  {
   "cell_type": "code",
   "execution_count": 19,
   "id": "28d60c09",
   "metadata": {},
   "outputs": [],
   "source": [
    "df.fillna(0,inplace = True)"
   ]
  },
  {
   "cell_type": "markdown",
   "id": "2e43e339",
   "metadata": {},
   "source": [
    "# I am filling NAN with zero instead of removing it"
   ]
  },
  {
   "cell_type": "code",
   "execution_count": 20,
   "id": "13aa7a89",
   "metadata": {},
   "outputs": [
    {
     "data": {
      "text/plain": [
       "0"
      ]
     },
     "execution_count": 20,
     "metadata": {},
     "output_type": "execute_result"
    }
   ],
   "source": [
    "# checking overall null value count\n",
    "df.isnull().sum().sum()"
   ]
  },
  {
   "cell_type": "code",
   "execution_count": 21,
   "id": "a23d4fc1",
   "metadata": {},
   "outputs": [],
   "source": [
    "# After handling the null value we can see we have zero null values"
   ]
  },
  {
   "cell_type": "markdown",
   "id": "97e0b8cc",
   "metadata": {},
   "source": [
    "# Outliers"
   ]
  },
  {
   "cell_type": "code",
   "execution_count": 22,
   "id": "c8e450e5",
   "metadata": {},
   "outputs": [],
   "source": [
    "#Outliers are unusual values in your dataset, and they can distort statistical analyses and violate their assumptions.\n",
    "#let's first visualize our data and decide on what to do with the outliers"
   ]
  },
  {
   "cell_type": "code",
   "execution_count": 23,
   "id": "91a7500d",
   "metadata": {},
   "outputs": [
    {
     "data": {
      "image/png": "[encoded data removed]",
      "text/plain": [
       "<Figure size 1440x864 with 6 Axes>"
      ]
     },
     "metadata": {
      "needs_background": "light"
     },
     "output_type": "display_data"
    }
   ],
   "source": [
    "plt.figure(figsize=(20,12))\n",
    "plt.subplot(2,3,1)\n",
    "sns.boxplot(df['status_type'])\n",
    "plt.subplot(2,3,2)\n",
    "sns.boxplot(df['status_published'])\n",
    "plt.subplot(2,3,3)\n",
    "sns.boxplot(df['num_reactions'])\n",
    "plt.subplot(2,3,4)\n",
    "sns.boxplot(df['num_comments'])\n",
    "plt.subplot(2,3,5)\n",
    "sns.boxplot(df['num_likes'])\n",
    "plt.subplot(2,3,6)\n",
    "sns.boxplot(df['num_loves'])\n",
    "\n",
    "plt.show()\n",
    "\n"
   ]
  },
  {
   "cell_type": "code",
   "execution_count": 24,
   "id": "54c70a4a",
   "metadata": {},
   "outputs": [
    {
     "data": {
      "text/plain": [
       "<AxesSubplot:xlabel='num_angrys'>"
      ]
     },
     "execution_count": 24,
     "metadata": {},
     "output_type": "execute_result"
    },
    {
     "data": {
      "image/png": "[encoded data removed]",
      "text/plain": [
       "<Figure size 1440x864 with 4 Axes>"
      ]
     },
     "metadata": {
      "needs_background": "light"
     },
     "output_type": "display_data"
    }
   ],
   "source": [
    "plt.figure(figsize=(20,12))\n",
    "plt.subplot(2,3,1)\n",
    "sns.boxplot(df['num_wows'])\n",
    "plt.subplot(2,3,2)\n",
    "sns.boxplot(df['num_hahas'])\n",
    "plt.subplot(2,3,3)\n",
    "sns.boxplot(df['num_sads'])\n",
    "plt.subplot(2,3,4)\n",
    "sns.boxplot(df['num_angrys'])"
   ]
  },
  {
   "cell_type": "markdown",
   "id": "72440373",
   "metadata": {},
   "source": [
    "# We can see there are many outliers but we will not remove it as it can contaains some important information"
   ]
  },
  {
   "cell_type": "markdown",
   "id": "bad2f862",
   "metadata": {},
   "source": [
    "# First, let's try to undertand status_type distribution\n"
   ]
  },
  {
   "cell_type": "code",
   "execution_count": 25,
   "id": "cb9e087a",
   "metadata": {},
   "outputs": [
    {
     "data": {
      "text/plain": [
       "array([[0.22611725, 0.        , 0.        , ..., 0.        , 0.        ,\n",
       "        0.        ],\n",
       "       [0.22611725, 0.        , 0.        , ..., 0.        , 0.        ,\n",
       "        0.        ],\n",
       "       [0.22611725, 0.        , 0.        , ..., 0.        , 0.        ,\n",
       "        0.        ],\n",
       "       ...,\n",
       "       [1.        , 0.        , 0.        , ..., 0.        , 0.        ,\n",
       "        0.        ],\n",
       "       [1.        , 0.        , 0.        , ..., 0.        , 0.        ,\n",
       "        0.        ],\n",
       "       [1.        , 0.        , 0.        , ..., 0.        , 0.        ,\n",
       "        0.        ]])"
      ]
     },
     "execution_count": 25,
     "metadata": {},
     "output_type": "execute_result"
    }
   ],
   "source": [
    "scaler = MinMaxScaler()\n",
    "data_scaled = scaler.fit_transform(df)\n",
    "data_scaled"
   ]
  },
  {
   "cell_type": "markdown",
   "id": "a52ab43b",
   "metadata": {},
   "source": [
    "plt.figure(figsize=(12,6),dpi=100)\n",
    "sns.histplot(data=data_scaled,x=\"num_reactions\",color=\"red\")\n",
    "plt.title(\"status_type Distribution \")\n",
    "plt.show()"
   ]
  },
  {
   "cell_type": "code",
   "execution_count": 26,
   "id": "6eb36eda",
   "metadata": {},
   "outputs": [
    {
     "data": {
      "image/png": "[encoded data removed]",
      "text/plain": [
       "<Figure size 600x300 with 1 Axes>"
      ]
     },
     "metadata": {
      "needs_background": "light"
     },
     "output_type": "display_data"
    }
   ],
   "source": [
    "plt.figure(figsize=(12,6),dpi=50)\n",
    "sns.histplot(data=df,bins=range(0, 300, 40), x=\"num_comments\",color=\"red\")\n",
    "#sns.histplot(data=df,x=\"num_comments\",color=\"red\")\n",
    "plt.title(\"num_comments Distribution \")\n",
    "plt.show()"
   ]
  },
  {
   "cell_type": "code",
   "execution_count": 27,
   "id": "bec81fc0",
   "metadata": {},
   "outputs": [
    {
     "data": {
      "image/png": "[encoded data removed]",
      "text/plain": [
       "<Figure size 432x288 with 1 Axes>"
      ]
     },
     "metadata": {
      "needs_background": "light"
     },
     "output_type": "display_data"
    }
   ],
   "source": [
    "sns.countplot(data=df,x=\"status_type\")\n",
    "plt.title(\"status_type of Customers\")\n",
    "plt.show()\n"
   ]
  },
  {
   "cell_type": "code",
   "execution_count": 28,
   "id": "5cbefc10",
   "metadata": {},
   "outputs": [
    {
     "data": {
      "image/png": "[encoded data removed]",
      "text/plain": [
       "<Figure size 720x720 with 1 Axes>"
      ]
     },
     "metadata": {
      "needs_background": "light"
     },
     "output_type": "display_data"
    }
   ],
   "source": [
    "fig = plt.figure(figsize=(10,10))\n",
    "fig.add_subplot(1,1,1)\n",
    "sns.countplot(data=df,x=\"num_angrys\")\n",
    "plt.title(\"num_angrys of Customers\")\n",
    "plt.show()"
   ]
  },
  {
   "cell_type": "code",
   "execution_count": 29,
   "id": "3d32e5c6",
   "metadata": {},
   "outputs": [
    {
     "data": {
      "image/png": "[encoded data removed]",
      "text/plain": [
       "<Figure size 720x720 with 1 Axes>"
      ]
     },
     "metadata": {
      "needs_background": "light"
     },
     "output_type": "display_data"
    }
   ],
   "source": [
    "fig = plt.figure(figsize=(10,10))\n",
    "fig.add_subplot(1,1,1)\n",
    "sns.countplot(data=df,x=\"num_sads\")\n",
    "plt.title(\"num_sads of Customers\")\n",
    "plt.show()"
   ]
  },
  {
   "cell_type": "code",
   "execution_count": 30,
   "id": "e19ca2fc",
   "metadata": {},
   "outputs": [
    {
     "data": {
      "image/png": "[encoded data removed]",
      "text/plain": [
       "<Figure size 720x720 with 1 Axes>"
      ]
     },
     "metadata": {
      "needs_background": "light"
     },
     "output_type": "display_data"
    }
   ],
   "source": [
    "fig = plt.figure(figsize=(10,10))\n",
    "fig.add_subplot(1,1,1)\n",
    "sns.countplot(data=df,x=\"num_hahas\")\n",
    "plt.title(\"num_hahas of Customers\")\n",
    "plt.show()"
   ]
  },
  {
   "cell_type": "markdown",
   "id": "600ebeeb",
   "metadata": {},
   "source": [
    "# From above graphs we can see data is highly scattered hence we need to normalize this and scale it to use it properly"
   ]
  },
  {
   "cell_type": "markdown",
   "id": "b25cf191",
   "metadata": {},
   "source": [
    "# In order to understand the relationships between features, we will make a heatmap of correlations"
   ]
  },
  {
   "cell_type": "markdown",
   "id": "6b089fdb",
   "metadata": {},
   "source": [
    "plt.figure(figsize=(20,10))\n",
    "c=df.corr()\n",
    "sns.heatmap(c,cmap=plt.cm.RdYlGn, annot=True)\n",
    "c"
   ]
  },
  {
   "cell_type": "markdown",
   "id": "dbe96046",
   "metadata": {},
   "source": [
    "# Lets scale the data"
   ]
  },
  {
   "cell_type": "code",
   "execution_count": 31,
   "id": "890429d4",
   "metadata": {},
   "outputs": [],
   "source": [
    "scaler = MinMaxScaler(feature_range=(0,1))"
   ]
  },
  {
   "cell_type": "code",
   "execution_count": 32,
   "id": "45792926",
   "metadata": {},
   "outputs": [],
   "source": [
    "clustering_df=pd.DataFrame(scaler.fit_transform(df), columns=df.columns)"
   ]
  },
  {
   "cell_type": "markdown",
   "id": "babc57a1",
   "metadata": {},
   "source": [
    "# Lets try various Dendrogram for linkage like ward, single, average and complete"
   ]
  },
  {
   "cell_type": "code",
   "execution_count": 33,
   "id": "67dc9ac3",
   "metadata": {},
   "outputs": [
    {
     "data": {
      "image/png": "[encoded data removed]",
      "text/plain": [
       "<Figure size 432x288 with 1 Axes>"
      ]
     },
     "metadata": {
      "needs_background": "light"
     },
     "output_type": "display_data"
    },
    {
     "data": {
      "image/png": "[encoded data removed]",
      "text/plain": [
       "<Figure size 432x288 with 1 Axes>"
      ]
     },
     "metadata": {
      "needs_background": "light"
     },
     "output_type": "display_data"
    },
    {
     "data": {
      "image/png": "[encoded data removed]",
      "text/plain": [
       "<Figure size 432x288 with 1 Axes>"
      ]
     },
     "metadata": {
      "needs_background": "light"
     },
     "output_type": "display_data"
    },
    {
     "data": {
      "image/png": "[encoded data removed]",
      "text/plain": [
       "<Figure size 432x288 with 1 Axes>"
      ]
     },
     "metadata": {
      "needs_background": "light"
     },
     "output_type": "display_data"
    }
   ],
   "source": [
    "Z1 = linkage(df, 'ward')\n",
    "Z2 = linkage(df, 'single')\n",
    "Z3 = linkage(df, 'average')\n",
    "Z4 = linkage(df, 'complete')\n",
    "\n",
    "plt.title('Hierarchical Clustering Dendrogram (linkage:ward)')\n",
    "plt.xlabel(\"Number of points in node\")\n",
    "plt.ylabel('distance')\n",
    "dendrogram(\n",
    "    Z1,  #entered Z1 for ward criteria\n",
    "    truncate_mode='lastp',  # show only the last p merged clusters\n",
    "    p=20,  # show only the last p merged clusters, lower it if interested seeing how balanced the solution is\n",
    "    leaf_rotation=90.,\n",
    "    leaf_font_size=12.,\n",
    "    show_contracted=True,  # to get a distribution impression in truncated branches\n",
    "    \n",
    ")\n",
    "plt.show()\n",
    "\n",
    "plt.title('Hierarchical Clustering Dendrogram (linkage:single)')\n",
    "plt.xlabel(\"Number of points in node\")\n",
    "plt.ylabel('distance')\n",
    "dendrogram(\n",
    "    Z2,  #enter Z2 single linkage criterion\n",
    "    truncate_mode='lastp',  # show only the last p merged clusters\n",
    "    p=20,  # show only the last p merged clusters, lower it if interested seeing how balanced the solution is\n",
    "    leaf_rotation=90.,\n",
    "    leaf_font_size=12.,\n",
    "    show_contracted=True,  # to get a distribution impression in truncated branches\n",
    "    \n",
    ")\n",
    "plt.show()\n",
    "\n",
    "plt.title('Hierarchical Clustering Dendrogram (linkage:average)')\n",
    "plt.xlabel(\"Number of points in node\")\n",
    "plt.ylabel('distance')\n",
    "dendrogram(\n",
    "    Z3,   #enter Z3 single average criterion\n",
    "    truncate_mode='lastp',  # show only the last p merged clusters\n",
    "    p=20,  # show only the last p merged clusters, lower it if interested seeing how balanced the solution is\n",
    "    leaf_rotation=90.,\n",
    "    leaf_font_size=12.,\n",
    "    show_contracted=True,  # to get a distribution impression in truncated branches\n",
    "    \n",
    ")\n",
    "plt.show()\n",
    "\n",
    "\n",
    "plt.title('Hierarchical Clustering Dendrogram (linkage:complete)')\n",
    "plt.xlabel(\"Number of points in node\")\n",
    "plt.ylabel('distance')\n",
    "dendrogram(\n",
    "    Z4, #enter Z3 single complete criterion\n",
    "    truncate_mode='lastp',  # show only the last p merged clusters\n",
    "    p=20,  # show only the last p merged clusters, lower it if interested seeing how balanced the solution is\n",
    "    leaf_rotation=90.,\n",
    "    leaf_font_size=12.,\n",
    "    show_contracted=True,  # to get a distribution impression in truncated branches\n",
    "    \n",
    ")\n",
    "plt.show()"
   ]
  },
  {
   "cell_type": "markdown",
   "id": "0c747a5d",
   "metadata": {},
   "source": [
    "# From above 4 dendogram we can go with 4 clusters initially then we will compare and narrow down it based on domain knowledge"
   ]
  },
  {
   "cell_type": "markdown",
   "id": "f70b8098",
   "metadata": {},
   "source": [
    "# Now we will apply AgglomerativeClustering and check with diff  Linkage and affinity because it have a significant impact on the cluster solution. We can already see the graphical differences among the above four dendrograms representing four different linkage solutions . Now we can quantify, how the frequency of individual observations change with choices of linkage and affinity"
   ]
  },
  {
   "cell_type": "code",
   "execution_count": 34,
   "id": "aaaac34f",
   "metadata": {},
   "outputs": [
    {
     "name": "stdout",
     "output_type": "stream",
     "text": [
      "    ward  single  average  complete\n",
      "0  11356   12430    12430         2\n",
      "3   1564       1        1       273\n",
      "1    578    1562     1562     12157\n",
      "2    496       1        1      1562\n"
     ]
    }
   ],
   "source": [
    "model1 = AgglomerativeClustering(n_clusters=4, affinity='euclidean', linkage='ward')\n",
    "model2 = AgglomerativeClustering(n_clusters=4, affinity='euclidean', linkage='single')\n",
    "model3 = AgglomerativeClustering(n_clusters=4, affinity='euclidean', linkage='average')\n",
    "model4 = AgglomerativeClustering(n_clusters=4, affinity='euclidean', linkage='complete')\n",
    "\n",
    "model2.fit(clustering_df)\n",
    "clustering_df['segmentation-clustering']=model2.labels_ #this is used for plotting later\n",
    "\n",
    "#Predict and count numbers in each cluster\n",
    "clus_solution1 = model1.fit_predict(clustering_df)\n",
    "clus_solution2 = model2.fit_predict(clustering_df)\n",
    "clus_solution3 = model3.fit_predict(clustering_df)\n",
    "clus_solution4 = model4.fit_predict(clustering_df)\n",
    "\n",
    "output1 = pd.DataFrame(data=clus_solution1)\n",
    "output2 = pd.DataFrame(data=clus_solution2)\n",
    "output3 = pd.DataFrame(data=clus_solution3)\n",
    "output4 = pd.DataFrame(data=clus_solution4)\n",
    "\n",
    "A=output1[0].value_counts(ascending=False)\n",
    "B=output2[0].value_counts(ascending=False)\n",
    "C=output3[0].value_counts(ascending=False)\n",
    "D=output4[0].value_counts(ascending=False)\n",
    "\n",
    "out=pd.concat([A,B,C,D], axis=1)\n",
    "out.columns = ['ward', 'single', 'average', 'complete']\n",
    "print(out)"
   ]
  },
  {
   "cell_type": "markdown",
   "id": "6b740407",
   "metadata": {},
   "source": [
    "# The table below shows the number of individuals in each cluster . The clustering approach using ward linkage (model A) , single linkage model B, average linkage model C, complete linkage modle D all had four clusters.\n",
    "\n",
    "# Model B- Single Linkage and Model C- average linkage giving exact same number of clusters. Majority of donors are in 2 cluster\n",
    "\n",
    "# Modle A- ward linkage and Model D - complete are skewed but majority of donors are distributed in all 4 clusters"
   ]
  },
  {
   "cell_type": "markdown",
   "id": "0d17df96",
   "metadata": {},
   "source": [
    "# Now lets try to ook at the role of the affinity metric in how pairs of observations are fused together. Affinity is the metric that is used to compute the linkage.  There are five different criteria are available in sklearn.cluster.AgglomerativeClustering: euclidean, l1, l2, manhattan and cosine. \n",
    "# The default is euclidean. As with the linkage criterion, the affinity criterion may also impact the clustering solution"
   ]
  },
  {
   "cell_type": "code",
   "execution_count": 35,
   "id": "ab1669a2",
   "metadata": {},
   "outputs": [
    {
     "name": "stdout",
     "output_type": "stream",
     "text": [
      "   euclidean     l1     l2  manhattan  cosine\n",
      "0      11356  12430  12430      12430   12429\n",
      "3       1564      1      1          1       1\n",
      "1        578   1562   1562       1562       2\n",
      "2        496      1      1          1    1562\n"
     ]
    }
   ],
   "source": [
    "model1_A = AgglomerativeClustering(n_clusters=4, affinity='euclidean', linkage='ward')\n",
    "model1_B = AgglomerativeClustering(n_clusters=4, affinity='l1', linkage='single')\n",
    "model1_C = AgglomerativeClustering(n_clusters=4, affinity='l2', linkage='single')\n",
    "model1_D = AgglomerativeClustering(n_clusters=4, affinity='manhattan', linkage='single')\n",
    "model1_E = AgglomerativeClustering(n_clusters=4, affinity='cosine', linkage='single')\n",
    "\n",
    "clus_solution1_A = model1_A.fit_predict(clustering_df)\n",
    "clus_solution1_B = model1_B.fit_predict(clustering_df)\n",
    "clus_solution1_C = model1_C.fit_predict(clustering_df)\n",
    "clus_solution1_D = model1_D.fit_predict(clustering_df)\n",
    "clus_solution1_E = model1_E.fit_predict(clustering_df)\n",
    "\n",
    "output1_A = pd.DataFrame(data=clus_solution1_A)\n",
    "output1_B = pd.DataFrame(data=clus_solution1_B)\n",
    "output1_C = pd.DataFrame(data=clus_solution1_C)\n",
    "output1_D = pd.DataFrame(data=clus_solution1_D)\n",
    "output1_E = pd.DataFrame(data=clus_solution1_E)\n",
    "\n",
    "a=output1_A[0].value_counts(ascending=False)\n",
    "b=output1_B[0].value_counts(ascending=False)\n",
    "c=output1_C[0].value_counts(ascending=False)\n",
    "d=output1_D[0].value_counts(ascending=False)\n",
    "e=output1_E[0].value_counts(ascending=False)\n",
    "\n",
    "out=pd.concat([a,b,c,d,e], axis=1)\n",
    "out.columns = ['euclidean', 'l1', 'l2', 'manhattan', 'cosine']\n",
    "print(out)"
   ]
  },
  {
   "cell_type": "markdown",
   "id": "c6d59852",
   "metadata": {},
   "source": [
    " # While the choice of affinity metric did not have a differential impact when the criterion was specified as euclidean, l1, l2 or manhattan, the segmentation solution was considerably same when the affinity metric was set to l1,l2, maanhattan and cosine"
   ]
  },
  {
   "cell_type": "code",
   "execution_count": 36,
   "id": "24bee00a",
   "metadata": {},
   "outputs": [
    {
     "data": {
      "text/plain": [
       "Text(0.5, 0, 'num_shares')"
      ]
     },
     "execution_count": 36,
     "metadata": {},
     "output_type": "execute_result"
    },
    {
     "data": {
      "image/png": "[encoded data removed]",
      "text/plain": [
       "<Figure size 576x576 with 1 Axes>"
      ]
     },
     "metadata": {
      "needs_background": "light"
     },
     "output_type": "display_data"
    }
   ],
   "source": [
    "from mpl_toolkits import mplot3d\n",
    "%matplotlib inline\n",
    "import numpy as np\n",
    "import matplotlib.pyplot as plt\n",
    "\n",
    "fig = plt.figure(figsize=(8, 8))\n",
    "ax = fig.add_subplot(111, projection='3d')\n",
    "\n",
    "# Data for three-dimensional scattered points\n",
    "zdata = clustering_df['num_reactions']\n",
    "xdata = clustering_df['num_comments']\n",
    "ydata = clustering_df['num_shares']\n",
    "ax.scatter3D(xdata, ydata, zdata, s=5, alpha=0.6, c=clustering_df['segmentation-clustering'], cmap='magma');\n",
    "\n",
    "ax.set_xlabel('num_reactions')\n",
    "ax.set_ylabel('num_comments')\n",
    "ax.set_zlabel('num_shares')"
   ]
  },
  {
   "cell_type": "code",
   "execution_count": 37,
   "id": "4936a5ce",
   "metadata": {},
   "outputs": [
    {
     "data": {
      "image/png": "[encoded data removed]",
      "text/plain": [
       "<Figure size 670.375x540 with 12 Axes>"
      ]
     },
     "metadata": {
      "needs_background": "light"
     },
     "output_type": "display_data"
    }
   ],
   "source": [
    "g = sns.pairplot(clustering_df, hue=\"segmentation-clustering\", diag_kind=\"kde\", vars=[\"num_reactions\", \"num_comments\", \"num_shares\"])"
   ]
  },
  {
   "cell_type": "markdown",
   "id": "b9a20b50",
   "metadata": {},
   "source": [
    "\n",
    "\n",
    "After finding the best clustering obtained for your data, try to interpret some/all of the clusters and derive some domain-specific insights out of the results\n",
    "- **The purpose of this assignment is to study the patterns in the clusters formed and determine the nature of the cluster's patterns.**\n",
    "- It can be concluded that the cluster 0 has seller are in general less popular. In the other hand, the sellers of the cluster 1 have sellers that are super popular\n",
    "- As we saw in the graph the sellers from cluster 0 have less shares and less likes than the sellers of the cluster 1\n",
    "- In a different graph, the sellers of the cluster 0 independetly of the status type, always have less likes than the sellers of cluster 1\n",
    "- In terms of number of interactions with the posts (wows, hahas, sads and angrys), the number of likes doesn't fluctuate much\n",
    "- With respect to hour of the post, can clearly be seen that between 5:00 - 10:00 there is more interactions than any other time of the day\n",
    "-We can either go with modle B or Model C with single or average Linkage. As both of them are returning similar output we can consider either one of them. i.e average or single linkage\n",
    "- Segmentation 1 and 2 is better .\n",
    "- When we evaluate affinity metric euclidean   is skwed, l1, l2, and manhattan    giving same output and cosine affinity giving better results.\n",
    "\n",
    "\n"
   ]
  }
 ],
 "metadata": {
  "kernelspec": {
   "display_name": "Python 3 (ipykernel)",
   "language": "python",
   "name": "python3"
  },
  "language_info": {
   "codemirror_mode": {
    "name": "ipython",
    "version": 3
   },
   "file_extension": ".py",
   "mimetype": "text/x-python",
   "name": "python",
   "nbconvert_exporter": "python",
   "pygments_lexer": "ipython3",
   "version": "3.9.13"
  }
 },
 "nbformat": 4,
 "nbformat_minor": 5
}
