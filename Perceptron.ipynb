{
 "cells": [
  {
   "cell_type": "markdown",
   "id": "da94d31c",
   "metadata": {},
   "source": [
    "Q1. Train a perceptron\n",
    "Perceptron is a fundamental building block for neural networks. Let us try to train\n",
    "a single perceptron. Consider the data given in the following table. As one can see,\n",
    "it has two attributes x1,x2, and a class label (either 0 or 1)\n",
    "1. Implement the perceptron training rule and get the appropriate parameters for a\n",
    "single perceptron (Using only basic libraries like NumPy)\n",
    "2. Plot the data points and the obtained decision boundary\n",
    "3. Also draw the schematic diagram of the trained perceptron with learned weights.\n",
    "You can draw this on paper and upload it in the Python notebook"
   ]
  },
  {
   "cell_type": "code",
   "execution_count": 1,
   "id": "4e903380",
   "metadata": {},
   "outputs": [],
   "source": [
    "import numpy as np\n",
    "import matplotlib.pyplot as plt\n",
    "import seaborn as sns\n",
    "sns.set()"
   ]
  },
  {
   "cell_type": "code",
   "execution_count": 2,
   "id": "eee910f8",
   "metadata": {},
   "outputs": [],
   "source": [
    "# test predictions\n",
    "array = np.array(\n",
    "    [\n",
    "        [-3.98, -0.12 , 1],\n",
    "        [-3.464,-2.11 , 1],\n",
    "        [-3.461, 1.89 , 1],\n",
    "        [-2.22 ,-3.474, 1],\n",
    "        [-2.02 , 0.03 , 0],\n",
    "        [-2.01 ,3.459 , 1],\n",
    "        [-1.42 ,-1.409, 0],\n",
    "        [-1.416,1.419 , 0],\n",
    "        [-1.09 ,0.08  , 0],\n",
    "        [-0.19 ,-4.13 , 1],\n",
    "        [0.01  ,1.02  , 0],\n",
    "        [0.03  ,-2.12 , 0],\n",
    "        [0.04  ,2.06  , 0],\n",
    "        [0.06  ,3.97  , 1],\n",
    "        [0.07  ,0.1   , 0],\n",
    "        [0.12  ,-1.12 , 0],\n",
    "        [1.11  ,0.09  , 0],\n",
    "        [1.411 ,1.419 , 0],\n",
    "        [1.414 ,-1.415, 0],\n",
    "        [1.86  ,3.47  , 1],\n",
    "        [1.96  ,-0.12 , 0],\n",
    "        [2.11  ,-3.472, 1]\n",
    "    ])\n",
    "data = np.hsplit(array, [2])\n",
    "X = data[0]\n",
    "y = data[1]"
   ]
  },
  {
   "cell_type": "code",
   "execution_count": 3,
   "id": "2541cb96",
   "metadata": {},
   "outputs": [
    {
     "name": "stdout",
     "output_type": "stream",
     "text": [
      "The shape of our input matrix, X, is: (22, 2).\n",
      "The shape of our output vector, y, is: (22, 1).\n"
     ]
    }
   ],
   "source": [
    "# confirm shapes of generated data\n",
    "print(\"The shape of our input matrix, X, is: {0}.\".format(X.shape))\n",
    "print(\"The shape of our output vector, y, is: {0}.\".format(y.shape))"
   ]
  },
  {
   "cell_type": "code",
   "execution_count": 4,
   "id": "89caf7cb",
   "metadata": {},
   "outputs": [
    {
     "data": {
      "text/plain": [
       "<AxesSubplot:xlabel='X1', ylabel='X2'>"
      ]
     },
     "execution_count": 4,
     "metadata": {},
     "output_type": "execute_result"
    },
    {
     "data": {
      "image/png": "[encoded data removed]",
      "text/plain": [
       "<Figure size 432x288 with 1 Axes>"
      ]
     },
     "metadata": {},
     "output_type": "display_data"
    }
   ],
   "source": [
    "import pandas as pd\n",
    "X_df = pd.DataFrame(X, columns=['X1','X2'])\n",
    "y_df = pd.DataFrame(y, columns=[\"Y\"])\n",
    "frames = [X_df, y_df]\n",
    "data = pd.concat(frames, axis=1)\n",
    "# create scatter plot for samples from each class\n",
    "plt.xlim([-7, 7])\n",
    "plt.ylim([-7, 7])\n",
    "sns.scatterplot(x=\"X1\", y=\"X2\", hue='Y', data=data)"
   ]
  },
  {
   "cell_type": "code",
   "execution_count": 5,
   "id": "dcc78d92",
   "metadata": {},
   "outputs": [
    {
     "data": {
      "image/png": "[encoded data removed]",
      "text/plain": [
       "<Figure size 432x288 with 1 Axes>"
      ]
     },
     "metadata": {},
     "output_type": "display_data"
    }
   ],
   "source": [
    "#plotting a graph to see class imbalance\n",
    "data['Y'].value_counts().plot(kind = \"barh\")\n",
    "plt.xlabel(\"X Counts\")\n",
    "plt.ylabel(\"Y\")\n",
    "plt.show()"
   ]
  },
  {
   "cell_type": "code",
   "execution_count": 6,
   "id": "f420743e",
   "metadata": {},
   "outputs": [],
   "source": [
    "import numpy as np\n",
    "\n",
    "class Perceptron(object):\n",
    "\n",
    "    def __init__(self, eta=0.01, epochs=50):\n",
    "        self.eta = eta\n",
    "        self.epochs = epochs\n",
    "\n",
    "    def train(self, X, y):\n",
    "\n",
    "        self.w_ = np.zeros(1 + X.shape[1])\n",
    "        self.errors_ = []\n",
    "\n",
    "        for _ in range(self.epochs):\n",
    "            errors = 0\n",
    "            for xi, target in zip(X, y):\n",
    "                update = self.eta * (target - self.predict(xi))\n",
    "                self.w_[1:] +=  update * xi\n",
    "                self.w_[0] +=  update\n",
    "                errors += int(update != 0.0)\n",
    "            self.errors_.append(errors)\n",
    "        return self\n",
    "\n",
    "    def net_input(self, X):\n",
    "        return np.dot(X, self.w_[1:]) + self.w_[0]\n",
    "\n",
    "    def predict(self, X):\n",
    "        return np.where(self.net_input(X) >= 0.0, 1, -1)"
   ]
  },
  {
   "cell_type": "code",
   "execution_count": 7,
   "id": "3339f070",
   "metadata": {},
   "outputs": [],
   "source": [
    "y = y.astype(np.int_)"
   ]
  },
  {
   "cell_type": "code",
   "execution_count": 8,
   "id": "c79b8b33",
   "metadata": {},
   "outputs": [],
   "source": [
    "y = np.squeeze(y)"
   ]
  },
  {
   "cell_type": "code",
   "execution_count": 9,
   "id": "442252d5",
   "metadata": {},
   "outputs": [
    {
     "data": {
      "text/plain": [
       "array([1, 1, 1, 1, 0, 1, 0, 0, 0, 1, 0, 0, 0, 1, 0, 0, 0, 0, 0, 1, 0, 1])"
      ]
     },
     "execution_count": 9,
     "metadata": {},
     "output_type": "execute_result"
    }
   ],
   "source": [
    "y"
   ]
  },
  {
   "cell_type": "code",
   "execution_count": 10,
   "id": "5b58e816",
   "metadata": {},
   "outputs": [
    {
     "name": "stdout",
     "output_type": "stream",
     "text": [
      "Weights: [ 0.4     0.468  -0.5706]\n"
     ]
    },
    {
     "data": {
      "image/png": "[encoded data removed]",
      "text/plain": [
       "<Figure size 432x288 with 1 Axes>"
      ]
     },
     "metadata": {
      "needs_background": "light"
     },
     "output_type": "display_data"
    },
    {
     "data": {
      "image/png": "[encoded data removed]",
      "text/plain": [
       "<Figure size 432x288 with 1 Axes>"
      ]
     },
     "metadata": {
      "needs_background": "light"
     },
     "output_type": "display_data"
    },
    {
     "name": "stdout",
     "output_type": "stream",
     "text": [
      "Total number of misclassifications: 19 of 100\n"
     ]
    }
   ],
   "source": [
    "%matplotlib inline\n",
    "import matplotlib.pyplot as plt\n",
    "from mlxtend.plotting import plot_decision_regions\n",
    "\n",
    "ppn = Perceptron(epochs=10, eta=0.1)\n",
    "\n",
    "ppn.train(X, y)\n",
    "print('Weights: %s' % ppn.w_)\n",
    "plot_decision_regions(X, y, clf=ppn)\n",
    "plt.title('Perceptron')\n",
    "plt.xlabel('X1')\n",
    "plt.ylabel('X2')\n",
    "plt.show()\n",
    "\n",
    "plt.plot(range(1, len(ppn.errors_)+1), ppn.errors_, marker='o')\n",
    "plt.xlabel('Iterations')\n",
    "plt.ylabel('Misclassifications')\n",
    "plt.show()\n",
    "\n",
    "print('Total number of misclassifications: %d of 100' % (y != ppn.predict(X)).sum())"
   ]
  },
  {
   "cell_type": "code",
   "execution_count": 11,
   "id": "c2f8ea3e",
   "metadata": {},
   "outputs": [
    {
     "name": "stdout",
     "output_type": "stream",
     "text": [
      "Weights: [ 0.08     0.0128  -0.03762]\n"
     ]
    },
    {
     "data": {
      "image/png": "[encoded data removed]",
      "text/plain": [
       "<Figure size 432x288 with 1 Axes>"
      ]
     },
     "metadata": {
      "needs_background": "light"
     },
     "output_type": "display_data"
    },
    {
     "data": {
      "image/png": "[encoded data removed]",
      "text/plain": [
       "<Figure size 432x288 with 1 Axes>"
      ]
     },
     "metadata": {
      "needs_background": "light"
     },
     "output_type": "display_data"
    },
    {
     "name": "stdout",
     "output_type": "stream",
     "text": [
      "Total number of misclassifications: 17 of 100\n"
     ]
    }
   ],
   "source": [
    "ppn = Perceptron(epochs=250, eta=0.01)\n",
    "ppn.train(X, y)\n",
    "plot_decision_regions(X, y, clf=ppn)\n",
    "print('Weights: %s' % ppn.w_)\n",
    "plt.title('Perceptron')\n",
    "plt.xlabel('X1')\n",
    "plt.ylabel('X2')\n",
    "plt.show()\n",
    "\n",
    "plt.plot(range(1, len(ppn.errors_)+1), ppn.errors_, marker='o')\n",
    "plt.xlabel('Iterations')\n",
    "plt.ylabel('Misclassifications')\n",
    "plt.show()\n",
    "\n",
    "print('Total number of misclassifications: %d of 100' % (y != ppn.predict(X)).sum())"
   ]
  },
  {
   "cell_type": "code",
   "execution_count": 12,
   "id": "312e1d5b",
   "metadata": {},
   "outputs": [
    {
     "name": "stdout",
     "output_type": "stream",
     "text": [
      "Weights: [ 0.4     0.2752 -0.597 ]\n"
     ]
    },
    {
     "data": {
      "image/png": "[encoded data removed]",
      "text/plain": [
       "<Figure size 432x288 with 1 Axes>"
      ]
     },
     "metadata": {
      "needs_background": "light"
     },
     "output_type": "display_data"
    },
    {
     "data": {
      "image/png": "[encoded data removed]",
      "text/plain": [
       "<Figure size 432x288 with 1 Axes>"
      ]
     },
     "metadata": {
      "needs_background": "light"
     },
     "output_type": "display_data"
    },
    {
     "name": "stdout",
     "output_type": "stream",
     "text": [
      "Total number of misclassifications: 18 of 100\n"
     ]
    }
   ],
   "source": [
    "ppn = Perceptron(epochs=100, eta=0.1)\n",
    "ppn.train(X, y)\n",
    "plot_decision_regions(X, y, clf=ppn)\n",
    "print('Weights: %s' % ppn.w_)\n",
    "plt.title('Perceptron')\n",
    "plt.xlabel('X1')\n",
    "plt.ylabel('X2')\n",
    "plt.show()\n",
    "\n",
    "plt.plot(range(1, len(ppn.errors_)+1), ppn.errors_, marker='o')\n",
    "plt.xlabel('Iterations')\n",
    "plt.ylabel('Misclassifications')\n",
    "plt.show()\n",
    "\n",
    "print('Total number of misclassifications: %d of 100' % (y != ppn.predict(X)).sum())"
   ]
  },
  {
   "cell_type": "code",
   "execution_count": 13,
   "id": "3a4717f7",
   "metadata": {},
   "outputs": [
    {
     "data": {
      "text/html": [
       "<div>\n",
       "<style scoped>\n",
       "    .dataframe tbody tr th:only-of-type {\n",
       "        vertical-align: middle;\n",
       "    }\n",
       "\n",
       "    .dataframe tbody tr th {\n",
       "        vertical-align: top;\n",
       "    }\n",
       "\n",
       "    .dataframe thead th {\n",
       "        text-align: right;\n",
       "    }\n",
       "</style>\n",
       "<table border=\"1\" class=\"dataframe\">\n",
       "  <thead>\n",
       "    <tr style=\"text-align: right;\">\n",
       "      <th></th>\n",
       "      <th>Pregnancies</th>\n",
       "      <th>Glucose</th>\n",
       "      <th>BloodPressure</th>\n",
       "      <th>SkinThickness</th>\n",
       "      <th>Insulin</th>\n",
       "      <th>BMI</th>\n",
       "      <th>DiabetesPedigreeFunction</th>\n",
       "      <th>Age</th>\n",
       "      <th>Outcome</th>\n",
       "    </tr>\n",
       "  </thead>\n",
       "  <tbody>\n",
       "    <tr>\n",
       "      <th>0</th>\n",
       "      <td>6</td>\n",
       "      <td>148</td>\n",
       "      <td>72</td>\n",
       "      <td>35</td>\n",
       "      <td>0</td>\n",
       "      <td>33.6</td>\n",
       "      <td>0.627</td>\n",
       "      <td>50</td>\n",
       "      <td>1</td>\n",
       "    </tr>\n",
       "    <tr>\n",
       "      <th>1</th>\n",
       "      <td>1</td>\n",
       "      <td>85</td>\n",
       "      <td>66</td>\n",
       "      <td>29</td>\n",
       "      <td>0</td>\n",
       "      <td>26.6</td>\n",
       "      <td>0.351</td>\n",
       "      <td>31</td>\n",
       "      <td>0</td>\n",
       "    </tr>\n",
       "    <tr>\n",
       "      <th>2</th>\n",
       "      <td>8</td>\n",
       "      <td>183</td>\n",
       "      <td>64</td>\n",
       "      <td>0</td>\n",
       "      <td>0</td>\n",
       "      <td>23.3</td>\n",
       "      <td>0.672</td>\n",
       "      <td>32</td>\n",
       "      <td>1</td>\n",
       "    </tr>\n",
       "    <tr>\n",
       "      <th>3</th>\n",
       "      <td>1</td>\n",
       "      <td>89</td>\n",
       "      <td>66</td>\n",
       "      <td>23</td>\n",
       "      <td>94</td>\n",
       "      <td>28.1</td>\n",
       "      <td>0.167</td>\n",
       "      <td>21</td>\n",
       "      <td>0</td>\n",
       "    </tr>\n",
       "    <tr>\n",
       "      <th>4</th>\n",
       "      <td>0</td>\n",
       "      <td>137</td>\n",
       "      <td>40</td>\n",
       "      <td>35</td>\n",
       "      <td>168</td>\n",
       "      <td>43.1</td>\n",
       "      <td>2.288</td>\n",
       "      <td>33</td>\n",
       "      <td>1</td>\n",
       "    </tr>\n",
       "  </tbody>\n",
       "</table>\n",
       "</div>"
      ],
      "text/plain": [
       "   Pregnancies  Glucose  BloodPressure  SkinThickness  Insulin   BMI  \\\n",
       "0            6      148             72             35        0  33.6   \n",
       "1            1       85             66             29        0  26.6   \n",
       "2            8      183             64              0        0  23.3   \n",
       "3            1       89             66             23       94  28.1   \n",
       "4            0      137             40             35      168  43.1   \n",
       "\n",
       "   DiabetesPedigreeFunction  Age  Outcome  \n",
       "0                     0.627   50        1  \n",
       "1                     0.351   31        0  \n",
       "2                     0.672   32        1  \n",
       "3                     0.167   21        0  \n",
       "4                     2.288   33        1  "
      ]
     },
     "execution_count": 13,
     "metadata": {},
     "output_type": "execute_result"
    }
   ],
   "source": [
    "dataset = pd.read_csv('diabetes.csv')\n",
    "dataset.head()"
   ]
  },
  {
   "cell_type": "code",
   "execution_count": 14,
   "id": "4657f17f",
   "metadata": {},
   "outputs": [
    {
     "name": "stdout",
     "output_type": "stream",
     "text": [
      "Shape of X: (768, 8)\n",
      "Shape of y: (768,)\n"
     ]
    }
   ],
   "source": [
    "# Defining input features and target variables\n",
    "X= dataset.iloc[:,0:8]\n",
    "y= dataset.iloc[:,8]\n",
    "print('Shape of X:',X.shape)\n",
    "print('Shape of y:',y.shape)"
   ]
  },
  {
   "cell_type": "code",
   "execution_count": 15,
   "id": "69b77164",
   "metadata": {},
   "outputs": [
    {
     "data": {
      "text/plain": [
       "array([[ 0.63994726,  0.84832379,  0.14964075, ...,  0.20401277,\n",
       "         0.46849198,  1.4259954 ],\n",
       "       [-0.84488505, -1.12339636, -0.16054575, ..., -0.68442195,\n",
       "        -0.36506078, -0.19067191],\n",
       "       [ 1.23388019,  1.94372388, -0.26394125, ..., -1.10325546,\n",
       "         0.60439732, -0.10558415],\n",
       "       ...,\n",
       "       [ 0.3429808 ,  0.00330087,  0.14964075, ..., -0.73518964,\n",
       "        -0.68519336, -0.27575966],\n",
       "       [-0.84488505,  0.1597866 , -0.47073225, ..., -0.24020459,\n",
       "        -0.37110101,  1.17073215],\n",
       "       [-0.84488505, -0.8730192 ,  0.04624525, ..., -0.20212881,\n",
       "        -0.47378505, -0.87137393]])"
      ]
     },
     "execution_count": 15,
     "metadata": {},
     "output_type": "execute_result"
    }
   ],
   "source": [
    "#standardizing the input feature\n",
    "from sklearn.preprocessing import StandardScaler\n",
    "sc = StandardScaler()\n",
    "X = sc.fit_transform(X)\n",
    "X"
   ]
  },
  {
   "cell_type": "code",
   "execution_count": 16,
   "id": "c4351553",
   "metadata": {},
   "outputs": [],
   "source": [
    "from sklearn.model_selection import train_test_split\n",
    "X_train, X_test, y_train, y_test = train_test_split(X, y, test_size=0.25,\n",
    "                                                    random_state=1\n",
    "                                                   )"
   ]
  },
  {
   "cell_type": "code",
   "execution_count": 17,
   "id": "e600c64e",
   "metadata": {},
   "outputs": [],
   "source": [
    "from keras import Sequential\n",
    "from keras.layers import Dense\n",
    "from keras.models import Sequential\n",
    "from keras.layers.core import Dense, Dropout, Activation\n",
    "from tensorflow.keras import regularizers"
   ]
  },
  {
   "cell_type": "code",
   "execution_count": 18,
   "id": "13e19b51",
   "metadata": {},
   "outputs": [
    {
     "name": "stdout",
     "output_type": "stream",
     "text": [
      "Model: \"sequential\"\n",
      "_________________________________________________________________\n",
      " Layer (type)                Output Shape              Param #   \n",
      "=================================================================\n",
      " dense (Dense)               (None, 12)                108       \n",
      "                                                                 \n",
      " dense_1 (Dense)             (None, 1)                 13        \n",
      "                                                                 \n",
      "=================================================================\n",
      "Total params: 121\n",
      "Trainable params: 121\n",
      "Non-trainable params: 0\n",
      "_________________________________________________________________\n"
     ]
    }
   ],
   "source": [
    "# 7. Build the model.\n",
    "model = Sequential([\n",
    "  Dense(12, activation='relu',input_shape=(8,),kernel_initializer='random_normal'),\n",
    "  Dense(1, activation='sigmoid', kernel_initializer='random_normal'),\n",
    "])\n",
    "model.summary()"
   ]
  },
  {
   "cell_type": "code",
   "execution_count": 19,
   "id": "ef99b8ce",
   "metadata": {},
   "outputs": [
    {
     "name": "stdout",
     "output_type": "stream",
     "text": [
      "Collecting pydot\n",
      "  Downloading pydot-1.4.2-py2.py3-none-any.whl (21 kB)\n",
      "Requirement already satisfied: pyparsing>=2.1.4 in c:\\users\\ramya\\anaconda3\\lib\\site-packages (from pydot) (3.0.4)\n",
      "Installing collected packages: pydot\n",
      "Successfully installed pydot-1.4.2\n"
     ]
    }
   ],
   "source": [
    "!pip install pydot"
   ]
  },
  {
   "cell_type": "code",
   "execution_count": 20,
   "id": "8b26444a",
   "metadata": {},
   "outputs": [
    {
     "data": {
      "image/png": "[encoded data removed]",
      "text/plain": [
       "<IPython.core.display.Image object>"
      ]
     },
     "execution_count": 20,
     "metadata": {},
     "output_type": "execute_result"
    }
   ],
   "source": [
    "# Visualize Model\n",
    "from keras.utils.vis_utils import plot_model\n",
    "plot_model(model, to_file='model_plot.png', show_shapes=True, show_layer_names=True)"
   ]
  },
  {
   "cell_type": "code",
   "execution_count": 21,
   "id": "4b54c6af",
   "metadata": {},
   "outputs": [
    {
     "name": "stdout",
     "output_type": "stream",
     "text": [
      "Epoch 1/150\n",
      "58/58 [==============================] - 1s 6ms/step - loss: 0.6847 - accuracy: 0.6424 - val_loss: 0.6729 - val_accuracy: 0.6406\n",
      "Epoch 2/150\n",
      "58/58 [==============================] - 0s 2ms/step - loss: 0.6498 - accuracy: 0.6545 - val_loss: 0.6260 - val_accuracy: 0.6406\n",
      "Epoch 3/150\n",
      "58/58 [==============================] - 0s 3ms/step - loss: 0.5957 - accuracy: 0.6597 - val_loss: 0.5717 - val_accuracy: 0.7083\n",
      "Epoch 4/150\n",
      "58/58 [==============================] - 0s 3ms/step - loss: 0.5491 - accuracy: 0.7326 - val_loss: 0.5316 - val_accuracy: 0.7865\n",
      "Epoch 5/150\n",
      "58/58 [==============================] - 0s 3ms/step - loss: 0.5185 - accuracy: 0.7587 - val_loss: 0.5045 - val_accuracy: 0.7812\n",
      "Epoch 6/150\n",
      "58/58 [==============================] - 0s 2ms/step - loss: 0.4989 - accuracy: 0.7691 - val_loss: 0.4906 - val_accuracy: 0.7865\n",
      "Epoch 7/150\n",
      "58/58 [==============================] - 0s 2ms/step - loss: 0.4872 - accuracy: 0.7708 - val_loss: 0.4802 - val_accuracy: 0.7917\n",
      "Epoch 8/150\n",
      "58/58 [==============================] - 0s 2ms/step - loss: 0.4796 - accuracy: 0.7708 - val_loss: 0.4753 - val_accuracy: 0.8073\n",
      "Epoch 9/150\n",
      "58/58 [==============================] - 0s 3ms/step - loss: 0.4744 - accuracy: 0.7691 - val_loss: 0.4709 - val_accuracy: 0.7969\n",
      "Epoch 10/150\n",
      "58/58 [==============================] - 0s 3ms/step - loss: 0.4708 - accuracy: 0.7743 - val_loss: 0.4695 - val_accuracy: 0.8073\n",
      "Epoch 11/150\n",
      "58/58 [==============================] - 0s 3ms/step - loss: 0.4684 - accuracy: 0.7778 - val_loss: 0.4673 - val_accuracy: 0.7969\n",
      "Epoch 12/150\n",
      "58/58 [==============================] - 0s 3ms/step - loss: 0.4664 - accuracy: 0.7795 - val_loss: 0.4662 - val_accuracy: 0.7917\n",
      "Epoch 13/150\n",
      "58/58 [==============================] - 0s 2ms/step - loss: 0.4643 - accuracy: 0.7795 - val_loss: 0.4646 - val_accuracy: 0.7917\n",
      "Epoch 14/150\n",
      "58/58 [==============================] - 0s 2ms/step - loss: 0.4631 - accuracy: 0.7743 - val_loss: 0.4646 - val_accuracy: 0.7917\n",
      "Epoch 15/150\n",
      "58/58 [==============================] - 0s 3ms/step - loss: 0.4622 - accuracy: 0.7708 - val_loss: 0.4637 - val_accuracy: 0.7917\n",
      "Epoch 16/150\n",
      "58/58 [==============================] - 0s 3ms/step - loss: 0.4613 - accuracy: 0.7708 - val_loss: 0.4637 - val_accuracy: 0.7917\n",
      "Epoch 17/150\n",
      "58/58 [==============================] - 0s 3ms/step - loss: 0.4609 - accuracy: 0.7708 - val_loss: 0.4641 - val_accuracy: 0.7917\n",
      "Epoch 18/150\n",
      "58/58 [==============================] - 0s 3ms/step - loss: 0.4595 - accuracy: 0.7691 - val_loss: 0.4633 - val_accuracy: 0.7917\n",
      "Epoch 19/150\n",
      "58/58 [==============================] - 0s 2ms/step - loss: 0.4591 - accuracy: 0.7743 - val_loss: 0.4633 - val_accuracy: 0.7865\n",
      "Epoch 20/150\n",
      "58/58 [==============================] - 0s 2ms/step - loss: 0.4579 - accuracy: 0.7778 - val_loss: 0.4623 - val_accuracy: 0.7917\n",
      "Epoch 21/150\n",
      "58/58 [==============================] - 0s 3ms/step - loss: 0.4582 - accuracy: 0.7743 - val_loss: 0.4627 - val_accuracy: 0.7865\n",
      "Epoch 22/150\n",
      "58/58 [==============================] - 0s 3ms/step - loss: 0.4574 - accuracy: 0.7708 - val_loss: 0.4617 - val_accuracy: 0.7865\n",
      "Epoch 23/150\n",
      "58/58 [==============================] - 0s 4ms/step - loss: 0.4570 - accuracy: 0.7726 - val_loss: 0.4615 - val_accuracy: 0.7917\n",
      "Epoch 24/150\n",
      "58/58 [==============================] - 0s 2ms/step - loss: 0.4557 - accuracy: 0.7743 - val_loss: 0.4614 - val_accuracy: 0.7865\n",
      "Epoch 25/150\n",
      "58/58 [==============================] - 0s 2ms/step - loss: 0.4560 - accuracy: 0.7760 - val_loss: 0.4613 - val_accuracy: 0.7865\n",
      "Epoch 26/150\n",
      "58/58 [==============================] - 0s 2ms/step - loss: 0.4553 - accuracy: 0.7778 - val_loss: 0.4608 - val_accuracy: 0.7865\n",
      "Epoch 27/150\n",
      "58/58 [==============================] - 0s 2ms/step - loss: 0.4550 - accuracy: 0.7760 - val_loss: 0.4614 - val_accuracy: 0.7865\n",
      "Epoch 28/150\n",
      "58/58 [==============================] - 0s 3ms/step - loss: 0.4547 - accuracy: 0.7726 - val_loss: 0.4611 - val_accuracy: 0.7865\n",
      "Epoch 29/150\n",
      "58/58 [==============================] - 0s 4ms/step - loss: 0.4539 - accuracy: 0.7743 - val_loss: 0.4613 - val_accuracy: 0.7865\n",
      "Epoch 30/150\n",
      "58/58 [==============================] - 0s 3ms/step - loss: 0.4533 - accuracy: 0.7795 - val_loss: 0.4611 - val_accuracy: 0.7865\n",
      "Epoch 31/150\n",
      "58/58 [==============================] - 0s 3ms/step - loss: 0.4529 - accuracy: 0.7726 - val_loss: 0.4609 - val_accuracy: 0.7865\n",
      "Epoch 32/150\n",
      "58/58 [==============================] - 0s 2ms/step - loss: 0.4523 - accuracy: 0.7760 - val_loss: 0.4600 - val_accuracy: 0.7865\n",
      "Epoch 33/150\n",
      "58/58 [==============================] - 0s 2ms/step - loss: 0.4528 - accuracy: 0.7708 - val_loss: 0.4599 - val_accuracy: 0.7865\n",
      "Epoch 34/150\n",
      "58/58 [==============================] - 0s 3ms/step - loss: 0.4520 - accuracy: 0.7726 - val_loss: 0.4607 - val_accuracy: 0.7865\n",
      "Epoch 35/150\n",
      "58/58 [==============================] - 0s 3ms/step - loss: 0.4518 - accuracy: 0.7760 - val_loss: 0.4601 - val_accuracy: 0.7865\n",
      "Epoch 36/150\n",
      "58/58 [==============================] - 0s 3ms/step - loss: 0.4514 - accuracy: 0.7760 - val_loss: 0.4601 - val_accuracy: 0.7865\n",
      "Epoch 37/150\n",
      "58/58 [==============================] - 0s 2ms/step - loss: 0.4509 - accuracy: 0.7726 - val_loss: 0.4603 - val_accuracy: 0.7865\n",
      "Epoch 38/150\n",
      "58/58 [==============================] - 0s 2ms/step - loss: 0.4510 - accuracy: 0.7778 - val_loss: 0.4606 - val_accuracy: 0.7917\n",
      "Epoch 39/150\n",
      "58/58 [==============================] - 0s 2ms/step - loss: 0.4511 - accuracy: 0.7743 - val_loss: 0.4600 - val_accuracy: 0.7917\n",
      "Epoch 40/150\n",
      "58/58 [==============================] - 0s 3ms/step - loss: 0.4504 - accuracy: 0.7743 - val_loss: 0.4601 - val_accuracy: 0.7917\n",
      "Epoch 41/150\n",
      "58/58 [==============================] - 0s 3ms/step - loss: 0.4500 - accuracy: 0.7708 - val_loss: 0.4595 - val_accuracy: 0.7917\n",
      "Epoch 42/150\n",
      "58/58 [==============================] - 0s 3ms/step - loss: 0.4498 - accuracy: 0.7743 - val_loss: 0.4597 - val_accuracy: 0.7917\n",
      "Epoch 43/150\n",
      "58/58 [==============================] - 0s 3ms/step - loss: 0.4496 - accuracy: 0.7778 - val_loss: 0.4601 - val_accuracy: 0.7917\n",
      "Epoch 44/150\n",
      "58/58 [==============================] - 0s 2ms/step - loss: 0.4493 - accuracy: 0.7743 - val_loss: 0.4600 - val_accuracy: 0.7917\n",
      "Epoch 45/150\n",
      "58/58 [==============================] - 0s 2ms/step - loss: 0.4492 - accuracy: 0.7708 - val_loss: 0.4603 - val_accuracy: 0.7969\n",
      "Epoch 46/150\n",
      "58/58 [==============================] - 0s 2ms/step - loss: 0.4493 - accuracy: 0.7778 - val_loss: 0.4601 - val_accuracy: 0.7917\n",
      "Epoch 47/150\n",
      "58/58 [==============================] - 0s 2ms/step - loss: 0.4488 - accuracy: 0.7726 - val_loss: 0.4600 - val_accuracy: 0.7969\n",
      "Epoch 48/150\n",
      "58/58 [==============================] - 0s 3ms/step - loss: 0.4491 - accuracy: 0.7760 - val_loss: 0.4593 - val_accuracy: 0.8021\n",
      "Epoch 49/150\n",
      "58/58 [==============================] - 0s 3ms/step - loss: 0.4485 - accuracy: 0.7760 - val_loss: 0.4601 - val_accuracy: 0.7917\n",
      "Epoch 50/150\n",
      "58/58 [==============================] - 0s 2ms/step - loss: 0.4483 - accuracy: 0.7795 - val_loss: 0.4596 - val_accuracy: 0.8021\n",
      "Epoch 51/150\n",
      "58/58 [==============================] - 0s 2ms/step - loss: 0.4481 - accuracy: 0.7812 - val_loss: 0.4598 - val_accuracy: 0.7969\n",
      "Epoch 52/150\n",
      "58/58 [==============================] - 0s 2ms/step - loss: 0.4479 - accuracy: 0.7778 - val_loss: 0.4598 - val_accuracy: 0.8021\n",
      "Epoch 53/150\n",
      "58/58 [==============================] - 0s 3ms/step - loss: 0.4475 - accuracy: 0.7847 - val_loss: 0.4599 - val_accuracy: 0.8021\n",
      "Epoch 54/150\n",
      "58/58 [==============================] - 0s 3ms/step - loss: 0.4482 - accuracy: 0.7760 - val_loss: 0.4590 - val_accuracy: 0.8073\n",
      "Epoch 55/150\n",
      "58/58 [==============================] - 0s 3ms/step - loss: 0.4476 - accuracy: 0.7830 - val_loss: 0.4600 - val_accuracy: 0.8021\n",
      "Epoch 56/150\n",
      "58/58 [==============================] - 0s 3ms/step - loss: 0.4469 - accuracy: 0.7847 - val_loss: 0.4589 - val_accuracy: 0.8021\n",
      "Epoch 57/150\n",
      "58/58 [==============================] - 0s 2ms/step - loss: 0.4468 - accuracy: 0.7830 - val_loss: 0.4595 - val_accuracy: 0.8021\n",
      "Epoch 58/150\n",
      "58/58 [==============================] - 0s 2ms/step - loss: 0.4473 - accuracy: 0.7812 - val_loss: 0.4587 - val_accuracy: 0.8021\n",
      "Epoch 59/150\n",
      "58/58 [==============================] - 0s 2ms/step - loss: 0.4469 - accuracy: 0.7778 - val_loss: 0.4599 - val_accuracy: 0.8021\n",
      "Epoch 60/150\n",
      "58/58 [==============================] - 0s 3ms/step - loss: 0.4465 - accuracy: 0.7812 - val_loss: 0.4592 - val_accuracy: 0.8073\n",
      "Epoch 61/150\n",
      "58/58 [==============================] - 0s 3ms/step - loss: 0.4463 - accuracy: 0.7830 - val_loss: 0.4591 - val_accuracy: 0.8073\n",
      "Epoch 62/150\n",
      "58/58 [==============================] - 0s 3ms/step - loss: 0.4465 - accuracy: 0.7795 - val_loss: 0.4587 - val_accuracy: 0.8073\n",
      "Epoch 63/150\n",
      "58/58 [==============================] - 0s 3ms/step - loss: 0.4462 - accuracy: 0.7743 - val_loss: 0.4592 - val_accuracy: 0.8021\n",
      "Epoch 64/150\n",
      "58/58 [==============================] - 0s 2ms/step - loss: 0.4458 - accuracy: 0.7830 - val_loss: 0.4584 - val_accuracy: 0.8073\n",
      "Epoch 65/150\n",
      "58/58 [==============================] - 0s 2ms/step - loss: 0.4455 - accuracy: 0.7812 - val_loss: 0.4568 - val_accuracy: 0.8125\n",
      "Epoch 66/150\n",
      "58/58 [==============================] - 0s 3ms/step - loss: 0.4452 - accuracy: 0.7812 - val_loss: 0.4577 - val_accuracy: 0.8125\n",
      "Epoch 67/150\n",
      "58/58 [==============================] - 0s 3ms/step - loss: 0.4450 - accuracy: 0.7760 - val_loss: 0.4574 - val_accuracy: 0.8125\n",
      "Epoch 68/150\n",
      "58/58 [==============================] - 0s 3ms/step - loss: 0.4451 - accuracy: 0.7847 - val_loss: 0.4574 - val_accuracy: 0.8073\n",
      "Epoch 69/150\n",
      "58/58 [==============================] - 0s 3ms/step - loss: 0.4450 - accuracy: 0.7760 - val_loss: 0.4577 - val_accuracy: 0.8073\n",
      "Epoch 70/150\n",
      "58/58 [==============================] - 0s 2ms/step - loss: 0.4454 - accuracy: 0.7760 - val_loss: 0.4578 - val_accuracy: 0.8073\n",
      "Epoch 71/150\n",
      "58/58 [==============================] - 0s 3ms/step - loss: 0.4445 - accuracy: 0.7795 - val_loss: 0.4584 - val_accuracy: 0.8021\n",
      "Epoch 72/150\n",
      "58/58 [==============================] - 0s 3ms/step - loss: 0.4450 - accuracy: 0.7812 - val_loss: 0.4570 - val_accuracy: 0.8073\n",
      "Epoch 73/150\n",
      "58/58 [==============================] - 0s 4ms/step - loss: 0.4443 - accuracy: 0.7760 - val_loss: 0.4567 - val_accuracy: 0.8073\n",
      "Epoch 74/150\n",
      "58/58 [==============================] - 0s 3ms/step - loss: 0.4447 - accuracy: 0.7778 - val_loss: 0.4575 - val_accuracy: 0.8073\n",
      "Epoch 75/150\n",
      "58/58 [==============================] - 0s 2ms/step - loss: 0.4440 - accuracy: 0.7795 - val_loss: 0.4575 - val_accuracy: 0.8073\n",
      "Epoch 76/150\n",
      "58/58 [==============================] - 0s 2ms/step - loss: 0.4448 - accuracy: 0.7743 - val_loss: 0.4577 - val_accuracy: 0.8073\n",
      "Epoch 77/150\n",
      "58/58 [==============================] - 0s 3ms/step - loss: 0.4439 - accuracy: 0.7778 - val_loss: 0.4572 - val_accuracy: 0.8073\n",
      "Epoch 78/150\n",
      "58/58 [==============================] - 0s 3ms/step - loss: 0.4438 - accuracy: 0.7778 - val_loss: 0.4579 - val_accuracy: 0.8073\n",
      "Epoch 79/150\n",
      "58/58 [==============================] - 0s 3ms/step - loss: 0.4440 - accuracy: 0.7830 - val_loss: 0.4576 - val_accuracy: 0.8073\n",
      "Epoch 80/150\n",
      "58/58 [==============================] - 0s 3ms/step - loss: 0.4436 - accuracy: 0.7778 - val_loss: 0.4579 - val_accuracy: 0.8073\n",
      "Epoch 81/150\n",
      "58/58 [==============================] - 0s 3ms/step - loss: 0.4444 - accuracy: 0.7778 - val_loss: 0.4576 - val_accuracy: 0.8073\n",
      "Epoch 82/150\n",
      "58/58 [==============================] - 0s 3ms/step - loss: 0.4434 - accuracy: 0.7795 - val_loss: 0.4571 - val_accuracy: 0.8073\n",
      "Epoch 83/150\n",
      "58/58 [==============================] - 0s 3ms/step - loss: 0.4430 - accuracy: 0.7795 - val_loss: 0.4572 - val_accuracy: 0.8073\n",
      "Epoch 84/150\n",
      "58/58 [==============================] - 0s 3ms/step - loss: 0.4430 - accuracy: 0.7778 - val_loss: 0.4577 - val_accuracy: 0.8073\n",
      "Epoch 85/150\n",
      "58/58 [==============================] - 0s 3ms/step - loss: 0.4429 - accuracy: 0.7795 - val_loss: 0.4570 - val_accuracy: 0.8073\n",
      "Epoch 86/150\n",
      "58/58 [==============================] - 0s 3ms/step - loss: 0.4435 - accuracy: 0.7760 - val_loss: 0.4573 - val_accuracy: 0.8073\n",
      "Epoch 87/150\n",
      "58/58 [==============================] - 0s 3ms/step - loss: 0.4430 - accuracy: 0.7812 - val_loss: 0.4580 - val_accuracy: 0.8073\n",
      "Epoch 88/150\n",
      "58/58 [==============================] - 0s 2ms/step - loss: 0.4425 - accuracy: 0.7830 - val_loss: 0.4575 - val_accuracy: 0.8073\n",
      "Epoch 89/150\n",
      "58/58 [==============================] - 0s 3ms/step - loss: 0.4423 - accuracy: 0.7830 - val_loss: 0.4579 - val_accuracy: 0.8073\n",
      "Epoch 90/150\n",
      "58/58 [==============================] - 0s 4ms/step - loss: 0.4425 - accuracy: 0.7830 - val_loss: 0.4574 - val_accuracy: 0.8073\n",
      "Epoch 91/150\n",
      "58/58 [==============================] - 0s 3ms/step - loss: 0.4420 - accuracy: 0.7795 - val_loss: 0.4581 - val_accuracy: 0.8073\n",
      "Epoch 92/150\n",
      "58/58 [==============================] - 0s 3ms/step - loss: 0.4421 - accuracy: 0.7778 - val_loss: 0.4581 - val_accuracy: 0.8073\n",
      "Epoch 93/150\n",
      "58/58 [==============================] - 0s 3ms/step - loss: 0.4419 - accuracy: 0.7760 - val_loss: 0.4574 - val_accuracy: 0.8073\n",
      "Epoch 94/150\n",
      "58/58 [==============================] - 0s 3ms/step - loss: 0.4419 - accuracy: 0.7830 - val_loss: 0.4583 - val_accuracy: 0.8073\n",
      "Epoch 95/150\n",
      "58/58 [==============================] - 0s 3ms/step - loss: 0.4420 - accuracy: 0.7795 - val_loss: 0.4568 - val_accuracy: 0.8073\n",
      "Epoch 96/150\n",
      "58/58 [==============================] - 0s 3ms/step - loss: 0.4419 - accuracy: 0.7812 - val_loss: 0.4573 - val_accuracy: 0.8073\n",
      "Epoch 97/150\n",
      "58/58 [==============================] - 0s 3ms/step - loss: 0.4422 - accuracy: 0.7865 - val_loss: 0.4567 - val_accuracy: 0.8073\n",
      "Epoch 98/150\n",
      "58/58 [==============================] - 0s 3ms/step - loss: 0.4418 - accuracy: 0.7778 - val_loss: 0.4578 - val_accuracy: 0.8021\n",
      "Epoch 99/150\n",
      "58/58 [==============================] - 0s 3ms/step - loss: 0.4415 - accuracy: 0.7778 - val_loss: 0.4570 - val_accuracy: 0.8073\n",
      "Epoch 100/150\n",
      "58/58 [==============================] - 0s 2ms/step - loss: 0.4411 - accuracy: 0.7830 - val_loss: 0.4574 - val_accuracy: 0.8073\n",
      "Epoch 101/150\n",
      "58/58 [==============================] - 0s 3ms/step - loss: 0.4413 - accuracy: 0.7830 - val_loss: 0.4573 - val_accuracy: 0.8073\n",
      "Epoch 102/150\n",
      "58/58 [==============================] - 0s 3ms/step - loss: 0.4409 - accuracy: 0.7812 - val_loss: 0.4563 - val_accuracy: 0.8073\n",
      "Epoch 103/150\n",
      "58/58 [==============================] - 0s 3ms/step - loss: 0.4412 - accuracy: 0.7778 - val_loss: 0.4566 - val_accuracy: 0.8073\n",
      "Epoch 104/150\n",
      "58/58 [==============================] - 0s 3ms/step - loss: 0.4409 - accuracy: 0.7795 - val_loss: 0.4564 - val_accuracy: 0.8073\n",
      "Epoch 105/150\n",
      "58/58 [==============================] - 0s 2ms/step - loss: 0.4406 - accuracy: 0.7795 - val_loss: 0.4559 - val_accuracy: 0.8073\n",
      "Epoch 106/150\n",
      "58/58 [==============================] - 0s 3ms/step - loss: 0.4404 - accuracy: 0.7830 - val_loss: 0.4559 - val_accuracy: 0.8021\n",
      "Epoch 107/150\n",
      "58/58 [==============================] - 0s 3ms/step - loss: 0.4401 - accuracy: 0.7812 - val_loss: 0.4562 - val_accuracy: 0.8073\n",
      "Epoch 108/150\n",
      "58/58 [==============================] - 0s 3ms/step - loss: 0.4403 - accuracy: 0.7812 - val_loss: 0.4560 - val_accuracy: 0.8073\n",
      "Epoch 109/150\n",
      "58/58 [==============================] - 0s 3ms/step - loss: 0.4400 - accuracy: 0.7795 - val_loss: 0.4559 - val_accuracy: 0.8125\n",
      "Epoch 110/150\n",
      "58/58 [==============================] - 0s 3ms/step - loss: 0.4400 - accuracy: 0.7812 - val_loss: 0.4557 - val_accuracy: 0.8073\n",
      "Epoch 111/150\n",
      "58/58 [==============================] - 0s 3ms/step - loss: 0.4401 - accuracy: 0.7847 - val_loss: 0.4562 - val_accuracy: 0.8125\n",
      "Epoch 112/150\n",
      "58/58 [==============================] - 0s 2ms/step - loss: 0.4397 - accuracy: 0.7847 - val_loss: 0.4557 - val_accuracy: 0.8125\n",
      "Epoch 113/150\n",
      "58/58 [==============================] - 0s 3ms/step - loss: 0.4393 - accuracy: 0.7830 - val_loss: 0.4557 - val_accuracy: 0.8073\n",
      "Epoch 114/150\n",
      "58/58 [==============================] - 0s 3ms/step - loss: 0.4393 - accuracy: 0.7882 - val_loss: 0.4562 - val_accuracy: 0.8073\n",
      "Epoch 115/150\n",
      "58/58 [==============================] - 0s 3ms/step - loss: 0.4393 - accuracy: 0.7865 - val_loss: 0.4559 - val_accuracy: 0.8073\n",
      "Epoch 116/150\n",
      "58/58 [==============================] - 0s 3ms/step - loss: 0.4392 - accuracy: 0.7847 - val_loss: 0.4562 - val_accuracy: 0.8073\n",
      "Epoch 117/150\n",
      "58/58 [==============================] - 0s 3ms/step - loss: 0.4392 - accuracy: 0.7847 - val_loss: 0.4553 - val_accuracy: 0.8073\n",
      "Epoch 118/150\n",
      "58/58 [==============================] - 0s 3ms/step - loss: 0.4386 - accuracy: 0.7847 - val_loss: 0.4555 - val_accuracy: 0.8073\n",
      "Epoch 119/150\n",
      "58/58 [==============================] - 0s 2ms/step - loss: 0.4385 - accuracy: 0.7865 - val_loss: 0.4553 - val_accuracy: 0.8073\n",
      "Epoch 120/150\n",
      "58/58 [==============================] - 0s 3ms/step - loss: 0.4387 - accuracy: 0.7847 - val_loss: 0.4551 - val_accuracy: 0.8073\n",
      "Epoch 121/150\n",
      "58/58 [==============================] - 0s 3ms/step - loss: 0.4384 - accuracy: 0.7865 - val_loss: 0.4559 - val_accuracy: 0.8073\n",
      "Epoch 122/150\n",
      "58/58 [==============================] - 0s 3ms/step - loss: 0.4384 - accuracy: 0.7830 - val_loss: 0.4550 - val_accuracy: 0.8073\n",
      "Epoch 123/150\n",
      "58/58 [==============================] - 0s 3ms/step - loss: 0.4381 - accuracy: 0.7882 - val_loss: 0.4555 - val_accuracy: 0.8125\n",
      "Epoch 124/150\n",
      "58/58 [==============================] - 0s 2ms/step - loss: 0.4380 - accuracy: 0.7882 - val_loss: 0.4564 - val_accuracy: 0.8125\n",
      "Epoch 125/150\n",
      "58/58 [==============================] - 0s 2ms/step - loss: 0.4385 - accuracy: 0.7865 - val_loss: 0.4555 - val_accuracy: 0.8125\n",
      "Epoch 126/150\n",
      "58/58 [==============================] - 0s 2ms/step - loss: 0.4378 - accuracy: 0.7865 - val_loss: 0.4557 - val_accuracy: 0.8125\n",
      "Epoch 127/150\n",
      "58/58 [==============================] - 0s 3ms/step - loss: 0.4378 - accuracy: 0.7847 - val_loss: 0.4553 - val_accuracy: 0.8177\n",
      "Epoch 128/150\n",
      "58/58 [==============================] - 0s 3ms/step - loss: 0.4377 - accuracy: 0.7882 - val_loss: 0.4557 - val_accuracy: 0.8125\n",
      "Epoch 129/150\n",
      "58/58 [==============================] - 0s 3ms/step - loss: 0.4378 - accuracy: 0.7899 - val_loss: 0.4552 - val_accuracy: 0.8177\n",
      "Epoch 130/150\n",
      "58/58 [==============================] - 0s 3ms/step - loss: 0.4376 - accuracy: 0.7865 - val_loss: 0.4550 - val_accuracy: 0.8125\n",
      "Epoch 131/150\n",
      "58/58 [==============================] - 0s 3ms/step - loss: 0.4376 - accuracy: 0.7847 - val_loss: 0.4553 - val_accuracy: 0.8125\n",
      "Epoch 132/150\n",
      "58/58 [==============================] - 0s 2ms/step - loss: 0.4376 - accuracy: 0.7847 - val_loss: 0.4555 - val_accuracy: 0.8125\n",
      "Epoch 133/150\n",
      "58/58 [==============================] - 0s 3ms/step - loss: 0.4370 - accuracy: 0.7899 - val_loss: 0.4560 - val_accuracy: 0.8125\n",
      "Epoch 134/150\n",
      "58/58 [==============================] - 0s 3ms/step - loss: 0.4372 - accuracy: 0.7847 - val_loss: 0.4555 - val_accuracy: 0.8125\n",
      "Epoch 135/150\n",
      "58/58 [==============================] - 0s 3ms/step - loss: 0.4371 - accuracy: 0.7882 - val_loss: 0.4550 - val_accuracy: 0.8125\n",
      "Epoch 136/150\n",
      "58/58 [==============================] - 0s 3ms/step - loss: 0.4366 - accuracy: 0.7847 - val_loss: 0.4548 - val_accuracy: 0.8125\n",
      "Epoch 137/150\n",
      "58/58 [==============================] - 0s 2ms/step - loss: 0.4363 - accuracy: 0.7899 - val_loss: 0.4558 - val_accuracy: 0.8177\n",
      "Epoch 138/150\n",
      "58/58 [==============================] - 0s 2ms/step - loss: 0.4362 - accuracy: 0.7865 - val_loss: 0.4558 - val_accuracy: 0.8125\n",
      "Epoch 139/150\n",
      "58/58 [==============================] - 0s 2ms/step - loss: 0.4362 - accuracy: 0.7882 - val_loss: 0.4563 - val_accuracy: 0.8177\n",
      "Epoch 140/150\n",
      "58/58 [==============================] - 0s 2ms/step - loss: 0.4360 - accuracy: 0.7882 - val_loss: 0.4554 - val_accuracy: 0.8177\n",
      "Epoch 141/150\n",
      "58/58 [==============================] - 0s 3ms/step - loss: 0.4356 - accuracy: 0.7917 - val_loss: 0.4553 - val_accuracy: 0.8125\n",
      "Epoch 142/150\n",
      "58/58 [==============================] - 0s 3ms/step - loss: 0.4359 - accuracy: 0.7934 - val_loss: 0.4560 - val_accuracy: 0.8177\n",
      "Epoch 143/150\n",
      "58/58 [==============================] - 0s 3ms/step - loss: 0.4356 - accuracy: 0.7934 - val_loss: 0.4564 - val_accuracy: 0.8177\n",
      "Epoch 144/150\n",
      "58/58 [==============================] - 0s 3ms/step - loss: 0.4351 - accuracy: 0.7899 - val_loss: 0.4555 - val_accuracy: 0.8177\n",
      "Epoch 145/150\n",
      "58/58 [==============================] - 0s 2ms/step - loss: 0.4349 - accuracy: 0.7830 - val_loss: 0.4553 - val_accuracy: 0.8177\n",
      "Epoch 146/150\n",
      "58/58 [==============================] - 0s 2ms/step - loss: 0.4348 - accuracy: 0.7847 - val_loss: 0.4557 - val_accuracy: 0.8177\n",
      "Epoch 147/150\n",
      "58/58 [==============================] - 0s 3ms/step - loss: 0.4342 - accuracy: 0.7899 - val_loss: 0.4559 - val_accuracy: 0.8125\n",
      "Epoch 148/150\n",
      "58/58 [==============================] - 0s 3ms/step - loss: 0.4344 - accuracy: 0.7899 - val_loss: 0.4563 - val_accuracy: 0.8125\n",
      "Epoch 149/150\n",
      "58/58 [==============================] - 0s 3ms/step - loss: 0.4339 - accuracy: 0.7899 - val_loss: 0.4552 - val_accuracy: 0.8125\n",
      "Epoch 150/150\n",
      "58/58 [==============================] - 0s 3ms/step - loss: 0.4340 - accuracy: 0.7882 - val_loss: 0.4562 - val_accuracy: 0.8125\n"
     ]
    }
   ],
   "source": [
    "#Compiling the neural network\n",
    "model.compile(optimizer ='adam',loss='binary_crossentropy', metrics =['accuracy'])\n",
    "#Fitting the data to the training dataset\n",
    "history = model.fit(X_train,y_train, batch_size=10, epochs=150,\n",
    "                   validation_data=(X_test, y_test))"
   ]
  },
  {
   "cell_type": "code",
   "execution_count": null,
   "id": "62bee461",
   "metadata": {},
   "outputs": [],
   "source": []
  },
  {
   "cell_type": "code",
   "execution_count": 22,
   "id": "02e1ba1a",
   "metadata": {},
   "outputs": [
    {
     "name": "stdout",
     "output_type": "stream",
     "text": [
      "18/18 [==============================] - 0s 2ms/step - loss: 0.4321 - accuracy: 0.7934\n"
     ]
    },
    {
     "data": {
      "text/plain": [
       "[0.4320826232433319, 0.7934027910232544]"
      ]
     },
     "execution_count": 22,
     "metadata": {},
     "output_type": "execute_result"
    }
   ],
   "source": [
    "eval_model_for_trainingData=model.evaluate(X_train, y_train)\n",
    "eval_model_for_trainingData"
   ]
  },
  {
   "cell_type": "code",
   "execution_count": 23,
   "id": "0199b2ec",
   "metadata": {},
   "outputs": [
    {
     "name": "stdout",
     "output_type": "stream",
     "text": [
      "6/6 [==============================] - 0s 1ms/step\n"
     ]
    }
   ],
   "source": [
    "y_pred=model.predict(X_test)\n",
    "y_pred =(y_pred>0.5)\n"
   ]
  },
  {
   "cell_type": "code",
   "execution_count": 24,
   "id": "0b3884c2",
   "metadata": {},
   "outputs": [
    {
     "name": "stdout",
     "output_type": "stream",
     "text": [
      "[[109  14]\n",
      " [ 22  47]]\n"
     ]
    }
   ],
   "source": [
    "from sklearn.metrics import confusion_matrix\n",
    "cm = confusion_matrix(y_test, y_pred)\n",
    "print(cm)"
   ]
  },
  {
   "cell_type": "code",
   "execution_count": 25,
   "id": "41152e5e",
   "metadata": {},
   "outputs": [
    {
     "data": {
      "image/png": "[encoded data removed]",
      "text/plain": [
       "<Figure size 432x288 with 1 Axes>"
      ]
     },
     "metadata": {
      "needs_background": "light"
     },
     "output_type": "display_data"
    },
    {
     "name": "stdout",
     "output_type": "stream",
     "text": [
      "6/6 [==============================] - 0s 2ms/step\n",
      "[[109  14]\n",
      " [ 22  47]]\n",
      "6/6 [==============================] - 0s 2ms/step - loss: 0.4562 - accuracy: 0.8125\n"
     ]
    },
    {
     "data": {
      "text/plain": [
       "[0.45618104934692383, 0.8125]"
      ]
     },
     "execution_count": 25,
     "metadata": {},
     "output_type": "execute_result"
    }
   ],
   "source": [
    "import matplotlib.pyplot as pyplot\n",
    "pyplot.title('Loss / Mean Squared Error')\n",
    "pyplot.plot(history.history['loss'], label='train')\n",
    "pyplot.plot(history.history['val_loss'], label='test')\n",
    "pyplot.legend()\n",
    "pyplot.show()\n",
    "\n",
    "# Your input to confusion_matrix must be an array of int not one hot encodings.\n",
    "y_pred = model.predict(X_test)\n",
    "cf_matrix_k = confusion_matrix(y_test, (y_pred>0.5))\n",
    "print(cf_matrix_k)\n",
    "\n",
    "model.evaluate(X_test,y_test)"
   ]
  },
  {
   "cell_type": "code",
   "execution_count": null,
   "id": "2db893fc",
   "metadata": {},
   "outputs": [],
   "source": []
  },
  {
   "cell_type": "code",
   "execution_count": 26,
   "id": "636ef4d0",
   "metadata": {},
   "outputs": [
    {
     "name": "stdout",
     "output_type": "stream",
     "text": [
      "Model: \"sequential_1\"\n",
      "_________________________________________________________________\n",
      " Layer (type)                Output Shape              Param #   \n",
      "=================================================================\n",
      " dense_2 (Dense)             (None, 8)                 72        \n",
      "                                                                 \n",
      " dense_3 (Dense)             (None, 4)                 36        \n",
      "                                                                 \n",
      " dense_4 (Dense)             (None, 4)                 20        \n",
      "                                                                 \n",
      " dense_5 (Dense)             (None, 1)                 5         \n",
      "                                                                 \n",
      "=================================================================\n",
      "Total params: 133\n",
      "Trainable params: 133\n",
      "Non-trainable params: 0\n",
      "_________________________________________________________________\n"
     ]
    }
   ],
   "source": [
    "# 7. Build the model.\n",
    "model = Sequential([\n",
    "  Dense(8, activation='relu',input_shape=(8,),kernel_initializer='random_normal'),\n",
    "  Dense(4, activation='relu',kernel_initializer='random_normal'),\n",
    "  Dense(4, activation='relu',kernel_initializer='random_normal'),\n",
    "  Dense(1, activation='sigmoid', kernel_initializer='random_normal'),\n",
    "])\n",
    "model.summary()"
   ]
  },
  {
   "cell_type": "code",
   "execution_count": 27,
   "id": "e4e48783",
   "metadata": {},
   "outputs": [
    {
     "name": "stdout",
     "output_type": "stream",
     "text": [
      "Epoch 1/150\n",
      "58/58 [==============================] - 2s 9ms/step - loss: 0.6903 - accuracy: 0.6493 - val_loss: 0.6874 - val_accuracy: 0.6406\n",
      "Epoch 2/150\n",
      "58/58 [==============================] - 0s 3ms/step - loss: 0.6828 - accuracy: 0.6545 - val_loss: 0.6785 - val_accuracy: 0.6406\n",
      "Epoch 3/150\n",
      "58/58 [==============================] - 0s 3ms/step - loss: 0.6655 - accuracy: 0.6545 - val_loss: 0.6510 - val_accuracy: 0.6406\n",
      "Epoch 4/150\n",
      "58/58 [==============================] - 0s 3ms/step - loss: 0.6198 - accuracy: 0.6545 - val_loss: 0.5854 - val_accuracy: 0.6406\n",
      "Epoch 5/150\n",
      "58/58 [==============================] - 0s 3ms/step - loss: 0.5561 - accuracy: 0.6545 - val_loss: 0.5283 - val_accuracy: 0.6562\n",
      "Epoch 6/150\n",
      "58/58 [==============================] - 0s 3ms/step - loss: 0.5194 - accuracy: 0.7292 - val_loss: 0.5076 - val_accuracy: 0.7760\n",
      "Epoch 7/150\n",
      "58/58 [==============================] - 0s 3ms/step - loss: 0.5042 - accuracy: 0.7674 - val_loss: 0.4939 - val_accuracy: 0.7865\n",
      "Epoch 8/150\n",
      "58/58 [==============================] - 0s 3ms/step - loss: 0.4934 - accuracy: 0.7691 - val_loss: 0.4855 - val_accuracy: 0.7917\n",
      "Epoch 9/150\n",
      "58/58 [==============================] - 0s 3ms/step - loss: 0.4855 - accuracy: 0.7656 - val_loss: 0.4785 - val_accuracy: 0.8073\n",
      "Epoch 10/150\n",
      "58/58 [==============================] - 0s 3ms/step - loss: 0.4801 - accuracy: 0.7656 - val_loss: 0.4740 - val_accuracy: 0.8073\n",
      "Epoch 11/150\n",
      "58/58 [==============================] - 0s 3ms/step - loss: 0.4757 - accuracy: 0.7708 - val_loss: 0.4698 - val_accuracy: 0.8073\n",
      "Epoch 12/150\n",
      "58/58 [==============================] - 0s 3ms/step - loss: 0.4727 - accuracy: 0.7656 - val_loss: 0.4679 - val_accuracy: 0.8021\n",
      "Epoch 13/150\n",
      "58/58 [==============================] - 0s 3ms/step - loss: 0.4700 - accuracy: 0.7726 - val_loss: 0.4680 - val_accuracy: 0.8021\n",
      "Epoch 14/150\n",
      "58/58 [==============================] - 0s 3ms/step - loss: 0.4687 - accuracy: 0.7760 - val_loss: 0.4663 - val_accuracy: 0.8021\n",
      "Epoch 15/150\n",
      "58/58 [==============================] - 0s 2ms/step - loss: 0.4680 - accuracy: 0.7778 - val_loss: 0.4657 - val_accuracy: 0.8021\n",
      "Epoch 16/150\n",
      "58/58 [==============================] - 0s 2ms/step - loss: 0.4655 - accuracy: 0.7778 - val_loss: 0.4639 - val_accuracy: 0.8021\n",
      "Epoch 17/150\n",
      "58/58 [==============================] - 0s 3ms/step - loss: 0.4637 - accuracy: 0.7760 - val_loss: 0.4628 - val_accuracy: 0.8021\n",
      "Epoch 18/150\n",
      "58/58 [==============================] - 0s 4ms/step - loss: 0.4627 - accuracy: 0.7812 - val_loss: 0.4627 - val_accuracy: 0.7917\n",
      "Epoch 19/150\n",
      "58/58 [==============================] - 0s 4ms/step - loss: 0.4613 - accuracy: 0.7778 - val_loss: 0.4637 - val_accuracy: 0.7917\n",
      "Epoch 20/150\n",
      "58/58 [==============================] - 0s 3ms/step - loss: 0.4611 - accuracy: 0.7726 - val_loss: 0.4636 - val_accuracy: 0.7865\n",
      "Epoch 21/150\n",
      "58/58 [==============================] - 0s 3ms/step - loss: 0.4594 - accuracy: 0.7691 - val_loss: 0.4635 - val_accuracy: 0.7865\n",
      "Epoch 22/150\n",
      "58/58 [==============================] - 0s 3ms/step - loss: 0.4592 - accuracy: 0.7778 - val_loss: 0.4624 - val_accuracy: 0.7969\n",
      "Epoch 23/150\n",
      "58/58 [==============================] - 0s 3ms/step - loss: 0.4576 - accuracy: 0.7743 - val_loss: 0.4627 - val_accuracy: 0.7865\n",
      "Epoch 24/150\n",
      "58/58 [==============================] - 0s 3ms/step - loss: 0.4576 - accuracy: 0.7708 - val_loss: 0.4622 - val_accuracy: 0.7865\n",
      "Epoch 25/150\n",
      "58/58 [==============================] - 0s 4ms/step - loss: 0.4577 - accuracy: 0.7743 - val_loss: 0.4626 - val_accuracy: 0.7917\n",
      "Epoch 26/150\n",
      "58/58 [==============================] - 0s 3ms/step - loss: 0.4569 - accuracy: 0.7726 - val_loss: 0.4605 - val_accuracy: 0.7865\n",
      "Epoch 27/150\n",
      "58/58 [==============================] - 0s 3ms/step - loss: 0.4564 - accuracy: 0.7726 - val_loss: 0.4618 - val_accuracy: 0.7865\n",
      "Epoch 28/150\n",
      "58/58 [==============================] - 0s 3ms/step - loss: 0.4557 - accuracy: 0.7691 - val_loss: 0.4609 - val_accuracy: 0.7917\n",
      "Epoch 29/150\n",
      "58/58 [==============================] - 0s 3ms/step - loss: 0.4560 - accuracy: 0.7691 - val_loss: 0.4609 - val_accuracy: 0.7865\n",
      "Epoch 30/150\n",
      "58/58 [==============================] - 0s 3ms/step - loss: 0.4554 - accuracy: 0.7743 - val_loss: 0.4610 - val_accuracy: 0.7917\n",
      "Epoch 31/150\n",
      "58/58 [==============================] - 0s 3ms/step - loss: 0.4550 - accuracy: 0.7691 - val_loss: 0.4602 - val_accuracy: 0.7917\n",
      "Epoch 32/150\n",
      "58/58 [==============================] - 0s 3ms/step - loss: 0.4548 - accuracy: 0.7691 - val_loss: 0.4607 - val_accuracy: 0.7917\n",
      "Epoch 33/150\n",
      "58/58 [==============================] - 0s 4ms/step - loss: 0.4543 - accuracy: 0.7708 - val_loss: 0.4600 - val_accuracy: 0.7917\n",
      "Epoch 34/150\n",
      "58/58 [==============================] - 0s 3ms/step - loss: 0.4542 - accuracy: 0.7691 - val_loss: 0.4604 - val_accuracy: 0.7917\n",
      "Epoch 35/150\n",
      "58/58 [==============================] - 0s 3ms/step - loss: 0.4539 - accuracy: 0.7760 - val_loss: 0.4608 - val_accuracy: 0.7917\n",
      "Epoch 36/150\n",
      "58/58 [==============================] - 0s 3ms/step - loss: 0.4553 - accuracy: 0.7708 - val_loss: 0.4602 - val_accuracy: 0.7969\n",
      "Epoch 37/150\n",
      "58/58 [==============================] - 0s 3ms/step - loss: 0.4541 - accuracy: 0.7691 - val_loss: 0.4597 - val_accuracy: 0.7917\n",
      "Epoch 38/150\n",
      "58/58 [==============================] - 0s 3ms/step - loss: 0.4533 - accuracy: 0.7691 - val_loss: 0.4595 - val_accuracy: 0.7969\n",
      "Epoch 39/150\n",
      "58/58 [==============================] - 0s 3ms/step - loss: 0.4540 - accuracy: 0.7743 - val_loss: 0.4605 - val_accuracy: 0.7969\n",
      "Epoch 40/150\n",
      "58/58 [==============================] - 0s 3ms/step - loss: 0.4525 - accuracy: 0.7708 - val_loss: 0.4596 - val_accuracy: 0.7969\n",
      "Epoch 41/150\n",
      "58/58 [==============================] - 0s 3ms/step - loss: 0.4530 - accuracy: 0.7726 - val_loss: 0.4590 - val_accuracy: 0.7969\n",
      "Epoch 42/150\n",
      "58/58 [==============================] - 0s 3ms/step - loss: 0.4525 - accuracy: 0.7743 - val_loss: 0.4594 - val_accuracy: 0.7969\n",
      "Epoch 43/150\n",
      "58/58 [==============================] - 0s 3ms/step - loss: 0.4528 - accuracy: 0.7708 - val_loss: 0.4584 - val_accuracy: 0.7969\n",
      "Epoch 44/150\n",
      "58/58 [==============================] - 0s 3ms/step - loss: 0.4516 - accuracy: 0.7760 - val_loss: 0.4589 - val_accuracy: 0.7969\n",
      "Epoch 45/150\n",
      "58/58 [==============================] - 0s 4ms/step - loss: 0.4522 - accuracy: 0.7760 - val_loss: 0.4577 - val_accuracy: 0.7969\n",
      "Epoch 46/150\n",
      "58/58 [==============================] - 0s 3ms/step - loss: 0.4516 - accuracy: 0.7778 - val_loss: 0.4577 - val_accuracy: 0.7969\n",
      "Epoch 47/150\n",
      "58/58 [==============================] - 0s 3ms/step - loss: 0.4512 - accuracy: 0.7778 - val_loss: 0.4574 - val_accuracy: 0.7969\n",
      "Epoch 48/150\n",
      "58/58 [==============================] - 0s 3ms/step - loss: 0.4508 - accuracy: 0.7760 - val_loss: 0.4575 - val_accuracy: 0.7969\n",
      "Epoch 49/150\n",
      "58/58 [==============================] - 0s 2ms/step - loss: 0.4506 - accuracy: 0.7795 - val_loss: 0.4580 - val_accuracy: 0.7969\n",
      "Epoch 50/150\n",
      "58/58 [==============================] - 0s 4ms/step - loss: 0.4500 - accuracy: 0.7778 - val_loss: 0.4578 - val_accuracy: 0.7969\n",
      "Epoch 51/150\n",
      "58/58 [==============================] - 0s 2ms/step - loss: 0.4519 - accuracy: 0.7795 - val_loss: 0.4585 - val_accuracy: 0.7917\n",
      "Epoch 52/150\n",
      "58/58 [==============================] - 0s 3ms/step - loss: 0.4503 - accuracy: 0.7760 - val_loss: 0.4569 - val_accuracy: 0.7969\n",
      "Epoch 53/150\n",
      "58/58 [==============================] - 0s 3ms/step - loss: 0.4504 - accuracy: 0.7778 - val_loss: 0.4576 - val_accuracy: 0.7969\n",
      "Epoch 54/150\n",
      "58/58 [==============================] - 0s 3ms/step - loss: 0.4503 - accuracy: 0.7760 - val_loss: 0.4563 - val_accuracy: 0.7969\n",
      "Epoch 55/150\n",
      "58/58 [==============================] - 0s 3ms/step - loss: 0.4503 - accuracy: 0.7760 - val_loss: 0.4562 - val_accuracy: 0.7969\n",
      "Epoch 56/150\n",
      "58/58 [==============================] - 0s 2ms/step - loss: 0.4498 - accuracy: 0.7743 - val_loss: 0.4564 - val_accuracy: 0.7969\n",
      "Epoch 57/150\n",
      "58/58 [==============================] - 0s 3ms/step - loss: 0.4492 - accuracy: 0.7760 - val_loss: 0.4563 - val_accuracy: 0.7969\n",
      "Epoch 58/150\n",
      "58/58 [==============================] - 0s 3ms/step - loss: 0.4486 - accuracy: 0.7795 - val_loss: 0.4554 - val_accuracy: 0.7969\n",
      "Epoch 59/150\n",
      "58/58 [==============================] - 0s 4ms/step - loss: 0.4493 - accuracy: 0.7812 - val_loss: 0.4558 - val_accuracy: 0.7969\n",
      "Epoch 60/150\n",
      "58/58 [==============================] - 0s 3ms/step - loss: 0.4486 - accuracy: 0.7743 - val_loss: 0.4560 - val_accuracy: 0.7969\n",
      "Epoch 61/150\n",
      "58/58 [==============================] - 0s 3ms/step - loss: 0.4488 - accuracy: 0.7795 - val_loss: 0.4568 - val_accuracy: 0.7969\n",
      "Epoch 62/150\n",
      "58/58 [==============================] - 0s 3ms/step - loss: 0.4484 - accuracy: 0.7795 - val_loss: 0.4563 - val_accuracy: 0.8021\n",
      "Epoch 63/150\n",
      "58/58 [==============================] - 0s 3ms/step - loss: 0.4484 - accuracy: 0.7743 - val_loss: 0.4555 - val_accuracy: 0.7969\n",
      "Epoch 64/150\n",
      "58/58 [==============================] - 0s 3ms/step - loss: 0.4480 - accuracy: 0.7760 - val_loss: 0.4557 - val_accuracy: 0.7969\n",
      "Epoch 65/150\n",
      "58/58 [==============================] - 0s 3ms/step - loss: 0.4479 - accuracy: 0.7778 - val_loss: 0.4554 - val_accuracy: 0.7969\n",
      "Epoch 66/150\n",
      "58/58 [==============================] - 0s 3ms/step - loss: 0.4476 - accuracy: 0.7830 - val_loss: 0.4547 - val_accuracy: 0.7969\n",
      "Epoch 67/150\n",
      "58/58 [==============================] - 0s 3ms/step - loss: 0.4471 - accuracy: 0.7812 - val_loss: 0.4556 - val_accuracy: 0.8021\n",
      "Epoch 68/150\n",
      "58/58 [==============================] - 0s 3ms/step - loss: 0.4476 - accuracy: 0.7812 - val_loss: 0.4552 - val_accuracy: 0.7969\n",
      "Epoch 69/150\n",
      "58/58 [==============================] - 0s 3ms/step - loss: 0.4478 - accuracy: 0.7847 - val_loss: 0.4548 - val_accuracy: 0.8021\n",
      "Epoch 70/150\n",
      "58/58 [==============================] - 0s 4ms/step - loss: 0.4469 - accuracy: 0.7743 - val_loss: 0.4547 - val_accuracy: 0.8073\n",
      "Epoch 71/150\n",
      "58/58 [==============================] - 0s 3ms/step - loss: 0.4463 - accuracy: 0.7743 - val_loss: 0.4545 - val_accuracy: 0.7969\n",
      "Epoch 72/150\n",
      "58/58 [==============================] - 0s 3ms/step - loss: 0.4467 - accuracy: 0.7778 - val_loss: 0.4547 - val_accuracy: 0.8073\n",
      "Epoch 73/150\n",
      "58/58 [==============================] - 0s 3ms/step - loss: 0.4474 - accuracy: 0.7743 - val_loss: 0.4548 - val_accuracy: 0.8073\n",
      "Epoch 74/150\n",
      "58/58 [==============================] - 0s 3ms/step - loss: 0.4471 - accuracy: 0.7795 - val_loss: 0.4550 - val_accuracy: 0.8021\n",
      "Epoch 75/150\n",
      "58/58 [==============================] - 0s 3ms/step - loss: 0.4472 - accuracy: 0.7743 - val_loss: 0.4542 - val_accuracy: 0.8073\n",
      "Epoch 76/150\n",
      "58/58 [==============================] - 0s 3ms/step - loss: 0.4455 - accuracy: 0.7760 - val_loss: 0.4542 - val_accuracy: 0.8073\n",
      "Epoch 77/150\n",
      "58/58 [==============================] - 0s 3ms/step - loss: 0.4458 - accuracy: 0.7812 - val_loss: 0.4536 - val_accuracy: 0.8125\n",
      "Epoch 78/150\n",
      "58/58 [==============================] - 0s 2ms/step - loss: 0.4457 - accuracy: 0.7760 - val_loss: 0.4533 - val_accuracy: 0.8021\n",
      "Epoch 79/150\n",
      "58/58 [==============================] - 0s 2ms/step - loss: 0.4464 - accuracy: 0.7778 - val_loss: 0.4542 - val_accuracy: 0.8073\n",
      "Epoch 80/150\n",
      "58/58 [==============================] - 0s 3ms/step - loss: 0.4461 - accuracy: 0.7760 - val_loss: 0.4539 - val_accuracy: 0.8073\n",
      "Epoch 81/150\n",
      "58/58 [==============================] - 0s 3ms/step - loss: 0.4452 - accuracy: 0.7778 - val_loss: 0.4531 - val_accuracy: 0.8073\n",
      "Epoch 82/150\n",
      "58/58 [==============================] - 0s 3ms/step - loss: 0.4448 - accuracy: 0.7812 - val_loss: 0.4541 - val_accuracy: 0.8073\n",
      "Epoch 83/150\n",
      "58/58 [==============================] - 0s 3ms/step - loss: 0.4449 - accuracy: 0.7778 - val_loss: 0.4530 - val_accuracy: 0.8073\n",
      "Epoch 84/150\n",
      "58/58 [==============================] - 0s 3ms/step - loss: 0.4447 - accuracy: 0.7760 - val_loss: 0.4529 - val_accuracy: 0.8073\n",
      "Epoch 85/150\n",
      "58/58 [==============================] - 0s 3ms/step - loss: 0.4442 - accuracy: 0.7812 - val_loss: 0.4534 - val_accuracy: 0.8073\n",
      "Epoch 86/150\n",
      "58/58 [==============================] - 0s 3ms/step - loss: 0.4441 - accuracy: 0.7760 - val_loss: 0.4534 - val_accuracy: 0.8073\n",
      "Epoch 87/150\n",
      "58/58 [==============================] - 0s 3ms/step - loss: 0.4439 - accuracy: 0.7760 - val_loss: 0.4531 - val_accuracy: 0.8021\n",
      "Epoch 88/150\n",
      "58/58 [==============================] - 0s 3ms/step - loss: 0.4444 - accuracy: 0.7865 - val_loss: 0.4527 - val_accuracy: 0.8073\n",
      "Epoch 89/150\n",
      "58/58 [==============================] - 0s 2ms/step - loss: 0.4432 - accuracy: 0.7812 - val_loss: 0.4525 - val_accuracy: 0.8021\n",
      "Epoch 90/150\n",
      "58/58 [==============================] - 0s 3ms/step - loss: 0.4435 - accuracy: 0.7795 - val_loss: 0.4531 - val_accuracy: 0.8021\n",
      "Epoch 91/150\n",
      "58/58 [==============================] - 0s 3ms/step - loss: 0.4435 - accuracy: 0.7795 - val_loss: 0.4529 - val_accuracy: 0.8073\n",
      "Epoch 92/150\n",
      "58/58 [==============================] - 0s 3ms/step - loss: 0.4430 - accuracy: 0.7795 - val_loss: 0.4524 - val_accuracy: 0.8073\n",
      "Epoch 93/150\n",
      "58/58 [==============================] - 0s 3ms/step - loss: 0.4432 - accuracy: 0.7795 - val_loss: 0.4527 - val_accuracy: 0.8073\n",
      "Epoch 94/150\n",
      "58/58 [==============================] - 0s 4ms/step - loss: 0.4425 - accuracy: 0.7795 - val_loss: 0.4514 - val_accuracy: 0.8073\n",
      "Epoch 95/150\n",
      "58/58 [==============================] - 0s 3ms/step - loss: 0.4422 - accuracy: 0.7778 - val_loss: 0.4509 - val_accuracy: 0.8073\n",
      "Epoch 96/150\n",
      "58/58 [==============================] - 0s 3ms/step - loss: 0.4420 - accuracy: 0.7830 - val_loss: 0.4513 - val_accuracy: 0.8021\n",
      "Epoch 97/150\n",
      "58/58 [==============================] - 0s 3ms/step - loss: 0.4418 - accuracy: 0.7778 - val_loss: 0.4511 - val_accuracy: 0.8021\n",
      "Epoch 98/150\n",
      "58/58 [==============================] - 0s 3ms/step - loss: 0.4414 - accuracy: 0.7760 - val_loss: 0.4517 - val_accuracy: 0.8073\n",
      "Epoch 99/150\n",
      "58/58 [==============================] - 0s 3ms/step - loss: 0.4427 - accuracy: 0.7812 - val_loss: 0.4504 - val_accuracy: 0.8021\n",
      "Epoch 100/150\n",
      "58/58 [==============================] - 0s 2ms/step - loss: 0.4420 - accuracy: 0.7847 - val_loss: 0.4512 - val_accuracy: 0.8125\n",
      "Epoch 101/150\n",
      "58/58 [==============================] - 0s 2ms/step - loss: 0.4428 - accuracy: 0.7812 - val_loss: 0.4499 - val_accuracy: 0.8021\n",
      "Epoch 102/150\n",
      "58/58 [==============================] - 0s 2ms/step - loss: 0.4412 - accuracy: 0.7812 - val_loss: 0.4503 - val_accuracy: 0.8125\n",
      "Epoch 103/150\n",
      "58/58 [==============================] - 0s 3ms/step - loss: 0.4406 - accuracy: 0.7795 - val_loss: 0.4508 - val_accuracy: 0.8021\n",
      "Epoch 104/150\n",
      "58/58 [==============================] - 0s 3ms/step - loss: 0.4411 - accuracy: 0.7778 - val_loss: 0.4501 - val_accuracy: 0.8021\n",
      "Epoch 105/150\n",
      "58/58 [==============================] - 0s 4ms/step - loss: 0.4426 - accuracy: 0.7778 - val_loss: 0.4506 - val_accuracy: 0.8021\n",
      "Epoch 106/150\n",
      "58/58 [==============================] - 0s 3ms/step - loss: 0.4411 - accuracy: 0.7847 - val_loss: 0.4504 - val_accuracy: 0.8021\n",
      "Epoch 107/150\n",
      "58/58 [==============================] - 0s 2ms/step - loss: 0.4407 - accuracy: 0.7812 - val_loss: 0.4505 - val_accuracy: 0.8021\n",
      "Epoch 108/150\n",
      "58/58 [==============================] - 0s 2ms/step - loss: 0.4403 - accuracy: 0.7795 - val_loss: 0.4504 - val_accuracy: 0.8021\n",
      "Epoch 109/150\n",
      "58/58 [==============================] - 0s 2ms/step - loss: 0.4398 - accuracy: 0.7795 - val_loss: 0.4501 - val_accuracy: 0.8021\n",
      "Epoch 110/150\n",
      "58/58 [==============================] - 0s 3ms/step - loss: 0.4398 - accuracy: 0.7812 - val_loss: 0.4500 - val_accuracy: 0.8073\n",
      "Epoch 111/150\n",
      "58/58 [==============================] - 0s 3ms/step - loss: 0.4403 - accuracy: 0.7812 - val_loss: 0.4514 - val_accuracy: 0.8021\n",
      "Epoch 112/150\n",
      "58/58 [==============================] - 0s 3ms/step - loss: 0.4397 - accuracy: 0.7847 - val_loss: 0.4496 - val_accuracy: 0.8021\n",
      "Epoch 113/150\n",
      "58/58 [==============================] - 0s 3ms/step - loss: 0.4398 - accuracy: 0.7795 - val_loss: 0.4497 - val_accuracy: 0.8073\n",
      "Epoch 114/150\n",
      "58/58 [==============================] - 0s 3ms/step - loss: 0.4396 - accuracy: 0.7795 - val_loss: 0.4505 - val_accuracy: 0.8073\n",
      "Epoch 115/150\n",
      "58/58 [==============================] - 0s 2ms/step - loss: 0.4391 - accuracy: 0.7812 - val_loss: 0.4499 - val_accuracy: 0.8073\n",
      "Epoch 116/150\n",
      "58/58 [==============================] - 0s 3ms/step - loss: 0.4392 - accuracy: 0.7830 - val_loss: 0.4507 - val_accuracy: 0.7969\n",
      "Epoch 117/150\n",
      "58/58 [==============================] - 0s 3ms/step - loss: 0.4382 - accuracy: 0.7812 - val_loss: 0.4503 - val_accuracy: 0.8073\n",
      "Epoch 118/150\n",
      "58/58 [==============================] - 0s 3ms/step - loss: 0.4375 - accuracy: 0.7830 - val_loss: 0.4501 - val_accuracy: 0.8073\n",
      "Epoch 119/150\n",
      "58/58 [==============================] - 0s 2ms/step - loss: 0.4389 - accuracy: 0.7812 - val_loss: 0.4497 - val_accuracy: 0.8125\n",
      "Epoch 120/150\n",
      "58/58 [==============================] - 0s 2ms/step - loss: 0.4381 - accuracy: 0.7778 - val_loss: 0.4505 - val_accuracy: 0.8073\n",
      "Epoch 121/150\n",
      "58/58 [==============================] - 0s 2ms/step - loss: 0.4379 - accuracy: 0.7830 - val_loss: 0.4493 - val_accuracy: 0.8021\n",
      "Epoch 122/150\n",
      "58/58 [==============================] - 0s 2ms/step - loss: 0.4376 - accuracy: 0.7812 - val_loss: 0.4496 - val_accuracy: 0.8021\n",
      "Epoch 123/150\n",
      "58/58 [==============================] - 0s 3ms/step - loss: 0.4374 - accuracy: 0.7812 - val_loss: 0.4506 - val_accuracy: 0.8125\n",
      "Epoch 124/150\n",
      "58/58 [==============================] - 0s 3ms/step - loss: 0.4377 - accuracy: 0.7830 - val_loss: 0.4512 - val_accuracy: 0.8021\n",
      "Epoch 125/150\n",
      "58/58 [==============================] - 0s 3ms/step - loss: 0.4369 - accuracy: 0.7812 - val_loss: 0.4492 - val_accuracy: 0.8073\n",
      "Epoch 126/150\n",
      "58/58 [==============================] - 0s 3ms/step - loss: 0.4372 - accuracy: 0.7865 - val_loss: 0.4487 - val_accuracy: 0.8125\n",
      "Epoch 127/150\n",
      "58/58 [==============================] - 0s 2ms/step - loss: 0.4372 - accuracy: 0.7847 - val_loss: 0.4489 - val_accuracy: 0.8021\n",
      "Epoch 128/150\n",
      "58/58 [==============================] - 0s 2ms/step - loss: 0.4373 - accuracy: 0.7865 - val_loss: 0.4502 - val_accuracy: 0.8021\n",
      "Epoch 129/150\n",
      "58/58 [==============================] - 0s 3ms/step - loss: 0.4362 - accuracy: 0.7812 - val_loss: 0.4505 - val_accuracy: 0.8021\n",
      "Epoch 130/150\n",
      "58/58 [==============================] - 0s 2ms/step - loss: 0.4369 - accuracy: 0.7847 - val_loss: 0.4502 - val_accuracy: 0.8021\n",
      "Epoch 131/150\n",
      "58/58 [==============================] - 0s 2ms/step - loss: 0.4361 - accuracy: 0.7865 - val_loss: 0.4495 - val_accuracy: 0.8021\n",
      "Epoch 132/150\n",
      "58/58 [==============================] - 0s 2ms/step - loss: 0.4359 - accuracy: 0.7795 - val_loss: 0.4494 - val_accuracy: 0.8021\n",
      "Epoch 133/150\n",
      "58/58 [==============================] - 0s 2ms/step - loss: 0.4374 - accuracy: 0.7865 - val_loss: 0.4485 - val_accuracy: 0.8021\n",
      "Epoch 134/150\n",
      "58/58 [==============================] - 0s 3ms/step - loss: 0.4361 - accuracy: 0.7847 - val_loss: 0.4489 - val_accuracy: 0.8021\n",
      "Epoch 135/150\n",
      "58/58 [==============================] - 0s 2ms/step - loss: 0.4357 - accuracy: 0.7830 - val_loss: 0.4488 - val_accuracy: 0.8021\n",
      "Epoch 136/150\n",
      "58/58 [==============================] - 0s 2ms/step - loss: 0.4364 - accuracy: 0.7882 - val_loss: 0.4493 - val_accuracy: 0.8021\n",
      "Epoch 137/150\n",
      "58/58 [==============================] - 0s 2ms/step - loss: 0.4373 - accuracy: 0.7847 - val_loss: 0.4492 - val_accuracy: 0.8073\n",
      "Epoch 138/150\n",
      "58/58 [==============================] - 0s 2ms/step - loss: 0.4352 - accuracy: 0.7830 - val_loss: 0.4487 - val_accuracy: 0.8021\n",
      "Epoch 139/150\n",
      "58/58 [==============================] - 0s 2ms/step - loss: 0.4346 - accuracy: 0.7847 - val_loss: 0.4492 - val_accuracy: 0.8073\n",
      "Epoch 140/150\n",
      "58/58 [==============================] - 0s 2ms/step - loss: 0.4345 - accuracy: 0.7812 - val_loss: 0.4491 - val_accuracy: 0.8073\n",
      "Epoch 141/150\n",
      "58/58 [==============================] - 0s 2ms/step - loss: 0.4347 - accuracy: 0.7865 - val_loss: 0.4489 - val_accuracy: 0.8073\n",
      "Epoch 142/150\n",
      "58/58 [==============================] - 0s 2ms/step - loss: 0.4350 - accuracy: 0.7865 - val_loss: 0.4495 - val_accuracy: 0.8073\n",
      "Epoch 143/150\n",
      "58/58 [==============================] - 0s 2ms/step - loss: 0.4348 - accuracy: 0.7830 - val_loss: 0.4504 - val_accuracy: 0.8073\n",
      "Epoch 144/150\n",
      "58/58 [==============================] - 0s 2ms/step - loss: 0.4343 - accuracy: 0.7865 - val_loss: 0.4492 - val_accuracy: 0.8021\n",
      "Epoch 145/150\n",
      "58/58 [==============================] - 0s 2ms/step - loss: 0.4349 - accuracy: 0.7882 - val_loss: 0.4493 - val_accuracy: 0.8073\n",
      "Epoch 146/150\n",
      "58/58 [==============================] - 0s 2ms/step - loss: 0.4350 - accuracy: 0.7865 - val_loss: 0.4499 - val_accuracy: 0.8073\n",
      "Epoch 147/150\n",
      "58/58 [==============================] - 0s 2ms/step - loss: 0.4346 - accuracy: 0.7812 - val_loss: 0.4495 - val_accuracy: 0.8073\n",
      "Epoch 148/150\n",
      "58/58 [==============================] - 0s 2ms/step - loss: 0.4338 - accuracy: 0.7847 - val_loss: 0.4493 - val_accuracy: 0.8021\n",
      "Epoch 149/150\n",
      "58/58 [==============================] - 0s 2ms/step - loss: 0.4341 - accuracy: 0.7847 - val_loss: 0.4499 - val_accuracy: 0.8021\n",
      "Epoch 150/150\n",
      "58/58 [==============================] - 0s 2ms/step - loss: 0.4338 - accuracy: 0.7830 - val_loss: 0.4498 - val_accuracy: 0.8021\n"
     ]
    }
   ],
   "source": [
    "#Compiling the neural network\n",
    "model.compile(optimizer ='adam',loss='binary_crossentropy', metrics =['accuracy'])\n",
    "#Fitting the data to the training dataset\n",
    "history = model.fit(X_train,y_train, batch_size=10, epochs=150,\n",
    "                   validation_data=(X_test, y_test))"
   ]
  },
  {
   "cell_type": "code",
   "execution_count": 28,
   "id": "f165d0e4",
   "metadata": {},
   "outputs": [
    {
     "name": "stdout",
     "output_type": "stream",
     "text": [
      "18/18 [==============================] - 0s 2ms/step - loss: 0.4312 - accuracy: 0.7865\n"
     ]
    },
    {
     "data": {
      "text/plain": [
       "[0.4312054216861725, 0.7864583134651184]"
      ]
     },
     "execution_count": 28,
     "metadata": {},
     "output_type": "execute_result"
    }
   ],
   "source": [
    "eval_model_for_trainingData=model.evaluate(X_train, y_train)\n",
    "eval_model_for_trainingData"
   ]
  },
  {
   "cell_type": "code",
   "execution_count": 29,
   "id": "cbff71d2",
   "metadata": {
    "scrolled": true
   },
   "outputs": [
    {
     "name": "stdout",
     "output_type": "stream",
     "text": [
      "6/6 [==============================] - 0s 2ms/step\n"
     ]
    }
   ],
   "source": [
    "y_pred=model.predict(X_test)\n",
    "y_pred =(y_pred>0.5)"
   ]
  },
  {
   "cell_type": "code",
   "execution_count": 30,
   "id": "1ea4ee56",
   "metadata": {},
   "outputs": [
    {
     "name": "stdout",
     "output_type": "stream",
     "text": [
      "[[108  15]\n",
      " [ 23  46]]\n"
     ]
    }
   ],
   "source": [
    "from sklearn.metrics import confusion_matrix\n",
    "cm = confusion_matrix(y_test, y_pred)\n",
    "print(cm)"
   ]
  },
  {
   "cell_type": "code",
   "execution_count": 31,
   "id": "6c7cf55f",
   "metadata": {},
   "outputs": [
    {
     "data": {
      "image/png": "[encoded data removed]",
      "text/plain": [
       "<Figure size 432x288 with 1 Axes>"
      ]
     },
     "metadata": {
      "needs_background": "light"
     },
     "output_type": "display_data"
    },
    {
     "name": "stdout",
     "output_type": "stream",
     "text": [
      "6/6 [==============================] - 0s 2ms/step\n",
      "[[108  15]\n",
      " [ 23  46]]\n",
      "6/6 [==============================] - 0s 2ms/step - loss: 0.4498 - accuracy: 0.8021\n"
     ]
    },
    {
     "data": {
      "text/plain": [
       "[0.44978460669517517, 0.8020833134651184]"
      ]
     },
     "execution_count": 31,
     "metadata": {},
     "output_type": "execute_result"
    }
   ],
   "source": [
    "import matplotlib.pyplot as pyplot\n",
    "pyplot.title('Loss / Mean Squared Error')\n",
    "pyplot.plot(history.history['loss'], label='train')\n",
    "pyplot.plot(history.history['val_loss'], label='test')\n",
    "pyplot.legend()\n",
    "pyplot.show()\n",
    "\n",
    "# Your input to confusion_matrix must be an array of int not one hot encodings.\n",
    "y_pred = model.predict(X_test)\n",
    "cf_matrix_k = confusion_matrix(y_test, (y_pred>0.5))\n",
    "print(cf_matrix_k)\n",
    "\n",
    "model.evaluate(X_test,y_test)"
   ]
  },
  {
   "cell_type": "code",
   "execution_count": null,
   "id": "44e48817",
   "metadata": {},
   "outputs": [],
   "source": []
  }
 ],
 "metadata": {
  "kernelspec": {
   "display_name": "Python 3 (ipykernel)",
   "language": "python",
   "name": "python3"
  },
  "language_info": {
   "codemirror_mode": {
    "name": "ipython",
    "version": 3
   },
   "file_extension": ".py",
   "mimetype": "text/x-python",
   "name": "python",
   "nbconvert_exporter": "python",
   "pygments_lexer": "ipython3",
   "version": "3.9.13"
  }
 },
 "nbformat": 4,
 "nbformat_minor": 5
}
