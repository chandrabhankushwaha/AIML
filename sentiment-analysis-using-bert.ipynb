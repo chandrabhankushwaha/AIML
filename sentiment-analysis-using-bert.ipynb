{
 "cells": [
  {
   "cell_type": "markdown",
   "metadata": {},
   "source": [
    "![BERT](https://miro.medium.com/max/2960/0*63_xsVQp0Wezk9ua.jpg)"
   ]
  },
  {
   "cell_type": "markdown",
   "metadata": {},
   "source": [
    "#  What is BERT?\n",
    "* BERT stands for Bidirectional Encoders Representations from Transformers.\n",
    "* Bidirectional - to understand the text you’re looking you’ll have to look back (at the previous words) and forward (at the next words)\n",
    "* Transformers - The Attention Is All You Need paper presented the Transformer model. The Transformer reads entire sequences of tokens at once. In a sense, the model is non-directional, while LSTMs read sequentially (left-to-right or right-to-left). The attention mechanism allows for learning contextual relations between words (e.g. his in a sentence refers to Jim).\n",
    "* (Pre-trained) contextualized word embeddings - The ELMO paper introduced a way to encode words based on their meaning/context. Nails has multiple meanings - fingernails and metal nails.\n",
    "\n",
    "In this notebook we will be using transformers library by hugging face."
   ]
  },
  {
   "cell_type": "code",
   "execution_count": 1,
   "metadata": {
    "_cell_guid": "b1076dfc-b9ad-4769-8c92-a6c4dae69d19",
    "_uuid": "8f2839f25d086af736a60e9eeb907d3b93b6e0e5"
   },
   "outputs": [
    {
     "name": "stdout",
     "output_type": "stream",
     "text": [
      ".\\sentiment-analysis-using-bert.ipynb\n",
      ".\\test.csv.zip\n",
      ".\\train.csv.zip\n",
      ".\\training.1600000.processed.noemoticon.csv.zip\n",
      ".\\Tweets.csv.zip\n",
      ".\\.ipynb_checkpoints\\sentiment-analysis-using-bert-checkpoint.ipynb\n",
      ".\\input\\smile-twitter-emotion-dataset\\smile-annotations-final.csv\n"
     ]
    }
   ],
   "source": [
    "# This Python 3 environment comes with many helpful analytics libraries installed\n",
    "# It is defined by the kaggle/python Docker image: https://github.com/kaggle/docker-python\n",
    "# For example, here's several helpful packages to load\n",
    "\n",
    "import numpy as np # linear algebra\n",
    "import pandas as pd # data processing, CSV file I/O (e.g. pd.read_csv)\n",
    "\n",
    "# Input data files are available in the read-only \"../input/\" directory\n",
    "# For example, running this (by clicking run or pressing Shift+Enter) will list all files under the input directory\n",
    "\n",
    "import os\n",
    "for dirname, _, filenames in os.walk('.'):\n",
    "    for filename in filenames:\n",
    "        print(os.path.join(dirname, filename))\n",
    "\n",
    "# You can write up to 5GB to the current directory (/kaggle/working/) that gets preserved as output when you create a version using \"Save & Run All\" \n",
    "# You can also write temporary files to /kaggle/temp/, but they won't be saved outside of the current session"
   ]
  },
  {
   "cell_type": "code",
   "execution_count": 2,
   "metadata": {
    "_cell_guid": "79c7e3d0-c299-4dcb-8224-4455121ee9b0",
    "_uuid": "d629ff2d2480ee46fbb7e2d37f6b5fab8052498a"
   },
   "outputs": [],
   "source": [
    "import torch\n",
    "from tqdm.notebook import tqdm"
   ]
  },
  {
   "cell_type": "markdown",
   "metadata": {},
   "source": [
    "Reading SMILE twitter emotion dataset"
   ]
  },
  {
   "cell_type": "code",
   "execution_count": 3,
   "metadata": {},
   "outputs": [
    {
     "data": {
      "text/html": [
       "<div>\n",
       "<style scoped>\n",
       "    .dataframe tbody tr th:only-of-type {\n",
       "        vertical-align: middle;\n",
       "    }\n",
       "\n",
       "    .dataframe tbody tr th {\n",
       "        vertical-align: top;\n",
       "    }\n",
       "\n",
       "    .dataframe thead th {\n",
       "        text-align: right;\n",
       "    }\n",
       "</style>\n",
       "<table border=\"1\" class=\"dataframe\">\n",
       "  <thead>\n",
       "    <tr style=\"text-align: right;\">\n",
       "      <th></th>\n",
       "      <th>Text</th>\n",
       "      <th>Category</th>\n",
       "    </tr>\n",
       "    <tr>\n",
       "      <th>Id</th>\n",
       "      <th></th>\n",
       "      <th></th>\n",
       "    </tr>\n",
       "  </thead>\n",
       "  <tbody>\n",
       "    <tr>\n",
       "      <th>611857364396965889</th>\n",
       "      <td>@aandraous @britishmuseum @AndrewsAntonio Merc...</td>\n",
       "      <td>nocode</td>\n",
       "    </tr>\n",
       "    <tr>\n",
       "      <th>614484565059596288</th>\n",
       "      <td>Dorian Gray with Rainbow Scarf #LoveWins (from...</td>\n",
       "      <td>happy</td>\n",
       "    </tr>\n",
       "    <tr>\n",
       "      <th>614746522043973632</th>\n",
       "      <td>@SelectShowcase @Tate_StIves ... Replace with ...</td>\n",
       "      <td>happy</td>\n",
       "    </tr>\n",
       "    <tr>\n",
       "      <th>614877582664835073</th>\n",
       "      <td>@Sofabsports thank you for following me back. ...</td>\n",
       "      <td>happy</td>\n",
       "    </tr>\n",
       "  </tbody>\n",
       "</table>\n",
       "</div>"
      ],
      "text/plain": [
       "                                                                 Text Category\n",
       "Id                                                                            \n",
       "611857364396965889  @aandraous @britishmuseum @AndrewsAntonio Merc...   nocode\n",
       "614484565059596288  Dorian Gray with Rainbow Scarf #LoveWins (from...    happy\n",
       "614746522043973632  @SelectShowcase @Tate_StIves ... Replace with ...    happy\n",
       "614877582664835073  @Sofabsports thank you for following me back. ...    happy"
      ]
     },
     "execution_count": 3,
     "metadata": {},
     "output_type": "execute_result"
    }
   ],
   "source": [
    "df = pd.read_csv(\"./input/smile-twitter-emotion-dataset/smile-annotations-final.csv\",\n",
    "                names = ['Id','Text','Category'])\n",
    "df.set_index('Id',inplace = True)\n",
    "df[:4]"
   ]
  },
  {
   "cell_type": "code",
   "execution_count": 4,
   "metadata": {},
   "outputs": [
    {
     "data": {
      "text/plain": [
       "'@aandraous @britishmuseum @AndrewsAntonio Merci pour le partage! @openwinemap'"
      ]
     },
     "execution_count": 4,
     "metadata": {},
     "output_type": "execute_result"
    }
   ],
   "source": [
    "df.Text.iloc[0]"
   ]
  },
  {
   "cell_type": "markdown",
   "metadata": {},
   "source": [
    "* Counts of Emotions in the dataset"
   ]
  },
  {
   "cell_type": "code",
   "execution_count": 5,
   "metadata": {},
   "outputs": [
    {
     "data": {
      "text/plain": [
       "nocode               1572\n",
       "happy                1137\n",
       "not-relevant          214\n",
       "angry                  57\n",
       "surprise               35\n",
       "sad                    32\n",
       "happy|surprise         11\n",
       "happy|sad               9\n",
       "disgust|angry           7\n",
       "disgust                 6\n",
       "sad|disgust             2\n",
       "sad|angry               2\n",
       "sad|disgust|angry       1\n",
       "Name: Category, dtype: int64"
      ]
     },
     "execution_count": 5,
     "metadata": {},
     "output_type": "execute_result"
    }
   ],
   "source": [
    "df.Category.value_counts()"
   ]
  },
  {
   "cell_type": "markdown",
   "metadata": {},
   "source": [
    "We will be filtering the emotions with single emotions and ignoring the rest."
   ]
  },
  {
   "cell_type": "code",
   "execution_count": 6,
   "metadata": {},
   "outputs": [
    {
     "data": {
      "text/plain": [
       "happy           1137\n",
       "not-relevant     214\n",
       "angry             57\n",
       "surprise          35\n",
       "sad               32\n",
       "disgust            6\n",
       "Name: Category, dtype: int64"
      ]
     },
     "execution_count": 6,
     "metadata": {},
     "output_type": "execute_result"
    }
   ],
   "source": [
    "df = df[(df.Category!=\"nocode\")]\n",
    "df = df[~(df.Category.str.contains(\"\\|\"))]\n",
    "df.Category.value_counts()"
   ]
  },
  {
   "cell_type": "code",
   "execution_count": 7,
   "metadata": {},
   "outputs": [
    {
     "data": {
      "text/plain": [
       "{'happy': 0,\n",
       " 'not-relevant': 1,\n",
       " 'angry': 2,\n",
       " 'disgust': 3,\n",
       " 'sad': 4,\n",
       " 'surprise': 5}"
      ]
     },
     "execution_count": 7,
     "metadata": {},
     "output_type": "execute_result"
    }
   ],
   "source": [
    "possible_label = df.Category.unique()\n",
    "dict_label = {}\n",
    "for index,possible_label in enumerate(possible_label):\n",
    "    dict_label[possible_label] = index\n",
    "dict_label"
   ]
  },
  {
   "cell_type": "code",
   "execution_count": 8,
   "metadata": {},
   "outputs": [
    {
     "data": {
      "text/html": [
       "<div>\n",
       "<style scoped>\n",
       "    .dataframe tbody tr th:only-of-type {\n",
       "        vertical-align: middle;\n",
       "    }\n",
       "\n",
       "    .dataframe tbody tr th {\n",
       "        vertical-align: top;\n",
       "    }\n",
       "\n",
       "    .dataframe thead th {\n",
       "        text-align: right;\n",
       "    }\n",
       "</style>\n",
       "<table border=\"1\" class=\"dataframe\">\n",
       "  <thead>\n",
       "    <tr style=\"text-align: right;\">\n",
       "      <th></th>\n",
       "      <th>Text</th>\n",
       "      <th>Category</th>\n",
       "      <th>Label</th>\n",
       "    </tr>\n",
       "    <tr>\n",
       "      <th>Id</th>\n",
       "      <th></th>\n",
       "      <th></th>\n",
       "      <th></th>\n",
       "    </tr>\n",
       "  </thead>\n",
       "  <tbody>\n",
       "    <tr>\n",
       "      <th>614484565059596288</th>\n",
       "      <td>Dorian Gray with Rainbow Scarf #LoveWins (from...</td>\n",
       "      <td>happy</td>\n",
       "      <td>0</td>\n",
       "    </tr>\n",
       "    <tr>\n",
       "      <th>614746522043973632</th>\n",
       "      <td>@SelectShowcase @Tate_StIves ... Replace with ...</td>\n",
       "      <td>happy</td>\n",
       "      <td>0</td>\n",
       "    </tr>\n",
       "    <tr>\n",
       "      <th>614877582664835073</th>\n",
       "      <td>@Sofabsports thank you for following me back. ...</td>\n",
       "      <td>happy</td>\n",
       "      <td>0</td>\n",
       "    </tr>\n",
       "    <tr>\n",
       "      <th>611932373039644672</th>\n",
       "      <td>@britishmuseum @TudorHistory What a beautiful ...</td>\n",
       "      <td>happy</td>\n",
       "      <td>0</td>\n",
       "    </tr>\n",
       "    <tr>\n",
       "      <th>611570404268883969</th>\n",
       "      <td>@NationalGallery @ThePoldarkian I have always ...</td>\n",
       "      <td>happy</td>\n",
       "      <td>0</td>\n",
       "    </tr>\n",
       "  </tbody>\n",
       "</table>\n",
       "</div>"
      ],
      "text/plain": [
       "                                                                 Text  \\\n",
       "Id                                                                      \n",
       "614484565059596288  Dorian Gray with Rainbow Scarf #LoveWins (from...   \n",
       "614746522043973632  @SelectShowcase @Tate_StIves ... Replace with ...   \n",
       "614877582664835073  @Sofabsports thank you for following me back. ...   \n",
       "611932373039644672  @britishmuseum @TudorHistory What a beautiful ...   \n",
       "611570404268883969  @NationalGallery @ThePoldarkian I have always ...   \n",
       "\n",
       "                   Category  Label  \n",
       "Id                                  \n",
       "614484565059596288    happy      0  \n",
       "614746522043973632    happy      0  \n",
       "614877582664835073    happy      0  \n",
       "611932373039644672    happy      0  \n",
       "611570404268883969    happy      0  "
      ]
     },
     "execution_count": 8,
     "metadata": {},
     "output_type": "execute_result"
    }
   ],
   "source": [
    "df[\"Label\"] = df[\"Category\"].replace(dict_label)\n",
    "df.head()"
   ]
  },
  {
   "cell_type": "code",
   "execution_count": 9,
   "metadata": {},
   "outputs": [],
   "source": [
    "# import matplotlib.pyplot as plt\n",
    "# import seaborn as sns\n",
    "\n",
    "# plt.rcParams['figure.figsize'] = (5,5)\n",
    "# sns.countplot(df[\"Label\"],hue = df[\"Label\"],palette = 'dark')\n",
    "# plt.legend(loc = 'upper right')\n",
    "# plt.show()"
   ]
  },
  {
   "cell_type": "code",
   "execution_count": 10,
   "metadata": {},
   "outputs": [
    {
     "ename": "NameError",
     "evalue": "name 'plt' is not defined",
     "output_type": "error",
     "traceback": [
      "\u001b[1;31m---------------------------------------------------------------------------\u001b[0m",
      "\u001b[1;31mNameError\u001b[0m                                 Traceback (most recent call last)",
      "\u001b[1;32m~\\AppData\\Local\\Temp/ipykernel_19900/2457513398.py\u001b[0m in \u001b[0;36m<module>\u001b[1;34m\u001b[0m\n\u001b[0;32m      1\u001b[0m \u001b[0mlabels\u001b[0m \u001b[1;33m=\u001b[0m \u001b[1;33m[\u001b[0m\u001b[1;36m0\u001b[0m\u001b[1;33m,\u001b[0m\u001b[1;36m1\u001b[0m\u001b[1;33m,\u001b[0m\u001b[1;36m2\u001b[0m\u001b[1;33m,\u001b[0m\u001b[1;36m3\u001b[0m\u001b[1;33m,\u001b[0m\u001b[1;36m4\u001b[0m\u001b[1;33m,\u001b[0m\u001b[1;36m5\u001b[0m\u001b[1;33m]\u001b[0m\u001b[1;33m\u001b[0m\u001b[1;33m\u001b[0m\u001b[0m\n\u001b[0;32m      2\u001b[0m \u001b[0msizes\u001b[0m \u001b[1;33m=\u001b[0m \u001b[0mdf\u001b[0m\u001b[1;33m[\u001b[0m\u001b[1;34m\"Label\"\u001b[0m\u001b[1;33m]\u001b[0m\u001b[1;33m.\u001b[0m\u001b[0mvalue_counts\u001b[0m\u001b[1;33m(\u001b[0m\u001b[1;33m)\u001b[0m\u001b[1;33m\u001b[0m\u001b[1;33m\u001b[0m\u001b[0m\n\u001b[1;32m----> 3\u001b[1;33m \u001b[0mcolors\u001b[0m \u001b[1;33m=\u001b[0m \u001b[0mplt\u001b[0m\u001b[1;33m.\u001b[0m\u001b[0mcm\u001b[0m\u001b[1;33m.\u001b[0m\u001b[0mcopper\u001b[0m\u001b[1;33m(\u001b[0m\u001b[0mnp\u001b[0m\u001b[1;33m.\u001b[0m\u001b[0mlinspace\u001b[0m\u001b[1;33m(\u001b[0m\u001b[1;36m0\u001b[0m\u001b[1;33m,\u001b[0m \u001b[1;36m1\u001b[0m\u001b[1;33m,\u001b[0m \u001b[1;36m5\u001b[0m\u001b[1;33m)\u001b[0m\u001b[1;33m)\u001b[0m\u001b[1;33m\u001b[0m\u001b[1;33m\u001b[0m\u001b[0m\n\u001b[0m\u001b[0;32m      4\u001b[0m \u001b[0mexplode\u001b[0m \u001b[1;33m=\u001b[0m \u001b[1;33m[\u001b[0m\u001b[1;36m0.1\u001b[0m\u001b[1;33m,\u001b[0m \u001b[1;36m0.1\u001b[0m\u001b[1;33m,\u001b[0m\u001b[1;36m0.1\u001b[0m\u001b[1;33m,\u001b[0m \u001b[1;36m0.2\u001b[0m\u001b[1;33m,\u001b[0m \u001b[1;36m0.5\u001b[0m\u001b[1;33m,\u001b[0m \u001b[1;36m0.9\u001b[0m\u001b[1;33m]\u001b[0m\u001b[1;33m\u001b[0m\u001b[1;33m\u001b[0m\u001b[0m\n\u001b[0;32m      5\u001b[0m \u001b[0mcmap\u001b[0m \u001b[1;33m=\u001b[0m \u001b[0mplt\u001b[0m\u001b[1;33m.\u001b[0m\u001b[0mget_cmap\u001b[0m\u001b[1;33m(\u001b[0m\u001b[1;34m'Spectral'\u001b[0m\u001b[1;33m)\u001b[0m\u001b[1;33m\u001b[0m\u001b[1;33m\u001b[0m\u001b[0m\n",
      "\u001b[1;31mNameError\u001b[0m: name 'plt' is not defined"
     ]
    }
   ],
   "source": [
    "# labels = [0,1,2,3,4,5]\n",
    "# sizes = df[\"Label\"].value_counts()\n",
    "# colors = plt.cm.copper(np.linspace(0, 1, 5))\n",
    "# explode = [0.1, 0.1,0.1, 0.2, 0.5, 0.9]\n",
    "# cmap = plt.get_cmap('Spectral')\n",
    "# plt.pie(sizes,labels = labels,colors = colors,shadow = True,explode = explode)\n",
    "# plt.legend()\n",
    "# plt.show()"
   ]
  },
  {
   "cell_type": "code",
   "execution_count": 11,
   "metadata": {},
   "outputs": [],
   "source": [
    "from sklearn.model_selection import train_test_split\n",
    "X_train,X_test,y_train,y_test = train_test_split(df.index.values,\n",
    "                                                df.Label.values,\n",
    "                                                test_size = 0.15,\n",
    "                                                random_state=17,\n",
    "                                                stratify = df.Label.values)"
   ]
  },
  {
   "cell_type": "code",
   "execution_count": null,
   "metadata": {},
   "outputs": [],
   "source": [
    "# df[\"data_type \"] = ['not_set']*df.shape[0]\n",
    "# df.head()"
   ]
  },
  {
   "cell_type": "code",
   "execution_count": 12,
   "metadata": {},
   "outputs": [],
   "source": [
    "# for i in df.index:\n",
    "#     if i in X_train:\n",
    "#         df[\"data_type\"].replace(\"not_set\",\"train\")\n",
    "#     elif i in X_test:\n",
    "#         df[\"data_type\"].replace(\"not_set\",\"test\")\n",
    "# df.head() \n",
    "df.loc[X_train,'data_type'] = 'train'\n",
    "df.loc[X_test,'data_type'] = 'test'"
   ]
  },
  {
   "cell_type": "code",
   "execution_count": 13,
   "metadata": {},
   "outputs": [
    {
     "data": {
      "text/html": [
       "<div>\n",
       "<style scoped>\n",
       "    .dataframe tbody tr th:only-of-type {\n",
       "        vertical-align: middle;\n",
       "    }\n",
       "\n",
       "    .dataframe tbody tr th {\n",
       "        vertical-align: top;\n",
       "    }\n",
       "\n",
       "    .dataframe thead th {\n",
       "        text-align: right;\n",
       "    }\n",
       "</style>\n",
       "<table border=\"1\" class=\"dataframe\">\n",
       "  <thead>\n",
       "    <tr style=\"text-align: right;\">\n",
       "      <th></th>\n",
       "      <th>Text</th>\n",
       "      <th>Category</th>\n",
       "      <th>Label</th>\n",
       "      <th>data_type</th>\n",
       "    </tr>\n",
       "    <tr>\n",
       "      <th>Id</th>\n",
       "      <th></th>\n",
       "      <th></th>\n",
       "      <th></th>\n",
       "      <th></th>\n",
       "    </tr>\n",
       "  </thead>\n",
       "  <tbody>\n",
       "    <tr>\n",
       "      <th>614484565059596288</th>\n",
       "      <td>Dorian Gray with Rainbow Scarf #LoveWins (from...</td>\n",
       "      <td>happy</td>\n",
       "      <td>0</td>\n",
       "      <td>train</td>\n",
       "    </tr>\n",
       "    <tr>\n",
       "      <th>614746522043973632</th>\n",
       "      <td>@SelectShowcase @Tate_StIves ... Replace with ...</td>\n",
       "      <td>happy</td>\n",
       "      <td>0</td>\n",
       "      <td>train</td>\n",
       "    </tr>\n",
       "    <tr>\n",
       "      <th>614877582664835073</th>\n",
       "      <td>@Sofabsports thank you for following me back. ...</td>\n",
       "      <td>happy</td>\n",
       "      <td>0</td>\n",
       "      <td>train</td>\n",
       "    </tr>\n",
       "    <tr>\n",
       "      <th>611932373039644672</th>\n",
       "      <td>@britishmuseum @TudorHistory What a beautiful ...</td>\n",
       "      <td>happy</td>\n",
       "      <td>0</td>\n",
       "      <td>train</td>\n",
       "    </tr>\n",
       "    <tr>\n",
       "      <th>611570404268883969</th>\n",
       "      <td>@NationalGallery @ThePoldarkian I have always ...</td>\n",
       "      <td>happy</td>\n",
       "      <td>0</td>\n",
       "      <td>train</td>\n",
       "    </tr>\n",
       "  </tbody>\n",
       "</table>\n",
       "</div>"
      ],
      "text/plain": [
       "                                                                 Text  \\\n",
       "Id                                                                      \n",
       "614484565059596288  Dorian Gray with Rainbow Scarf #LoveWins (from...   \n",
       "614746522043973632  @SelectShowcase @Tate_StIves ... Replace with ...   \n",
       "614877582664835073  @Sofabsports thank you for following me back. ...   \n",
       "611932373039644672  @britishmuseum @TudorHistory What a beautiful ...   \n",
       "611570404268883969  @NationalGallery @ThePoldarkian I have always ...   \n",
       "\n",
       "                   Category  Label data_type  \n",
       "Id                                            \n",
       "614484565059596288    happy      0     train  \n",
       "614746522043973632    happy      0     train  \n",
       "614877582664835073    happy      0     train  \n",
       "611932373039644672    happy      0     train  \n",
       "611570404268883969    happy      0     train  "
      ]
     },
     "execution_count": 13,
     "metadata": {},
     "output_type": "execute_result"
    }
   ],
   "source": [
    "df.head()"
   ]
  },
  {
   "cell_type": "code",
   "execution_count": 14,
   "metadata": {},
   "outputs": [
    {
     "data": {
      "text/html": [
       "<div>\n",
       "<style scoped>\n",
       "    .dataframe tbody tr th:only-of-type {\n",
       "        vertical-align: middle;\n",
       "    }\n",
       "\n",
       "    .dataframe tbody tr th {\n",
       "        vertical-align: top;\n",
       "    }\n",
       "\n",
       "    .dataframe thead th {\n",
       "        text-align: right;\n",
       "    }\n",
       "</style>\n",
       "<table border=\"1\" class=\"dataframe\">\n",
       "  <thead>\n",
       "    <tr style=\"text-align: right;\">\n",
       "      <th></th>\n",
       "      <th></th>\n",
       "      <th></th>\n",
       "      <th>Text</th>\n",
       "    </tr>\n",
       "    <tr>\n",
       "      <th>Category</th>\n",
       "      <th>Label</th>\n",
       "      <th>data_type</th>\n",
       "      <th></th>\n",
       "    </tr>\n",
       "  </thead>\n",
       "  <tbody>\n",
       "    <tr>\n",
       "      <th rowspan=\"2\" valign=\"top\">angry</th>\n",
       "      <th rowspan=\"2\" valign=\"top\">2</th>\n",
       "      <th>test</th>\n",
       "      <td>9</td>\n",
       "    </tr>\n",
       "    <tr>\n",
       "      <th>train</th>\n",
       "      <td>48</td>\n",
       "    </tr>\n",
       "    <tr>\n",
       "      <th rowspan=\"2\" valign=\"top\">disgust</th>\n",
       "      <th rowspan=\"2\" valign=\"top\">3</th>\n",
       "      <th>test</th>\n",
       "      <td>1</td>\n",
       "    </tr>\n",
       "    <tr>\n",
       "      <th>train</th>\n",
       "      <td>5</td>\n",
       "    </tr>\n",
       "    <tr>\n",
       "      <th rowspan=\"2\" valign=\"top\">happy</th>\n",
       "      <th rowspan=\"2\" valign=\"top\">0</th>\n",
       "      <th>test</th>\n",
       "      <td>171</td>\n",
       "    </tr>\n",
       "    <tr>\n",
       "      <th>train</th>\n",
       "      <td>966</td>\n",
       "    </tr>\n",
       "    <tr>\n",
       "      <th rowspan=\"2\" valign=\"top\">not-relevant</th>\n",
       "      <th rowspan=\"2\" valign=\"top\">1</th>\n",
       "      <th>test</th>\n",
       "      <td>32</td>\n",
       "    </tr>\n",
       "    <tr>\n",
       "      <th>train</th>\n",
       "      <td>182</td>\n",
       "    </tr>\n",
       "    <tr>\n",
       "      <th rowspan=\"2\" valign=\"top\">sad</th>\n",
       "      <th rowspan=\"2\" valign=\"top\">4</th>\n",
       "      <th>test</th>\n",
       "      <td>5</td>\n",
       "    </tr>\n",
       "    <tr>\n",
       "      <th>train</th>\n",
       "      <td>27</td>\n",
       "    </tr>\n",
       "    <tr>\n",
       "      <th rowspan=\"2\" valign=\"top\">surprise</th>\n",
       "      <th rowspan=\"2\" valign=\"top\">5</th>\n",
       "      <th>test</th>\n",
       "      <td>5</td>\n",
       "    </tr>\n",
       "    <tr>\n",
       "      <th>train</th>\n",
       "      <td>30</td>\n",
       "    </tr>\n",
       "  </tbody>\n",
       "</table>\n",
       "</div>"
      ],
      "text/plain": [
       "                              Text\n",
       "Category     Label data_type      \n",
       "angry        2     test          9\n",
       "                   train        48\n",
       "disgust      3     test          1\n",
       "                   train         5\n",
       "happy        0     test        171\n",
       "                   train       966\n",
       "not-relevant 1     test         32\n",
       "                   train       182\n",
       "sad          4     test          5\n",
       "                   train        27\n",
       "surprise     5     test          5\n",
       "                   train        30"
      ]
     },
     "execution_count": 14,
     "metadata": {},
     "output_type": "execute_result"
    }
   ],
   "source": [
    "df.groupby(['Category','Label','data_type']).count()"
   ]
  },
  {
   "cell_type": "code",
   "execution_count": 16,
   "metadata": {},
   "outputs": [
    {
     "name": "stdout",
     "output_type": "stream",
     "text": [
      "Collecting transformers\n",
      "  Downloading transformers-4.33.2-py3-none-any.whl (7.6 MB)\n",
      "Collecting safetensors>=0.3.1\n",
      "  Downloading safetensors-0.3.3-cp39-cp39-win_amd64.whl (266 kB)\n",
      "Requirement already satisfied: requests in c:\\users\\paarg\\anaconda3\\lib\\site-packages (from transformers) (2.26.0)\n",
      "Requirement already satisfied: tqdm>=4.27 in c:\\users\\paarg\\anaconda3\\lib\\site-packages (from transformers) (4.62.3)\n",
      "Collecting tokenizers!=0.11.3,<0.14,>=0.11.1\n",
      "  Downloading tokenizers-0.13.3-cp39-cp39-win_amd64.whl (3.5 MB)\n",
      "Requirement already satisfied: numpy>=1.17 in c:\\users\\paarg\\anaconda3\\lib\\site-packages (from transformers) (1.20.3)\n",
      "Collecting huggingface-hub<1.0,>=0.15.1\n",
      "  Downloading huggingface_hub-0.17.2-py3-none-any.whl (294 kB)\n",
      "Requirement already satisfied: packaging>=20.0 in c:\\users\\paarg\\anaconda3\\lib\\site-packages (from transformers) (21.0)\n",
      "Requirement already satisfied: filelock in c:\\users\\paarg\\anaconda3\\lib\\site-packages (from transformers) (3.3.1)\n",
      "Requirement already satisfied: pyyaml>=5.1 in c:\\users\\paarg\\anaconda3\\lib\\site-packages (from transformers) (6.0)\n",
      "Requirement already satisfied: regex!=2019.12.17 in c:\\users\\paarg\\anaconda3\\lib\\site-packages (from transformers) (2021.8.3)\n",
      "Requirement already satisfied: typing-extensions>=3.7.4.3 in c:\\users\\paarg\\anaconda3\\lib\\site-packages (from huggingface-hub<1.0,>=0.15.1->transformers) (3.10.0.2)\n",
      "Requirement already satisfied: fsspec in c:\\users\\paarg\\anaconda3\\lib\\site-packages (from huggingface-hub<1.0,>=0.15.1->transformers) (2021.10.1)\n",
      "Requirement already satisfied: pyparsing>=2.0.2 in c:\\users\\paarg\\anaconda3\\lib\\site-packages (from packaging>=20.0->transformers) (3.0.4)\n",
      "Requirement already satisfied: colorama in c:\\users\\paarg\\anaconda3\\lib\\site-packages (from tqdm>=4.27->transformers) (0.4.4)\n",
      "Requirement already satisfied: urllib3<1.27,>=1.21.1 in c:\\users\\paarg\\anaconda3\\lib\\site-packages (from requests->transformers) (1.26.7)\n",
      "Requirement already satisfied: charset-normalizer~=2.0.0 in c:\\users\\paarg\\anaconda3\\lib\\site-packages (from requests->transformers) (2.0.4)\n",
      "Requirement already satisfied: idna<4,>=2.5 in c:\\users\\paarg\\anaconda3\\lib\\site-packages (from requests->transformers) (3.2)\n",
      "Requirement already satisfied: certifi>=2017.4.17 in c:\\users\\paarg\\anaconda3\\lib\\site-packages (from requests->transformers) (2021.10.8)\n",
      "Installing collected packages: tokenizers, safetensors, huggingface-hub, transformers\n",
      "Successfully installed huggingface-hub-0.17.2 safetensors-0.3.3 tokenizers-0.13.3 transformers-4.33.2\n",
      "Note: you may need to restart the kernel to use updated packages.\n"
     ]
    }
   ],
   "source": [
    "pip install transformers"
   ]
  },
  {
   "cell_type": "markdown",
   "metadata": {},
   "source": [
    "# Modeling"
   ]
  },
  {
   "cell_type": "code",
   "execution_count": 17,
   "metadata": {},
   "outputs": [],
   "source": [
    "from transformers import BertTokenizer\n",
    "from torch.utils.data import TensorDataset"
   ]
  },
  {
   "cell_type": "code",
   "execution_count": 18,
   "metadata": {},
   "outputs": [
    {
     "data": {
      "application/vnd.jupyter.widget-view+json": {
       "model_id": "fcb29b4d71a94d498c5b88918461d4ae",
       "version_major": 2,
       "version_minor": 0
      },
      "text/plain": [
       "Downloading (…)solve/main/vocab.txt:   0%|          | 0.00/232k [00:00<?, ?B/s]"
      ]
     },
     "metadata": {},
     "output_type": "display_data"
    },
    {
     "name": "stderr",
     "output_type": "stream",
     "text": [
      "C:\\Users\\paarg\\anaconda3\\lib\\site-packages\\huggingface_hub\\file_download.py:137: UserWarning: `huggingface_hub` cache-system uses symlinks by default to efficiently store duplicated files but your machine does not support them in C:\\Users\\paarg\\.cache\\huggingface\\hub. Caching files will still work but in a degraded version that might require more space on your disk. This warning can be disabled by setting the `HF_HUB_DISABLE_SYMLINKS_WARNING` environment variable. For more details, see https://huggingface.co/docs/huggingface_hub/how-to-cache#limitations.\n",
      "To support symlinks on Windows, you either need to activate Developer Mode or to run Python as an administrator. In order to see activate developer mode, see this article: https://docs.microsoft.com/en-us/windows/apps/get-started/enable-your-device-for-development\n",
      "  warnings.warn(message)\n"
     ]
    },
    {
     "data": {
      "application/vnd.jupyter.widget-view+json": {
       "model_id": "908b4e41b07c4afe8e42d44e012b1a02",
       "version_major": 2,
       "version_minor": 0
      },
      "text/plain": [
       "Downloading (…)okenizer_config.json:   0%|          | 0.00/28.0 [00:00<?, ?B/s]"
      ]
     },
     "metadata": {},
     "output_type": "display_data"
    },
    {
     "data": {
      "application/vnd.jupyter.widget-view+json": {
       "model_id": "5e9e0cf76e8e457aaf3a8f33ee6f94d8",
       "version_major": 2,
       "version_minor": 0
      },
      "text/plain": [
       "Downloading (…)lve/main/config.json:   0%|          | 0.00/570 [00:00<?, ?B/s]"
      ]
     },
     "metadata": {},
     "output_type": "display_data"
    }
   ],
   "source": [
    "tokenizer = BertTokenizer.from_pretrained('bert-base-uncased',\n",
    "                                         do_lower_case = True)"
   ]
  },
  {
   "cell_type": "markdown",
   "metadata": {},
   "source": [
    "Encoding text by tokenizing using BERT Tokenizer\n",
    "* In order to use BERT text embeddings as input to train text classification model, we need to tokenize our text reviews. Tokenization refers to dividing a sentence into individual words. To tokenize our text, we will be using the BERT tokenizer"
   ]
  },
  {
   "cell_type": "code",
   "execution_count": 19,
   "metadata": {},
   "outputs": [
    {
     "name": "stderr",
     "output_type": "stream",
     "text": [
      "Truncation was not explicitly activated but `max_length` is provided a specific value, please use `truncation=True` to explicitly truncate examples to max length. Defaulting to 'longest_first' truncation strategy. If you encode pairs of sequences (GLUE-style) with the tokenizer you can select this strategy more precisely by providing a specific strategy to `truncation`.\n",
      "C:\\Users\\paarg\\anaconda3\\lib\\site-packages\\transformers\\tokenization_utils_base.py:2418: FutureWarning: The `pad_to_max_length` argument is deprecated and will be removed in a future version, use `padding=True` or `padding='longest'` to pad to the longest sequence in the batch, or use `padding='max_length'` to pad to a max length. In this case, you can give a specific length with `max_length` (e.g. `max_length=45`) or leave max_length to None to pad to the maximal input size of the model (e.g. 512 for Bert).\n",
      "  warnings.warn(\n",
      "Keyword arguments {'return_attention_masks': True} not recognized.\n",
      "Keyword arguments {'return_attention_masks': True} not recognized.\n",
      "Keyword arguments {'return_attention_masks': True} not recognized.\n",
      "Keyword arguments {'return_attention_masks': True} not recognized.\n",
      "Keyword arguments {'return_attention_masks': True} not recognized.\n",
      "Keyword arguments {'return_attention_masks': True} not recognized.\n",
      "Keyword arguments {'return_attention_masks': True} not recognized.\n",
      "Keyword arguments {'return_attention_masks': True} not recognized.\n",
      "Keyword arguments {'return_attention_masks': True} not recognized.\n",
      "Keyword arguments {'return_attention_masks': True} not recognized.\n",
      "Keyword arguments {'return_attention_masks': True} not recognized.\n",
      "Keyword arguments {'return_attention_masks': True} not recognized.\n",
      "Keyword arguments {'return_attention_masks': True} not recognized.\n",
      "Keyword arguments {'return_attention_masks': True} not recognized.\n",
      "Keyword arguments {'return_attention_masks': True} not recognized.\n",
      "Keyword arguments {'return_attention_masks': True} not recognized.\n",
      "Keyword arguments {'return_attention_masks': True} not recognized.\n",
      "Keyword arguments {'return_attention_masks': True} not recognized.\n",
      "Keyword arguments {'return_attention_masks': True} not recognized.\n",
      "Keyword arguments {'return_attention_masks': True} not recognized.\n",
      "Keyword arguments {'return_attention_masks': True} not recognized.\n",
      "Keyword arguments {'return_attention_masks': True} not recognized.\n",
      "Keyword arguments {'return_attention_masks': True} not recognized.\n",
      "Keyword arguments {'return_attention_masks': True} not recognized.\n",
      "Keyword arguments {'return_attention_masks': True} not recognized.\n",
      "Keyword arguments {'return_attention_masks': True} not recognized.\n",
      "Keyword arguments {'return_attention_masks': True} not recognized.\n",
      "Keyword arguments {'return_attention_masks': True} not recognized.\n",
      "Keyword arguments {'return_attention_masks': True} not recognized.\n",
      "Keyword arguments {'return_attention_masks': True} not recognized.\n",
      "Keyword arguments {'return_attention_masks': True} not recognized.\n",
      "Keyword arguments {'return_attention_masks': True} not recognized.\n",
      "Keyword arguments {'return_attention_masks': True} not recognized.\n",
      "Keyword arguments {'return_attention_masks': True} not recognized.\n",
      "Keyword arguments {'return_attention_masks': True} not recognized.\n",
      "Keyword arguments {'return_attention_masks': True} not recognized.\n",
      "Keyword arguments {'return_attention_masks': True} not recognized.\n",
      "Keyword arguments {'return_attention_masks': True} not recognized.\n",
      "Keyword arguments {'return_attention_masks': True} not recognized.\n",
      "Keyword arguments {'return_attention_masks': True} not recognized.\n",
      "Keyword arguments {'return_attention_masks': True} not recognized.\n",
      "Keyword arguments {'return_attention_masks': True} not recognized.\n",
      "Keyword arguments {'return_attention_masks': True} not recognized.\n",
      "Keyword arguments {'return_attention_masks': True} not recognized.\n",
      "Keyword arguments {'return_attention_masks': True} not recognized.\n",
      "Keyword arguments {'return_attention_masks': True} not recognized.\n",
      "Keyword arguments {'return_attention_masks': True} not recognized.\n",
      "Keyword arguments {'return_attention_masks': True} not recognized.\n",
      "Keyword arguments {'return_attention_masks': True} not recognized.\n",
      "Keyword arguments {'return_attention_masks': True} not recognized.\n",
      "Keyword arguments {'return_attention_masks': True} not recognized.\n",
      "Keyword arguments {'return_attention_masks': True} not recognized.\n",
      "Keyword arguments {'return_attention_masks': True} not recognized.\n",
      "Keyword arguments {'return_attention_masks': True} not recognized.\n",
      "Keyword arguments {'return_attention_masks': True} not recognized.\n",
      "Keyword arguments {'return_attention_masks': True} not recognized.\n",
      "Keyword arguments {'return_attention_masks': True} not recognized.\n",
      "Keyword arguments {'return_attention_masks': True} not recognized.\n",
      "Keyword arguments {'return_attention_masks': True} not recognized.\n",
      "Keyword arguments {'return_attention_masks': True} not recognized.\n",
      "Keyword arguments {'return_attention_masks': True} not recognized.\n",
      "Keyword arguments {'return_attention_masks': True} not recognized.\n",
      "Keyword arguments {'return_attention_masks': True} not recognized.\n",
      "Keyword arguments {'return_attention_masks': True} not recognized.\n",
      "Keyword arguments {'return_attention_masks': True} not recognized.\n",
      "Keyword arguments {'return_attention_masks': True} not recognized.\n",
      "Keyword arguments {'return_attention_masks': True} not recognized.\n",
      "Keyword arguments {'return_attention_masks': True} not recognized.\n",
      "Keyword arguments {'return_attention_masks': True} not recognized.\n",
      "Keyword arguments {'return_attention_masks': True} not recognized.\n",
      "Keyword arguments {'return_attention_masks': True} not recognized.\n",
      "Keyword arguments {'return_attention_masks': True} not recognized.\n",
      "Keyword arguments {'return_attention_masks': True} not recognized.\n",
      "Keyword arguments {'return_attention_masks': True} not recognized.\n",
      "Keyword arguments {'return_attention_masks': True} not recognized.\n",
      "Keyword arguments {'return_attention_masks': True} not recognized.\n",
      "Keyword arguments {'return_attention_masks': True} not recognized.\n",
      "Keyword arguments {'return_attention_masks': True} not recognized.\n",
      "Keyword arguments {'return_attention_masks': True} not recognized.\n",
      "Keyword arguments {'return_attention_masks': True} not recognized.\n",
      "Keyword arguments {'return_attention_masks': True} not recognized.\n",
      "Keyword arguments {'return_attention_masks': True} not recognized.\n",
      "Keyword arguments {'return_attention_masks': True} not recognized.\n",
      "Keyword arguments {'return_attention_masks': True} not recognized.\n",
      "Keyword arguments {'return_attention_masks': True} not recognized.\n",
      "Keyword arguments {'return_attention_masks': True} not recognized.\n",
      "Keyword arguments {'return_attention_masks': True} not recognized.\n",
      "Keyword arguments {'return_attention_masks': True} not recognized.\n",
      "Keyword arguments {'return_attention_masks': True} not recognized.\n",
      "Keyword arguments {'return_attention_masks': True} not recognized.\n",
      "Keyword arguments {'return_attention_masks': True} not recognized.\n",
      "Keyword arguments {'return_attention_masks': True} not recognized.\n",
      "Keyword arguments {'return_attention_masks': True} not recognized.\n",
      "Keyword arguments {'return_attention_masks': True} not recognized.\n",
      "Keyword arguments {'return_attention_masks': True} not recognized.\n",
      "Keyword arguments {'return_attention_masks': True} not recognized.\n",
      "Keyword arguments {'return_attention_masks': True} not recognized.\n",
      "Keyword arguments {'return_attention_masks': True} not recognized.\n",
      "Keyword arguments {'return_attention_masks': True} not recognized.\n",
      "Keyword arguments {'return_attention_masks': True} not recognized.\n",
      "Keyword arguments {'return_attention_masks': True} not recognized.\n",
      "Keyword arguments {'return_attention_masks': True} not recognized.\n",
      "Keyword arguments {'return_attention_masks': True} not recognized.\n",
      "Keyword arguments {'return_attention_masks': True} not recognized.\n",
      "Keyword arguments {'return_attention_masks': True} not recognized.\n",
      "Keyword arguments {'return_attention_masks': True} not recognized.\n",
      "Keyword arguments {'return_attention_masks': True} not recognized.\n",
      "Keyword arguments {'return_attention_masks': True} not recognized.\n",
      "Keyword arguments {'return_attention_masks': True} not recognized.\n"
     ]
    },
    {
     "name": "stderr",
     "output_type": "stream",
     "text": [
      "Keyword arguments {'return_attention_masks': True} not recognized.\n",
      "Keyword arguments {'return_attention_masks': True} not recognized.\n",
      "Keyword arguments {'return_attention_masks': True} not recognized.\n",
      "Keyword arguments {'return_attention_masks': True} not recognized.\n",
      "Keyword arguments {'return_attention_masks': True} not recognized.\n",
      "Keyword arguments {'return_attention_masks': True} not recognized.\n",
      "Keyword arguments {'return_attention_masks': True} not recognized.\n",
      "Keyword arguments {'return_attention_masks': True} not recognized.\n",
      "Keyword arguments {'return_attention_masks': True} not recognized.\n",
      "Keyword arguments {'return_attention_masks': True} not recognized.\n",
      "Keyword arguments {'return_attention_masks': True} not recognized.\n",
      "Keyword arguments {'return_attention_masks': True} not recognized.\n",
      "Keyword arguments {'return_attention_masks': True} not recognized.\n",
      "Keyword arguments {'return_attention_masks': True} not recognized.\n",
      "Keyword arguments {'return_attention_masks': True} not recognized.\n",
      "Keyword arguments {'return_attention_masks': True} not recognized.\n",
      "Keyword arguments {'return_attention_masks': True} not recognized.\n",
      "Keyword arguments {'return_attention_masks': True} not recognized.\n",
      "Keyword arguments {'return_attention_masks': True} not recognized.\n",
      "Keyword arguments {'return_attention_masks': True} not recognized.\n",
      "Keyword arguments {'return_attention_masks': True} not recognized.\n",
      "Keyword arguments {'return_attention_masks': True} not recognized.\n",
      "Keyword arguments {'return_attention_masks': True} not recognized.\n",
      "Keyword arguments {'return_attention_masks': True} not recognized.\n",
      "Keyword arguments {'return_attention_masks': True} not recognized.\n",
      "Keyword arguments {'return_attention_masks': True} not recognized.\n",
      "Keyword arguments {'return_attention_masks': True} not recognized.\n",
      "Keyword arguments {'return_attention_masks': True} not recognized.\n",
      "Keyword arguments {'return_attention_masks': True} not recognized.\n",
      "Keyword arguments {'return_attention_masks': True} not recognized.\n",
      "Keyword arguments {'return_attention_masks': True} not recognized.\n",
      "Keyword arguments {'return_attention_masks': True} not recognized.\n",
      "Keyword arguments {'return_attention_masks': True} not recognized.\n",
      "Keyword arguments {'return_attention_masks': True} not recognized.\n",
      "Keyword arguments {'return_attention_masks': True} not recognized.\n",
      "Keyword arguments {'return_attention_masks': True} not recognized.\n",
      "Keyword arguments {'return_attention_masks': True} not recognized.\n",
      "Keyword arguments {'return_attention_masks': True} not recognized.\n",
      "Keyword arguments {'return_attention_masks': True} not recognized.\n",
      "Keyword arguments {'return_attention_masks': True} not recognized.\n",
      "Keyword arguments {'return_attention_masks': True} not recognized.\n",
      "Keyword arguments {'return_attention_masks': True} not recognized.\n",
      "Keyword arguments {'return_attention_masks': True} not recognized.\n",
      "Keyword arguments {'return_attention_masks': True} not recognized.\n",
      "Keyword arguments {'return_attention_masks': True} not recognized.\n",
      "Keyword arguments {'return_attention_masks': True} not recognized.\n",
      "Keyword arguments {'return_attention_masks': True} not recognized.\n",
      "Keyword arguments {'return_attention_masks': True} not recognized.\n",
      "Keyword arguments {'return_attention_masks': True} not recognized.\n",
      "Keyword arguments {'return_attention_masks': True} not recognized.\n",
      "Keyword arguments {'return_attention_masks': True} not recognized.\n",
      "Keyword arguments {'return_attention_masks': True} not recognized.\n",
      "Keyword arguments {'return_attention_masks': True} not recognized.\n",
      "Keyword arguments {'return_attention_masks': True} not recognized.\n",
      "Keyword arguments {'return_attention_masks': True} not recognized.\n",
      "Keyword arguments {'return_attention_masks': True} not recognized.\n",
      "Keyword arguments {'return_attention_masks': True} not recognized.\n",
      "Keyword arguments {'return_attention_masks': True} not recognized.\n",
      "Keyword arguments {'return_attention_masks': True} not recognized.\n",
      "Keyword arguments {'return_attention_masks': True} not recognized.\n",
      "Keyword arguments {'return_attention_masks': True} not recognized.\n",
      "Keyword arguments {'return_attention_masks': True} not recognized.\n",
      "Keyword arguments {'return_attention_masks': True} not recognized.\n",
      "Keyword arguments {'return_attention_masks': True} not recognized.\n",
      "Keyword arguments {'return_attention_masks': True} not recognized.\n",
      "Keyword arguments {'return_attention_masks': True} not recognized.\n",
      "Keyword arguments {'return_attention_masks': True} not recognized.\n",
      "Keyword arguments {'return_attention_masks': True} not recognized.\n",
      "Keyword arguments {'return_attention_masks': True} not recognized.\n",
      "Keyword arguments {'return_attention_masks': True} not recognized.\n",
      "Keyword arguments {'return_attention_masks': True} not recognized.\n",
      "Keyword arguments {'return_attention_masks': True} not recognized.\n",
      "Keyword arguments {'return_attention_masks': True} not recognized.\n",
      "Keyword arguments {'return_attention_masks': True} not recognized.\n",
      "Keyword arguments {'return_attention_masks': True} not recognized.\n",
      "Keyword arguments {'return_attention_masks': True} not recognized.\n",
      "Keyword arguments {'return_attention_masks': True} not recognized.\n",
      "Keyword arguments {'return_attention_masks': True} not recognized.\n",
      "Keyword arguments {'return_attention_masks': True} not recognized.\n",
      "Keyword arguments {'return_attention_masks': True} not recognized.\n",
      "Keyword arguments {'return_attention_masks': True} not recognized.\n",
      "Keyword arguments {'return_attention_masks': True} not recognized.\n",
      "Keyword arguments {'return_attention_masks': True} not recognized.\n",
      "Keyword arguments {'return_attention_masks': True} not recognized.\n",
      "Keyword arguments {'return_attention_masks': True} not recognized.\n",
      "Keyword arguments {'return_attention_masks': True} not recognized.\n",
      "Keyword arguments {'return_attention_masks': True} not recognized.\n",
      "Keyword arguments {'return_attention_masks': True} not recognized.\n",
      "Keyword arguments {'return_attention_masks': True} not recognized.\n",
      "Keyword arguments {'return_attention_masks': True} not recognized.\n",
      "Keyword arguments {'return_attention_masks': True} not recognized.\n",
      "Keyword arguments {'return_attention_masks': True} not recognized.\n",
      "Keyword arguments {'return_attention_masks': True} not recognized.\n",
      "Keyword arguments {'return_attention_masks': True} not recognized.\n",
      "Keyword arguments {'return_attention_masks': True} not recognized.\n",
      "Keyword arguments {'return_attention_masks': True} not recognized.\n",
      "Keyword arguments {'return_attention_masks': True} not recognized.\n",
      "Keyword arguments {'return_attention_masks': True} not recognized.\n",
      "Keyword arguments {'return_attention_masks': True} not recognized.\n",
      "Keyword arguments {'return_attention_masks': True} not recognized.\n",
      "Keyword arguments {'return_attention_masks': True} not recognized.\n",
      "Keyword arguments {'return_attention_masks': True} not recognized.\n",
      "Keyword arguments {'return_attention_masks': True} not recognized.\n",
      "Keyword arguments {'return_attention_masks': True} not recognized.\n",
      "Keyword arguments {'return_attention_masks': True} not recognized.\n",
      "Keyword arguments {'return_attention_masks': True} not recognized.\n",
      "Keyword arguments {'return_attention_masks': True} not recognized.\n",
      "Keyword arguments {'return_attention_masks': True} not recognized.\n",
      "Keyword arguments {'return_attention_masks': True} not recognized.\n",
      "Keyword arguments {'return_attention_masks': True} not recognized.\n",
      "Keyword arguments {'return_attention_masks': True} not recognized.\n",
      "Keyword arguments {'return_attention_masks': True} not recognized.\n",
      "Keyword arguments {'return_attention_masks': True} not recognized.\n",
      "Keyword arguments {'return_attention_masks': True} not recognized.\n",
      "Keyword arguments {'return_attention_masks': True} not recognized.\n",
      "Keyword arguments {'return_attention_masks': True} not recognized.\n",
      "Keyword arguments {'return_attention_masks': True} not recognized.\n",
      "Keyword arguments {'return_attention_masks': True} not recognized.\n",
      "Keyword arguments {'return_attention_masks': True} not recognized.\n",
      "Keyword arguments {'return_attention_masks': True} not recognized.\n",
      "Keyword arguments {'return_attention_masks': True} not recognized.\n",
      "Keyword arguments {'return_attention_masks': True} not recognized.\n",
      "Keyword arguments {'return_attention_masks': True} not recognized.\n"
     ]
    },
    {
     "name": "stderr",
     "output_type": "stream",
     "text": [
      "Keyword arguments {'return_attention_masks': True} not recognized.\n",
      "Keyword arguments {'return_attention_masks': True} not recognized.\n",
      "Keyword arguments {'return_attention_masks': True} not recognized.\n",
      "Keyword arguments {'return_attention_masks': True} not recognized.\n",
      "Keyword arguments {'return_attention_masks': True} not recognized.\n",
      "Keyword arguments {'return_attention_masks': True} not recognized.\n",
      "Keyword arguments {'return_attention_masks': True} not recognized.\n",
      "Keyword arguments {'return_attention_masks': True} not recognized.\n",
      "Keyword arguments {'return_attention_masks': True} not recognized.\n",
      "Keyword arguments {'return_attention_masks': True} not recognized.\n",
      "Keyword arguments {'return_attention_masks': True} not recognized.\n",
      "Keyword arguments {'return_attention_masks': True} not recognized.\n",
      "Keyword arguments {'return_attention_masks': True} not recognized.\n",
      "Keyword arguments {'return_attention_masks': True} not recognized.\n",
      "Keyword arguments {'return_attention_masks': True} not recognized.\n",
      "Keyword arguments {'return_attention_masks': True} not recognized.\n",
      "Keyword arguments {'return_attention_masks': True} not recognized.\n",
      "Keyword arguments {'return_attention_masks': True} not recognized.\n",
      "Keyword arguments {'return_attention_masks': True} not recognized.\n",
      "Keyword arguments {'return_attention_masks': True} not recognized.\n",
      "Keyword arguments {'return_attention_masks': True} not recognized.\n",
      "Keyword arguments {'return_attention_masks': True} not recognized.\n",
      "Keyword arguments {'return_attention_masks': True} not recognized.\n",
      "Keyword arguments {'return_attention_masks': True} not recognized.\n",
      "Keyword arguments {'return_attention_masks': True} not recognized.\n",
      "Keyword arguments {'return_attention_masks': True} not recognized.\n",
      "Keyword arguments {'return_attention_masks': True} not recognized.\n",
      "Keyword arguments {'return_attention_masks': True} not recognized.\n",
      "Keyword arguments {'return_attention_masks': True} not recognized.\n",
      "Keyword arguments {'return_attention_masks': True} not recognized.\n",
      "Keyword arguments {'return_attention_masks': True} not recognized.\n",
      "Keyword arguments {'return_attention_masks': True} not recognized.\n",
      "Keyword arguments {'return_attention_masks': True} not recognized.\n",
      "Keyword arguments {'return_attention_masks': True} not recognized.\n",
      "Keyword arguments {'return_attention_masks': True} not recognized.\n",
      "Keyword arguments {'return_attention_masks': True} not recognized.\n",
      "Keyword arguments {'return_attention_masks': True} not recognized.\n",
      "Keyword arguments {'return_attention_masks': True} not recognized.\n",
      "Keyword arguments {'return_attention_masks': True} not recognized.\n",
      "Keyword arguments {'return_attention_masks': True} not recognized.\n",
      "Keyword arguments {'return_attention_masks': True} not recognized.\n",
      "Keyword arguments {'return_attention_masks': True} not recognized.\n",
      "Keyword arguments {'return_attention_masks': True} not recognized.\n",
      "Keyword arguments {'return_attention_masks': True} not recognized.\n",
      "Keyword arguments {'return_attention_masks': True} not recognized.\n",
      "Keyword arguments {'return_attention_masks': True} not recognized.\n",
      "Keyword arguments {'return_attention_masks': True} not recognized.\n",
      "Keyword arguments {'return_attention_masks': True} not recognized.\n",
      "Keyword arguments {'return_attention_masks': True} not recognized.\n",
      "Keyword arguments {'return_attention_masks': True} not recognized.\n",
      "Keyword arguments {'return_attention_masks': True} not recognized.\n",
      "Keyword arguments {'return_attention_masks': True} not recognized.\n",
      "Keyword arguments {'return_attention_masks': True} not recognized.\n",
      "Keyword arguments {'return_attention_masks': True} not recognized.\n",
      "Keyword arguments {'return_attention_masks': True} not recognized.\n",
      "Keyword arguments {'return_attention_masks': True} not recognized.\n",
      "Keyword arguments {'return_attention_masks': True} not recognized.\n",
      "Keyword arguments {'return_attention_masks': True} not recognized.\n",
      "Keyword arguments {'return_attention_masks': True} not recognized.\n",
      "Keyword arguments {'return_attention_masks': True} not recognized.\n",
      "Keyword arguments {'return_attention_masks': True} not recognized.\n",
      "Keyword arguments {'return_attention_masks': True} not recognized.\n",
      "Keyword arguments {'return_attention_masks': True} not recognized.\n",
      "Keyword arguments {'return_attention_masks': True} not recognized.\n",
      "Keyword arguments {'return_attention_masks': True} not recognized.\n",
      "Keyword arguments {'return_attention_masks': True} not recognized.\n",
      "Keyword arguments {'return_attention_masks': True} not recognized.\n",
      "Keyword arguments {'return_attention_masks': True} not recognized.\n",
      "Keyword arguments {'return_attention_masks': True} not recognized.\n",
      "Keyword arguments {'return_attention_masks': True} not recognized.\n",
      "Keyword arguments {'return_attention_masks': True} not recognized.\n",
      "Keyword arguments {'return_attention_masks': True} not recognized.\n",
      "Keyword arguments {'return_attention_masks': True} not recognized.\n",
      "Keyword arguments {'return_attention_masks': True} not recognized.\n",
      "Keyword arguments {'return_attention_masks': True} not recognized.\n",
      "Keyword arguments {'return_attention_masks': True} not recognized.\n",
      "Keyword arguments {'return_attention_masks': True} not recognized.\n",
      "Keyword arguments {'return_attention_masks': True} not recognized.\n",
      "Keyword arguments {'return_attention_masks': True} not recognized.\n",
      "Keyword arguments {'return_attention_masks': True} not recognized.\n",
      "Keyword arguments {'return_attention_masks': True} not recognized.\n",
      "Keyword arguments {'return_attention_masks': True} not recognized.\n",
      "Keyword arguments {'return_attention_masks': True} not recognized.\n",
      "Keyword arguments {'return_attention_masks': True} not recognized.\n",
      "Keyword arguments {'return_attention_masks': True} not recognized.\n",
      "Keyword arguments {'return_attention_masks': True} not recognized.\n",
      "Keyword arguments {'return_attention_masks': True} not recognized.\n",
      "Keyword arguments {'return_attention_masks': True} not recognized.\n",
      "Keyword arguments {'return_attention_masks': True} not recognized.\n",
      "Keyword arguments {'return_attention_masks': True} not recognized.\n",
      "Keyword arguments {'return_attention_masks': True} not recognized.\n",
      "Keyword arguments {'return_attention_masks': True} not recognized.\n",
      "Keyword arguments {'return_attention_masks': True} not recognized.\n",
      "Keyword arguments {'return_attention_masks': True} not recognized.\n",
      "Keyword arguments {'return_attention_masks': True} not recognized.\n",
      "Keyword arguments {'return_attention_masks': True} not recognized.\n",
      "Keyword arguments {'return_attention_masks': True} not recognized.\n",
      "Keyword arguments {'return_attention_masks': True} not recognized.\n",
      "Keyword arguments {'return_attention_masks': True} not recognized.\n",
      "Keyword arguments {'return_attention_masks': True} not recognized.\n",
      "Keyword arguments {'return_attention_masks': True} not recognized.\n",
      "Keyword arguments {'return_attention_masks': True} not recognized.\n",
      "Keyword arguments {'return_attention_masks': True} not recognized.\n",
      "Keyword arguments {'return_attention_masks': True} not recognized.\n",
      "Keyword arguments {'return_attention_masks': True} not recognized.\n",
      "Keyword arguments {'return_attention_masks': True} not recognized.\n",
      "Keyword arguments {'return_attention_masks': True} not recognized.\n",
      "Keyword arguments {'return_attention_masks': True} not recognized.\n",
      "Keyword arguments {'return_attention_masks': True} not recognized.\n",
      "Keyword arguments {'return_attention_masks': True} not recognized.\n",
      "Keyword arguments {'return_attention_masks': True} not recognized.\n",
      "Keyword arguments {'return_attention_masks': True} not recognized.\n",
      "Keyword arguments {'return_attention_masks': True} not recognized.\n",
      "Keyword arguments {'return_attention_masks': True} not recognized.\n",
      "Keyword arguments {'return_attention_masks': True} not recognized.\n",
      "Keyword arguments {'return_attention_masks': True} not recognized.\n",
      "Keyword arguments {'return_attention_masks': True} not recognized.\n",
      "Keyword arguments {'return_attention_masks': True} not recognized.\n",
      "Keyword arguments {'return_attention_masks': True} not recognized.\n",
      "Keyword arguments {'return_attention_masks': True} not recognized.\n",
      "Keyword arguments {'return_attention_masks': True} not recognized.\n",
      "Keyword arguments {'return_attention_masks': True} not recognized.\n",
      "Keyword arguments {'return_attention_masks': True} not recognized.\n"
     ]
    },
    {
     "name": "stderr",
     "output_type": "stream",
     "text": [
      "Keyword arguments {'return_attention_masks': True} not recognized.\n",
      "Keyword arguments {'return_attention_masks': True} not recognized.\n",
      "Keyword arguments {'return_attention_masks': True} not recognized.\n",
      "Keyword arguments {'return_attention_masks': True} not recognized.\n",
      "Keyword arguments {'return_attention_masks': True} not recognized.\n",
      "Keyword arguments {'return_attention_masks': True} not recognized.\n",
      "Keyword arguments {'return_attention_masks': True} not recognized.\n",
      "Keyword arguments {'return_attention_masks': True} not recognized.\n",
      "Keyword arguments {'return_attention_masks': True} not recognized.\n",
      "Keyword arguments {'return_attention_masks': True} not recognized.\n",
      "Keyword arguments {'return_attention_masks': True} not recognized.\n",
      "Keyword arguments {'return_attention_masks': True} not recognized.\n",
      "Keyword arguments {'return_attention_masks': True} not recognized.\n",
      "Keyword arguments {'return_attention_masks': True} not recognized.\n",
      "Keyword arguments {'return_attention_masks': True} not recognized.\n",
      "Keyword arguments {'return_attention_masks': True} not recognized.\n",
      "Keyword arguments {'return_attention_masks': True} not recognized.\n",
      "Keyword arguments {'return_attention_masks': True} not recognized.\n",
      "Keyword arguments {'return_attention_masks': True} not recognized.\n",
      "Keyword arguments {'return_attention_masks': True} not recognized.\n",
      "Keyword arguments {'return_attention_masks': True} not recognized.\n",
      "Keyword arguments {'return_attention_masks': True} not recognized.\n",
      "Keyword arguments {'return_attention_masks': True} not recognized.\n",
      "Keyword arguments {'return_attention_masks': True} not recognized.\n",
      "Keyword arguments {'return_attention_masks': True} not recognized.\n",
      "Keyword arguments {'return_attention_masks': True} not recognized.\n",
      "Keyword arguments {'return_attention_masks': True} not recognized.\n",
      "Keyword arguments {'return_attention_masks': True} not recognized.\n",
      "Keyword arguments {'return_attention_masks': True} not recognized.\n",
      "Keyword arguments {'return_attention_masks': True} not recognized.\n",
      "Keyword arguments {'return_attention_masks': True} not recognized.\n",
      "Keyword arguments {'return_attention_masks': True} not recognized.\n",
      "Keyword arguments {'return_attention_masks': True} not recognized.\n",
      "Keyword arguments {'return_attention_masks': True} not recognized.\n",
      "Keyword arguments {'return_attention_masks': True} not recognized.\n",
      "Keyword arguments {'return_attention_masks': True} not recognized.\n",
      "Keyword arguments {'return_attention_masks': True} not recognized.\n",
      "Keyword arguments {'return_attention_masks': True} not recognized.\n",
      "Keyword arguments {'return_attention_masks': True} not recognized.\n",
      "Keyword arguments {'return_attention_masks': True} not recognized.\n",
      "Keyword arguments {'return_attention_masks': True} not recognized.\n",
      "Keyword arguments {'return_attention_masks': True} not recognized.\n",
      "Keyword arguments {'return_attention_masks': True} not recognized.\n",
      "Keyword arguments {'return_attention_masks': True} not recognized.\n",
      "Keyword arguments {'return_attention_masks': True} not recognized.\n",
      "Keyword arguments {'return_attention_masks': True} not recognized.\n",
      "Keyword arguments {'return_attention_masks': True} not recognized.\n",
      "Keyword arguments {'return_attention_masks': True} not recognized.\n",
      "Keyword arguments {'return_attention_masks': True} not recognized.\n",
      "Keyword arguments {'return_attention_masks': True} not recognized.\n",
      "Keyword arguments {'return_attention_masks': True} not recognized.\n",
      "Keyword arguments {'return_attention_masks': True} not recognized.\n",
      "Keyword arguments {'return_attention_masks': True} not recognized.\n",
      "Keyword arguments {'return_attention_masks': True} not recognized.\n",
      "Keyword arguments {'return_attention_masks': True} not recognized.\n",
      "Keyword arguments {'return_attention_masks': True} not recognized.\n",
      "Keyword arguments {'return_attention_masks': True} not recognized.\n",
      "Keyword arguments {'return_attention_masks': True} not recognized.\n",
      "Keyword arguments {'return_attention_masks': True} not recognized.\n",
      "Keyword arguments {'return_attention_masks': True} not recognized.\n",
      "Keyword arguments {'return_attention_masks': True} not recognized.\n",
      "Keyword arguments {'return_attention_masks': True} not recognized.\n",
      "Keyword arguments {'return_attention_masks': True} not recognized.\n",
      "Keyword arguments {'return_attention_masks': True} not recognized.\n",
      "Keyword arguments {'return_attention_masks': True} not recognized.\n",
      "Keyword arguments {'return_attention_masks': True} not recognized.\n",
      "Keyword arguments {'return_attention_masks': True} not recognized.\n",
      "Keyword arguments {'return_attention_masks': True} not recognized.\n",
      "Keyword arguments {'return_attention_masks': True} not recognized.\n",
      "Keyword arguments {'return_attention_masks': True} not recognized.\n",
      "Keyword arguments {'return_attention_masks': True} not recognized.\n",
      "Keyword arguments {'return_attention_masks': True} not recognized.\n",
      "Keyword arguments {'return_attention_masks': True} not recognized.\n",
      "Keyword arguments {'return_attention_masks': True} not recognized.\n",
      "Keyword arguments {'return_attention_masks': True} not recognized.\n",
      "Keyword arguments {'return_attention_masks': True} not recognized.\n",
      "Keyword arguments {'return_attention_masks': True} not recognized.\n",
      "Keyword arguments {'return_attention_masks': True} not recognized.\n",
      "Keyword arguments {'return_attention_masks': True} not recognized.\n",
      "Keyword arguments {'return_attention_masks': True} not recognized.\n",
      "Keyword arguments {'return_attention_masks': True} not recognized.\n",
      "Keyword arguments {'return_attention_masks': True} not recognized.\n",
      "Keyword arguments {'return_attention_masks': True} not recognized.\n",
      "Keyword arguments {'return_attention_masks': True} not recognized.\n",
      "Keyword arguments {'return_attention_masks': True} not recognized.\n",
      "Keyword arguments {'return_attention_masks': True} not recognized.\n",
      "Keyword arguments {'return_attention_masks': True} not recognized.\n",
      "Keyword arguments {'return_attention_masks': True} not recognized.\n",
      "Keyword arguments {'return_attention_masks': True} not recognized.\n",
      "Keyword arguments {'return_attention_masks': True} not recognized.\n",
      "Keyword arguments {'return_attention_masks': True} not recognized.\n",
      "Keyword arguments {'return_attention_masks': True} not recognized.\n",
      "Keyword arguments {'return_attention_masks': True} not recognized.\n",
      "Keyword arguments {'return_attention_masks': True} not recognized.\n",
      "Keyword arguments {'return_attention_masks': True} not recognized.\n",
      "Keyword arguments {'return_attention_masks': True} not recognized.\n",
      "Keyword arguments {'return_attention_masks': True} not recognized.\n",
      "Keyword arguments {'return_attention_masks': True} not recognized.\n",
      "Keyword arguments {'return_attention_masks': True} not recognized.\n",
      "Keyword arguments {'return_attention_masks': True} not recognized.\n",
      "Keyword arguments {'return_attention_masks': True} not recognized.\n",
      "Keyword arguments {'return_attention_masks': True} not recognized.\n",
      "Keyword arguments {'return_attention_masks': True} not recognized.\n",
      "Keyword arguments {'return_attention_masks': True} not recognized.\n",
      "Keyword arguments {'return_attention_masks': True} not recognized.\n",
      "Keyword arguments {'return_attention_masks': True} not recognized.\n",
      "Keyword arguments {'return_attention_masks': True} not recognized.\n",
      "Keyword arguments {'return_attention_masks': True} not recognized.\n",
      "Keyword arguments {'return_attention_masks': True} not recognized.\n",
      "Keyword arguments {'return_attention_masks': True} not recognized.\n",
      "Keyword arguments {'return_attention_masks': True} not recognized.\n",
      "Keyword arguments {'return_attention_masks': True} not recognized.\n",
      "Keyword arguments {'return_attention_masks': True} not recognized.\n",
      "Keyword arguments {'return_attention_masks': True} not recognized.\n",
      "Keyword arguments {'return_attention_masks': True} not recognized.\n",
      "Keyword arguments {'return_attention_masks': True} not recognized.\n",
      "Keyword arguments {'return_attention_masks': True} not recognized.\n",
      "Keyword arguments {'return_attention_masks': True} not recognized.\n",
      "Keyword arguments {'return_attention_masks': True} not recognized.\n",
      "Keyword arguments {'return_attention_masks': True} not recognized.\n",
      "Keyword arguments {'return_attention_masks': True} not recognized.\n",
      "Keyword arguments {'return_attention_masks': True} not recognized.\n",
      "Keyword arguments {'return_attention_masks': True} not recognized.\n"
     ]
    },
    {
     "name": "stderr",
     "output_type": "stream",
     "text": [
      "Keyword arguments {'return_attention_masks': True} not recognized.\n",
      "Keyword arguments {'return_attention_masks': True} not recognized.\n",
      "Keyword arguments {'return_attention_masks': True} not recognized.\n",
      "Keyword arguments {'return_attention_masks': True} not recognized.\n",
      "Keyword arguments {'return_attention_masks': True} not recognized.\n",
      "Keyword arguments {'return_attention_masks': True} not recognized.\n",
      "Keyword arguments {'return_attention_masks': True} not recognized.\n",
      "Keyword arguments {'return_attention_masks': True} not recognized.\n",
      "Keyword arguments {'return_attention_masks': True} not recognized.\n",
      "Keyword arguments {'return_attention_masks': True} not recognized.\n",
      "Keyword arguments {'return_attention_masks': True} not recognized.\n",
      "Keyword arguments {'return_attention_masks': True} not recognized.\n",
      "Keyword arguments {'return_attention_masks': True} not recognized.\n",
      "Keyword arguments {'return_attention_masks': True} not recognized.\n",
      "Keyword arguments {'return_attention_masks': True} not recognized.\n",
      "Keyword arguments {'return_attention_masks': True} not recognized.\n",
      "Keyword arguments {'return_attention_masks': True} not recognized.\n",
      "Keyword arguments {'return_attention_masks': True} not recognized.\n",
      "Keyword arguments {'return_attention_masks': True} not recognized.\n",
      "Keyword arguments {'return_attention_masks': True} not recognized.\n",
      "Keyword arguments {'return_attention_masks': True} not recognized.\n",
      "Keyword arguments {'return_attention_masks': True} not recognized.\n",
      "Keyword arguments {'return_attention_masks': True} not recognized.\n",
      "Keyword arguments {'return_attention_masks': True} not recognized.\n",
      "Keyword arguments {'return_attention_masks': True} not recognized.\n",
      "Keyword arguments {'return_attention_masks': True} not recognized.\n",
      "Keyword arguments {'return_attention_masks': True} not recognized.\n",
      "Keyword arguments {'return_attention_masks': True} not recognized.\n",
      "Keyword arguments {'return_attention_masks': True} not recognized.\n",
      "Keyword arguments {'return_attention_masks': True} not recognized.\n",
      "Keyword arguments {'return_attention_masks': True} not recognized.\n",
      "Keyword arguments {'return_attention_masks': True} not recognized.\n",
      "Keyword arguments {'return_attention_masks': True} not recognized.\n",
      "Keyword arguments {'return_attention_masks': True} not recognized.\n",
      "Keyword arguments {'return_attention_masks': True} not recognized.\n",
      "Keyword arguments {'return_attention_masks': True} not recognized.\n",
      "Keyword arguments {'return_attention_masks': True} not recognized.\n",
      "Keyword arguments {'return_attention_masks': True} not recognized.\n",
      "Keyword arguments {'return_attention_masks': True} not recognized.\n",
      "Keyword arguments {'return_attention_masks': True} not recognized.\n",
      "Keyword arguments {'return_attention_masks': True} not recognized.\n",
      "Keyword arguments {'return_attention_masks': True} not recognized.\n",
      "Keyword arguments {'return_attention_masks': True} not recognized.\n",
      "Keyword arguments {'return_attention_masks': True} not recognized.\n",
      "Keyword arguments {'return_attention_masks': True} not recognized.\n",
      "Keyword arguments {'return_attention_masks': True} not recognized.\n",
      "Keyword arguments {'return_attention_masks': True} not recognized.\n",
      "Keyword arguments {'return_attention_masks': True} not recognized.\n",
      "Keyword arguments {'return_attention_masks': True} not recognized.\n",
      "Keyword arguments {'return_attention_masks': True} not recognized.\n",
      "Keyword arguments {'return_attention_masks': True} not recognized.\n",
      "Keyword arguments {'return_attention_masks': True} not recognized.\n",
      "Keyword arguments {'return_attention_masks': True} not recognized.\n",
      "Keyword arguments {'return_attention_masks': True} not recognized.\n",
      "Keyword arguments {'return_attention_masks': True} not recognized.\n",
      "Keyword arguments {'return_attention_masks': True} not recognized.\n",
      "Keyword arguments {'return_attention_masks': True} not recognized.\n",
      "Keyword arguments {'return_attention_masks': True} not recognized.\n",
      "Keyword arguments {'return_attention_masks': True} not recognized.\n",
      "Keyword arguments {'return_attention_masks': True} not recognized.\n",
      "Keyword arguments {'return_attention_masks': True} not recognized.\n",
      "Keyword arguments {'return_attention_masks': True} not recognized.\n",
      "Keyword arguments {'return_attention_masks': True} not recognized.\n",
      "Keyword arguments {'return_attention_masks': True} not recognized.\n",
      "Keyword arguments {'return_attention_masks': True} not recognized.\n",
      "Keyword arguments {'return_attention_masks': True} not recognized.\n",
      "Keyword arguments {'return_attention_masks': True} not recognized.\n",
      "Keyword arguments {'return_attention_masks': True} not recognized.\n",
      "Keyword arguments {'return_attention_masks': True} not recognized.\n",
      "Keyword arguments {'return_attention_masks': True} not recognized.\n",
      "Keyword arguments {'return_attention_masks': True} not recognized.\n",
      "Keyword arguments {'return_attention_masks': True} not recognized.\n",
      "Keyword arguments {'return_attention_masks': True} not recognized.\n",
      "Keyword arguments {'return_attention_masks': True} not recognized.\n",
      "Keyword arguments {'return_attention_masks': True} not recognized.\n",
      "Keyword arguments {'return_attention_masks': True} not recognized.\n",
      "Keyword arguments {'return_attention_masks': True} not recognized.\n",
      "Keyword arguments {'return_attention_masks': True} not recognized.\n",
      "Keyword arguments {'return_attention_masks': True} not recognized.\n",
      "Keyword arguments {'return_attention_masks': True} not recognized.\n",
      "Keyword arguments {'return_attention_masks': True} not recognized.\n",
      "Keyword arguments {'return_attention_masks': True} not recognized.\n",
      "Keyword arguments {'return_attention_masks': True} not recognized.\n",
      "Keyword arguments {'return_attention_masks': True} not recognized.\n",
      "Keyword arguments {'return_attention_masks': True} not recognized.\n",
      "Keyword arguments {'return_attention_masks': True} not recognized.\n",
      "Keyword arguments {'return_attention_masks': True} not recognized.\n",
      "Keyword arguments {'return_attention_masks': True} not recognized.\n",
      "Keyword arguments {'return_attention_masks': True} not recognized.\n",
      "Keyword arguments {'return_attention_masks': True} not recognized.\n",
      "Keyword arguments {'return_attention_masks': True} not recognized.\n",
      "Keyword arguments {'return_attention_masks': True} not recognized.\n",
      "Keyword arguments {'return_attention_masks': True} not recognized.\n",
      "Keyword arguments {'return_attention_masks': True} not recognized.\n",
      "Keyword arguments {'return_attention_masks': True} not recognized.\n",
      "Keyword arguments {'return_attention_masks': True} not recognized.\n",
      "Keyword arguments {'return_attention_masks': True} not recognized.\n",
      "Keyword arguments {'return_attention_masks': True} not recognized.\n",
      "Keyword arguments {'return_attention_masks': True} not recognized.\n",
      "Keyword arguments {'return_attention_masks': True} not recognized.\n",
      "Keyword arguments {'return_attention_masks': True} not recognized.\n",
      "Keyword arguments {'return_attention_masks': True} not recognized.\n",
      "Keyword arguments {'return_attention_masks': True} not recognized.\n",
      "Keyword arguments {'return_attention_masks': True} not recognized.\n",
      "Keyword arguments {'return_attention_masks': True} not recognized.\n",
      "Keyword arguments {'return_attention_masks': True} not recognized.\n",
      "Keyword arguments {'return_attention_masks': True} not recognized.\n",
      "Keyword arguments {'return_attention_masks': True} not recognized.\n",
      "Keyword arguments {'return_attention_masks': True} not recognized.\n",
      "Keyword arguments {'return_attention_masks': True} not recognized.\n",
      "Keyword arguments {'return_attention_masks': True} not recognized.\n",
      "Keyword arguments {'return_attention_masks': True} not recognized.\n",
      "Keyword arguments {'return_attention_masks': True} not recognized.\n",
      "Keyword arguments {'return_attention_masks': True} not recognized.\n",
      "Keyword arguments {'return_attention_masks': True} not recognized.\n",
      "Keyword arguments {'return_attention_masks': True} not recognized.\n",
      "Keyword arguments {'return_attention_masks': True} not recognized.\n",
      "Keyword arguments {'return_attention_masks': True} not recognized.\n",
      "Keyword arguments {'return_attention_masks': True} not recognized.\n",
      "Keyword arguments {'return_attention_masks': True} not recognized.\n",
      "Keyword arguments {'return_attention_masks': True} not recognized.\n",
      "Keyword arguments {'return_attention_masks': True} not recognized.\n",
      "Keyword arguments {'return_attention_masks': True} not recognized.\n"
     ]
    },
    {
     "name": "stderr",
     "output_type": "stream",
     "text": [
      "Keyword arguments {'return_attention_masks': True} not recognized.\n",
      "Keyword arguments {'return_attention_masks': True} not recognized.\n",
      "Keyword arguments {'return_attention_masks': True} not recognized.\n",
      "Keyword arguments {'return_attention_masks': True} not recognized.\n",
      "Keyword arguments {'return_attention_masks': True} not recognized.\n",
      "Keyword arguments {'return_attention_masks': True} not recognized.\n",
      "Keyword arguments {'return_attention_masks': True} not recognized.\n",
      "Keyword arguments {'return_attention_masks': True} not recognized.\n",
      "Keyword arguments {'return_attention_masks': True} not recognized.\n",
      "Keyword arguments {'return_attention_masks': True} not recognized.\n",
      "Keyword arguments {'return_attention_masks': True} not recognized.\n",
      "Keyword arguments {'return_attention_masks': True} not recognized.\n",
      "Keyword arguments {'return_attention_masks': True} not recognized.\n",
      "Keyword arguments {'return_attention_masks': True} not recognized.\n",
      "Keyword arguments {'return_attention_masks': True} not recognized.\n",
      "Keyword arguments {'return_attention_masks': True} not recognized.\n",
      "Keyword arguments {'return_attention_masks': True} not recognized.\n",
      "Keyword arguments {'return_attention_masks': True} not recognized.\n",
      "Keyword arguments {'return_attention_masks': True} not recognized.\n",
      "Keyword arguments {'return_attention_masks': True} not recognized.\n",
      "Keyword arguments {'return_attention_masks': True} not recognized.\n",
      "Keyword arguments {'return_attention_masks': True} not recognized.\n",
      "Keyword arguments {'return_attention_masks': True} not recognized.\n",
      "Keyword arguments {'return_attention_masks': True} not recognized.\n",
      "Keyword arguments {'return_attention_masks': True} not recognized.\n",
      "Keyword arguments {'return_attention_masks': True} not recognized.\n",
      "Keyword arguments {'return_attention_masks': True} not recognized.\n",
      "Keyword arguments {'return_attention_masks': True} not recognized.\n",
      "Keyword arguments {'return_attention_masks': True} not recognized.\n",
      "Keyword arguments {'return_attention_masks': True} not recognized.\n",
      "Keyword arguments {'return_attention_masks': True} not recognized.\n",
      "Keyword arguments {'return_attention_masks': True} not recognized.\n",
      "Keyword arguments {'return_attention_masks': True} not recognized.\n",
      "Keyword arguments {'return_attention_masks': True} not recognized.\n",
      "Keyword arguments {'return_attention_masks': True} not recognized.\n",
      "Keyword arguments {'return_attention_masks': True} not recognized.\n",
      "Keyword arguments {'return_attention_masks': True} not recognized.\n",
      "Keyword arguments {'return_attention_masks': True} not recognized.\n",
      "Keyword arguments {'return_attention_masks': True} not recognized.\n",
      "Keyword arguments {'return_attention_masks': True} not recognized.\n",
      "Keyword arguments {'return_attention_masks': True} not recognized.\n",
      "Keyword arguments {'return_attention_masks': True} not recognized.\n",
      "Keyword arguments {'return_attention_masks': True} not recognized.\n",
      "Keyword arguments {'return_attention_masks': True} not recognized.\n",
      "Keyword arguments {'return_attention_masks': True} not recognized.\n",
      "Keyword arguments {'return_attention_masks': True} not recognized.\n",
      "Keyword arguments {'return_attention_masks': True} not recognized.\n",
      "Keyword arguments {'return_attention_masks': True} not recognized.\n",
      "Keyword arguments {'return_attention_masks': True} not recognized.\n",
      "Keyword arguments {'return_attention_masks': True} not recognized.\n",
      "Keyword arguments {'return_attention_masks': True} not recognized.\n",
      "Keyword arguments {'return_attention_masks': True} not recognized.\n",
      "Keyword arguments {'return_attention_masks': True} not recognized.\n",
      "Keyword arguments {'return_attention_masks': True} not recognized.\n",
      "Keyword arguments {'return_attention_masks': True} not recognized.\n",
      "Keyword arguments {'return_attention_masks': True} not recognized.\n",
      "Keyword arguments {'return_attention_masks': True} not recognized.\n",
      "Keyword arguments {'return_attention_masks': True} not recognized.\n",
      "Keyword arguments {'return_attention_masks': True} not recognized.\n",
      "Keyword arguments {'return_attention_masks': True} not recognized.\n",
      "Keyword arguments {'return_attention_masks': True} not recognized.\n",
      "Keyword arguments {'return_attention_masks': True} not recognized.\n",
      "Keyword arguments {'return_attention_masks': True} not recognized.\n",
      "Keyword arguments {'return_attention_masks': True} not recognized.\n",
      "Keyword arguments {'return_attention_masks': True} not recognized.\n",
      "Keyword arguments {'return_attention_masks': True} not recognized.\n",
      "Keyword arguments {'return_attention_masks': True} not recognized.\n",
      "Keyword arguments {'return_attention_masks': True} not recognized.\n",
      "Keyword arguments {'return_attention_masks': True} not recognized.\n",
      "Keyword arguments {'return_attention_masks': True} not recognized.\n",
      "Keyword arguments {'return_attention_masks': True} not recognized.\n",
      "Keyword arguments {'return_attention_masks': True} not recognized.\n",
      "Keyword arguments {'return_attention_masks': True} not recognized.\n",
      "Keyword arguments {'return_attention_masks': True} not recognized.\n",
      "Keyword arguments {'return_attention_masks': True} not recognized.\n",
      "Keyword arguments {'return_attention_masks': True} not recognized.\n",
      "Keyword arguments {'return_attention_masks': True} not recognized.\n",
      "Keyword arguments {'return_attention_masks': True} not recognized.\n",
      "Keyword arguments {'return_attention_masks': True} not recognized.\n",
      "Keyword arguments {'return_attention_masks': True} not recognized.\n",
      "Keyword arguments {'return_attention_masks': True} not recognized.\n",
      "Keyword arguments {'return_attention_masks': True} not recognized.\n",
      "Keyword arguments {'return_attention_masks': True} not recognized.\n",
      "Keyword arguments {'return_attention_masks': True} not recognized.\n",
      "Keyword arguments {'return_attention_masks': True} not recognized.\n",
      "Keyword arguments {'return_attention_masks': True} not recognized.\n",
      "Keyword arguments {'return_attention_masks': True} not recognized.\n",
      "Keyword arguments {'return_attention_masks': True} not recognized.\n",
      "Keyword arguments {'return_attention_masks': True} not recognized.\n",
      "Keyword arguments {'return_attention_masks': True} not recognized.\n",
      "Keyword arguments {'return_attention_masks': True} not recognized.\n",
      "Keyword arguments {'return_attention_masks': True} not recognized.\n",
      "Keyword arguments {'return_attention_masks': True} not recognized.\n",
      "Keyword arguments {'return_attention_masks': True} not recognized.\n",
      "Keyword arguments {'return_attention_masks': True} not recognized.\n",
      "Keyword arguments {'return_attention_masks': True} not recognized.\n",
      "Keyword arguments {'return_attention_masks': True} not recognized.\n",
      "Keyword arguments {'return_attention_masks': True} not recognized.\n",
      "Keyword arguments {'return_attention_masks': True} not recognized.\n",
      "Keyword arguments {'return_attention_masks': True} not recognized.\n",
      "Keyword arguments {'return_attention_masks': True} not recognized.\n",
      "Keyword arguments {'return_attention_masks': True} not recognized.\n",
      "Keyword arguments {'return_attention_masks': True} not recognized.\n",
      "Keyword arguments {'return_attention_masks': True} not recognized.\n",
      "Keyword arguments {'return_attention_masks': True} not recognized.\n",
      "Keyword arguments {'return_attention_masks': True} not recognized.\n",
      "Keyword arguments {'return_attention_masks': True} not recognized.\n",
      "Keyword arguments {'return_attention_masks': True} not recognized.\n",
      "Keyword arguments {'return_attention_masks': True} not recognized.\n",
      "Keyword arguments {'return_attention_masks': True} not recognized.\n",
      "Keyword arguments {'return_attention_masks': True} not recognized.\n",
      "Keyword arguments {'return_attention_masks': True} not recognized.\n",
      "Keyword arguments {'return_attention_masks': True} not recognized.\n",
      "Keyword arguments {'return_attention_masks': True} not recognized.\n",
      "Keyword arguments {'return_attention_masks': True} not recognized.\n",
      "Keyword arguments {'return_attention_masks': True} not recognized.\n",
      "Keyword arguments {'return_attention_masks': True} not recognized.\n",
      "Keyword arguments {'return_attention_masks': True} not recognized.\n",
      "Keyword arguments {'return_attention_masks': True} not recognized.\n",
      "Keyword arguments {'return_attention_masks': True} not recognized.\n",
      "Keyword arguments {'return_attention_masks': True} not recognized.\n",
      "Keyword arguments {'return_attention_masks': True} not recognized.\n",
      "Keyword arguments {'return_attention_masks': True} not recognized.\n"
     ]
    },
    {
     "name": "stderr",
     "output_type": "stream",
     "text": [
      "Keyword arguments {'return_attention_masks': True} not recognized.\n",
      "Keyword arguments {'return_attention_masks': True} not recognized.\n",
      "Keyword arguments {'return_attention_masks': True} not recognized.\n",
      "Keyword arguments {'return_attention_masks': True} not recognized.\n",
      "Keyword arguments {'return_attention_masks': True} not recognized.\n",
      "Keyword arguments {'return_attention_masks': True} not recognized.\n",
      "Keyword arguments {'return_attention_masks': True} not recognized.\n",
      "Keyword arguments {'return_attention_masks': True} not recognized.\n",
      "Keyword arguments {'return_attention_masks': True} not recognized.\n",
      "Keyword arguments {'return_attention_masks': True} not recognized.\n",
      "Keyword arguments {'return_attention_masks': True} not recognized.\n",
      "Keyword arguments {'return_attention_masks': True} not recognized.\n",
      "Keyword arguments {'return_attention_masks': True} not recognized.\n",
      "Keyword arguments {'return_attention_masks': True} not recognized.\n",
      "Keyword arguments {'return_attention_masks': True} not recognized.\n",
      "Keyword arguments {'return_attention_masks': True} not recognized.\n",
      "Keyword arguments {'return_attention_masks': True} not recognized.\n",
      "Keyword arguments {'return_attention_masks': True} not recognized.\n",
      "Keyword arguments {'return_attention_masks': True} not recognized.\n",
      "Keyword arguments {'return_attention_masks': True} not recognized.\n",
      "Keyword arguments {'return_attention_masks': True} not recognized.\n",
      "Keyword arguments {'return_attention_masks': True} not recognized.\n",
      "Keyword arguments {'return_attention_masks': True} not recognized.\n",
      "Keyword arguments {'return_attention_masks': True} not recognized.\n",
      "Keyword arguments {'return_attention_masks': True} not recognized.\n",
      "Keyword arguments {'return_attention_masks': True} not recognized.\n",
      "Keyword arguments {'return_attention_masks': True} not recognized.\n",
      "Keyword arguments {'return_attention_masks': True} not recognized.\n",
      "Keyword arguments {'return_attention_masks': True} not recognized.\n",
      "Keyword arguments {'return_attention_masks': True} not recognized.\n",
      "Keyword arguments {'return_attention_masks': True} not recognized.\n",
      "Keyword arguments {'return_attention_masks': True} not recognized.\n",
      "Keyword arguments {'return_attention_masks': True} not recognized.\n",
      "Keyword arguments {'return_attention_masks': True} not recognized.\n",
      "Keyword arguments {'return_attention_masks': True} not recognized.\n",
      "Keyword arguments {'return_attention_masks': True} not recognized.\n",
      "Keyword arguments {'return_attention_masks': True} not recognized.\n",
      "Keyword arguments {'return_attention_masks': True} not recognized.\n",
      "Keyword arguments {'return_attention_masks': True} not recognized.\n",
      "Keyword arguments {'return_attention_masks': True} not recognized.\n",
      "Keyword arguments {'return_attention_masks': True} not recognized.\n",
      "Keyword arguments {'return_attention_masks': True} not recognized.\n",
      "Keyword arguments {'return_attention_masks': True} not recognized.\n",
      "Keyword arguments {'return_attention_masks': True} not recognized.\n",
      "Keyword arguments {'return_attention_masks': True} not recognized.\n",
      "Keyword arguments {'return_attention_masks': True} not recognized.\n",
      "Keyword arguments {'return_attention_masks': True} not recognized.\n",
      "Keyword arguments {'return_attention_masks': True} not recognized.\n",
      "Keyword arguments {'return_attention_masks': True} not recognized.\n",
      "Keyword arguments {'return_attention_masks': True} not recognized.\n",
      "Keyword arguments {'return_attention_masks': True} not recognized.\n",
      "Keyword arguments {'return_attention_masks': True} not recognized.\n",
      "Keyword arguments {'return_attention_masks': True} not recognized.\n",
      "Keyword arguments {'return_attention_masks': True} not recognized.\n",
      "Keyword arguments {'return_attention_masks': True} not recognized.\n",
      "Keyword arguments {'return_attention_masks': True} not recognized.\n",
      "Keyword arguments {'return_attention_masks': True} not recognized.\n",
      "Keyword arguments {'return_attention_masks': True} not recognized.\n",
      "Keyword arguments {'return_attention_masks': True} not recognized.\n",
      "Keyword arguments {'return_attention_masks': True} not recognized.\n",
      "Keyword arguments {'return_attention_masks': True} not recognized.\n",
      "Keyword arguments {'return_attention_masks': True} not recognized.\n",
      "Keyword arguments {'return_attention_masks': True} not recognized.\n",
      "Keyword arguments {'return_attention_masks': True} not recognized.\n",
      "Keyword arguments {'return_attention_masks': True} not recognized.\n",
      "Keyword arguments {'return_attention_masks': True} not recognized.\n",
      "Keyword arguments {'return_attention_masks': True} not recognized.\n",
      "Keyword arguments {'return_attention_masks': True} not recognized.\n",
      "Keyword arguments {'return_attention_masks': True} not recognized.\n",
      "Keyword arguments {'return_attention_masks': True} not recognized.\n",
      "Keyword arguments {'return_attention_masks': True} not recognized.\n",
      "Keyword arguments {'return_attention_masks': True} not recognized.\n",
      "Keyword arguments {'return_attention_masks': True} not recognized.\n",
      "Keyword arguments {'return_attention_masks': True} not recognized.\n",
      "Keyword arguments {'return_attention_masks': True} not recognized.\n",
      "Keyword arguments {'return_attention_masks': True} not recognized.\n",
      "Keyword arguments {'return_attention_masks': True} not recognized.\n",
      "Keyword arguments {'return_attention_masks': True} not recognized.\n",
      "Keyword arguments {'return_attention_masks': True} not recognized.\n",
      "Keyword arguments {'return_attention_masks': True} not recognized.\n",
      "Keyword arguments {'return_attention_masks': True} not recognized.\n",
      "Keyword arguments {'return_attention_masks': True} not recognized.\n",
      "Keyword arguments {'return_attention_masks': True} not recognized.\n",
      "Keyword arguments {'return_attention_masks': True} not recognized.\n",
      "Keyword arguments {'return_attention_masks': True} not recognized.\n",
      "Keyword arguments {'return_attention_masks': True} not recognized.\n",
      "Keyword arguments {'return_attention_masks': True} not recognized.\n",
      "Keyword arguments {'return_attention_masks': True} not recognized.\n",
      "Keyword arguments {'return_attention_masks': True} not recognized.\n",
      "Keyword arguments {'return_attention_masks': True} not recognized.\n",
      "Keyword arguments {'return_attention_masks': True} not recognized.\n",
      "Keyword arguments {'return_attention_masks': True} not recognized.\n",
      "Keyword arguments {'return_attention_masks': True} not recognized.\n",
      "Keyword arguments {'return_attention_masks': True} not recognized.\n",
      "Keyword arguments {'return_attention_masks': True} not recognized.\n",
      "Keyword arguments {'return_attention_masks': True} not recognized.\n",
      "Keyword arguments {'return_attention_masks': True} not recognized.\n",
      "Keyword arguments {'return_attention_masks': True} not recognized.\n",
      "Keyword arguments {'return_attention_masks': True} not recognized.\n",
      "Keyword arguments {'return_attention_masks': True} not recognized.\n",
      "Keyword arguments {'return_attention_masks': True} not recognized.\n",
      "Keyword arguments {'return_attention_masks': True} not recognized.\n",
      "Keyword arguments {'return_attention_masks': True} not recognized.\n",
      "Keyword arguments {'return_attention_masks': True} not recognized.\n",
      "Keyword arguments {'return_attention_masks': True} not recognized.\n",
      "Keyword arguments {'return_attention_masks': True} not recognized.\n",
      "Keyword arguments {'return_attention_masks': True} not recognized.\n",
      "Keyword arguments {'return_attention_masks': True} not recognized.\n",
      "Keyword arguments {'return_attention_masks': True} not recognized.\n",
      "Keyword arguments {'return_attention_masks': True} not recognized.\n",
      "Keyword arguments {'return_attention_masks': True} not recognized.\n",
      "Keyword arguments {'return_attention_masks': True} not recognized.\n",
      "Keyword arguments {'return_attention_masks': True} not recognized.\n",
      "Keyword arguments {'return_attention_masks': True} not recognized.\n",
      "Keyword arguments {'return_attention_masks': True} not recognized.\n",
      "Keyword arguments {'return_attention_masks': True} not recognized.\n",
      "Keyword arguments {'return_attention_masks': True} not recognized.\n",
      "Keyword arguments {'return_attention_masks': True} not recognized.\n",
      "Keyword arguments {'return_attention_masks': True} not recognized.\n",
      "Keyword arguments {'return_attention_masks': True} not recognized.\n",
      "Keyword arguments {'return_attention_masks': True} not recognized.\n",
      "Keyword arguments {'return_attention_masks': True} not recognized.\n",
      "Keyword arguments {'return_attention_masks': True} not recognized.\n"
     ]
    },
    {
     "name": "stderr",
     "output_type": "stream",
     "text": [
      "Keyword arguments {'return_attention_masks': True} not recognized.\n",
      "Keyword arguments {'return_attention_masks': True} not recognized.\n",
      "Keyword arguments {'return_attention_masks': True} not recognized.\n",
      "Keyword arguments {'return_attention_masks': True} not recognized.\n",
      "Keyword arguments {'return_attention_masks': True} not recognized.\n",
      "Keyword arguments {'return_attention_masks': True} not recognized.\n",
      "Keyword arguments {'return_attention_masks': True} not recognized.\n",
      "Keyword arguments {'return_attention_masks': True} not recognized.\n",
      "Keyword arguments {'return_attention_masks': True} not recognized.\n",
      "Keyword arguments {'return_attention_masks': True} not recognized.\n",
      "Keyword arguments {'return_attention_masks': True} not recognized.\n",
      "Keyword arguments {'return_attention_masks': True} not recognized.\n",
      "Keyword arguments {'return_attention_masks': True} not recognized.\n",
      "Keyword arguments {'return_attention_masks': True} not recognized.\n",
      "Keyword arguments {'return_attention_masks': True} not recognized.\n",
      "Keyword arguments {'return_attention_masks': True} not recognized.\n",
      "Keyword arguments {'return_attention_masks': True} not recognized.\n",
      "Keyword arguments {'return_attention_masks': True} not recognized.\n",
      "Keyword arguments {'return_attention_masks': True} not recognized.\n",
      "Keyword arguments {'return_attention_masks': True} not recognized.\n",
      "Keyword arguments {'return_attention_masks': True} not recognized.\n",
      "Keyword arguments {'return_attention_masks': True} not recognized.\n",
      "Keyword arguments {'return_attention_masks': True} not recognized.\n",
      "Keyword arguments {'return_attention_masks': True} not recognized.\n",
      "Keyword arguments {'return_attention_masks': True} not recognized.\n",
      "Keyword arguments {'return_attention_masks': True} not recognized.\n",
      "Keyword arguments {'return_attention_masks': True} not recognized.\n",
      "Keyword arguments {'return_attention_masks': True} not recognized.\n",
      "Keyword arguments {'return_attention_masks': True} not recognized.\n",
      "Keyword arguments {'return_attention_masks': True} not recognized.\n",
      "Keyword arguments {'return_attention_masks': True} not recognized.\n",
      "Keyword arguments {'return_attention_masks': True} not recognized.\n",
      "Keyword arguments {'return_attention_masks': True} not recognized.\n",
      "Keyword arguments {'return_attention_masks': True} not recognized.\n",
      "Keyword arguments {'return_attention_masks': True} not recognized.\n",
      "Keyword arguments {'return_attention_masks': True} not recognized.\n",
      "Keyword arguments {'return_attention_masks': True} not recognized.\n",
      "Keyword arguments {'return_attention_masks': True} not recognized.\n",
      "Keyword arguments {'return_attention_masks': True} not recognized.\n",
      "Keyword arguments {'return_attention_masks': True} not recognized.\n",
      "Keyword arguments {'return_attention_masks': True} not recognized.\n",
      "Keyword arguments {'return_attention_masks': True} not recognized.\n",
      "Keyword arguments {'return_attention_masks': True} not recognized.\n",
      "Keyword arguments {'return_attention_masks': True} not recognized.\n",
      "Keyword arguments {'return_attention_masks': True} not recognized.\n",
      "Keyword arguments {'return_attention_masks': True} not recognized.\n",
      "Keyword arguments {'return_attention_masks': True} not recognized.\n",
      "Keyword arguments {'return_attention_masks': True} not recognized.\n",
      "Keyword arguments {'return_attention_masks': True} not recognized.\n",
      "Keyword arguments {'return_attention_masks': True} not recognized.\n",
      "Keyword arguments {'return_attention_masks': True} not recognized.\n",
      "Keyword arguments {'return_attention_masks': True} not recognized.\n",
      "Keyword arguments {'return_attention_masks': True} not recognized.\n",
      "Keyword arguments {'return_attention_masks': True} not recognized.\n",
      "Keyword arguments {'return_attention_masks': True} not recognized.\n",
      "Keyword arguments {'return_attention_masks': True} not recognized.\n",
      "Keyword arguments {'return_attention_masks': True} not recognized.\n",
      "Keyword arguments {'return_attention_masks': True} not recognized.\n",
      "Keyword arguments {'return_attention_masks': True} not recognized.\n",
      "Keyword arguments {'return_attention_masks': True} not recognized.\n",
      "Keyword arguments {'return_attention_masks': True} not recognized.\n",
      "Keyword arguments {'return_attention_masks': True} not recognized.\n",
      "Keyword arguments {'return_attention_masks': True} not recognized.\n",
      "Keyword arguments {'return_attention_masks': True} not recognized.\n",
      "Keyword arguments {'return_attention_masks': True} not recognized.\n",
      "Keyword arguments {'return_attention_masks': True} not recognized.\n",
      "Keyword arguments {'return_attention_masks': True} not recognized.\n",
      "Keyword arguments {'return_attention_masks': True} not recognized.\n",
      "Keyword arguments {'return_attention_masks': True} not recognized.\n",
      "Keyword arguments {'return_attention_masks': True} not recognized.\n",
      "Keyword arguments {'return_attention_masks': True} not recognized.\n",
      "Keyword arguments {'return_attention_masks': True} not recognized.\n",
      "Keyword arguments {'return_attention_masks': True} not recognized.\n",
      "Keyword arguments {'return_attention_masks': True} not recognized.\n",
      "Keyword arguments {'return_attention_masks': True} not recognized.\n",
      "Keyword arguments {'return_attention_masks': True} not recognized.\n",
      "Keyword arguments {'return_attention_masks': True} not recognized.\n",
      "Keyword arguments {'return_attention_masks': True} not recognized.\n",
      "Keyword arguments {'return_attention_masks': True} not recognized.\n",
      "Keyword arguments {'return_attention_masks': True} not recognized.\n",
      "Keyword arguments {'return_attention_masks': True} not recognized.\n",
      "Keyword arguments {'return_attention_masks': True} not recognized.\n",
      "Keyword arguments {'return_attention_masks': True} not recognized.\n",
      "Keyword arguments {'return_attention_masks': True} not recognized.\n",
      "Keyword arguments {'return_attention_masks': True} not recognized.\n",
      "Keyword arguments {'return_attention_masks': True} not recognized.\n",
      "Keyword arguments {'return_attention_masks': True} not recognized.\n",
      "Keyword arguments {'return_attention_masks': True} not recognized.\n",
      "Keyword arguments {'return_attention_masks': True} not recognized.\n",
      "Keyword arguments {'return_attention_masks': True} not recognized.\n",
      "Keyword arguments {'return_attention_masks': True} not recognized.\n",
      "Keyword arguments {'return_attention_masks': True} not recognized.\n",
      "Keyword arguments {'return_attention_masks': True} not recognized.\n",
      "Keyword arguments {'return_attention_masks': True} not recognized.\n",
      "Keyword arguments {'return_attention_masks': True} not recognized.\n",
      "Keyword arguments {'return_attention_masks': True} not recognized.\n",
      "Keyword arguments {'return_attention_masks': True} not recognized.\n",
      "Keyword arguments {'return_attention_masks': True} not recognized.\n",
      "Keyword arguments {'return_attention_masks': True} not recognized.\n",
      "Keyword arguments {'return_attention_masks': True} not recognized.\n",
      "Keyword arguments {'return_attention_masks': True} not recognized.\n",
      "Keyword arguments {'return_attention_masks': True} not recognized.\n",
      "Keyword arguments {'return_attention_masks': True} not recognized.\n",
      "Keyword arguments {'return_attention_masks': True} not recognized.\n",
      "Keyword arguments {'return_attention_masks': True} not recognized.\n",
      "Keyword arguments {'return_attention_masks': True} not recognized.\n",
      "Keyword arguments {'return_attention_masks': True} not recognized.\n",
      "Keyword arguments {'return_attention_masks': True} not recognized.\n",
      "Keyword arguments {'return_attention_masks': True} not recognized.\n",
      "Keyword arguments {'return_attention_masks': True} not recognized.\n",
      "Keyword arguments {'return_attention_masks': True} not recognized.\n",
      "Keyword arguments {'return_attention_masks': True} not recognized.\n",
      "Keyword arguments {'return_attention_masks': True} not recognized.\n",
      "Keyword arguments {'return_attention_masks': True} not recognized.\n",
      "Keyword arguments {'return_attention_masks': True} not recognized.\n",
      "Keyword arguments {'return_attention_masks': True} not recognized.\n",
      "Keyword arguments {'return_attention_masks': True} not recognized.\n",
      "Keyword arguments {'return_attention_masks': True} not recognized.\n",
      "Keyword arguments {'return_attention_masks': True} not recognized.\n",
      "Keyword arguments {'return_attention_masks': True} not recognized.\n",
      "Keyword arguments {'return_attention_masks': True} not recognized.\n",
      "Keyword arguments {'return_attention_masks': True} not recognized.\n",
      "Keyword arguments {'return_attention_masks': True} not recognized.\n"
     ]
    },
    {
     "name": "stderr",
     "output_type": "stream",
     "text": [
      "Keyword arguments {'return_attention_masks': True} not recognized.\n",
      "Keyword arguments {'return_attention_masks': True} not recognized.\n",
      "Keyword arguments {'return_attention_masks': True} not recognized.\n",
      "Keyword arguments {'return_attention_masks': True} not recognized.\n",
      "Keyword arguments {'return_attention_masks': True} not recognized.\n",
      "Keyword arguments {'return_attention_masks': True} not recognized.\n",
      "Keyword arguments {'return_attention_masks': True} not recognized.\n",
      "Keyword arguments {'return_attention_masks': True} not recognized.\n",
      "Keyword arguments {'return_attention_masks': True} not recognized.\n",
      "Keyword arguments {'return_attention_masks': True} not recognized.\n",
      "Keyword arguments {'return_attention_masks': True} not recognized.\n",
      "Keyword arguments {'return_attention_masks': True} not recognized.\n",
      "Keyword arguments {'return_attention_masks': True} not recognized.\n",
      "Keyword arguments {'return_attention_masks': True} not recognized.\n",
      "Keyword arguments {'return_attention_masks': True} not recognized.\n",
      "Keyword arguments {'return_attention_masks': True} not recognized.\n",
      "Keyword arguments {'return_attention_masks': True} not recognized.\n",
      "Keyword arguments {'return_attention_masks': True} not recognized.\n",
      "Keyword arguments {'return_attention_masks': True} not recognized.\n",
      "Keyword arguments {'return_attention_masks': True} not recognized.\n",
      "Keyword arguments {'return_attention_masks': True} not recognized.\n",
      "Keyword arguments {'return_attention_masks': True} not recognized.\n",
      "Keyword arguments {'return_attention_masks': True} not recognized.\n",
      "Keyword arguments {'return_attention_masks': True} not recognized.\n",
      "Keyword arguments {'return_attention_masks': True} not recognized.\n",
      "Keyword arguments {'return_attention_masks': True} not recognized.\n",
      "Keyword arguments {'return_attention_masks': True} not recognized.\n",
      "Keyword arguments {'return_attention_masks': True} not recognized.\n",
      "Keyword arguments {'return_attention_masks': True} not recognized.\n",
      "Keyword arguments {'return_attention_masks': True} not recognized.\n",
      "Keyword arguments {'return_attention_masks': True} not recognized.\n",
      "Keyword arguments {'return_attention_masks': True} not recognized.\n",
      "Keyword arguments {'return_attention_masks': True} not recognized.\n",
      "Keyword arguments {'return_attention_masks': True} not recognized.\n",
      "Keyword arguments {'return_attention_masks': True} not recognized.\n",
      "Keyword arguments {'return_attention_masks': True} not recognized.\n",
      "Keyword arguments {'return_attention_masks': True} not recognized.\n",
      "Keyword arguments {'return_attention_masks': True} not recognized.\n",
      "Keyword arguments {'return_attention_masks': True} not recognized.\n",
      "Keyword arguments {'return_attention_masks': True} not recognized.\n",
      "Keyword arguments {'return_attention_masks': True} not recognized.\n",
      "Keyword arguments {'return_attention_masks': True} not recognized.\n",
      "Keyword arguments {'return_attention_masks': True} not recognized.\n",
      "Keyword arguments {'return_attention_masks': True} not recognized.\n",
      "Keyword arguments {'return_attention_masks': True} not recognized.\n",
      "Keyword arguments {'return_attention_masks': True} not recognized.\n",
      "Keyword arguments {'return_attention_masks': True} not recognized.\n",
      "Keyword arguments {'return_attention_masks': True} not recognized.\n",
      "Keyword arguments {'return_attention_masks': True} not recognized.\n",
      "Keyword arguments {'return_attention_masks': True} not recognized.\n",
      "Keyword arguments {'return_attention_masks': True} not recognized.\n",
      "Keyword arguments {'return_attention_masks': True} not recognized.\n",
      "Keyword arguments {'return_attention_masks': True} not recognized.\n",
      "Keyword arguments {'return_attention_masks': True} not recognized.\n",
      "Keyword arguments {'return_attention_masks': True} not recognized.\n",
      "Keyword arguments {'return_attention_masks': True} not recognized.\n",
      "Keyword arguments {'return_attention_masks': True} not recognized.\n",
      "Keyword arguments {'return_attention_masks': True} not recognized.\n",
      "Keyword arguments {'return_attention_masks': True} not recognized.\n",
      "Keyword arguments {'return_attention_masks': True} not recognized.\n",
      "Keyword arguments {'return_attention_masks': True} not recognized.\n",
      "Keyword arguments {'return_attention_masks': True} not recognized.\n",
      "Keyword arguments {'return_attention_masks': True} not recognized.\n",
      "Keyword arguments {'return_attention_masks': True} not recognized.\n",
      "Keyword arguments {'return_attention_masks': True} not recognized.\n",
      "Keyword arguments {'return_attention_masks': True} not recognized.\n",
      "Keyword arguments {'return_attention_masks': True} not recognized.\n",
      "Keyword arguments {'return_attention_masks': True} not recognized.\n",
      "Keyword arguments {'return_attention_masks': True} not recognized.\n",
      "Keyword arguments {'return_attention_masks': True} not recognized.\n",
      "Keyword arguments {'return_attention_masks': True} not recognized.\n",
      "Keyword arguments {'return_attention_masks': True} not recognized.\n",
      "Keyword arguments {'return_attention_masks': True} not recognized.\n",
      "Keyword arguments {'return_attention_masks': True} not recognized.\n",
      "Keyword arguments {'return_attention_masks': True} not recognized.\n",
      "Keyword arguments {'return_attention_masks': True} not recognized.\n",
      "Keyword arguments {'return_attention_masks': True} not recognized.\n",
      "Keyword arguments {'return_attention_masks': True} not recognized.\n",
      "Keyword arguments {'return_attention_masks': True} not recognized.\n",
      "Keyword arguments {'return_attention_masks': True} not recognized.\n",
      "Keyword arguments {'return_attention_masks': True} not recognized.\n",
      "Keyword arguments {'return_attention_masks': True} not recognized.\n",
      "Keyword arguments {'return_attention_masks': True} not recognized.\n",
      "Keyword arguments {'return_attention_masks': True} not recognized.\n",
      "Keyword arguments {'return_attention_masks': True} not recognized.\n",
      "Keyword arguments {'return_attention_masks': True} not recognized.\n",
      "Keyword arguments {'return_attention_masks': True} not recognized.\n",
      "Keyword arguments {'return_attention_masks': True} not recognized.\n",
      "Keyword arguments {'return_attention_masks': True} not recognized.\n",
      "Keyword arguments {'return_attention_masks': True} not recognized.\n",
      "Keyword arguments {'return_attention_masks': True} not recognized.\n",
      "Keyword arguments {'return_attention_masks': True} not recognized.\n",
      "Keyword arguments {'return_attention_masks': True} not recognized.\n",
      "Keyword arguments {'return_attention_masks': True} not recognized.\n",
      "Keyword arguments {'return_attention_masks': True} not recognized.\n",
      "Keyword arguments {'return_attention_masks': True} not recognized.\n",
      "Keyword arguments {'return_attention_masks': True} not recognized.\n",
      "Keyword arguments {'return_attention_masks': True} not recognized.\n",
      "Keyword arguments {'return_attention_masks': True} not recognized.\n",
      "Keyword arguments {'return_attention_masks': True} not recognized.\n",
      "Keyword arguments {'return_attention_masks': True} not recognized.\n",
      "Keyword arguments {'return_attention_masks': True} not recognized.\n",
      "Keyword arguments {'return_attention_masks': True} not recognized.\n",
      "Keyword arguments {'return_attention_masks': True} not recognized.\n",
      "Keyword arguments {'return_attention_masks': True} not recognized.\n",
      "Keyword arguments {'return_attention_masks': True} not recognized.\n",
      "Keyword arguments {'return_attention_masks': True} not recognized.\n",
      "Keyword arguments {'return_attention_masks': True} not recognized.\n",
      "Keyword arguments {'return_attention_masks': True} not recognized.\n",
      "Keyword arguments {'return_attention_masks': True} not recognized.\n",
      "Keyword arguments {'return_attention_masks': True} not recognized.\n",
      "Keyword arguments {'return_attention_masks': True} not recognized.\n",
      "Keyword arguments {'return_attention_masks': True} not recognized.\n",
      "Keyword arguments {'return_attention_masks': True} not recognized.\n",
      "Keyword arguments {'return_attention_masks': True} not recognized.\n",
      "Keyword arguments {'return_attention_masks': True} not recognized.\n",
      "Keyword arguments {'return_attention_masks': True} not recognized.\n",
      "Keyword arguments {'return_attention_masks': True} not recognized.\n",
      "Keyword arguments {'return_attention_masks': True} not recognized.\n",
      "Keyword arguments {'return_attention_masks': True} not recognized.\n",
      "Keyword arguments {'return_attention_masks': True} not recognized.\n",
      "Keyword arguments {'return_attention_masks': True} not recognized.\n",
      "Keyword arguments {'return_attention_masks': True} not recognized.\n"
     ]
    },
    {
     "name": "stderr",
     "output_type": "stream",
     "text": [
      "Keyword arguments {'return_attention_masks': True} not recognized.\n",
      "Keyword arguments {'return_attention_masks': True} not recognized.\n",
      "Keyword arguments {'return_attention_masks': True} not recognized.\n",
      "Keyword arguments {'return_attention_masks': True} not recognized.\n",
      "Keyword arguments {'return_attention_masks': True} not recognized.\n",
      "Keyword arguments {'return_attention_masks': True} not recognized.\n",
      "Keyword arguments {'return_attention_masks': True} not recognized.\n",
      "Keyword arguments {'return_attention_masks': True} not recognized.\n",
      "Keyword arguments {'return_attention_masks': True} not recognized.\n",
      "Keyword arguments {'return_attention_masks': True} not recognized.\n",
      "Keyword arguments {'return_attention_masks': True} not recognized.\n",
      "Keyword arguments {'return_attention_masks': True} not recognized.\n",
      "Keyword arguments {'return_attention_masks': True} not recognized.\n",
      "Keyword arguments {'return_attention_masks': True} not recognized.\n",
      "Keyword arguments {'return_attention_masks': True} not recognized.\n",
      "Keyword arguments {'return_attention_masks': True} not recognized.\n",
      "Keyword arguments {'return_attention_masks': True} not recognized.\n",
      "Keyword arguments {'return_attention_masks': True} not recognized.\n",
      "Keyword arguments {'return_attention_masks': True} not recognized.\n",
      "Keyword arguments {'return_attention_masks': True} not recognized.\n",
      "Keyword arguments {'return_attention_masks': True} not recognized.\n",
      "Keyword arguments {'return_attention_masks': True} not recognized.\n",
      "Keyword arguments {'return_attention_masks': True} not recognized.\n",
      "Keyword arguments {'return_attention_masks': True} not recognized.\n",
      "Keyword arguments {'return_attention_masks': True} not recognized.\n",
      "Keyword arguments {'return_attention_masks': True} not recognized.\n",
      "Keyword arguments {'return_attention_masks': True} not recognized.\n",
      "Keyword arguments {'return_attention_masks': True} not recognized.\n",
      "Keyword arguments {'return_attention_masks': True} not recognized.\n",
      "Keyword arguments {'return_attention_masks': True} not recognized.\n",
      "Keyword arguments {'return_attention_masks': True} not recognized.\n",
      "Keyword arguments {'return_attention_masks': True} not recognized.\n",
      "Keyword arguments {'return_attention_masks': True} not recognized.\n",
      "Keyword arguments {'return_attention_masks': True} not recognized.\n",
      "Keyword arguments {'return_attention_masks': True} not recognized.\n",
      "Keyword arguments {'return_attention_masks': True} not recognized.\n",
      "Keyword arguments {'return_attention_masks': True} not recognized.\n",
      "Keyword arguments {'return_attention_masks': True} not recognized.\n",
      "Keyword arguments {'return_attention_masks': True} not recognized.\n",
      "Keyword arguments {'return_attention_masks': True} not recognized.\n",
      "Keyword arguments {'return_attention_masks': True} not recognized.\n",
      "Keyword arguments {'return_attention_masks': True} not recognized.\n",
      "Keyword arguments {'return_attention_masks': True} not recognized.\n",
      "Keyword arguments {'return_attention_masks': True} not recognized.\n",
      "Keyword arguments {'return_attention_masks': True} not recognized.\n",
      "Keyword arguments {'return_attention_masks': True} not recognized.\n",
      "Keyword arguments {'return_attention_masks': True} not recognized.\n",
      "Keyword arguments {'return_attention_masks': True} not recognized.\n",
      "Keyword arguments {'return_attention_masks': True} not recognized.\n",
      "Keyword arguments {'return_attention_masks': True} not recognized.\n",
      "Keyword arguments {'return_attention_masks': True} not recognized.\n",
      "Keyword arguments {'return_attention_masks': True} not recognized.\n",
      "Keyword arguments {'return_attention_masks': True} not recognized.\n",
      "Keyword arguments {'return_attention_masks': True} not recognized.\n",
      "Keyword arguments {'return_attention_masks': True} not recognized.\n",
      "Keyword arguments {'return_attention_masks': True} not recognized.\n",
      "Keyword arguments {'return_attention_masks': True} not recognized.\n",
      "Keyword arguments {'return_attention_masks': True} not recognized.\n",
      "Keyword arguments {'return_attention_masks': True} not recognized.\n",
      "Keyword arguments {'return_attention_masks': True} not recognized.\n",
      "Keyword arguments {'return_attention_masks': True} not recognized.\n",
      "Keyword arguments {'return_attention_masks': True} not recognized.\n",
      "Keyword arguments {'return_attention_masks': True} not recognized.\n",
      "Keyword arguments {'return_attention_masks': True} not recognized.\n",
      "Keyword arguments {'return_attention_masks': True} not recognized.\n",
      "Keyword arguments {'return_attention_masks': True} not recognized.\n",
      "Keyword arguments {'return_attention_masks': True} not recognized.\n",
      "Keyword arguments {'return_attention_masks': True} not recognized.\n",
      "Keyword arguments {'return_attention_masks': True} not recognized.\n",
      "Keyword arguments {'return_attention_masks': True} not recognized.\n",
      "Keyword arguments {'return_attention_masks': True} not recognized.\n",
      "Keyword arguments {'return_attention_masks': True} not recognized.\n",
      "Keyword arguments {'return_attention_masks': True} not recognized.\n",
      "Keyword arguments {'return_attention_masks': True} not recognized.\n",
      "Keyword arguments {'return_attention_masks': True} not recognized.\n",
      "Keyword arguments {'return_attention_masks': True} not recognized.\n",
      "Keyword arguments {'return_attention_masks': True} not recognized.\n",
      "Keyword arguments {'return_attention_masks': True} not recognized.\n",
      "Keyword arguments {'return_attention_masks': True} not recognized.\n",
      "Keyword arguments {'return_attention_masks': True} not recognized.\n",
      "Keyword arguments {'return_attention_masks': True} not recognized.\n",
      "Keyword arguments {'return_attention_masks': True} not recognized.\n",
      "Keyword arguments {'return_attention_masks': True} not recognized.\n",
      "Keyword arguments {'return_attention_masks': True} not recognized.\n",
      "Keyword arguments {'return_attention_masks': True} not recognized.\n",
      "Keyword arguments {'return_attention_masks': True} not recognized.\n",
      "Keyword arguments {'return_attention_masks': True} not recognized.\n",
      "Keyword arguments {'return_attention_masks': True} not recognized.\n",
      "Keyword arguments {'return_attention_masks': True} not recognized.\n",
      "Keyword arguments {'return_attention_masks': True} not recognized.\n",
      "Keyword arguments {'return_attention_masks': True} not recognized.\n",
      "Keyword arguments {'return_attention_masks': True} not recognized.\n",
      "Keyword arguments {'return_attention_masks': True} not recognized.\n",
      "Keyword arguments {'return_attention_masks': True} not recognized.\n",
      "Keyword arguments {'return_attention_masks': True} not recognized.\n",
      "Keyword arguments {'return_attention_masks': True} not recognized.\n",
      "Keyword arguments {'return_attention_masks': True} not recognized.\n",
      "Keyword arguments {'return_attention_masks': True} not recognized.\n",
      "Keyword arguments {'return_attention_masks': True} not recognized.\n",
      "Keyword arguments {'return_attention_masks': True} not recognized.\n",
      "Keyword arguments {'return_attention_masks': True} not recognized.\n",
      "Keyword arguments {'return_attention_masks': True} not recognized.\n",
      "Keyword arguments {'return_attention_masks': True} not recognized.\n",
      "Keyword arguments {'return_attention_masks': True} not recognized.\n",
      "Keyword arguments {'return_attention_masks': True} not recognized.\n",
      "Keyword arguments {'return_attention_masks': True} not recognized.\n",
      "Keyword arguments {'return_attention_masks': True} not recognized.\n",
      "Keyword arguments {'return_attention_masks': True} not recognized.\n",
      "Keyword arguments {'return_attention_masks': True} not recognized.\n",
      "Keyword arguments {'return_attention_masks': True} not recognized.\n",
      "Keyword arguments {'return_attention_masks': True} not recognized.\n",
      "Keyword arguments {'return_attention_masks': True} not recognized.\n",
      "Keyword arguments {'return_attention_masks': True} not recognized.\n",
      "Keyword arguments {'return_attention_masks': True} not recognized.\n",
      "Keyword arguments {'return_attention_masks': True} not recognized.\n",
      "Keyword arguments {'return_attention_masks': True} not recognized.\n",
      "Keyword arguments {'return_attention_masks': True} not recognized.\n",
      "Keyword arguments {'return_attention_masks': True} not recognized.\n",
      "Keyword arguments {'return_attention_masks': True} not recognized.\n",
      "Keyword arguments {'return_attention_masks': True} not recognized.\n",
      "Keyword arguments {'return_attention_masks': True} not recognized.\n",
      "Keyword arguments {'return_attention_masks': True} not recognized.\n",
      "Keyword arguments {'return_attention_masks': True} not recognized.\n"
     ]
    },
    {
     "name": "stderr",
     "output_type": "stream",
     "text": [
      "Keyword arguments {'return_attention_masks': True} not recognized.\n",
      "Keyword arguments {'return_attention_masks': True} not recognized.\n",
      "Keyword arguments {'return_attention_masks': True} not recognized.\n",
      "Keyword arguments {'return_attention_masks': True} not recognized.\n",
      "Keyword arguments {'return_attention_masks': True} not recognized.\n",
      "Keyword arguments {'return_attention_masks': True} not recognized.\n",
      "Keyword arguments {'return_attention_masks': True} not recognized.\n",
      "Keyword arguments {'return_attention_masks': True} not recognized.\n",
      "Keyword arguments {'return_attention_masks': True} not recognized.\n",
      "Keyword arguments {'return_attention_masks': True} not recognized.\n",
      "Keyword arguments {'return_attention_masks': True} not recognized.\n",
      "Keyword arguments {'return_attention_masks': True} not recognized.\n",
      "Keyword arguments {'return_attention_masks': True} not recognized.\n",
      "Keyword arguments {'return_attention_masks': True} not recognized.\n",
      "Keyword arguments {'return_attention_masks': True} not recognized.\n",
      "Keyword arguments {'return_attention_masks': True} not recognized.\n",
      "Keyword arguments {'return_attention_masks': True} not recognized.\n",
      "Keyword arguments {'return_attention_masks': True} not recognized.\n",
      "Keyword arguments {'return_attention_masks': True} not recognized.\n",
      "Keyword arguments {'return_attention_masks': True} not recognized.\n",
      "Keyword arguments {'return_attention_masks': True} not recognized.\n",
      "Keyword arguments {'return_attention_masks': True} not recognized.\n",
      "Keyword arguments {'return_attention_masks': True} not recognized.\n",
      "Keyword arguments {'return_attention_masks': True} not recognized.\n",
      "Keyword arguments {'return_attention_masks': True} not recognized.\n",
      "Keyword arguments {'return_attention_masks': True} not recognized.\n",
      "Keyword arguments {'return_attention_masks': True} not recognized.\n",
      "Keyword arguments {'return_attention_masks': True} not recognized.\n",
      "Keyword arguments {'return_attention_masks': True} not recognized.\n",
      "Keyword arguments {'return_attention_masks': True} not recognized.\n",
      "Keyword arguments {'return_attention_masks': True} not recognized.\n",
      "Keyword arguments {'return_attention_masks': True} not recognized.\n",
      "Keyword arguments {'return_attention_masks': True} not recognized.\n",
      "Keyword arguments {'return_attention_masks': True} not recognized.\n",
      "Keyword arguments {'return_attention_masks': True} not recognized.\n",
      "Keyword arguments {'return_attention_masks': True} not recognized.\n",
      "Keyword arguments {'return_attention_masks': True} not recognized.\n",
      "Keyword arguments {'return_attention_masks': True} not recognized.\n",
      "Keyword arguments {'return_attention_masks': True} not recognized.\n",
      "Keyword arguments {'return_attention_masks': True} not recognized.\n",
      "Keyword arguments {'return_attention_masks': True} not recognized.\n",
      "Keyword arguments {'return_attention_masks': True} not recognized.\n",
      "Keyword arguments {'return_attention_masks': True} not recognized.\n",
      "Keyword arguments {'return_attention_masks': True} not recognized.\n",
      "Keyword arguments {'return_attention_masks': True} not recognized.\n",
      "Keyword arguments {'return_attention_masks': True} not recognized.\n",
      "Keyword arguments {'return_attention_masks': True} not recognized.\n",
      "Keyword arguments {'return_attention_masks': True} not recognized.\n",
      "Keyword arguments {'return_attention_masks': True} not recognized.\n",
      "Keyword arguments {'return_attention_masks': True} not recognized.\n",
      "Keyword arguments {'return_attention_masks': True} not recognized.\n",
      "Keyword arguments {'return_attention_masks': True} not recognized.\n",
      "Keyword arguments {'return_attention_masks': True} not recognized.\n",
      "Keyword arguments {'return_attention_masks': True} not recognized.\n",
      "Keyword arguments {'return_attention_masks': True} not recognized.\n",
      "Keyword arguments {'return_attention_masks': True} not recognized.\n",
      "Keyword arguments {'return_attention_masks': True} not recognized.\n",
      "Keyword arguments {'return_attention_masks': True} not recognized.\n",
      "Keyword arguments {'return_attention_masks': True} not recognized.\n",
      "Keyword arguments {'return_attention_masks': True} not recognized.\n",
      "Keyword arguments {'return_attention_masks': True} not recognized.\n",
      "Keyword arguments {'return_attention_masks': True} not recognized.\n",
      "Keyword arguments {'return_attention_masks': True} not recognized.\n",
      "Keyword arguments {'return_attention_masks': True} not recognized.\n",
      "Keyword arguments {'return_attention_masks': True} not recognized.\n",
      "Keyword arguments {'return_attention_masks': True} not recognized.\n",
      "Keyword arguments {'return_attention_masks': True} not recognized.\n",
      "Keyword arguments {'return_attention_masks': True} not recognized.\n",
      "Keyword arguments {'return_attention_masks': True} not recognized.\n",
      "Keyword arguments {'return_attention_masks': True} not recognized.\n",
      "Keyword arguments {'return_attention_masks': True} not recognized.\n",
      "Keyword arguments {'return_attention_masks': True} not recognized.\n",
      "Keyword arguments {'return_attention_masks': True} not recognized.\n",
      "Keyword arguments {'return_attention_masks': True} not recognized.\n",
      "Keyword arguments {'return_attention_masks': True} not recognized.\n",
      "Keyword arguments {'return_attention_masks': True} not recognized.\n",
      "Keyword arguments {'return_attention_masks': True} not recognized.\n",
      "Keyword arguments {'return_attention_masks': True} not recognized.\n",
      "Keyword arguments {'return_attention_masks': True} not recognized.\n",
      "Keyword arguments {'return_attention_masks': True} not recognized.\n",
      "Keyword arguments {'return_attention_masks': True} not recognized.\n",
      "Keyword arguments {'return_attention_masks': True} not recognized.\n",
      "Keyword arguments {'return_attention_masks': True} not recognized.\n",
      "Keyword arguments {'return_attention_masks': True} not recognized.\n",
      "Keyword arguments {'return_attention_masks': True} not recognized.\n",
      "Keyword arguments {'return_attention_masks': True} not recognized.\n",
      "Keyword arguments {'return_attention_masks': True} not recognized.\n",
      "Keyword arguments {'return_attention_masks': True} not recognized.\n",
      "Keyword arguments {'return_attention_masks': True} not recognized.\n",
      "Keyword arguments {'return_attention_masks': True} not recognized.\n",
      "Keyword arguments {'return_attention_masks': True} not recognized.\n",
      "Keyword arguments {'return_attention_masks': True} not recognized.\n",
      "Keyword arguments {'return_attention_masks': True} not recognized.\n",
      "Keyword arguments {'return_attention_masks': True} not recognized.\n",
      "Keyword arguments {'return_attention_masks': True} not recognized.\n",
      "Keyword arguments {'return_attention_masks': True} not recognized.\n",
      "Keyword arguments {'return_attention_masks': True} not recognized.\n",
      "Keyword arguments {'return_attention_masks': True} not recognized.\n",
      "Keyword arguments {'return_attention_masks': True} not recognized.\n",
      "Keyword arguments {'return_attention_masks': True} not recognized.\n",
      "Keyword arguments {'return_attention_masks': True} not recognized.\n",
      "Keyword arguments {'return_attention_masks': True} not recognized.\n",
      "Keyword arguments {'return_attention_masks': True} not recognized.\n",
      "Keyword arguments {'return_attention_masks': True} not recognized.\n",
      "Keyword arguments {'return_attention_masks': True} not recognized.\n",
      "Keyword arguments {'return_attention_masks': True} not recognized.\n",
      "Keyword arguments {'return_attention_masks': True} not recognized.\n",
      "Keyword arguments {'return_attention_masks': True} not recognized.\n",
      "Keyword arguments {'return_attention_masks': True} not recognized.\n",
      "Keyword arguments {'return_attention_masks': True} not recognized.\n",
      "Keyword arguments {'return_attention_masks': True} not recognized.\n",
      "Keyword arguments {'return_attention_masks': True} not recognized.\n",
      "Keyword arguments {'return_attention_masks': True} not recognized.\n",
      "Keyword arguments {'return_attention_masks': True} not recognized.\n",
      "Keyword arguments {'return_attention_masks': True} not recognized.\n",
      "Keyword arguments {'return_attention_masks': True} not recognized.\n",
      "Keyword arguments {'return_attention_masks': True} not recognized.\n",
      "Keyword arguments {'return_attention_masks': True} not recognized.\n",
      "Keyword arguments {'return_attention_masks': True} not recognized.\n",
      "Keyword arguments {'return_attention_masks': True} not recognized.\n",
      "Keyword arguments {'return_attention_masks': True} not recognized.\n",
      "Keyword arguments {'return_attention_masks': True} not recognized.\n",
      "Keyword arguments {'return_attention_masks': True} not recognized.\n"
     ]
    },
    {
     "name": "stderr",
     "output_type": "stream",
     "text": [
      "Keyword arguments {'return_attention_masks': True} not recognized.\n",
      "Keyword arguments {'return_attention_masks': True} not recognized.\n",
      "Keyword arguments {'return_attention_masks': True} not recognized.\n",
      "Keyword arguments {'return_attention_masks': True} not recognized.\n",
      "Keyword arguments {'return_attention_masks': True} not recognized.\n",
      "Keyword arguments {'return_attention_masks': True} not recognized.\n",
      "Keyword arguments {'return_attention_masks': True} not recognized.\n",
      "Keyword arguments {'return_attention_masks': True} not recognized.\n",
      "Keyword arguments {'return_attention_masks': True} not recognized.\n",
      "Keyword arguments {'return_attention_masks': True} not recognized.\n",
      "Keyword arguments {'return_attention_masks': True} not recognized.\n",
      "Keyword arguments {'return_attention_masks': True} not recognized.\n",
      "Keyword arguments {'return_attention_masks': True} not recognized.\n",
      "Keyword arguments {'return_attention_masks': True} not recognized.\n",
      "Keyword arguments {'return_attention_masks': True} not recognized.\n",
      "Keyword arguments {'return_attention_masks': True} not recognized.\n",
      "Keyword arguments {'return_attention_masks': True} not recognized.\n",
      "Keyword arguments {'return_attention_masks': True} not recognized.\n",
      "Keyword arguments {'return_attention_masks': True} not recognized.\n",
      "Keyword arguments {'return_attention_masks': True} not recognized.\n",
      "Keyword arguments {'return_attention_masks': True} not recognized.\n",
      "Keyword arguments {'return_attention_masks': True} not recognized.\n",
      "Keyword arguments {'return_attention_masks': True} not recognized.\n",
      "Keyword arguments {'return_attention_masks': True} not recognized.\n",
      "Keyword arguments {'return_attention_masks': True} not recognized.\n",
      "Keyword arguments {'return_attention_masks': True} not recognized.\n",
      "Keyword arguments {'return_attention_masks': True} not recognized.\n",
      "Keyword arguments {'return_attention_masks': True} not recognized.\n",
      "Keyword arguments {'return_attention_masks': True} not recognized.\n",
      "Keyword arguments {'return_attention_masks': True} not recognized.\n",
      "Keyword arguments {'return_attention_masks': True} not recognized.\n",
      "Keyword arguments {'return_attention_masks': True} not recognized.\n",
      "Keyword arguments {'return_attention_masks': True} not recognized.\n",
      "Keyword arguments {'return_attention_masks': True} not recognized.\n",
      "Keyword arguments {'return_attention_masks': True} not recognized.\n",
      "Keyword arguments {'return_attention_masks': True} not recognized.\n",
      "Keyword arguments {'return_attention_masks': True} not recognized.\n",
      "Keyword arguments {'return_attention_masks': True} not recognized.\n",
      "Keyword arguments {'return_attention_masks': True} not recognized.\n",
      "Keyword arguments {'return_attention_masks': True} not recognized.\n",
      "Keyword arguments {'return_attention_masks': True} not recognized.\n",
      "Keyword arguments {'return_attention_masks': True} not recognized.\n",
      "Keyword arguments {'return_attention_masks': True} not recognized.\n",
      "Keyword arguments {'return_attention_masks': True} not recognized.\n",
      "Keyword arguments {'return_attention_masks': True} not recognized.\n",
      "Keyword arguments {'return_attention_masks': True} not recognized.\n",
      "Keyword arguments {'return_attention_masks': True} not recognized.\n",
      "Keyword arguments {'return_attention_masks': True} not recognized.\n",
      "Keyword arguments {'return_attention_masks': True} not recognized.\n",
      "Keyword arguments {'return_attention_masks': True} not recognized.\n",
      "Keyword arguments {'return_attention_masks': True} not recognized.\n",
      "Keyword arguments {'return_attention_masks': True} not recognized.\n",
      "Keyword arguments {'return_attention_masks': True} not recognized.\n",
      "Keyword arguments {'return_attention_masks': True} not recognized.\n",
      "Keyword arguments {'return_attention_masks': True} not recognized.\n",
      "Keyword arguments {'return_attention_masks': True} not recognized.\n",
      "Keyword arguments {'return_attention_masks': True} not recognized.\n",
      "Keyword arguments {'return_attention_masks': True} not recognized.\n",
      "Keyword arguments {'return_attention_masks': True} not recognized.\n",
      "Keyword arguments {'return_attention_masks': True} not recognized.\n",
      "Keyword arguments {'return_attention_masks': True} not recognized.\n",
      "Keyword arguments {'return_attention_masks': True} not recognized.\n",
      "Keyword arguments {'return_attention_masks': True} not recognized.\n",
      "Keyword arguments {'return_attention_masks': True} not recognized.\n",
      "Keyword arguments {'return_attention_masks': True} not recognized.\n",
      "Keyword arguments {'return_attention_masks': True} not recognized.\n",
      "Keyword arguments {'return_attention_masks': True} not recognized.\n",
      "Keyword arguments {'return_attention_masks': True} not recognized.\n",
      "Keyword arguments {'return_attention_masks': True} not recognized.\n",
      "Keyword arguments {'return_attention_masks': True} not recognized.\n",
      "Keyword arguments {'return_attention_masks': True} not recognized.\n",
      "Keyword arguments {'return_attention_masks': True} not recognized.\n",
      "Keyword arguments {'return_attention_masks': True} not recognized.\n",
      "Keyword arguments {'return_attention_masks': True} not recognized.\n",
      "Keyword arguments {'return_attention_masks': True} not recognized.\n",
      "Keyword arguments {'return_attention_masks': True} not recognized.\n",
      "Keyword arguments {'return_attention_masks': True} not recognized.\n",
      "Keyword arguments {'return_attention_masks': True} not recognized.\n",
      "Keyword arguments {'return_attention_masks': True} not recognized.\n",
      "Keyword arguments {'return_attention_masks': True} not recognized.\n",
      "Keyword arguments {'return_attention_masks': True} not recognized.\n",
      "Keyword arguments {'return_attention_masks': True} not recognized.\n",
      "Keyword arguments {'return_attention_masks': True} not recognized.\n",
      "Keyword arguments {'return_attention_masks': True} not recognized.\n",
      "Keyword arguments {'return_attention_masks': True} not recognized.\n",
      "Keyword arguments {'return_attention_masks': True} not recognized.\n",
      "Keyword arguments {'return_attention_masks': True} not recognized.\n",
      "Keyword arguments {'return_attention_masks': True} not recognized.\n",
      "Keyword arguments {'return_attention_masks': True} not recognized.\n",
      "Keyword arguments {'return_attention_masks': True} not recognized.\n",
      "Keyword arguments {'return_attention_masks': True} not recognized.\n",
      "Keyword arguments {'return_attention_masks': True} not recognized.\n",
      "Keyword arguments {'return_attention_masks': True} not recognized.\n",
      "Keyword arguments {'return_attention_masks': True} not recognized.\n",
      "Keyword arguments {'return_attention_masks': True} not recognized.\n",
      "Keyword arguments {'return_attention_masks': True} not recognized.\n",
      "Keyword arguments {'return_attention_masks': True} not recognized.\n",
      "Keyword arguments {'return_attention_masks': True} not recognized.\n",
      "Keyword arguments {'return_attention_masks': True} not recognized.\n",
      "Keyword arguments {'return_attention_masks': True} not recognized.\n",
      "Keyword arguments {'return_attention_masks': True} not recognized.\n",
      "Keyword arguments {'return_attention_masks': True} not recognized.\n",
      "Keyword arguments {'return_attention_masks': True} not recognized.\n",
      "Keyword arguments {'return_attention_masks': True} not recognized.\n",
      "Keyword arguments {'return_attention_masks': True} not recognized.\n",
      "Keyword arguments {'return_attention_masks': True} not recognized.\n",
      "Keyword arguments {'return_attention_masks': True} not recognized.\n",
      "Keyword arguments {'return_attention_masks': True} not recognized.\n",
      "Keyword arguments {'return_attention_masks': True} not recognized.\n",
      "Keyword arguments {'return_attention_masks': True} not recognized.\n",
      "Keyword arguments {'return_attention_masks': True} not recognized.\n",
      "Keyword arguments {'return_attention_masks': True} not recognized.\n",
      "Keyword arguments {'return_attention_masks': True} not recognized.\n",
      "Keyword arguments {'return_attention_masks': True} not recognized.\n",
      "Keyword arguments {'return_attention_masks': True} not recognized.\n",
      "Keyword arguments {'return_attention_masks': True} not recognized.\n",
      "Keyword arguments {'return_attention_masks': True} not recognized.\n",
      "Keyword arguments {'return_attention_masks': True} not recognized.\n",
      "Keyword arguments {'return_attention_masks': True} not recognized.\n",
      "Keyword arguments {'return_attention_masks': True} not recognized.\n",
      "Keyword arguments {'return_attention_masks': True} not recognized.\n",
      "Keyword arguments {'return_attention_masks': True} not recognized.\n",
      "Keyword arguments {'return_attention_masks': True} not recognized.\n"
     ]
    },
    {
     "name": "stderr",
     "output_type": "stream",
     "text": [
      "Keyword arguments {'return_attention_masks': True} not recognized.\n",
      "Keyword arguments {'return_attention_masks': True} not recognized.\n",
      "Keyword arguments {'return_attention_masks': True} not recognized.\n",
      "Keyword arguments {'return_attention_masks': True} not recognized.\n",
      "Keyword arguments {'return_attention_masks': True} not recognized.\n",
      "Keyword arguments {'return_attention_masks': True} not recognized.\n",
      "Keyword arguments {'return_attention_masks': True} not recognized.\n",
      "Keyword arguments {'return_attention_masks': True} not recognized.\n",
      "Keyword arguments {'return_attention_masks': True} not recognized.\n",
      "Keyword arguments {'return_attention_masks': True} not recognized.\n",
      "Keyword arguments {'return_attention_masks': True} not recognized.\n",
      "Keyword arguments {'return_attention_masks': True} not recognized.\n",
      "Keyword arguments {'return_attention_masks': True} not recognized.\n",
      "Keyword arguments {'return_attention_masks': True} not recognized.\n",
      "Keyword arguments {'return_attention_masks': True} not recognized.\n",
      "Keyword arguments {'return_attention_masks': True} not recognized.\n",
      "Keyword arguments {'return_attention_masks': True} not recognized.\n",
      "Keyword arguments {'return_attention_masks': True} not recognized.\n",
      "Keyword arguments {'return_attention_masks': True} not recognized.\n"
     ]
    }
   ],
   "source": [
    "encoder_train = tokenizer.batch_encode_plus(df[df[\"data_type\"]=='train'].Text.values,\n",
    "                                           add_special_tokens = True,\n",
    "                                            return_attention_masks = True,\n",
    "                                           pad_to_max_length = True,\n",
    "                                           max_length = 256,\n",
    "                                           return_tensors = 'pt')\n",
    "\n",
    "\n",
    "\n",
    "encoder_test = tokenizer.batch_encode_plus(df[df[\"data_type\"]=='test'].Text.values,\n",
    "                                           add_special_tokens = True,\n",
    "                                            return_attention_masks = True,\n",
    "                                           pad_to_max_length = True,\n",
    "                                           max_length = 256,\n",
    "                                           return_tensors = 'pt')\n",
    "\n",
    "input_ids_train = encoder_train['input_ids']\n",
    "attention_masks_train = encoder_train[\"attention_mask\"]\n",
    "labels_train = torch.tensor(df[df['data_type']=='train'].Label.values)\n",
    "\n",
    "\n",
    "input_ids_test = encoder_test['input_ids']\n",
    "attention_masks_test = encoder_test[\"attention_mask\"]\n",
    "labels_test = torch.tensor(df[df['data_type']=='test'].Label.values)"
   ]
  },
  {
   "cell_type": "code",
   "execution_count": 20,
   "metadata": {},
   "outputs": [],
   "source": [
    "data_train = TensorDataset(input_ids_train,attention_masks_train,labels_train)\n",
    "data_test = TensorDataset(input_ids_test,attention_masks_test,labels_test)\n"
   ]
  },
  {
   "cell_type": "code",
   "execution_count": 21,
   "metadata": {},
   "outputs": [
    {
     "data": {
      "text/plain": [
       "(1258, 223)"
      ]
     },
     "execution_count": 21,
     "metadata": {},
     "output_type": "execute_result"
    }
   ],
   "source": [
    "len(data_train),len(data_test)"
   ]
  },
  {
   "cell_type": "markdown",
   "metadata": {},
   "source": [
    "* We will use sequence classification model as we have to classify multi label text from the dataset."
   ]
  },
  {
   "cell_type": "code",
   "execution_count": 22,
   "metadata": {},
   "outputs": [
    {
     "data": {
      "application/vnd.jupyter.widget-view+json": {
       "model_id": "996969fdf5f54c5588d3417f7f64fe98",
       "version_major": 2,
       "version_minor": 0
      },
      "text/plain": [
       "Downloading model.safetensors:   0%|          | 0.00/440M [00:00<?, ?B/s]"
      ]
     },
     "metadata": {},
     "output_type": "display_data"
    },
    {
     "name": "stderr",
     "output_type": "stream",
     "text": [
      "Some weights of BertForSequenceClassification were not initialized from the model checkpoint at bert-base-uncased and are newly initialized: ['classifier.bias', 'classifier.weight']\n",
      "You should probably TRAIN this model on a down-stream task to be able to use it for predictions and inference.\n"
     ]
    }
   ],
   "source": [
    "from transformers import BertForSequenceClassification\n",
    "model = BertForSequenceClassification.from_pretrained('bert-base-uncased',\n",
    "                                     num_labels = len(dict_label),\n",
    "                                     output_attentions = False,\n",
    "                                     output_hidden_states =  False)"
   ]
  },
  {
   "cell_type": "markdown",
   "metadata": {},
   "source": [
    "From torch we will use data loader,randomsampler to load data in an iterable format but extracting different subsamples from dataset."
   ]
  },
  {
   "cell_type": "code",
   "execution_count": 23,
   "metadata": {},
   "outputs": [],
   "source": [
    "from torch.utils.data import RandomSampler,SequentialSampler,DataLoader\n",
    "\n",
    "dataloader_train = DataLoader(\n",
    "    data_train,\n",
    "    sampler= RandomSampler(data_train),\n",
    "    batch_size = 16\n",
    "    \n",
    ")\n",
    "\n",
    "\n",
    "dataloader_test = DataLoader(\n",
    "    data_test,\n",
    "    sampler= RandomSampler(data_test),\n",
    "    batch_size = 32\n",
    "    \n",
    ")"
   ]
  },
  {
   "cell_type": "code",
   "execution_count": 24,
   "metadata": {},
   "outputs": [
    {
     "name": "stderr",
     "output_type": "stream",
     "text": [
      "C:\\Users\\paarg\\anaconda3\\lib\\site-packages\\transformers\\optimization.py:411: FutureWarning: This implementation of AdamW is deprecated and will be removed in a future version. Use the PyTorch implementation torch.optim.AdamW instead, or set `no_deprecation_warning=True` to disable this warning\n",
      "  warnings.warn(\n"
     ]
    }
   ],
   "source": [
    "from transformers import AdamW,get_linear_schedule_with_warmup\n",
    "optimizer = AdamW(model.parameters(),lr = 1e-5,eps = 1e-8)\n",
    "\n",
    "epochs  = 10\n",
    "scheduler = get_linear_schedule_with_warmup(\n",
    "            optimizer,\n",
    "    num_warmup_steps = 0,\n",
    "   num_training_steps = len(dataloader_train)*epochs \n",
    ")"
   ]
  },
  {
   "cell_type": "markdown",
   "metadata": {},
   "source": [
    "Defining Model metrics"
   ]
  },
  {
   "cell_type": "code",
   "execution_count": 25,
   "metadata": {},
   "outputs": [],
   "source": [
    "from sklearn.metrics import f1_score \n",
    "\n",
    "def f1_score_func(preds,labels):\n",
    "    preds_flat = np.argmax(preds,axis=1).flatten()\n",
    "    labels_flat = labels.flatten()\n",
    "    return f1_score(labels_flat,preds_flat,average = 'weighted')\n"
   ]
  },
  {
   "cell_type": "code",
   "execution_count": 26,
   "metadata": {},
   "outputs": [],
   "source": [
    "def accuracy_per_class(preds,labels):\n",
    "    label_dict_reverse = {v:k for k,v in dict_label.items()}\n",
    "    \n",
    "    preds_flat = np.argmax(preds,axis=1).flatten()\n",
    "    labels_flat = labels.flatten()\n",
    "    \n",
    "    for label in np.unique(labels_flat):\n",
    "        y_preds = preds_flat[labels_flat==label]\n",
    "        y_true = labels_flat[labels_flat==label]\n",
    "        print(f\"Class:{label_dict_reverse}\")\n",
    "        print(f\"Accuracy:{len(y_preds[y_preds==label])}/{len(y_true)}\\n\")"
   ]
  },
  {
   "cell_type": "code",
   "execution_count": 27,
   "metadata": {},
   "outputs": [],
   "source": [
    "import random\n",
    "\n",
    "seed_val = 17\n",
    "random.seed(seed_val)\n",
    "np.random.seed(seed_val)\n",
    "torch.manual_seed(seed_val)\n",
    "torch.cuda.manual_seed_all(seed_val)"
   ]
  },
  {
   "cell_type": "code",
   "execution_count": 28,
   "metadata": {},
   "outputs": [
    {
     "name": "stdout",
     "output_type": "stream",
     "text": [
      "Loading:cpu\n"
     ]
    }
   ],
   "source": [
    "device = torch.device('cuda' if torch.cuda.is_available() else 'cpu')\n",
    "model.to(device)\n",
    "\n",
    "print(f\"Loading:{device}\")"
   ]
  },
  {
   "cell_type": "markdown",
   "metadata": {},
   "source": [
    "Defining Evaluation"
   ]
  },
  {
   "cell_type": "code",
   "execution_count": 29,
   "metadata": {},
   "outputs": [],
   "source": [
    "def evaluate(dataloader_val):\n",
    "    model.eval()\n",
    "    \n",
    "    loss_val_total = 0\n",
    "    predictions,true_vals = [],[]\n",
    "    \n",
    "    for batch in tqdm(dataloader_val):\n",
    "        batch = tuple(b.to(device) for b in batch)\n",
    "        \n",
    "        inputs = {'input_ids':  batch[0],\n",
    "                  'attention_mask':batch[1],\n",
    "                  'labels': batch[2]\n",
    "                 }\n",
    "        with torch.no_grad():\n",
    "            outputs = model(**inputs)\n",
    "            \n",
    "        loss = outputs[0]\n",
    "        logits = outputs[1]\n",
    "        loss_val_total +=loss.item()\n",
    "        \n",
    "        logits = logits.detach().cpu().numpy()\n",
    "        label_ids = inputs['labels'].cpu().numpy()\n",
    "        predictions.append(logits)\n",
    "        true_vals.append(label_ids)\n",
    "        \n",
    "        \n",
    "    loss_val_avg = loss_val_total/len(dataloader_val)  \n",
    "    \n",
    "    predictions = np.concatenate(predictions,axis=0)\n",
    "    true_vals = np.concatenate(true_vals,axis=0) \n",
    "    return loss_val_avg,predictions,true_vals\n",
    "            "
   ]
  },
  {
   "cell_type": "markdown",
   "metadata": {},
   "source": [
    "## * Training Data"
   ]
  },
  {
   "cell_type": "code",
   "execution_count": 30,
   "metadata": {},
   "outputs": [
    {
     "data": {
      "application/vnd.jupyter.widget-view+json": {
       "model_id": "019e95c265c74801a9bbf178b7611aad",
       "version_major": 2,
       "version_minor": 0
      },
      "text/plain": [
       "  0%|          | 0/10 [00:00<?, ?it/s]"
      ]
     },
     "metadata": {},
     "output_type": "display_data"
    },
    {
     "data": {
      "application/vnd.jupyter.widget-view+json": {
       "model_id": "",
       "version_major": 2,
       "version_minor": 0
      },
      "text/plain": [
       "Epoch: 1:   0%|          | 0/79 [00:00<?, ?it/s]"
      ]
     },
     "metadata": {},
     "output_type": "display_data"
    },
    {
     "name": "stderr",
     "output_type": "stream",
     "text": [
      "C:\\Users\\paarg\\AppData\\Local\\Temp/ipykernel_19900/2138516824.py:30: UserWarning: torch.nn.utils.clip_grad_norm is now deprecated in favor of torch.nn.utils.clip_grad_norm_.\n",
      "  torch.nn.utils.clip_grad_norm(model.parameters(),1.0)\n"
     ]
    },
    {
     "name": "stdout",
     "output_type": "stream",
     "text": [
      "\n",
      "Epoch {epoch}\n",
      "Training Loss: 1.014184300658069\n"
     ]
    },
    {
     "data": {
      "application/vnd.jupyter.widget-view+json": {
       "model_id": "abe789e6a1a24ef48f0c3808f864fdc1",
       "version_major": 2,
       "version_minor": 0
      },
      "text/plain": [
       "  0%|          | 0/7 [00:00<?, ?it/s]"
      ]
     },
     "metadata": {},
     "output_type": "display_data"
    },
    {
     "name": "stdout",
     "output_type": "stream",
     "text": [
      "Val Loss:0.7330614413533892\n",
      " Test Score:0.6953185953656175\n"
     ]
    },
    {
     "data": {
      "application/vnd.jupyter.widget-view+json": {
       "model_id": "",
       "version_major": 2,
       "version_minor": 0
      },
      "text/plain": [
       "Epoch: 2:   0%|          | 0/79 [00:00<?, ?it/s]"
      ]
     },
     "metadata": {},
     "output_type": "display_data"
    },
    {
     "name": "stderr",
     "output_type": "stream",
     "text": [
      "C:\\Users\\paarg\\AppData\\Local\\Temp/ipykernel_19900/2138516824.py:30: UserWarning: torch.nn.utils.clip_grad_norm is now deprecated in favor of torch.nn.utils.clip_grad_norm_.\n",
      "  torch.nn.utils.clip_grad_norm(model.parameters(),1.0)\n"
     ]
    },
    {
     "name": "stdout",
     "output_type": "stream",
     "text": [
      "\n",
      "Epoch {epoch}\n",
      "Training Loss: 0.6100012590236301\n"
     ]
    },
    {
     "data": {
      "application/vnd.jupyter.widget-view+json": {
       "model_id": "c2fbf86d10584440b72c08c25d91f8db",
       "version_major": 2,
       "version_minor": 0
      },
      "text/plain": [
       "  0%|          | 0/7 [00:00<?, ?it/s]"
      ]
     },
     "metadata": {},
     "output_type": "display_data"
    },
    {
     "name": "stdout",
     "output_type": "stream",
     "text": [
      "Val Loss:0.6088234207459858\n",
      " Test Score:0.7729550850099518\n"
     ]
    },
    {
     "data": {
      "application/vnd.jupyter.widget-view+json": {
       "model_id": "",
       "version_major": 2,
       "version_minor": 0
      },
      "text/plain": [
       "Epoch: 3:   0%|          | 0/79 [00:00<?, ?it/s]"
      ]
     },
     "metadata": {},
     "output_type": "display_data"
    },
    {
     "name": "stderr",
     "output_type": "stream",
     "text": [
      "C:\\Users\\paarg\\AppData\\Local\\Temp/ipykernel_19900/2138516824.py:30: UserWarning: torch.nn.utils.clip_grad_norm is now deprecated in favor of torch.nn.utils.clip_grad_norm_.\n",
      "  torch.nn.utils.clip_grad_norm(model.parameters(),1.0)\n"
     ]
    },
    {
     "name": "stdout",
     "output_type": "stream",
     "text": [
      "\n",
      "Epoch {epoch}\n",
      "Training Loss: 0.4484216824551172\n"
     ]
    },
    {
     "data": {
      "application/vnd.jupyter.widget-view+json": {
       "model_id": "4bd3ba0bf2834350a0506b623a0a2f05",
       "version_major": 2,
       "version_minor": 0
      },
      "text/plain": [
       "  0%|          | 0/7 [00:00<?, ?it/s]"
      ]
     },
     "metadata": {},
     "output_type": "display_data"
    },
    {
     "name": "stdout",
     "output_type": "stream",
     "text": [
      "Val Loss:0.6029506155422756\n",
      " Test Score:0.7770415867953818\n"
     ]
    },
    {
     "data": {
      "application/vnd.jupyter.widget-view+json": {
       "model_id": "",
       "version_major": 2,
       "version_minor": 0
      },
      "text/plain": [
       "Epoch: 4:   0%|          | 0/79 [00:00<?, ?it/s]"
      ]
     },
     "metadata": {},
     "output_type": "display_data"
    },
    {
     "name": "stderr",
     "output_type": "stream",
     "text": [
      "C:\\Users\\paarg\\AppData\\Local\\Temp/ipykernel_19900/2138516824.py:30: UserWarning: torch.nn.utils.clip_grad_norm is now deprecated in favor of torch.nn.utils.clip_grad_norm_.\n",
      "  torch.nn.utils.clip_grad_norm(model.parameters(),1.0)\n"
     ]
    },
    {
     "name": "stdout",
     "output_type": "stream",
     "text": [
      "\n",
      "Epoch {epoch}\n",
      "Training Loss: 0.343610348557181\n"
     ]
    },
    {
     "data": {
      "application/vnd.jupyter.widget-view+json": {
       "model_id": "9b645cb6db844c15bcec8248b2a46eca",
       "version_major": 2,
       "version_minor": 0
      },
      "text/plain": [
       "  0%|          | 0/7 [00:00<?, ?it/s]"
      ]
     },
     "metadata": {},
     "output_type": "display_data"
    },
    {
     "name": "stdout",
     "output_type": "stream",
     "text": [
      "Val Loss:0.514654170189585\n",
      " Test Score:0.8111034456325938\n"
     ]
    },
    {
     "data": {
      "application/vnd.jupyter.widget-view+json": {
       "model_id": "",
       "version_major": 2,
       "version_minor": 0
      },
      "text/plain": [
       "Epoch: 5:   0%|          | 0/79 [00:00<?, ?it/s]"
      ]
     },
     "metadata": {},
     "output_type": "display_data"
    },
    {
     "name": "stderr",
     "output_type": "stream",
     "text": [
      "C:\\Users\\paarg\\AppData\\Local\\Temp/ipykernel_19900/2138516824.py:30: UserWarning: torch.nn.utils.clip_grad_norm is now deprecated in favor of torch.nn.utils.clip_grad_norm_.\n",
      "  torch.nn.utils.clip_grad_norm(model.parameters(),1.0)\n"
     ]
    },
    {
     "name": "stdout",
     "output_type": "stream",
     "text": [
      "\n",
      "Epoch {epoch}\n",
      "Training Loss: 0.28872560874759395\n"
     ]
    },
    {
     "data": {
      "application/vnd.jupyter.widget-view+json": {
       "model_id": "b04d5a25714d48f39fd1691b3855503d",
       "version_major": 2,
       "version_minor": 0
      },
      "text/plain": [
       "  0%|          | 0/7 [00:00<?, ?it/s]"
      ]
     },
     "metadata": {},
     "output_type": "display_data"
    },
    {
     "name": "stdout",
     "output_type": "stream",
     "text": [
      "Val Loss:0.5343812214476722\n",
      " Test Score:0.8104259643575381\n"
     ]
    },
    {
     "data": {
      "application/vnd.jupyter.widget-view+json": {
       "model_id": "",
       "version_major": 2,
       "version_minor": 0
      },
      "text/plain": [
       "Epoch: 6:   0%|          | 0/79 [00:00<?, ?it/s]"
      ]
     },
     "metadata": {},
     "output_type": "display_data"
    },
    {
     "name": "stderr",
     "output_type": "stream",
     "text": [
      "C:\\Users\\paarg\\AppData\\Local\\Temp/ipykernel_19900/2138516824.py:30: UserWarning: torch.nn.utils.clip_grad_norm is now deprecated in favor of torch.nn.utils.clip_grad_norm_.\n",
      "  torch.nn.utils.clip_grad_norm(model.parameters(),1.0)\n"
     ]
    },
    {
     "name": "stdout",
     "output_type": "stream",
     "text": [
      "\n",
      "Epoch {epoch}\n",
      "Training Loss: 0.2324491206415092\n"
     ]
    },
    {
     "data": {
      "application/vnd.jupyter.widget-view+json": {
       "model_id": "86b92716be8149609a7a63a3fec1a65c",
       "version_major": 2,
       "version_minor": 0
      },
      "text/plain": [
       "  0%|          | 0/7 [00:00<?, ?it/s]"
      ]
     },
     "metadata": {},
     "output_type": "display_data"
    },
    {
     "name": "stdout",
     "output_type": "stream",
     "text": [
      "Val Loss:0.555981946843011\n",
      " Test Score:0.8195211127251801\n"
     ]
    },
    {
     "data": {
      "application/vnd.jupyter.widget-view+json": {
       "model_id": "",
       "version_major": 2,
       "version_minor": 0
      },
      "text/plain": [
       "Epoch: 7:   0%|          | 0/79 [00:00<?, ?it/s]"
      ]
     },
     "metadata": {},
     "output_type": "display_data"
    },
    {
     "name": "stderr",
     "output_type": "stream",
     "text": [
      "C:\\Users\\paarg\\AppData\\Local\\Temp/ipykernel_19900/2138516824.py:30: UserWarning: torch.nn.utils.clip_grad_norm is now deprecated in favor of torch.nn.utils.clip_grad_norm_.\n",
      "  torch.nn.utils.clip_grad_norm(model.parameters(),1.0)\n"
     ]
    },
    {
     "name": "stdout",
     "output_type": "stream",
     "text": [
      "\n",
      "Epoch {epoch}\n",
      "Training Loss: 0.20247398768374814\n"
     ]
    },
    {
     "data": {
      "application/vnd.jupyter.widget-view+json": {
       "model_id": "111ebd9ab56041969d5bd73a98059944",
       "version_major": 2,
       "version_minor": 0
      },
      "text/plain": [
       "  0%|          | 0/7 [00:00<?, ?it/s]"
      ]
     },
     "metadata": {},
     "output_type": "display_data"
    },
    {
     "name": "stdout",
     "output_type": "stream",
     "text": [
      "Val Loss:0.5363154326166425\n",
      " Test Score:0.8483991445074304\n"
     ]
    },
    {
     "data": {
      "application/vnd.jupyter.widget-view+json": {
       "model_id": "",
       "version_major": 2,
       "version_minor": 0
      },
      "text/plain": [
       "Epoch: 8:   0%|          | 0/79 [00:00<?, ?it/s]"
      ]
     },
     "metadata": {},
     "output_type": "display_data"
    },
    {
     "name": "stderr",
     "output_type": "stream",
     "text": [
      "C:\\Users\\paarg\\AppData\\Local\\Temp/ipykernel_19900/2138516824.py:30: UserWarning: torch.nn.utils.clip_grad_norm is now deprecated in favor of torch.nn.utils.clip_grad_norm_.\n",
      "  torch.nn.utils.clip_grad_norm(model.parameters(),1.0)\n"
     ]
    },
    {
     "name": "stdout",
     "output_type": "stream",
     "text": [
      "\n",
      "Epoch {epoch}\n",
      "Training Loss: 0.17432443779905007\n"
     ]
    },
    {
     "data": {
      "application/vnd.jupyter.widget-view+json": {
       "model_id": "92967d6890d84e5baae6ed1812a35dae",
       "version_major": 2,
       "version_minor": 0
      },
      "text/plain": [
       "  0%|          | 0/7 [00:00<?, ?it/s]"
      ]
     },
     "metadata": {},
     "output_type": "display_data"
    },
    {
     "name": "stdout",
     "output_type": "stream",
     "text": [
      "Val Loss:0.5778305700847081\n",
      " Test Score:0.8487581599993245\n"
     ]
    },
    {
     "data": {
      "application/vnd.jupyter.widget-view+json": {
       "model_id": "",
       "version_major": 2,
       "version_minor": 0
      },
      "text/plain": [
       "Epoch: 9:   0%|          | 0/79 [00:00<?, ?it/s]"
      ]
     },
     "metadata": {},
     "output_type": "display_data"
    },
    {
     "name": "stderr",
     "output_type": "stream",
     "text": [
      "C:\\Users\\paarg\\AppData\\Local\\Temp/ipykernel_19900/2138516824.py:30: UserWarning: torch.nn.utils.clip_grad_norm is now deprecated in favor of torch.nn.utils.clip_grad_norm_.\n",
      "  torch.nn.utils.clip_grad_norm(model.parameters(),1.0)\n"
     ]
    },
    {
     "name": "stdout",
     "output_type": "stream",
     "text": [
      "\n",
      "Epoch {epoch}\n",
      "Training Loss: 0.15375543151145118\n"
     ]
    },
    {
     "data": {
      "application/vnd.jupyter.widget-view+json": {
       "model_id": "fdd57964cf7e4ecab3b6b6a6d44a8b3f",
       "version_major": 2,
       "version_minor": 0
      },
      "text/plain": [
       "  0%|          | 0/7 [00:00<?, ?it/s]"
      ]
     },
     "metadata": {},
     "output_type": "display_data"
    },
    {
     "name": "stdout",
     "output_type": "stream",
     "text": [
      "Val Loss:0.5885482089860099\n",
      " Test Score:0.8411737653197549\n"
     ]
    },
    {
     "data": {
      "application/vnd.jupyter.widget-view+json": {
       "model_id": "",
       "version_major": 2,
       "version_minor": 0
      },
      "text/plain": [
       "Epoch: 10:   0%|          | 0/79 [00:00<?, ?it/s]"
      ]
     },
     "metadata": {},
     "output_type": "display_data"
    },
    {
     "name": "stderr",
     "output_type": "stream",
     "text": [
      "C:\\Users\\paarg\\AppData\\Local\\Temp/ipykernel_19900/2138516824.py:30: UserWarning: torch.nn.utils.clip_grad_norm is now deprecated in favor of torch.nn.utils.clip_grad_norm_.\n",
      "  torch.nn.utils.clip_grad_norm(model.parameters(),1.0)\n"
     ]
    },
    {
     "name": "stdout",
     "output_type": "stream",
     "text": [
      "\n",
      "Epoch {epoch}\n",
      "Training Loss: 0.14694539916147537\n"
     ]
    },
    {
     "data": {
      "application/vnd.jupyter.widget-view+json": {
       "model_id": "78c853c09e634fc7b8d42d64962a7b8b",
       "version_major": 2,
       "version_minor": 0
      },
      "text/plain": [
       "  0%|          | 0/7 [00:00<?, ?it/s]"
      ]
     },
     "metadata": {},
     "output_type": "display_data"
    },
    {
     "name": "stdout",
     "output_type": "stream",
     "text": [
      "Val Loss:0.6036943729434695\n",
      " Test Score:0.8434020510534643\n",
      "TTIIIMMMEEE TAAAAKKKEEN\n",
      "62498.875\n"
     ]
    }
   ],
   "source": [
    "import time\n",
    "start = time.process_time()\n",
    "\n",
    "for epoch in tqdm(range(1,epochs+1)):\n",
    "    model.train()\n",
    "    \n",
    "    loss_train_total=0\n",
    "    \n",
    "    progress_bar = tqdm(dataloader_train,desc = \"Epoch: {:1d}\".format(epoch),leave = False,disable = False)\n",
    "    \n",
    "    \n",
    "    for batch in progress_bar:\n",
    "        model.zero_grad()\n",
    "        \n",
    "        batch = tuple(b.to(device) for b in batch)\n",
    "        \n",
    "        inputs = {\n",
    "            \"input_ids\":batch[0],\n",
    "            \"attention_mask\":batch[1],\n",
    "            \"labels\":batch[2]\n",
    "            \n",
    "        }\n",
    "        outputs = model(**inputs)\n",
    "        \n",
    "        loss = outputs[0]\n",
    "#         logits = outputs[1]\n",
    "        loss_train_total +=loss.item()\n",
    "        loss.backward()\n",
    "        \n",
    "        torch.nn.utils.clip_grad_norm(model.parameters(),1.0)\n",
    "        \n",
    "        optimizer.step()\n",
    "        scheduler.step()\n",
    "        \n",
    "        \n",
    "        progress_bar.set_postfix({'training_loss':'{:.3f}'.format(loss.item()/len(batch))})\n",
    "#     torch.save(model.state_dict(),f'/kaggle/output/BERT_ft_epoch{epoch}.model')To save the model after each epoch\n",
    "    \n",
    "    tqdm.write('\\nEpoch {epoch}')\n",
    "    \n",
    "    loss_train_avg = loss_train_total/len(dataloader_train)\n",
    "    tqdm.write(f'Training Loss: {loss_train_avg}')\n",
    "    val_loss,predictions,true_vals = evaluate(dataloader_test)\n",
    "    test_score = f1_score_func(predictions,true_vals)\n",
    "    tqdm.write(f'Val Loss:{val_loss}\\n Test Score:{test_score}')\n",
    "    \n",
    "print(\"TTIIIMMMEEE TAAAAKKKEEN\")\n",
    "print(time.process_time() - start)\n",
    "    "
   ]
  },
  {
   "cell_type": "markdown",
   "metadata": {},
   "source": [
    "# Using the saved model"
   ]
  },
  {
   "cell_type": "code",
   "execution_count": null,
   "metadata": {},
   "outputs": [],
   "source": [
    "# from transformers import BertForSequenceClassification\n",
    "# model = BertForSequenceClassification.from_pretrained('bert-base-uncased',\n",
    "#                                      num_labels = len(dict_label),\n",
    "#                                      output_attentions = False,\n",
    "#                                      output_hidden_states =  False)"
   ]
  },
  {
   "cell_type": "code",
   "execution_count": null,
   "metadata": {},
   "outputs": [],
   "source": [
    "model.to(device)\n"
   ]
  },
  {
   "cell_type": "code",
   "execution_count": null,
   "metadata": {},
   "outputs": [],
   "source": [
    "# #using saved model\n",
    "# model.load_state_dict(torch.load(\"Path of saved model\"))# in case want to use the saved model\n",
    "# _,predictions,true_vals = evaluate(dataloader_test)\n",
    "# accuracy_per_class(predictions,true_vals)"
   ]
  },
  {
   "cell_type": "code",
   "execution_count": null,
   "metadata": {},
   "outputs": [],
   "source": [
    "_,predictions,true_vals = evaluate(dataloader_test)"
   ]
  },
  {
   "cell_type": "code",
   "execution_count": null,
   "metadata": {},
   "outputs": [],
   "source": [
    "accuracy_per_class(predictions,true_vals)"
   ]
  },
  {
   "cell_type": "code",
   "execution_count": null,
   "metadata": {},
   "outputs": [],
   "source": []
  }
 ],
 "metadata": {
  "kernelspec": {
   "display_name": "Python 3 (ipykernel)",
   "language": "python",
   "name": "python3"
  },
  "language_info": {
   "codemirror_mode": {
    "name": "ipython",
    "version": 3
   },
   "file_extension": ".py",
   "mimetype": "text/x-python",
   "name": "python",
   "nbconvert_exporter": "python",
   "pygments_lexer": "ipython3",
   "version": "3.11.4"
  }
 },
 "nbformat": 4,
 "nbformat_minor": 4
}
